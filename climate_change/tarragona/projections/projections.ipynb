{
 "cells": [
  {
   "cell_type": "markdown",
   "metadata": {},
   "source": [
    "# Variables With Prediction Modelling\n",
    "\n",
    "Variables with future predictions are used to predict the Absorbance.\n",
    "\n",
    "The variables are:\n",
    "* Air temperature\n",
    "* Daily Cumulated Rainfall\n",
    "* Water Temperature\n",
    "* Flow River (River Discharge in the Projections folder)\n",
    "\n",
    "\n",
    "3 different models are used:\n",
    "* linear regression\n",
    "* random forest\n",
    "* neural network"
   ]
  },
  {
   "cell_type": "code",
   "execution_count": null,
   "metadata": {},
   "outputs": [],
   "source": [
    "import os\n",
    "\n",
    "import pandas as pd\n",
    "import numpy as np\n",
    "\n",
    "import matplotlib.pyplot as plt\n",
    "import seaborn as sns\n",
    "\n",
    "# Models\n",
    "import xgboost as xgb\n",
    "from lightgbm import LGBMRegressor\n",
    "from sklearn.neural_network import MLPRegressor\n",
    "\n",
    "# Utils\n",
    "from sklearn.preprocessing import StandardScaler\n",
    "from sklearn.metrics import mean_squared_error, r2_score\n",
    "from sklearn.model_selection import KFold\n",
    "from sklearn.model_selection import learning_curve\n",
    "from sklearn.model_selection import validation_curve\n",
    "\n",
    "# Hyperparameter Optimization\n",
    "import optuna\n",
    "\n",
    "# MAPiE\n",
    "from mapie.regression import MapieRegressor\n",
    "from mapie.metrics import regression_coverage_score\n",
    "\n",
    "# SHAP\n",
    "import shap\n",
    "\n",
    "plt.rcParams[\"font.size\"] = 26"
   ]
  },
  {
   "cell_type": "markdown",
   "metadata": {},
   "source": [
    "# Define paths"
   ]
  },
  {
   "cell_type": "code",
   "execution_count": null,
   "metadata": {},
   "outputs": [],
   "source": [
    "data_folder = os.path.join(\"..\", \"..\", \"data\", \"tarragona\")\n",
    "\n",
    "projection_folder = os.path.join(data_folder, \"future_projections\")\n",
    "processed_projections_folder = os.path.join(\n",
    "    projection_folder, \"processed\"\n",
    ")\n",
    "\n",
    "interpolated_projections_folder = os.path.join(\n",
    "    projection_folder, \"interpolated\"\n",
    ")\n",
    "\n",
    "raw_data_folder = os.path.join(data_folder, \"raw_data\")"
   ]
  },
  {
   "cell_type": "markdown",
   "metadata": {},
   "source": [
    "# Load dataset"
   ]
  },
  {
   "cell_type": "code",
   "execution_count": null,
   "metadata": {},
   "outputs": [],
   "source": [
    "full_df = pd.read_excel(\n",
    "    os.path.join(raw_data_folder, \"raw_full_dataset.xlsx\")\n",
    ")"
   ]
  },
  {
   "cell_type": "code",
   "execution_count": null,
   "metadata": {},
   "outputs": [],
   "source": [
    "full_df"
   ]
  },
  {
   "cell_type": "code",
   "execution_count": null,
   "metadata": {},
   "outputs": [],
   "source": [
    "full_df.isna().sum()"
   ]
  },
  {
   "cell_type": "code",
   "execution_count": null,
   "metadata": {},
   "outputs": [],
   "source": [
    "full_df = full_df.dropna()"
   ]
  },
  {
   "cell_type": "markdown",
   "metadata": {},
   "source": [
    "# Remove Variables with no future projections\n",
    "\n",
    "They are:\n",
    "- Nitrate\n",
    "- pH\n",
    "- Ammonium\n",
    "- Dissolved Oxygen\n",
    "- Conductivity\n",
    "- Redox Potential"
   ]
  },
  {
   "cell_type": "code",
   "execution_count": null,
   "metadata": {},
   "outputs": [],
   "source": [
    "full_df.drop(\n",
    "    columns=[\n",
    "        \"Nitrate (mg/L)\",\n",
    "        \"pH\",\n",
    "        \"Ammonium (mg/L)\",\n",
    "        \"Dissolved Oxygen (mg/L)\",\n",
    "        \"Conductivity (µS/cm)\",\n",
    "        \"Redox Potential (mV)\",\n",
    "        \"Turbidity (NTU)\",\n",
    "        \"cumulated_rainfall_24h\",\n",
    "        \"flowriver\",\n",
    "        \"environmental_temperature\",\n",
    "        \"is_outlier\"\n",
    "    ],\n",
    "    inplace=True,\n",
    ")"
   ]
  },
  {
   "cell_type": "markdown",
   "metadata": {},
   "source": [
    "## Take the Monthly Average"
   ]
  },
  {
   "cell_type": "code",
   "execution_count": null,
   "metadata": {},
   "outputs": [],
   "source": [
    "full_df[\"Year\"] = full_df[\"DateTime\"].dt.year\n",
    "full_df[\"Month\"] = full_df[\"DateTime\"].dt.month"
   ]
  },
  {
   "cell_type": "code",
   "execution_count": null,
   "metadata": {},
   "outputs": [],
   "source": [
    "# take the monthly average\n",
    "monthly_avg_df = full_df.groupby([\"Year\", \"Month\"]).mean().reset_index()"
   ]
  },
  {
   "cell_type": "code",
   "execution_count": null,
   "metadata": {},
   "outputs": [],
   "source": [
    "full_df = monthly_avg_df"
   ]
  },
  {
   "cell_type": "code",
   "execution_count": null,
   "metadata": {},
   "outputs": [],
   "source": [
    "full_df[\"Season\"] = full_df[\"Month\"].apply(\n",
    "    lambda x: \"Winter\"\n",
    "    if x in [12, 1, 2]\n",
    "    else \"Spring\"\n",
    "    if x in [3, 4, 5]\n",
    "    else \"Summer\"\n",
    "    if x in [6, 7, 8]\n",
    "    else \"Autumn\"\n",
    ")\n",
    "\n",
    "# convert Season to integer\n",
    "full_df[\"Season\"] = full_df[\"Season\"].apply(\n",
    "    lambda x: 1\n",
    "    if x == \"Winter\"\n",
    "    else 2\n",
    "    if x == \"Spring\"\n",
    "    else 3\n",
    "    if x == \"Summer\"\n",
    "    else 4\n",
    ")\n",
    "\n",
    "full_df[\"Timestamp\"] = full_df[\"DateTime\"].apply(\n",
    "    lambda x: x.timestamp()\n",
    ")"
   ]
  },
  {
   "cell_type": "markdown",
   "metadata": {},
   "source": [
    "### Split Data"
   ]
  },
  {
   "cell_type": "code",
   "execution_count": null,
   "metadata": {},
   "outputs": [],
   "source": [
    "further_features = [\"Year\", \"Season\", \"Month\", \"Timestamp\"]\n",
    "\n",
    "to_drop = [\"Timestamp\", \"Season\", \"Month\"]\n",
    "\n",
    "further_features = [\n",
    "    feature for feature in further_features if feature not in to_drop\n",
    "]\n",
    "\n",
    "X_columns_to_drop = to_drop + [\"UVA254\"]\n",
    "\n",
    "X = full_df[full_df.columns.difference(X_columns_to_drop)]\n",
    "\n",
    "y = full_df[[\"DateTime\", \"UVA254\"]]"
   ]
  },
  {
   "cell_type": "code",
   "execution_count": null,
   "metadata": {},
   "outputs": [],
   "source": [
    "# add polynomial features\n",
    "from sklearn.preprocessing import PolynomialFeatures\n",
    "\n",
    "poly = PolynomialFeatures(2)\n",
    "\n",
    "X_poly = poly.fit_transform(X[X.columns.difference([\"DateTime\"])])\n",
    "\n",
    "X_poly = pd.DataFrame(\n",
    "    X_poly,\n",
    "    columns=poly.get_feature_names_out(\n",
    "        X.columns.difference([\"DateTime\"])\n",
    "    ),\n",
    ")\n",
    "\n",
    "X_poly[\"DateTime\"] = X[\"DateTime\"].values"
   ]
  },
  {
   "cell_type": "code",
   "execution_count": null,
   "metadata": {},
   "outputs": [],
   "source": [
    "X_train_fit = X_poly[X_poly.columns.difference([\"DateTime\"])]\n",
    "y_train_fit = y[y.columns.difference([\"DateTime\"])]"
   ]
  },
  {
   "cell_type": "code",
   "execution_count": null,
   "metadata": {},
   "outputs": [],
   "source": [
    "scaler = StandardScaler()\n",
    "# scale the data and keep the column names\n",
    "X_train_fit = scaler.fit_transform(X_train_fit)\n",
    "\n",
    "X_train_fit = pd.DataFrame(\n",
    "    X_train_fit, columns=X_poly.columns.difference([\"DateTime\"])\n",
    ")"
   ]
  },
  {
   "cell_type": "code",
   "execution_count": null,
   "metadata": {},
   "outputs": [],
   "source": [
    "X_train_fit = X[X.columns.difference([\"DateTime\"])]\n",
    "y_train_fit = y.copy()"
   ]
  },
  {
   "cell_type": "code",
   "execution_count": null,
   "metadata": {},
   "outputs": [],
   "source": [
    "scaler = StandardScaler()\n",
    "# scale the data and keep the column names\n",
    "X_train_fit = scaler.fit_transform(X_train_fit)\n",
    "\n",
    "X_train_fit = pd.DataFrame(\n",
    "    X_train_fit, columns=X.columns.difference([\"DateTime\"])\n",
    ")"
   ]
  },
  {
   "cell_type": "markdown",
   "metadata": {},
   "source": [
    "# Projections"
   ]
  },
  {
   "cell_type": "markdown",
   "metadata": {},
   "source": [
    "## Load Input Projections"
   ]
  },
  {
   "cell_type": "code",
   "execution_count": null,
   "metadata": {},
   "outputs": [],
   "source": [
    "air_temp_rcp45_df = pd.read_excel(\n",
    "    os.path.join(interpolated_projections_folder, \"air_temp_rcp45.xlsx\")\n",
    ")\n",
    "air_temp_rcp85_df = pd.read_excel(\n",
    "    os.path.join(interpolated_projections_folder, \"air_temp_rcp85.xlsx\")\n",
    ")\n",
    "\n",
    "rain_rcp45_df = pd.read_excel(\n",
    "    os.path.join(\n",
    "        interpolated_projections_folder, \"precipitation_rcp45.xlsx\"\n",
    "    )\n",
    ")\n",
    "rain_rcp85_df = pd.read_excel(\n",
    "    os.path.join(\n",
    "        interpolated_projections_folder, \"precipitation_rcp85.xlsx\"\n",
    "    )\n",
    ")\n",
    "\n",
    "flow_rcp45_df = pd.read_excel(\n",
    "    os.path.join(interpolated_projections_folder, \"flow_rcp45.xlsx\")\n",
    ")\n",
    "flow_rcp85_df = pd.read_excel(\n",
    "    os.path.join(interpolated_projections_folder, \"flow_rcp85.xlsx\")\n",
    ")\n",
    "\n",
    "water_temp_rcp45_df = pd.read_excel(\n",
    "    os.path.join(\n",
    "        interpolated_projections_folder, \"water_temp_rcp45.xlsx\"\n",
    "    )\n",
    ")\n",
    "water_temp_rcp85_df = pd.read_excel(\n",
    "    os.path.join(\n",
    "        interpolated_projections_folder, \"water_temp_rcp85.xlsx\"\n",
    "    )\n",
    ")"
   ]
  },
  {
   "cell_type": "markdown",
   "metadata": {},
   "source": [
    "## Create Datasets"
   ]
  },
  {
   "cell_type": "markdown",
   "metadata": {},
   "source": [
    "### RCP 4.5"
   ]
  },
  {
   "cell_type": "code",
   "execution_count": null,
   "metadata": {},
   "outputs": [],
   "source": [
    "rcp45_df = air_temp_rcp45_df.copy()\n",
    "rcp45_df.rename(columns={\"Value\": \"Air Temperature\"}, inplace=True)\n",
    "\n",
    "rcp45_df[\"Daily Cumulated Rainfall (L/m²)\"] = rain_rcp45_df[\"Rainfall (mm)\"].values\n",
    "rcp45_df[\"Flow River (m³/s)\"] = flow_rcp45_df[\"Flow River Rate (m³/s)\"].values\n",
    "rcp45_df[\"Water Temperature (°C)\"] = water_temp_rcp45_df[\"Water Temperature (°C)\"].values\n",
    "\n",
    "rcp45_df.drop(columns=[\"Unnamed: 0\"], inplace=True)\n",
    "rcp45_df[\"Year\"] = rcp45_df[\"DateTime\"].dt.year"
   ]
  },
  {
   "cell_type": "code",
   "execution_count": null,
   "metadata": {},
   "outputs": [],
   "source": [
    "rcp45_df"
   ]
  },
  {
   "cell_type": "markdown",
   "metadata": {},
   "source": [
    "### RCP 8.5"
   ]
  },
  {
   "cell_type": "code",
   "execution_count": null,
   "metadata": {},
   "outputs": [],
   "source": [
    "rcp85_df = air_temp_rcp85_df.copy()\n",
    "rcp85_df.rename(columns={\"Value\": \"Air Temperature\"}, inplace=True)\n",
    "\n",
    "rcp85_df[\"Daily Cumulated Rainfall (L/m²)\"] = rain_rcp85_df[\"Rainfall (mm)\"].values\n",
    "rcp85_df[\"Flow River (m³/s)\"] = flow_rcp85_df[\"Flow River Rate (m³/s)\"].values\n",
    "rcp85_df[\"Water Temperature (°C)\"] = water_temp_rcp85_df[\"Water Temperature (°C)\"].values\n",
    "\n",
    "rcp85_df.drop(columns=[\"Unnamed: 0\"], inplace=True)\n",
    "rcp85_df[\"Year\"] = rcp85_df[\"DateTime\"].dt.year"
   ]
  },
  {
   "cell_type": "code",
   "execution_count": null,
   "metadata": {},
   "outputs": [],
   "source": [
    "rcp85_df"
   ]
  },
  {
   "cell_type": "markdown",
   "metadata": {},
   "source": [
    "## Predictions"
   ]
  },
  {
   "cell_type": "markdown",
   "metadata": {},
   "source": [
    "### XGBoost"
   ]
  },
  {
   "cell_type": "markdown",
   "metadata": {},
   "source": [
    "#### RCP 4.5"
   ]
  },
  {
   "cell_type": "markdown",
   "metadata": {},
   "source": [
    "##### Prepare Data"
   ]
  },
  {
   "cell_type": "code",
   "execution_count": null,
   "metadata": {},
   "outputs": [],
   "source": [
    "further_features = [\"Year\"]\n",
    "\n",
    "last_train_date = full_df[\"DateTime\"].max()\n",
    "\n",
    "rcp45_test_df = rcp45_df[rcp45_df[\"DateTime\"] > last_train_date]"
   ]
  },
  {
   "cell_type": "code",
   "execution_count": null,
   "metadata": {},
   "outputs": [],
   "source": [
    "# add polynomial features\n",
    "from sklearn.preprocessing import PolynomialFeatures\n",
    "\n",
    "poly = PolynomialFeatures(2)\n",
    "\n",
    "X_poly = poly.fit_transform(\n",
    "    rcp45_test_df[rcp45_test_df.columns.difference([\"DateTime\"])]\n",
    ")\n",
    "\n",
    "X_poly = pd.DataFrame(\n",
    "    X_poly,\n",
    "    columns=poly.get_feature_names_out(\n",
    "        rcp45_test_df.columns.difference([\"DateTime\"])\n",
    "    ),\n",
    ")\n",
    "\n",
    "X_poly[\"DateTime\"] = rcp45_test_df[\"DateTime\"].values"
   ]
  },
  {
   "cell_type": "code",
   "execution_count": null,
   "metadata": {},
   "outputs": [],
   "source": [
    "X_test_fit = X_poly[X_poly.columns.difference([\"DateTime\"])]"
   ]
  },
  {
   "cell_type": "code",
   "execution_count": null,
   "metadata": {},
   "outputs": [],
   "source": [
    "scaler = StandardScaler()\n",
    "# scale the data and keep the column names\n",
    "X_test_fit = scaler.fit_transform(X_test_fit)\n",
    "\n",
    "X_test_fit = pd.DataFrame(\n",
    "    X_test_fit, columns=X_poly.columns.difference([\"DateTime\"])\n",
    ")"
   ]
  },
  {
   "cell_type": "code",
   "execution_count": null,
   "metadata": {},
   "outputs": [],
   "source": [
    "X_test_fit = rcp45_test_df[\n",
    "    rcp45_test_df.columns.difference([\"DateTime\"])\n",
    "]"
   ]
  },
  {
   "cell_type": "code",
   "execution_count": null,
   "metadata": {},
   "outputs": [],
   "source": [
    "scaler = StandardScaler()\n",
    "# scale the data and keep the column names\n",
    "X_test_fit = scaler.fit_transform(X_test_fit)\n",
    "\n",
    "X_test_fit = pd.DataFrame(\n",
    "    X_test_fit, columns=rcp45_test_df.columns.difference([\"DateTime\"])\n",
    ")"
   ]
  },
  {
   "cell_type": "markdown",
   "metadata": {},
   "source": [
    "##### Train Model"
   ]
  },
  {
   "cell_type": "code",
   "execution_count": null,
   "metadata": {},
   "outputs": [],
   "source": [
    "# sort the columns\n",
    "X_train_fit = X_train_fit.reindex(sorted(X_train_fit.columns), axis=1)\n",
    "X_test_fit = X_test_fit.reindex(sorted(X_test_fit.columns), axis=1)"
   ]
  },
  {
   "cell_type": "code",
   "execution_count": null,
   "metadata": {},
   "outputs": [],
   "source": [
    "best_params = {\n",
    "    \"objective\": \"reg:squarederror\",\n",
    "    \"booster\": \"gblinear\",\n",
    "    \"eta\": 0.021222820197838683,\n",
    "    \"reg_lambda\": 1.2716135487076726e-07,\n",
    "    \"reg_alpha\": 0.25584966658518155,\n",
    "    \"learning_rate\": 0.6602531811820622,\n",
    "    \"n_estimators\": 369,\n",
    "    \"updater\": \"shotgun\",\n",
    "}"
   ]
  },
  {
   "cell_type": "code",
   "execution_count": null,
   "metadata": {},
   "outputs": [],
   "source": [
    "booster = xgb.XGBRegressor(\n",
    "    random_state=42,\n",
    "    **best_params,\n",
    ")\n",
    "\n",
    "booster.fit(X_train_fit, y_train_fit[\"UVA254\"])"
   ]
  },
  {
   "cell_type": "markdown",
   "metadata": {},
   "source": [
    "##### Feature Importance"
   ]
  },
  {
   "cell_type": "code",
   "execution_count": null,
   "metadata": {},
   "outputs": [],
   "source": [
    "# show the importance of each feature in the model\n",
    "feature_importance = pd.DataFrame()\n",
    "feature_importance[\"feature\"] = booster.feature_names_in_\n",
    "feature_importance[\"importance\"] = -booster.feature_importances_\n",
    "\n",
    "feature_importance = feature_importance.sort_values(\n",
    "    by=\"importance\", ascending=False\n",
    ")\n",
    "\n",
    "# plot the importance of each feature\n",
    "plt.figure(figsize=(25, 7.5))\n",
    "plt.bar(\n",
    "    x=feature_importance[\"feature\"],\n",
    "    height=feature_importance[\"importance\"],\n",
    ")\n",
    "\n",
    "# rotate the x axis words by 45°\n",
    "plt.xticks(rotation=45)\n",
    "\n",
    "plt.title(\"Feature Importance\")\n",
    "plt.show()"
   ]
  },
  {
   "cell_type": "markdown",
   "metadata": {},
   "source": [
    "##### Predictions"
   ]
  },
  {
   "cell_type": "code",
   "execution_count": null,
   "metadata": {},
   "outputs": [],
   "source": [
    "mapie_cqr = MapieRegressor(booster, method=\"naive\", random_state=42)\n",
    "mapie_cqr.fit(X_train_fit, y_train_fit[\"UVA254\"])"
   ]
  },
  {
   "cell_type": "code",
   "execution_count": null,
   "metadata": {},
   "outputs": [],
   "source": [
    "# add month to the test data to get the predictions\n",
    "X_test_fit[\"Month\"] = rcp45_test_df[\"DateTime\"].dt.month.values"
   ]
  },
  {
   "cell_type": "code",
   "execution_count": null,
   "metadata": {},
   "outputs": [],
   "source": [
    "alpha = 0.05\n",
    "\n",
    "predictions_per_month = {}\n",
    "\n",
    "# Evaluate prediction and coverage level on testing set for each month\n",
    "for month in range(1, 13):\n",
    "    test_fit = X_test_fit[X_test_fit[\"Month\"] == month]\n",
    "    rcp45_test_df[rcp45_test_df[\"DateTime\"].dt.month == month]\n",
    "\n",
    "    # drop the month column\n",
    "    test_fit = test_fit[test_fit.columns.difference([\"Month\"])]\n",
    "\n",
    "    y_med, y_pis_cqr = mapie_cqr.predict(test_fit, alpha=alpha)\n",
    "    y_lower = y_pis_cqr[:, 0, 0]\n",
    "    y_upper = y_pis_cqr[:, 1, 0]\n",
    "\n",
    "    predictions_per_month[month] = {\n",
    "        \"y_med\": y_med,\n",
    "        \"y_lower\": y_lower,\n",
    "        \"y_upper\": y_upper,\n",
    "    }"
   ]
  },
  {
   "cell_type": "code",
   "execution_count": null,
   "metadata": {},
   "outputs": [],
   "source": [
    "X_test_fit.drop(columns=[\"Month\"], inplace=True)"
   ]
  },
  {
   "cell_type": "code",
   "execution_count": null,
   "metadata": {},
   "outputs": [],
   "source": [
    "# evaluate on all the months\n",
    "y_med, y_pis_cqr = mapie_cqr.predict(X_test_fit, alpha=alpha)\n",
    "y_lower = y_pis_cqr[:, 0, 0]\n",
    "y_upper = y_pis_cqr[:, 1, 0]"
   ]
  },
  {
   "cell_type": "markdown",
   "metadata": {},
   "source": [
    "##### Plots"
   ]
  },
  {
   "cell_type": "code",
   "execution_count": null,
   "metadata": {},
   "outputs": [],
   "source": [
    "# get training residuals\n",
    "train_predictions = booster.predict(X_train_fit)\n",
    "train_residuals = y_train_fit[\"UVA254\"] - train_predictions"
   ]
  },
  {
   "cell_type": "code",
   "execution_count": null,
   "metadata": {},
   "outputs": [],
   "source": [
    "# plot the training residuals\n",
    "plt.figure(figsize=(10, 5))\n",
    "plt.scatter(train_predictions, train_residuals, c=\"b\", s=40, alpha=0.5)\n",
    "plt.axhline(y=0, color=\"r\", linestyle=\"--\")\n",
    "plt.xlabel(\"Predicted Values\")\n",
    "plt.ylabel(\"Residuals\")\n",
    "plt.title(\"Training Set Residuals Plot\")\n",
    "plt.show()"
   ]
  },
  {
   "cell_type": "code",
   "execution_count": null,
   "metadata": {},
   "outputs": [],
   "source": [
    "# plot the distribution of the training residuals\n",
    "plt.figure(figsize=(10, 5))\n",
    "sns.histplot(train_residuals, kde=True)\n",
    "plt.title(\"Training Set Residuals Distribution\")\n",
    "plt.show()"
   ]
  },
  {
   "cell_type": "code",
   "execution_count": null,
   "metadata": {},
   "outputs": [],
   "source": [
    "# plot the time series fitted values\n",
    "plt.figure(figsize=(20, 10))\n",
    "sns.lineplot(\n",
    "    x=y[\"DateTime\"],\n",
    "    y=y[\"UVA254\"],\n",
    "    label=\"Historical Data\",\n",
    ")\n",
    "sns.lineplot(\n",
    "    x=y[\"DateTime\"], y=train_predictions, label=\"Fitted Values\"\n",
    ")\n",
    "\n",
    "plt.show()"
   ]
  },
  {
   "cell_type": "code",
   "execution_count": null,
   "metadata": {},
   "outputs": [],
   "source": [
    "# all the predictions\n",
    "plt.figure(figsize=(20, 10))\n",
    "\n",
    "sns.lineplot(\n",
    "    x=y[\"DateTime\"],\n",
    "    y=y[\"UVA254\"],\n",
    "    label=\"Historical Data\",\n",
    ")\n",
    "\n",
    "\n",
    "sns.lineplot(\n",
    "    x=rcp45_test_df[\"DateTime\"], y=y_med, label=f\"Predicted Values\"\n",
    ")\n",
    "# plot std of predictions\n",
    "plt.fill_between(\n",
    "    rcp45_test_df[\"DateTime\"],\n",
    "    y_lower,\n",
    "    y2=y_upper,\n",
    "    alpha=0.2,\n",
    "    label=\"95% Prediction Interval\",\n",
    ")\n",
    "plt.xlabel(\"DateTime\")\n",
    "plt.ylabel(\"UVA254\")\n",
    "\n",
    "# add rmse and r2 to the plot in a box\n",
    "\n",
    "plt.title(f\"UVA254 - RCP 4.5\")\n",
    "\n",
    "plt.legend()\n",
    "plt.show()"
   ]
  },
  {
   "cell_type": "code",
   "execution_count": null,
   "metadata": {},
   "outputs": [],
   "source": [
    "# predictions per month\n",
    "plt.figure(figsize=(20, 10))\n",
    "\n",
    "sns.lineplot(\n",
    "    x=y[\"DateTime\"],\n",
    "    y=y[\"UVA254\"],\n",
    "    label=\"Historical Data\",\n",
    ")\n",
    "\n",
    "# give me a list of 12 colors\n",
    "colors = sns.color_palette(\"husl\", 12)\n",
    "\n",
    "for month in range(1, 13):\n",
    "    y_med = predictions_per_month[month][\"y_med\"]\n",
    "    y_lower = predictions_per_month[month][\"y_lower\"]\n",
    "    y_upper = predictions_per_month[month][\"y_upper\"]\n",
    "\n",
    "    # plot the time series fitted values\n",
    "\n",
    "    sns.lineplot(\n",
    "        x=rcp45_test_df[rcp45_test_df[\"DateTime\"].dt.month == month][\n",
    "            \"DateTime\"\n",
    "        ],\n",
    "        y=y_med,\n",
    "        label=f\"Predicted Values - Month {month}\",\n",
    "        color=colors[month - 1],\n",
    "    )\n",
    "    # plot std of predictions\n",
    "    plt.fill_between(\n",
    "        rcp45_test_df[rcp45_test_df[\"DateTime\"].dt.month == month][\n",
    "            \"DateTime\"\n",
    "        ],\n",
    "        y_lower,\n",
    "        y2=y_upper,\n",
    "        alpha=0.2,\n",
    "        label=\"95% Prediction Interval\",\n",
    "        color=colors[month - 1],\n",
    "    )\n",
    "    plt.xlabel(\"DateTime\")\n",
    "    plt.ylabel(\"UVA254\")\n",
    "\n",
    "    # add rmse and r2 to the plot in a box\n",
    "\n",
    "    plt.title(f\"UVA254 - Month {month} - RCP 4.5\")\n",
    "\n",
    "    plt.legend()\n",
    "plt.show()"
   ]
  },
  {
   "cell_type": "markdown",
   "metadata": {},
   "source": [
    "##### Store Results"
   ]
  },
  {
   "cell_type": "code",
   "execution_count": null,
   "metadata": {},
   "outputs": [],
   "source": [
    "boost_pred = y_med\n",
    "boost_lower_bound = y_lower\n",
    "boost_upper_bound = y_upper"
   ]
  },
  {
   "cell_type": "markdown",
   "metadata": {},
   "source": [
    "#### RCP 8.5"
   ]
  },
  {
   "cell_type": "markdown",
   "metadata": {},
   "source": [
    "##### Prepare Data"
   ]
  },
  {
   "cell_type": "code",
   "execution_count": null,
   "metadata": {},
   "outputs": [],
   "source": [
    "further_features = [\"Year\"]\n",
    "\n",
    "last_train_date = full_df[\"DateTime\"].max()\n",
    "\n",
    "rcp85_test_df = rcp85_df[rcp85_df[\"DateTime\"] > last_train_date]"
   ]
  },
  {
   "cell_type": "code",
   "execution_count": null,
   "metadata": {},
   "outputs": [],
   "source": [
    "# add polynomial features\n",
    "from sklearn.preprocessing import PolynomialFeatures\n",
    "\n",
    "poly = PolynomialFeatures(2)\n",
    "\n",
    "X_poly = poly.fit_transform(\n",
    "    rcp85_test_df[rcp85_test_df.columns.difference([\"DateTime\"])]\n",
    ")\n",
    "\n",
    "X_poly = pd.DataFrame(\n",
    "    X_poly,\n",
    "    columns=poly.get_feature_names_out(\n",
    "        rcp85_test_df.columns.difference([\"DateTime\"])\n",
    "    ),\n",
    ")\n",
    "\n",
    "X_poly[\"DateTime\"] = rcp85_test_df[\"DateTime\"].values"
   ]
  },
  {
   "cell_type": "code",
   "execution_count": null,
   "metadata": {},
   "outputs": [],
   "source": [
    "X_test_fit = X_poly[X_poly.columns.difference([\"DateTime\"])]"
   ]
  },
  {
   "cell_type": "code",
   "execution_count": null,
   "metadata": {},
   "outputs": [],
   "source": [
    "scaler = StandardScaler()\n",
    "# scale the data and keep the column names\n",
    "X_test_fit = scaler.fit_transform(X_test_fit)\n",
    "\n",
    "X_test_fit = pd.DataFrame(\n",
    "    X_test_fit, columns=X_poly.columns.difference([\"DateTime\"])\n",
    ")"
   ]
  },
  {
   "cell_type": "code",
   "execution_count": null,
   "metadata": {},
   "outputs": [],
   "source": [
    "X_test_fit = rcp85_test_df[\n",
    "    rcp85_test_df.columns.difference([\"DateTime\"])\n",
    "]"
   ]
  },
  {
   "cell_type": "code",
   "execution_count": null,
   "metadata": {},
   "outputs": [],
   "source": [
    "scaler = StandardScaler()\n",
    "# scale the data and keep the column names\n",
    "X_test_fit = scaler.fit_transform(X_test_fit)\n",
    "\n",
    "X_test_fit = pd.DataFrame(\n",
    "    X_test_fit, columns=rcp85_test_df.columns.difference([\"DateTime\"])\n",
    ")"
   ]
  },
  {
   "cell_type": "markdown",
   "metadata": {},
   "source": [
    "##### Train Model"
   ]
  },
  {
   "cell_type": "code",
   "execution_count": null,
   "metadata": {},
   "outputs": [],
   "source": [
    "# sort the columns\n",
    "X_train_fit = X_train_fit.reindex(sorted(X_train_fit.columns), axis=1)\n",
    "X_test_fit = X_test_fit.reindex(sorted(X_test_fit.columns), axis=1)"
   ]
  },
  {
   "cell_type": "code",
   "execution_count": null,
   "metadata": {},
   "outputs": [],
   "source": [
    "best_params = {\n",
    "    \"objective\": \"reg:squarederror\",\n",
    "    \"booster\": \"gblinear\",\n",
    "    \"eta\": 0.021222820197838683,\n",
    "    \"reg_lambda\": 1.2716135487076726e-07,\n",
    "    \"reg_alpha\": 0.25584966658518155,\n",
    "    \"learning_rate\": 0.6602531811820622,\n",
    "    \"n_estimators\": 369,\n",
    "    \"updater\": \"shotgun\",\n",
    "}"
   ]
  },
  {
   "cell_type": "code",
   "execution_count": null,
   "metadata": {},
   "outputs": [],
   "source": [
    "booster = xgb.XGBRegressor(\n",
    "    random_state=42,\n",
    "    **best_params,\n",
    ")\n",
    "\n",
    "booster.fit(X_train_fit, y_train_fit[\"UVA254\"])"
   ]
  },
  {
   "cell_type": "markdown",
   "metadata": {},
   "source": [
    "##### Feature Importance"
   ]
  },
  {
   "cell_type": "code",
   "execution_count": null,
   "metadata": {},
   "outputs": [],
   "source": [
    "# show the importance of each feature in the model\n",
    "feature_importance = pd.DataFrame()\n",
    "feature_importance[\"feature\"] = booster.feature_names_in_\n",
    "feature_importance[\"importance\"] = -booster.feature_importances_\n",
    "\n",
    "feature_importance = feature_importance.sort_values(\n",
    "    by=\"importance\", ascending=False\n",
    ")\n",
    "\n",
    "# plot the importance of each feature\n",
    "plt.figure(figsize=(25, 7.5))\n",
    "plt.bar(\n",
    "    x=feature_importance[\"feature\"],\n",
    "    height=feature_importance[\"importance\"],\n",
    ")\n",
    "\n",
    "# rotate the x axis words by 45°\n",
    "plt.xticks(rotation=45)\n",
    "\n",
    "plt.title(\"Feature Importance\")\n",
    "plt.show()"
   ]
  },
  {
   "cell_type": "markdown",
   "metadata": {},
   "source": [
    "##### Predictions"
   ]
  },
  {
   "cell_type": "code",
   "execution_count": null,
   "metadata": {},
   "outputs": [],
   "source": [
    "mapie_cqr = MapieRegressor(booster, method=\"naive\", random_state=42)\n",
    "mapie_cqr.fit(X_train_fit, y_train_fit[\"UVA254\"])"
   ]
  },
  {
   "cell_type": "code",
   "execution_count": null,
   "metadata": {},
   "outputs": [],
   "source": [
    "# add month to the test data to get the predictions\n",
    "X_test_fit[\"Month\"] = rcp85_test_df[\"DateTime\"].dt.month.values"
   ]
  },
  {
   "cell_type": "code",
   "execution_count": null,
   "metadata": {},
   "outputs": [],
   "source": [
    "alpha = 0.05\n",
    "\n",
    "predictions_per_month = {}\n",
    "\n",
    "# Evaluate prediction and coverage level on testing set for each month\n",
    "for month in range(1, 13):\n",
    "    test_fit = X_test_fit[X_test_fit[\"Month\"] == month]\n",
    "    rcp85_test_df[rcp85_test_df[\"DateTime\"].dt.month == month]\n",
    "\n",
    "    # drop the month column\n",
    "    test_fit = test_fit[test_fit.columns.difference([\"Month\"])]\n",
    "\n",
    "    y_med, y_pis_cqr = mapie_cqr.predict(test_fit, alpha=alpha)\n",
    "    y_lower = y_pis_cqr[:, 0, 0]\n",
    "    y_upper = y_pis_cqr[:, 1, 0]\n",
    "\n",
    "    predictions_per_month[month] = {\n",
    "        \"y_med\": y_med,\n",
    "        \"y_lower\": y_lower,\n",
    "        \"y_upper\": y_upper,\n",
    "    }"
   ]
  },
  {
   "cell_type": "code",
   "execution_count": null,
   "metadata": {},
   "outputs": [],
   "source": [
    "X_test_fit.drop(columns=[\"Month\"], inplace=True)"
   ]
  },
  {
   "cell_type": "code",
   "execution_count": null,
   "metadata": {},
   "outputs": [],
   "source": [
    "# evaluate on all the months\n",
    "y_med, y_pis_cqr = mapie_cqr.predict(X_test_fit, alpha=alpha)\n",
    "y_lower = y_pis_cqr[:, 0, 0]\n",
    "y_upper = y_pis_cqr[:, 1, 0]"
   ]
  },
  {
   "cell_type": "markdown",
   "metadata": {},
   "source": [
    "##### Plots"
   ]
  },
  {
   "cell_type": "code",
   "execution_count": null,
   "metadata": {},
   "outputs": [],
   "source": [
    "# get training residuals\n",
    "train_predictions = booster.predict(X_train_fit)\n",
    "train_residuals = y_train_fit[\"UVA254\"] - train_predictions"
   ]
  },
  {
   "cell_type": "code",
   "execution_count": null,
   "metadata": {},
   "outputs": [],
   "source": [
    "# plot the training residuals\n",
    "plt.figure(figsize=(10, 5))\n",
    "plt.scatter(train_predictions, train_residuals, c=\"b\", s=40, alpha=0.5)\n",
    "plt.axhline(y=0, color=\"r\", linestyle=\"--\")\n",
    "plt.xlabel(\"Predicted Values\")\n",
    "plt.ylabel(\"Residuals\")\n",
    "plt.title(\"Training Set Residuals Plot\")\n",
    "plt.show()"
   ]
  },
  {
   "cell_type": "code",
   "execution_count": null,
   "metadata": {},
   "outputs": [],
   "source": [
    "# plot the distribution of the training residuals\n",
    "plt.figure(figsize=(10, 5))\n",
    "sns.histplot(train_residuals, kde=True)\n",
    "plt.title(\"Training Set Residuals Distribution\")\n",
    "plt.show()"
   ]
  },
  {
   "cell_type": "code",
   "execution_count": null,
   "metadata": {},
   "outputs": [],
   "source": [
    "# plot the time series fitted values\n",
    "plt.figure(figsize=(20, 10))\n",
    "sns.lineplot(\n",
    "    x=y[\"DateTime\"],\n",
    "    y=y[\"UVA254\"],\n",
    "    label=\"Historical Data\",\n",
    ")\n",
    "sns.lineplot(\n",
    "    x=y[\"DateTime\"], y=train_predictions, label=\"Fitted Values\"\n",
    ")\n",
    "\n",
    "plt.show()"
   ]
  },
  {
   "cell_type": "code",
   "execution_count": null,
   "metadata": {},
   "outputs": [],
   "source": [
    "# all the predictions\n",
    "plt.figure(figsize=(20, 10))\n",
    "\n",
    "sns.lineplot(\n",
    "    x=y[\"DateTime\"],\n",
    "    y=y[\"UVA254\"],\n",
    "    label=\"Historical Data\",\n",
    ")\n",
    "\n",
    "\n",
    "sns.lineplot(\n",
    "    x=rcp45_test_df[\"DateTime\"], y=y_med, label=f\"Predicted Values\"\n",
    ")\n",
    "# plot std of predictions\n",
    "plt.fill_between(\n",
    "    rcp45_test_df[\"DateTime\"],\n",
    "    y_lower,\n",
    "    y2=y_upper,\n",
    "    alpha=0.2,\n",
    "    label=\"95% Prediction Interval\",\n",
    ")\n",
    "plt.xlabel(\"DateTime\")\n",
    "plt.ylabel(\"UVA254\")\n",
    "\n",
    "# add rmse and r2 to the plot in a box\n",
    "\n",
    "plt.title(f\"UVA254 - RCP 8.5\")\n",
    "\n",
    "plt.legend()\n",
    "plt.show()"
   ]
  },
  {
   "cell_type": "code",
   "execution_count": null,
   "metadata": {},
   "outputs": [],
   "source": [
    "# predictions per month\n",
    "plt.figure(figsize=(20, 10))\n",
    "\n",
    "sns.lineplot(\n",
    "    x=y[\"DateTime\"],\n",
    "    y=y[\"UVA254\"],\n",
    "    label=\"Historical Data\",\n",
    ")\n",
    "\n",
    "# give me a list of 12 colors\n",
    "colors = sns.color_palette(\"husl\", 12)\n",
    "\n",
    "for month in range(1, 13):\n",
    "    y_med = predictions_per_month[month][\"y_med\"]\n",
    "    y_lower = predictions_per_month[month][\"y_lower\"]\n",
    "    y_upper = predictions_per_month[month][\"y_upper\"]\n",
    "\n",
    "    # plot the time series fitted values\n",
    "\n",
    "    sns.lineplot(\n",
    "        x=rcp45_test_df[rcp45_test_df[\"DateTime\"].dt.month == month][\n",
    "            \"DateTime\"\n",
    "        ],\n",
    "        y=y_med,\n",
    "        label=f\"Predicted Values - Month {month}\",\n",
    "        color=colors[month - 1],\n",
    "    )\n",
    "    # plot std of predictions\n",
    "    plt.fill_between(\n",
    "        rcp45_test_df[rcp45_test_df[\"DateTime\"].dt.month == month][\n",
    "            \"DateTime\"\n",
    "        ],\n",
    "        y_lower,\n",
    "        y2=y_upper,\n",
    "        alpha=0.2,\n",
    "        label=\"95% Prediction Interval\",\n",
    "        color=colors[month - 1],\n",
    "    )\n",
    "    plt.xlabel(\"DateTime\")\n",
    "    plt.ylabel(\"UVA254\")\n",
    "\n",
    "    # add rmse and r2 to the plot in a box\n",
    "\n",
    "    plt.title(f\"UVA254 - Month {month} - RCP 4.5\")\n",
    "\n",
    "    plt.legend()\n",
    "plt.show()"
   ]
  },
  {
   "cell_type": "markdown",
   "metadata": {},
   "source": [
    "##### Store Results"
   ]
  },
  {
   "cell_type": "code",
   "execution_count": null,
   "metadata": {},
   "outputs": [],
   "source": [
    "boost_pred = y_med\n",
    "boost_lower_bound = y_lower\n",
    "boost_upper_bound = y_upper"
   ]
  },
  {
   "cell_type": "markdown",
   "metadata": {},
   "source": [
    "### LightGBM (Random Forest with Linear Regressors on leaves)"
   ]
  },
  {
   "cell_type": "markdown",
   "metadata": {},
   "source": [
    "#### RCP 4.5"
   ]
  },
  {
   "cell_type": "markdown",
   "metadata": {},
   "source": [
    "##### Prepare Data"
   ]
  },
  {
   "cell_type": "code",
   "execution_count": null,
   "metadata": {},
   "outputs": [],
   "source": [
    "further_features = [\"Year\"]\n",
    "\n",
    "last_train_date = full_df[\"DateTime\"].max()\n",
    "\n",
    "rcp45_test_df = rcp45_df[rcp45_df[\"DateTime\"] > last_train_date]"
   ]
  },
  {
   "cell_type": "code",
   "execution_count": null,
   "metadata": {},
   "outputs": [],
   "source": [
    "# add polynomial features\n",
    "from sklearn.preprocessing import PolynomialFeatures\n",
    "\n",
    "poly = PolynomialFeatures(2)\n",
    "\n",
    "X_poly = poly.fit_transform(\n",
    "    rcp45_test_df[rcp45_test_df.columns.difference([\"DateTime\"])]\n",
    ")\n",
    "\n",
    "X_poly = pd.DataFrame(\n",
    "    X_poly,\n",
    "    columns=poly.get_feature_names_out(\n",
    "        rcp45_test_df.columns.difference([\"DateTime\"])\n",
    "    ),\n",
    ")\n",
    "\n",
    "X_poly[\"DateTime\"] = rcp45_test_df[\"DateTime\"].values"
   ]
  },
  {
   "cell_type": "code",
   "execution_count": null,
   "metadata": {},
   "outputs": [],
   "source": [
    "X_test_fit = X_poly[X_poly.columns.difference([\"DateTime\"])]"
   ]
  },
  {
   "cell_type": "code",
   "execution_count": null,
   "metadata": {},
   "outputs": [],
   "source": [
    "scaler = StandardScaler()\n",
    "# scale the data and keep the column names\n",
    "X_test_fit = scaler.fit_transform(X_test_fit)\n",
    "\n",
    "X_test_fit = pd.DataFrame(\n",
    "    X_test_fit, columns=X_poly.columns.difference([\"DateTime\"])\n",
    ")"
   ]
  },
  {
   "cell_type": "code",
   "execution_count": null,
   "metadata": {},
   "outputs": [],
   "source": [
    "X_test_fit = rcp45_test_df[\n",
    "    rcp45_test_df.columns.difference([\"DateTime\"])\n",
    "]"
   ]
  },
  {
   "cell_type": "code",
   "execution_count": null,
   "metadata": {},
   "outputs": [],
   "source": [
    "scaler = StandardScaler()\n",
    "# scale the data and keep the column names\n",
    "X_test_fit = scaler.fit_transform(X_test_fit)\n",
    "\n",
    "X_test_fit = pd.DataFrame(\n",
    "    X_test_fit, columns=rcp45_test_df.columns.difference([\"DateTime\"])\n",
    ")"
   ]
  },
  {
   "cell_type": "markdown",
   "metadata": {},
   "source": [
    "##### Train Model"
   ]
  },
  {
   "cell_type": "code",
   "execution_count": null,
   "metadata": {},
   "outputs": [],
   "source": [
    "# sort the columns\n",
    "X_train_fit = X_train_fit.reindex(sorted(X_train_fit.columns), axis=1)\n",
    "X_test_fit = X_test_fit.reindex(sorted(X_test_fit.columns), axis=1)"
   ]
  },
  {
   "cell_type": "code",
   "execution_count": null,
   "metadata": {},
   "outputs": [],
   "source": [
    "params = {\n",
    "    \"n_estimators\": 16,\n",
    "    \"learning_rate\": 0.6192800859019298,\n",
    "    \"max_depth\": 16,\n",
    "    \"num_leaves\": 20,\n",
    "    \"min_data_in_leaf\": 34,\n",
    "    \"lambda_l1\": 1.8585248563175933,\n",
    "    \"lambda_l2\": 0.020368547806226774,\n",
    "    \"min_split_gain\": 2.5,\n",
    "    \"subsample\": 0.5639096844841955,\n",
    "    \"bagging_fraction\": 0.026474369917739878,\n",
    "    \"feature_fraction\": 0.0012608584366219668,\n",
    "    \"min_child_samples\": 33,\n",
    "    \"max_bin\": 20,\n",
    "}"
   ]
  },
  {
   "cell_type": "markdown",
   "metadata": {},
   "source": [
    "###### Train model with mapie"
   ]
  },
  {
   "cell_type": "code",
   "execution_count": null,
   "metadata": {},
   "outputs": [],
   "source": [
    "alpha = 0.1\n",
    "estimator = LGBMRegressor(\n",
    "    objective=\"regression\", random_state=42, linear_tree=True, **params\n",
    ")\n",
    "\n",
    "estimator.fit(X_train_fit, y_train_fit[\"UVA254\"])"
   ]
  },
  {
   "cell_type": "markdown",
   "metadata": {},
   "source": [
    "##### Feature Importance"
   ]
  },
  {
   "cell_type": "code",
   "execution_count": null,
   "metadata": {},
   "outputs": [],
   "source": [
    "# show the importance of each feature in the model\n",
    "feature_importance = pd.DataFrame()\n",
    "feature_importance[\"feature\"] = estimator.feature_name_\n",
    "feature_importance[\"importance\"] = estimator.feature_importances_\n",
    "\n",
    "feature_importance = feature_importance.sort_values(\n",
    "    by=\"importance\", ascending=False\n",
    ")\n",
    "\n",
    "# plot the importance of each feature\n",
    "plt.figure(figsize=(25, 7.5))\n",
    "plt.bar(\n",
    "    x=feature_importance[\"feature\"],\n",
    "    height=feature_importance[\"importance\"],\n",
    ")\n",
    "plt.title(\"Feature Importance\")\n",
    "plt.show()"
   ]
  },
  {
   "cell_type": "markdown",
   "metadata": {},
   "source": [
    "##### Predictions"
   ]
  },
  {
   "cell_type": "code",
   "execution_count": null,
   "metadata": {},
   "outputs": [],
   "source": [
    "# add month to the test data to get the predictions\n",
    "X_test_fit[\"Month\"] = rcp45_test_df[\"DateTime\"].dt.month.values"
   ]
  },
  {
   "cell_type": "code",
   "execution_count": null,
   "metadata": {},
   "outputs": [],
   "source": [
    "alpha = 0.05\n",
    "\n",
    "predictions_per_month = {}\n",
    "\n",
    "# Evaluate prediction and coverage level on testing set for each month\n",
    "for month in range(1, 13):\n",
    "    test_fit = X_test_fit[X_test_fit[\"Month\"] == month]\n",
    "    rcp45_test_df[rcp45_test_df[\"DateTime\"].dt.month == month]\n",
    "\n",
    "    # drop the month column\n",
    "    test_fit = test_fit[test_fit.columns.difference([\"Month\"])]\n",
    "\n",
    "    y_med_month, y_pis_cqr = mapie_cqr.predict(test_fit, alpha=alpha)\n",
    "    y_lower_month = y_pis_cqr[:, 0, 0]\n",
    "    y_upper_month = y_pis_cqr[:, 1, 0]\n",
    "\n",
    "    predictions_per_month[month] = {\n",
    "        \"y_med\": y_med_month,\n",
    "        \"y_lower\": y_lower_month,\n",
    "        \"y_upper\": y_upper_month,\n",
    "    }"
   ]
  },
  {
   "cell_type": "code",
   "execution_count": null,
   "metadata": {},
   "outputs": [],
   "source": [
    "X_test_fit.drop(columns=[\"Month\"], inplace=True)"
   ]
  },
  {
   "cell_type": "code",
   "execution_count": null,
   "metadata": {},
   "outputs": [],
   "source": [
    "# evaluate on all the months\n",
    "y_med, y_pis_cqr = mapie_cqr.predict(X_test_fit, alpha=alpha)\n",
    "y_lower = y_pis_cqr[:, 0, 0]\n",
    "y_upper = y_pis_cqr[:, 1, 0]"
   ]
  },
  {
   "cell_type": "markdown",
   "metadata": {},
   "source": [
    "##### Plots"
   ]
  },
  {
   "cell_type": "code",
   "execution_count": null,
   "metadata": {},
   "outputs": [],
   "source": [
    "# get training residuals\n",
    "train_predictions, _ = mapie_cqr.predict(X_train_fit, alpha=alpha)\n",
    "train_residuals = y_train_fit[\"UVA254\"] - train_predictions"
   ]
  },
  {
   "cell_type": "code",
   "execution_count": null,
   "metadata": {},
   "outputs": [],
   "source": [
    "# plot the training residuals\n",
    "plt.figure(figsize=(10, 5))\n",
    "plt.scatter(train_predictions, train_residuals, c=\"b\", s=40, alpha=0.5)\n",
    "plt.axhline(y=0, color=\"r\", linestyle=\"--\")\n",
    "plt.xlabel(\"Predicted Values\")\n",
    "plt.ylabel(\"Residuals\")\n",
    "plt.title(\"Training Set Residuals Plot\")\n",
    "plt.show()"
   ]
  },
  {
   "cell_type": "code",
   "execution_count": null,
   "metadata": {},
   "outputs": [],
   "source": [
    "# plot the distribution of the training residuals\n",
    "plt.figure(figsize=(10, 5))\n",
    "sns.histplot(train_residuals, kde=True)\n",
    "plt.title(\"Training Set Residuals Distribution\")\n",
    "plt.show()"
   ]
  },
  {
   "cell_type": "code",
   "execution_count": null,
   "metadata": {},
   "outputs": [],
   "source": [
    "# plot the time series fitted values\n",
    "plt.figure(figsize=(20, 10))\n",
    "sns.lineplot(\n",
    "    x=y_train_fit[\"DateTime\"],\n",
    "    y=y_train_fit[\"UVA254\"],\n",
    "    label=\"Historical Data\",\n",
    ")\n",
    "sns.lineplot(\n",
    "    x=y_train_fit[\"DateTime\"],\n",
    "    y=train_predictions,\n",
    "    label=\"Fitted Values\",\n",
    ")\n",
    "\n",
    "plt.show()"
   ]
  },
  {
   "cell_type": "code",
   "execution_count": null,
   "metadata": {},
   "outputs": [],
   "source": [
    "# all the predictions\n",
    "plt.figure(figsize=(20, 10))\n",
    "\n",
    "sns.lineplot(\n",
    "    x=y[\"DateTime\"],\n",
    "    y=y[\"UVA254\"],\n",
    "    label=\"Historical Data\",\n",
    ")\n",
    "\n",
    "\n",
    "sns.lineplot(\n",
    "    x=rcp45_test_df[\"DateTime\"], y=y_med, label=f\"Predicted Values\"\n",
    ")\n",
    "# plot std of predictions\n",
    "plt.fill_between(\n",
    "    rcp45_test_df[\"DateTime\"],\n",
    "    y_lower,\n",
    "    y2=y_upper,\n",
    "    alpha=0.2,\n",
    "    label=\"95% Prediction Interval\",\n",
    "    color=\"g\",\n",
    ")\n",
    "plt.xlabel(\"DateTime\")\n",
    "plt.ylabel(\"UVA254\")\n",
    "\n",
    "# add rmse and r2 to the plot in a box\n",
    "\n",
    "plt.title(f\"UVA254 - RCP 8.5\")\n",
    "\n",
    "plt.legend()\n",
    "plt.show()"
   ]
  },
  {
   "cell_type": "code",
   "execution_count": null,
   "metadata": {},
   "outputs": [],
   "source": [
    "# predictions per month\n",
    "plt.figure(figsize=(20, 10))\n",
    "\n",
    "sns.lineplot(\n",
    "    x=y[\"DateTime\"],\n",
    "    y=y[\"UVA254\"],\n",
    "    label=\"Historical Data\",\n",
    ")\n",
    "\n",
    "# give me a list of 12 colors\n",
    "colors = sns.color_palette(\"husl\", 12)\n",
    "\n",
    "for month in range(1, 13):\n",
    "    y_med_month = predictions_per_month[month][\"y_med\"]\n",
    "    y_lower_month = predictions_per_month[month][\"y_lower\"]\n",
    "    y_upper_month = predictions_per_month[month][\"y_upper\"]\n",
    "\n",
    "    # plot the time series fitted values\n",
    "\n",
    "    sns.lineplot(\n",
    "        x=rcp45_test_df[rcp45_test_df[\"DateTime\"].dt.month == month][\n",
    "            \"DateTime\"\n",
    "        ],\n",
    "        y=y_med_month,\n",
    "        label=f\"Predicted Values - Month {month}\",\n",
    "        color=colors[month - 1],\n",
    "    )\n",
    "    # plot std of predictions\n",
    "    plt.fill_between(\n",
    "        rcp45_test_df[rcp45_test_df[\"DateTime\"].dt.month == month][\n",
    "            \"DateTime\"\n",
    "        ],\n",
    "        y_lower_month,\n",
    "        y2=y_upper_month,\n",
    "        alpha=0.2,\n",
    "        label=\"95% Prediction Interval\",\n",
    "        color=colors[month - 1],\n",
    "    )\n",
    "    plt.xlabel(\"DateTime\")\n",
    "    plt.ylabel(\"UVA254\")\n",
    "\n",
    "    # add rmse and r2 to the plot in a box\n",
    "\n",
    "    plt.title(f\"UVA254 - Month {month} - RCP 4.5\")\n",
    "\n",
    "    plt.legend()\n",
    "plt.show()"
   ]
  },
  {
   "cell_type": "markdown",
   "metadata": {},
   "source": [
    "##### Store Results"
   ]
  },
  {
   "cell_type": "code",
   "execution_count": null,
   "metadata": {},
   "outputs": [],
   "source": [
    "lgbm_pred = y_med\n",
    "lgbm_lower_bound = y_lower\n",
    "lgbm_upper_bound = y_upper"
   ]
  },
  {
   "cell_type": "markdown",
   "metadata": {},
   "source": [
    "#### RCP 8.5"
   ]
  },
  {
   "cell_type": "markdown",
   "metadata": {},
   "source": [
    "##### Prepare Data"
   ]
  },
  {
   "cell_type": "code",
   "execution_count": null,
   "metadata": {},
   "outputs": [],
   "source": [
    "further_features = [\"Year\"]\n",
    "\n",
    "last_train_date = full_df[\"DateTime\"].max()\n",
    "\n",
    "rcp85_test_df = rcp85_df[rcp85_df[\"DateTime\"] > last_train_date]"
   ]
  },
  {
   "cell_type": "code",
   "execution_count": null,
   "metadata": {},
   "outputs": [],
   "source": [
    "# add polynomial features\n",
    "from sklearn.preprocessing import PolynomialFeatures\n",
    "\n",
    "poly = PolynomialFeatures(2)\n",
    "\n",
    "X_poly = poly.fit_transform(\n",
    "    rcp85_test_df[rcp85_test_df.columns.difference([\"DateTime\"])]\n",
    ")\n",
    "\n",
    "X_poly = pd.DataFrame(\n",
    "    X_poly,\n",
    "    columns=poly.get_feature_names_out(\n",
    "        rcp85_test_df.columns.difference([\"DateTime\"])\n",
    "    ),\n",
    ")\n",
    "\n",
    "X_poly[\"DateTime\"] = rcp85_test_df[\"DateTime\"].values"
   ]
  },
  {
   "cell_type": "code",
   "execution_count": null,
   "metadata": {},
   "outputs": [],
   "source": [
    "X_test_fit = X_poly[X_poly.columns.difference([\"DateTime\"])]"
   ]
  },
  {
   "cell_type": "code",
   "execution_count": null,
   "metadata": {},
   "outputs": [],
   "source": [
    "scaler = StandardScaler()\n",
    "# scale the data and keep the column names\n",
    "X_test_fit = scaler.fit_transform(X_test_fit)\n",
    "\n",
    "X_test_fit = pd.DataFrame(\n",
    "    X_test_fit, columns=X_poly.columns.difference([\"DateTime\"])\n",
    ")"
   ]
  },
  {
   "cell_type": "code",
   "execution_count": null,
   "metadata": {},
   "outputs": [],
   "source": [
    "X_test_fit = rcp85_test_df[\n",
    "    rcp85_test_df.columns.difference([\"DateTime\"])\n",
    "]"
   ]
  },
  {
   "cell_type": "code",
   "execution_count": null,
   "metadata": {},
   "outputs": [],
   "source": [
    "scaler = StandardScaler()\n",
    "# scale the data and keep the column names\n",
    "X_test_fit = scaler.fit_transform(X_test_fit)\n",
    "\n",
    "X_test_fit = pd.DataFrame(\n",
    "    X_test_fit, columns=rcp85_test_df.columns.difference([\"DateTime\"])\n",
    ")"
   ]
  },
  {
   "cell_type": "markdown",
   "metadata": {},
   "source": [
    "##### Train Model"
   ]
  },
  {
   "cell_type": "code",
   "execution_count": null,
   "metadata": {},
   "outputs": [],
   "source": [
    "# sort the columns\n",
    "X_train_fit = X_train_fit.reindex(sorted(X_train_fit.columns), axis=1)\n",
    "X_test_fit = X_test_fit.reindex(sorted(X_test_fit.columns), axis=1)"
   ]
  },
  {
   "cell_type": "code",
   "execution_count": null,
   "metadata": {},
   "outputs": [],
   "source": [
    "params = {\n",
    "    \"n_estimators\": 16,\n",
    "    \"learning_rate\": 0.6192800859019298,\n",
    "    \"max_depth\": 16,\n",
    "    \"num_leaves\": 20,\n",
    "    \"min_data_in_leaf\": 34,\n",
    "    \"lambda_l1\": 1.8585248563175933,\n",
    "    \"lambda_l2\": 0.020368547806226774,\n",
    "    \"min_split_gain\": 2.5,\n",
    "    \"subsample\": 0.5639096844841955,\n",
    "    \"bagging_fraction\": 0.026474369917739878,\n",
    "    \"feature_fraction\": 0.0012608584366219668,\n",
    "    \"min_child_samples\": 33,\n",
    "    \"max_bin\": 20,\n",
    "}"
   ]
  },
  {
   "cell_type": "markdown",
   "metadata": {},
   "source": [
    "###### Train model with mapie"
   ]
  },
  {
   "cell_type": "code",
   "execution_count": null,
   "metadata": {},
   "outputs": [],
   "source": [
    "alpha = 0.1\n",
    "estimator = LGBMRegressor(\n",
    "    objective=\"regression\", random_state=42, linear_tree=True, **params\n",
    ")\n",
    "\n",
    "estimator.fit(X_train_fit, y_train_fit[\"UVA254\"])"
   ]
  },
  {
   "cell_type": "markdown",
   "metadata": {},
   "source": [
    "##### Feature Importance"
   ]
  },
  {
   "cell_type": "code",
   "execution_count": null,
   "metadata": {},
   "outputs": [],
   "source": [
    "# show the importance of each feature in the model\n",
    "feature_importance = pd.DataFrame()\n",
    "feature_importance[\"feature\"] = estimator.feature_name_\n",
    "feature_importance[\"importance\"] = estimator.feature_importances_\n",
    "\n",
    "feature_importance = feature_importance.sort_values(\n",
    "    by=\"importance\", ascending=False\n",
    ")\n",
    "\n",
    "# plot the importance of each feature\n",
    "plt.figure(figsize=(25, 7.5))\n",
    "plt.bar(\n",
    "    x=feature_importance[\"feature\"],\n",
    "    height=feature_importance[\"importance\"],\n",
    ")\n",
    "plt.title(\"Feature Importance\")\n",
    "plt.show()"
   ]
  },
  {
   "cell_type": "markdown",
   "metadata": {},
   "source": [
    "##### Predictions"
   ]
  },
  {
   "cell_type": "code",
   "execution_count": null,
   "metadata": {},
   "outputs": [],
   "source": [
    "# add month to the test data to get the predictions\n",
    "X_test_fit[\"Month\"] = rcp85_test_df[\"DateTime\"].dt.month.values"
   ]
  },
  {
   "cell_type": "code",
   "execution_count": null,
   "metadata": {},
   "outputs": [],
   "source": [
    "alpha = 0.05\n",
    "\n",
    "predictions_per_month = {}\n",
    "\n",
    "# Evaluate prediction and coverage level on testing set for each month\n",
    "for month in range(1, 13):\n",
    "    test_fit = X_test_fit[X_test_fit[\"Month\"] == month]\n",
    "    rcp85_test_df[rcp85_test_df[\"DateTime\"].dt.month == month]\n",
    "\n",
    "    # drop the month column\n",
    "    test_fit = test_fit[test_fit.columns.difference([\"Month\"])]\n",
    "\n",
    "    y_med_month, y_pis_cqr = mapie_cqr.predict(test_fit, alpha=alpha)\n",
    "    y_lower_month = y_pis_cqr[:, 0, 0]\n",
    "    y_upper_month = y_pis_cqr[:, 1, 0]\n",
    "\n",
    "    predictions_per_month[month] = {\n",
    "        \"y_med\": y_med_month,\n",
    "        \"y_lower\": y_lower_month,\n",
    "        \"y_upper\": y_upper_month,\n",
    "    }"
   ]
  },
  {
   "cell_type": "code",
   "execution_count": null,
   "metadata": {},
   "outputs": [],
   "source": [
    "X_test_fit.drop(columns=[\"Month\"], inplace=True)"
   ]
  },
  {
   "cell_type": "code",
   "execution_count": null,
   "metadata": {},
   "outputs": [],
   "source": [
    "# evaluate on all the months\n",
    "y_med, y_pis_cqr = mapie_cqr.predict(X_test_fit, alpha=alpha)\n",
    "y_lower = y_pis_cqr[:, 0, 0]\n",
    "y_upper = y_pis_cqr[:, 1, 0]"
   ]
  },
  {
   "cell_type": "markdown",
   "metadata": {},
   "source": [
    "##### Plots"
   ]
  },
  {
   "cell_type": "code",
   "execution_count": null,
   "metadata": {},
   "outputs": [],
   "source": [
    "# get training residuals\n",
    "train_predictions, _ = mapie_cqr.predict(X_train_fit, alpha=alpha)\n",
    "train_residuals = y_train_fit[\"UVA254\"] - train_predictions"
   ]
  },
  {
   "cell_type": "code",
   "execution_count": null,
   "metadata": {},
   "outputs": [],
   "source": [
    "# plot the training residuals\n",
    "plt.figure(figsize=(10, 5))\n",
    "plt.scatter(train_predictions, train_residuals, c=\"b\", s=40, alpha=0.5)\n",
    "plt.axhline(y=0, color=\"r\", linestyle=\"--\")\n",
    "plt.xlabel(\"Predicted Values\")\n",
    "plt.ylabel(\"Residuals\")\n",
    "plt.title(\"Training Set Residuals Plot\")\n",
    "plt.show()"
   ]
  },
  {
   "cell_type": "code",
   "execution_count": null,
   "metadata": {},
   "outputs": [],
   "source": [
    "# plot the distribution of the training residuals\n",
    "plt.figure(figsize=(10, 5))\n",
    "sns.histplot(train_residuals, kde=True)\n",
    "plt.title(\"Training Set Residuals Distribution\")\n",
    "plt.show()"
   ]
  },
  {
   "cell_type": "code",
   "execution_count": null,
   "metadata": {},
   "outputs": [],
   "source": [
    "# plot the time series fitted values\n",
    "plt.figure(figsize=(20, 10))\n",
    "sns.lineplot(\n",
    "    x=y_train_fit[\"DateTime\"],\n",
    "    y=y_train_fit[\"UVA254\"],\n",
    "    label=\"Historical Data\",\n",
    ")\n",
    "sns.lineplot(\n",
    "    x=y_train_fit[\"DateTime\"],\n",
    "    y=train_predictions,\n",
    "    label=\"Fitted Values\",\n",
    ")\n",
    "\n",
    "plt.show()"
   ]
  },
  {
   "cell_type": "code",
   "execution_count": null,
   "metadata": {},
   "outputs": [],
   "source": [
    "# all the predictions\n",
    "plt.figure(figsize=(20, 10))\n",
    "\n",
    "sns.lineplot(\n",
    "    x=y[\"DateTime\"],\n",
    "    y=y[\"UVA254\"],\n",
    "    label=\"Historical Data\",\n",
    ")\n",
    "\n",
    "\n",
    "sns.lineplot(\n",
    "    x=rcp85_test_df[\"DateTime\"], y=y_med, label=f\"Predicted Values\"\n",
    ")\n",
    "# plot std of predictions\n",
    "plt.fill_between(\n",
    "    rcp85_test_df[\"DateTime\"],\n",
    "    y_lower,\n",
    "    y2=y_upper,\n",
    "    alpha=0.2,\n",
    "    label=\"95% Prediction Interval\",\n",
    "    color=\"g\",\n",
    ")\n",
    "plt.xlabel(\"DateTime\")\n",
    "plt.ylabel(\"UVA254\")\n",
    "\n",
    "# add rmse and r2 to the plot in a box\n",
    "\n",
    "plt.title(f\"UVA254 - RCP 8.5\")\n",
    "\n",
    "plt.legend()\n",
    "plt.show()"
   ]
  },
  {
   "cell_type": "code",
   "execution_count": null,
   "metadata": {},
   "outputs": [],
   "source": [
    "# predictions per month\n",
    "plt.figure(figsize=(20, 10))\n",
    "\n",
    "sns.lineplot(\n",
    "    x=y[\"DateTime\"],\n",
    "    y=y[\"UVA254\"],\n",
    "    label=\"Historical Data\",\n",
    ")\n",
    "\n",
    "# give me a list of 12 colors\n",
    "colors = sns.color_palette(\"husl\", 12)\n",
    "\n",
    "for month in range(1, 13):\n",
    "    y_med_month = predictions_per_month[month][\"y_med\"]\n",
    "    y_lower_month = predictions_per_month[month][\"y_lower\"]\n",
    "    y_upper_month = predictions_per_month[month][\"y_upper\"]\n",
    "\n",
    "    # plot the time series fitted values\n",
    "\n",
    "    sns.lineplot(\n",
    "        x=rcp85_test_df[rcp85_test_df[\"DateTime\"].dt.month == month][\n",
    "            \"DateTime\"\n",
    "        ],\n",
    "        y=y_med_month,\n",
    "        label=f\"Predicted Values - Month {month}\",\n",
    "        color=colors[month - 1],\n",
    "    )\n",
    "    # plot std of predictions\n",
    "    plt.fill_between(\n",
    "        rcp85_test_df[rcp85_test_df[\"DateTime\"].dt.month == month][\n",
    "            \"DateTime\"\n",
    "        ],\n",
    "        y_lower_month,\n",
    "        y2=y_upper_month,\n",
    "        alpha=0.2,\n",
    "        label=\"95% Prediction Interval\",\n",
    "        color=colors[month - 1],\n",
    "    )\n",
    "    plt.xlabel(\"DateTime\")\n",
    "    plt.ylabel(\"UVA254\")\n",
    "\n",
    "    # add rmse and r2 to the plot in a box\n",
    "\n",
    "    plt.title(f\"UVA254 - Month {month} - RCP 4.5\")\n",
    "\n",
    "    plt.legend()\n",
    "plt.show()"
   ]
  },
  {
   "cell_type": "markdown",
   "metadata": {},
   "source": [
    "##### Store Results"
   ]
  },
  {
   "cell_type": "code",
   "execution_count": null,
   "metadata": {},
   "outputs": [],
   "source": [
    "lgbm_pred = y_med\n",
    "lgbm_lower_bound = y_lower\n",
    "lgbm_upper_bound = y_upper"
   ]
  },
  {
   "cell_type": "markdown",
   "metadata": {},
   "source": [
    "### Neural Network"
   ]
  },
  {
   "cell_type": "markdown",
   "metadata": {},
   "source": [
    "#### RCP 4.5"
   ]
  },
  {
   "cell_type": "markdown",
   "metadata": {},
   "source": [
    "##### Prepare Data"
   ]
  },
  {
   "cell_type": "code",
   "execution_count": null,
   "metadata": {},
   "outputs": [],
   "source": [
    "further_features = [\"Year\"]\n",
    "\n",
    "last_train_date = full_df[\"DateTime\"].max()\n",
    "\n",
    "rcp45_test_df = rcp45_df[rcp45_df[\"DateTime\"] > last_train_date]"
   ]
  },
  {
   "cell_type": "code",
   "execution_count": null,
   "metadata": {},
   "outputs": [],
   "source": [
    "# add polynomial features\n",
    "from sklearn.preprocessing import PolynomialFeatures\n",
    "\n",
    "poly = PolynomialFeatures(2)\n",
    "\n",
    "X_poly = poly.fit_transform(\n",
    "    rcp45_test_df[rcp45_test_df.columns.difference([\"DateTime\"])]\n",
    ")\n",
    "\n",
    "X_poly = pd.DataFrame(\n",
    "    X_poly,\n",
    "    columns=poly.get_feature_names_out(\n",
    "        rcp45_test_df.columns.difference([\"DateTime\"])\n",
    "    ),\n",
    ")\n",
    "\n",
    "X_poly[\"DateTime\"] = rcp45_test_df[\"DateTime\"].values"
   ]
  },
  {
   "cell_type": "code",
   "execution_count": null,
   "metadata": {},
   "outputs": [],
   "source": [
    "X_test_fit = X_poly[X_poly.columns.difference([\"DateTime\"])]"
   ]
  },
  {
   "cell_type": "code",
   "execution_count": null,
   "metadata": {},
   "outputs": [],
   "source": [
    "scaler = StandardScaler()\n",
    "# scale the data and keep the column names\n",
    "X_test_fit = scaler.fit_transform(X_test_fit)\n",
    "\n",
    "X_test_fit = pd.DataFrame(\n",
    "    X_test_fit, columns=X_poly.columns.difference([\"DateTime\"])\n",
    ")"
   ]
  },
  {
   "cell_type": "code",
   "execution_count": null,
   "metadata": {},
   "outputs": [],
   "source": [
    "X_test_fit = rcp45_test_df[\n",
    "    rcp45_test_df.columns.difference([\"DateTime\"])\n",
    "]"
   ]
  },
  {
   "cell_type": "code",
   "execution_count": null,
   "metadata": {},
   "outputs": [],
   "source": [
    "scaler = StandardScaler()\n",
    "# scale the data and keep the column names\n",
    "X_test_fit = scaler.fit_transform(X_test_fit)\n",
    "\n",
    "X_test_fit = pd.DataFrame(\n",
    "    X_test_fit, columns=rcp45_test_df.columns.difference([\"DateTime\"])\n",
    ")"
   ]
  },
  {
   "cell_type": "markdown",
   "metadata": {},
   "source": [
    "##### Train the model"
   ]
  },
  {
   "cell_type": "code",
   "execution_count": null,
   "metadata": {},
   "outputs": [],
   "source": [
    "best_params = {\n",
    "    \"n_layers\": 2,\n",
    "    \"n_units_0\": 85,\n",
    "    \"n_units_1\": 75,\n",
    "    \"activation\": \"identity\",\n",
    "    \"solver\": \"adam\",\n",
    "    \"alpha\": 0.7765540584565614,\n",
    "    \"learning_rate\": \"constant\",\n",
    "    \"power_t\": 0.3382710741601535,\n",
    "    \"beta_1\": 0.19887581875693028,\n",
    "    \"beta_2\": 0.984060053664114,\n",
    "    \"epsilon\": 0.32827083622604075,\n",
    "}"
   ]
  },
  {
   "cell_type": "code",
   "execution_count": null,
   "metadata": {},
   "outputs": [],
   "source": [
    "hidden_layer_sizes = [\n",
    "    best_params[f\"n_units_{i}\"] for i in range(best_params[\"n_layers\"])\n",
    "]\n",
    "\n",
    "for i in range(best_params[\"n_layers\"]):\n",
    "    best_params.pop(f\"n_units_{i}\")\n",
    "\n",
    "best_params.pop(\"n_layers\")"
   ]
  },
  {
   "cell_type": "markdown",
   "metadata": {},
   "source": [
    "###### Train model with mapie"
   ]
  },
  {
   "cell_type": "code",
   "execution_count": null,
   "metadata": {},
   "outputs": [],
   "source": [
    "alpha = 0.1\n",
    "estimator = MLPRegressor(\n",
    "    random_state=42,\n",
    "    hidden_layer_sizes=hidden_layer_sizes,\n",
    "    max_iter=1000,\n",
    "    early_stopping=True,\n",
    "    **best_params\n",
    ")\n",
    "\n",
    "estimator.fit(X_train_fit, y_train_fit[\"UVA254\"])"
   ]
  },
  {
   "cell_type": "code",
   "execution_count": null,
   "metadata": {},
   "outputs": [],
   "source": [
    "# Calibrate uncertainties on calibration set\n",
    "mapie_cqr = MapieRegressor(estimator, cv=10, random_state=42)\n",
    "mapie_cqr.fit(X_train_fit, y_train_fit[\"UVA254\"])"
   ]
  },
  {
   "cell_type": "markdown",
   "metadata": {},
   "source": [
    "##### Feature Importance"
   ]
  },
  {
   "cell_type": "code",
   "execution_count": null,
   "metadata": {},
   "outputs": [],
   "source": [
    "explainer = shap.KernelExplainer(\n",
    "    model=estimator.predict, data=X_train_fit, link=\"identity\"\n",
    ")\n",
    "shap_values = explainer.shap_values(X_test_fit, nsamples=100)\n",
    "\n",
    "shap.initjs()"
   ]
  },
  {
   "cell_type": "code",
   "execution_count": null,
   "metadata": {},
   "outputs": [],
   "source": [
    "plt.figure(figsize=(20, 10))\n",
    "\n",
    "shap.summary_plot(\n",
    "    shap_values, X_test_fit, feature_names=X_test_fit.columns.to_list()\n",
    ")"
   ]
  },
  {
   "cell_type": "code",
   "execution_count": null,
   "metadata": {},
   "outputs": [],
   "source": [
    "shap.force_plot(\n",
    "    explainer.expected_value,\n",
    "    shap_values[0, :],\n",
    "    X_test_fit.iloc[0, :],\n",
    "    feature_names=X_test_fit.columns.to_list(),\n",
    ")"
   ]
  },
  {
   "cell_type": "markdown",
   "metadata": {},
   "source": [
    "##### Prediction"
   ]
  },
  {
   "cell_type": "code",
   "execution_count": null,
   "metadata": {},
   "outputs": [],
   "source": [
    "# add month to the test data to get the predictions\n",
    "X_test_fit[\"Month\"] = rcp45_test_df[\"DateTime\"].dt.month.values"
   ]
  },
  {
   "cell_type": "code",
   "execution_count": null,
   "metadata": {},
   "outputs": [],
   "source": [
    "alpha = 0.05\n",
    "\n",
    "predictions_per_month = {}\n",
    "\n",
    "# Evaluate prediction and coverage level on testing set for each month\n",
    "for month in range(1, 13):\n",
    "    test_fit = X_test_fit[X_test_fit[\"Month\"] == month]\n",
    "    rcp45_test_df[rcp45_test_df[\"DateTime\"].dt.month == month]\n",
    "\n",
    "    # drop the month column\n",
    "    test_fit = test_fit[test_fit.columns.difference([\"Month\"])]\n",
    "\n",
    "    y_med_month, y_pis_cqr = mapie_cqr.predict(test_fit, alpha=alpha)\n",
    "    y_lower_month = y_pis_cqr[:, 0, 0]\n",
    "    y_upper_month = y_pis_cqr[:, 1, 0]\n",
    "\n",
    "    predictions_per_month[month] = {\n",
    "        \"y_med\": y_med_month,\n",
    "        \"y_lower\": y_lower_month,\n",
    "        \"y_upper\": y_upper_month,\n",
    "    }"
   ]
  },
  {
   "cell_type": "code",
   "execution_count": null,
   "metadata": {},
   "outputs": [],
   "source": [
    "X_test_fit.drop(columns=[\"Month\"], inplace=True)"
   ]
  },
  {
   "cell_type": "code",
   "execution_count": null,
   "metadata": {},
   "outputs": [],
   "source": [
    "# evaluate on all the months\n",
    "y_med, y_pis_cqr = mapie_cqr.predict(X_test_fit, alpha=alpha)\n",
    "y_lower = y_pis_cqr[:, 0, 0]\n",
    "y_upper = y_pis_cqr[:, 1, 0]"
   ]
  },
  {
   "cell_type": "markdown",
   "metadata": {},
   "source": [
    "##### Plots"
   ]
  },
  {
   "cell_type": "code",
   "execution_count": null,
   "metadata": {},
   "outputs": [],
   "source": [
    "# get training residuals\n",
    "train_predictions, _ = mapie_cqr.predict(X_train_fit, alpha=alpha)\n",
    "train_residuals = y_train_fit[\"UVA254\"] - train_predictions"
   ]
  },
  {
   "cell_type": "code",
   "execution_count": null,
   "metadata": {},
   "outputs": [],
   "source": [
    "# plot the training residuals\n",
    "plt.figure(figsize=(10, 5))\n",
    "plt.scatter(\n",
    "    train_predictions.flatten(), train_residuals, c=\"b\", s=40, alpha=0.5\n",
    ")\n",
    "plt.axhline(y=0, color=\"r\", linestyle=\"--\")\n",
    "plt.xlabel(\"Predicted Values\")\n",
    "plt.ylabel(\"Residuals\")\n",
    "plt.title(\"Training Set Residuals Plot\")\n",
    "plt.show()"
   ]
  },
  {
   "cell_type": "code",
   "execution_count": null,
   "metadata": {},
   "outputs": [],
   "source": [
    "# plot the distribution of the training residuals\n",
    "plt.figure(figsize=(10, 5))\n",
    "sns.histplot(train_residuals, kde=True)\n",
    "plt.title(\"Training Set Residuals Distribution\")\n",
    "plt.show()"
   ]
  },
  {
   "cell_type": "code",
   "execution_count": null,
   "metadata": {},
   "outputs": [],
   "source": [
    "# plot the time series fitted values\n",
    "plt.figure(figsize=(20, 10))\n",
    "sns.lineplot(\n",
    "    x=y_train_fit[\"DateTime\"],\n",
    "    y=y_train_fit[\"UVA254\"],\n",
    "    label=\"Historical Data\",\n",
    ")\n",
    "sns.lineplot(\n",
    "    x=y_train_fit[\"DateTime\"],\n",
    "    y=train_predictions,\n",
    "    label=\"Fitted Values\",\n",
    ")\n",
    "\n",
    "plt.show()"
   ]
  },
  {
   "cell_type": "code",
   "execution_count": null,
   "metadata": {},
   "outputs": [],
   "source": [
    "# all the predictions\n",
    "plt.figure(figsize=(20, 10))\n",
    "\n",
    "sns.lineplot(\n",
    "    x=y[\"DateTime\"],\n",
    "    y=y[\"UVA254\"],\n",
    "    label=\"Historical Data\",\n",
    ")\n",
    "\n",
    "\n",
    "sns.lineplot(\n",
    "    x=rcp45_test_df[\"DateTime\"], y=y_med, label=f\"Predicted Values\"\n",
    ")\n",
    "# plot std of predictions\n",
    "plt.fill_between(\n",
    "    rcp45_test_df[\"DateTime\"],\n",
    "    y_lower,\n",
    "    y2=y_upper,\n",
    "    alpha=0.2,\n",
    "    label=\"95% Prediction Interval\",\n",
    "    color=\"g\",\n",
    ")\n",
    "plt.xlabel(\"DateTime\")\n",
    "plt.ylabel(\"UVA254\")\n",
    "\n",
    "# add rmse and r2 to the plot in a box\n",
    "\n",
    "plt.title(f\"UVA254 - RCP 4.5\")\n",
    "\n",
    "plt.legend()\n",
    "plt.show()"
   ]
  },
  {
   "cell_type": "code",
   "execution_count": null,
   "metadata": {},
   "outputs": [],
   "source": [
    "# predictions per month\n",
    "plt.figure(figsize=(20, 10))\n",
    "\n",
    "sns.lineplot(\n",
    "    x=y[\"DateTime\"],\n",
    "    y=y[\"UVA254\"],\n",
    "    label=\"Historical Data\",\n",
    ")\n",
    "\n",
    "# give me a list of 12 colors\n",
    "colors = sns.color_palette(\"husl\", 12)\n",
    "\n",
    "min_max_months = {3: \"March\", 9: \"September\"}\n",
    "\n",
    "for month, name in min_max_months.items():\n",
    "    y_med_month = predictions_per_month[month][\"y_med\"]\n",
    "    y_lower_month = predictions_per_month[month][\"y_lower\"]\n",
    "    y_upper_month = predictions_per_month[month][\"y_upper\"]\n",
    "\n",
    "    # y_lower_month can be negative, so we need to set it to 0\n",
    "    y_lower_month = np.maximum(y_lower_month, 0)\n",
    "\n",
    "    # plot the time series fitted values\n",
    "\n",
    "    sns.lineplot(\n",
    "        x=rcp45_test_df[rcp45_test_df[\"DateTime\"].dt.month == month][\n",
    "            \"DateTime\"\n",
    "        ],\n",
    "        y=y_med_month,\n",
    "        label=f\"Predicted Values - {name}\",\n",
    "        color=colors[month - 1],\n",
    "    )\n",
    "    # plot std of predictions\n",
    "    plt.fill_between(\n",
    "        rcp45_test_df[rcp45_test_df[\"DateTime\"].dt.month == month][\n",
    "            \"DateTime\"\n",
    "        ],\n",
    "        y_lower_month,\n",
    "        y2=y_upper_month,\n",
    "        alpha=0.2,\n",
    "        label=\"95% Prediction Interval\",\n",
    "        color=colors[month - 1],\n",
    "    )\n",
    "    plt.xlabel(\"DateTime\")\n",
    "    plt.ylabel(\"UVA254\")\n",
    "\n",
    "    # add rmse and r2 to the plot in a box\n",
    "\n",
    "    plt.title(f\"UVA254 - Min/Max Months - RCP 4.5\")\n",
    "\n",
    "    plt.legend()\n",
    "plt.show()"
   ]
  },
  {
   "cell_type": "markdown",
   "metadata": {},
   "source": [
    "##### Store Results"
   ]
  },
  {
   "cell_type": "code",
   "execution_count": null,
   "metadata": {},
   "outputs": [],
   "source": [
    "nn_pred = y_med\n",
    "nn_lower_bound = y_lower\n",
    "nn_upper_bound = y_upper"
   ]
  },
  {
   "cell_type": "markdown",
   "metadata": {},
   "source": [
    "#### RCP 8.5"
   ]
  },
  {
   "cell_type": "markdown",
   "metadata": {},
   "source": [
    "##### Prepare Data"
   ]
  },
  {
   "cell_type": "code",
   "execution_count": null,
   "metadata": {},
   "outputs": [],
   "source": [
    "further_features = [\"Year\"]\n",
    "\n",
    "last_train_date = full_df[\"DateTime\"].max()\n",
    "\n",
    "rcp85_test_df = rcp85_df[rcp85_df[\"DateTime\"] > last_train_date]"
   ]
  },
  {
   "cell_type": "code",
   "execution_count": null,
   "metadata": {},
   "outputs": [],
   "source": [
    "# add polynomial features\n",
    "from sklearn.preprocessing import PolynomialFeatures\n",
    "\n",
    "poly = PolynomialFeatures(2)\n",
    "\n",
    "X_poly = poly.fit_transform(\n",
    "    rcp85_test_df[rcp85_test_df.columns.difference([\"DateTime\"])]\n",
    ")\n",
    "\n",
    "X_poly = pd.DataFrame(\n",
    "    X_poly,\n",
    "    columns=poly.get_feature_names_out(\n",
    "        rcp85_test_df.columns.difference([\"DateTime\"])\n",
    "    ),\n",
    ")\n",
    "\n",
    "X_poly[\"DateTime\"] = rcp85_test_df[\"DateTime\"].values"
   ]
  },
  {
   "cell_type": "code",
   "execution_count": null,
   "metadata": {},
   "outputs": [],
   "source": [
    "X_test_fit = X_poly[X_poly.columns.difference([\"DateTime\"])]"
   ]
  },
  {
   "cell_type": "code",
   "execution_count": null,
   "metadata": {},
   "outputs": [],
   "source": [
    "scaler = StandardScaler()\n",
    "# scale the data and keep the column names\n",
    "X_test_fit = scaler.fit_transform(X_test_fit)\n",
    "\n",
    "X_test_fit = pd.DataFrame(\n",
    "    X_test_fit, columns=X_poly.columns.difference([\"DateTime\"])\n",
    ")"
   ]
  },
  {
   "cell_type": "code",
   "execution_count": null,
   "metadata": {},
   "outputs": [],
   "source": [
    "X_test_fit = rcp85_test_df[\n",
    "    rcp85_test_df.columns.difference([\"DateTime\"])\n",
    "]"
   ]
  },
  {
   "cell_type": "code",
   "execution_count": null,
   "metadata": {},
   "outputs": [],
   "source": [
    "scaler = StandardScaler()\n",
    "# scale the data and keep the column names\n",
    "X_test_fit = scaler.fit_transform(X_test_fit)\n",
    "\n",
    "X_test_fit = pd.DataFrame(\n",
    "    X_test_fit, columns=rcp85_test_df.columns.difference([\"DateTime\"])\n",
    ")"
   ]
  },
  {
   "cell_type": "markdown",
   "metadata": {},
   "source": [
    "##### Train the model"
   ]
  },
  {
   "cell_type": "code",
   "execution_count": null,
   "metadata": {},
   "outputs": [],
   "source": [
    "best_params = {\n",
    "    \"n_layers\": 2,\n",
    "    \"n_units_0\": 85,\n",
    "    \"n_units_1\": 75,\n",
    "    \"activation\": \"identity\",\n",
    "    \"solver\": \"adam\",\n",
    "    \"alpha\": 0.7765540584565614,\n",
    "    \"learning_rate\": \"constant\",\n",
    "    \"power_t\": 0.3382710741601535,\n",
    "    \"beta_1\": 0.19887581875693028,\n",
    "    \"beta_2\": 0.984060053664114,\n",
    "    \"epsilon\": 0.32827083622604075,\n",
    "}"
   ]
  },
  {
   "cell_type": "code",
   "execution_count": null,
   "metadata": {},
   "outputs": [],
   "source": [
    "hidden_layer_sizes = [\n",
    "    best_params[f\"n_units_{i}\"] for i in range(best_params[\"n_layers\"])\n",
    "]\n",
    "\n",
    "for i in range(best_params[\"n_layers\"]):\n",
    "    best_params.pop(f\"n_units_{i}\")\n",
    "\n",
    "best_params.pop(\"n_layers\")"
   ]
  },
  {
   "cell_type": "markdown",
   "metadata": {},
   "source": [
    "###### Train model with mapie"
   ]
  },
  {
   "cell_type": "code",
   "execution_count": null,
   "metadata": {},
   "outputs": [],
   "source": [
    "alpha = 0.05\n",
    "estimator = MLPRegressor(\n",
    "    random_state=42,\n",
    "    hidden_layer_sizes=hidden_layer_sizes,\n",
    "    max_iter=1000,\n",
    "    early_stopping=True,\n",
    "    **best_params\n",
    ")\n",
    "\n",
    "# estimator.fit(X_train_fit, y_train_fit[\"UVA254\"])"
   ]
  },
  {
   "cell_type": "code",
   "execution_count": null,
   "metadata": {},
   "outputs": [],
   "source": [
    "# Calibrate uncertainties on calibration set\n",
    "mapie_cqr = MapieRegressor(estimator, random_state=42)\n",
    "mapie_cqr.fit(X_train_fit, y_train_fit[\"UVA254\"])"
   ]
  },
  {
   "cell_type": "markdown",
   "metadata": {},
   "source": [
    "##### Prediction"
   ]
  },
  {
   "cell_type": "code",
   "execution_count": null,
   "metadata": {},
   "outputs": [],
   "source": [
    "# add month to the test data to get the predictions\n",
    "X_test_fit[\"Month\"] = rcp85_test_df[\"DateTime\"].dt.month.values"
   ]
  },
  {
   "cell_type": "code",
   "execution_count": null,
   "metadata": {},
   "outputs": [],
   "source": [
    "alpha = 0.05\n",
    "\n",
    "predictions_per_month = {}\n",
    "\n",
    "# Evaluate prediction and coverage level on testing set for each month\n",
    "for month in range(1, 13):\n",
    "    test_fit = X_test_fit[X_test_fit[\"Month\"] == month]\n",
    "    rcp45_test_df[rcp85_test_df[\"DateTime\"].dt.month == month]\n",
    "\n",
    "    # drop the month column\n",
    "    test_fit = test_fit[test_fit.columns.difference([\"Month\"])]\n",
    "\n",
    "    y_med_month, y_pis_cqr = mapie_cqr.predict(test_fit, alpha=alpha)\n",
    "    y_lower_month = y_pis_cqr[:, 0, 0]\n",
    "    y_upper_month = y_pis_cqr[:, 1, 0]\n",
    "\n",
    "    predictions_per_month[month] = {\n",
    "        \"y_med\": y_med_month,\n",
    "        \"y_lower\": y_lower_month,\n",
    "        \"y_upper\": y_upper_month,\n",
    "    }"
   ]
  },
  {
   "cell_type": "code",
   "execution_count": null,
   "metadata": {},
   "outputs": [],
   "source": [
    "X_test_fit.drop(columns=[\"Month\"], inplace=True)"
   ]
  },
  {
   "cell_type": "code",
   "execution_count": null,
   "metadata": {},
   "outputs": [],
   "source": [
    "# evaluate on all the months\n",
    "y_med, y_pis_cqr = mapie_cqr.predict(X_test_fit, alpha=alpha)\n",
    "y_lower = y_pis_cqr[:, 0, 0]\n",
    "y_upper = y_pis_cqr[:, 1, 0]"
   ]
  },
  {
   "cell_type": "markdown",
   "metadata": {},
   "source": [
    "##### Plots"
   ]
  },
  {
   "cell_type": "code",
   "execution_count": null,
   "metadata": {},
   "outputs": [],
   "source": [
    "# get training residuals\n",
    "train_predictions, _ = mapie_cqr.predict(X_train_fit, alpha=alpha)\n",
    "train_residuals = y_train_fit[\"UVA254\"] - train_predictions"
   ]
  },
  {
   "cell_type": "code",
   "execution_count": null,
   "metadata": {},
   "outputs": [],
   "source": [
    "# plot the training residuals\n",
    "plt.figure(figsize=(10, 5))\n",
    "plt.scatter(\n",
    "    train_predictions.flatten(), train_residuals, c=\"b\", s=40, alpha=0.5\n",
    ")\n",
    "plt.axhline(y=0, color=\"r\", linestyle=\"--\")\n",
    "plt.xlabel(\"Predicted Values\")\n",
    "plt.ylabel(\"Residuals\")\n",
    "plt.title(\"Training Set Residuals Plot\")\n",
    "plt.show()"
   ]
  },
  {
   "cell_type": "code",
   "execution_count": null,
   "metadata": {},
   "outputs": [],
   "source": [
    "# plot the distribution of the training residuals\n",
    "plt.figure(figsize=(10, 5))\n",
    "sns.histplot(train_residuals, kde=True)\n",
    "plt.title(\"Training Set Residuals Distribution\")\n",
    "plt.show()"
   ]
  },
  {
   "cell_type": "code",
   "execution_count": null,
   "metadata": {},
   "outputs": [],
   "source": [
    "# plot the time series fitted values\n",
    "plt.figure(figsize=(20, 10))\n",
    "sns.lineplot(\n",
    "    x=y_train_fit[\"DateTime\"],\n",
    "    y=y_train_fit[\"UVA254\"],\n",
    "    label=\"Historical Data\",\n",
    ")\n",
    "sns.lineplot(\n",
    "    x=y_train_fit[\"DateTime\"],\n",
    "    y=train_predictions,\n",
    "    label=\"Fitted Values\",\n",
    ")\n",
    "\n",
    "plt.show()"
   ]
  },
  {
   "cell_type": "code",
   "execution_count": null,
   "metadata": {},
   "outputs": [],
   "source": [
    "# all the predictions\n",
    "plt.figure(figsize=(20, 10))\n",
    "\n",
    "sns.lineplot(\n",
    "    x=y[\"DateTime\"],\n",
    "    y=y[\"UVA254\"],\n",
    "    label=\"Historical Data\",\n",
    ")\n",
    "\n",
    "\n",
    "y_lower = np.maximum(y_lower, 0)\n",
    "\n",
    "sns.lineplot(\n",
    "    x=rcp45_test_df[\"DateTime\"], y=y_med, label=f\"Predicted Values\"\n",
    ")\n",
    "# plot std of predictions\n",
    "plt.fill_between(\n",
    "    rcp45_test_df[\"DateTime\"],\n",
    "    y_lower,\n",
    "    y2=y_upper,\n",
    "    alpha=0.2,\n",
    "    label=\"95% Prediction Interval\",\n",
    "    color=\"g\",\n",
    ")\n",
    "plt.xlabel(\"DateTime\")\n",
    "plt.ylabel(\"UVA254\")\n",
    "\n",
    "# add rmse and r2 to the plot in a box\n",
    "\n",
    "plt.title(f\"UVA254 - RCP 8.5\")\n",
    "\n",
    "plt.legend()\n",
    "plt.show()"
   ]
  },
  {
   "cell_type": "code",
   "execution_count": null,
   "metadata": {},
   "outputs": [],
   "source": [
    "# predictions per month\n",
    "plt.figure(figsize=(20, 10))\n",
    "\n",
    "sns.lineplot(\n",
    "    x=y[\"DateTime\"],\n",
    "    y=y[\"UVA254\"],\n",
    "    label=\"Historical Data\",\n",
    ")\n",
    "\n",
    "# give me a list of 12 colors\n",
    "colors = sns.color_palette(\"husl\", 12)\n",
    "\n",
    "min_max_months = {3: \"March\", 9: \"September\"}\n",
    "\n",
    "for month, name in min_max_months.items():\n",
    "    y_med_month = predictions_per_month[month][\"y_med\"]\n",
    "    y_lower_month = predictions_per_month[month][\"y_lower\"]\n",
    "    y_upper_month = predictions_per_month[month][\"y_upper\"]\n",
    "\n",
    "    # y_lower values cannot be negative\n",
    "    y_lower_month = np.maximum(y_lower_month, 0)\n",
    "\n",
    "    # plot the time series fitted values\n",
    "\n",
    "    sns.lineplot(\n",
    "        x=rcp45_test_df[rcp85_test_df[\"DateTime\"].dt.month == month][\n",
    "            \"DateTime\"\n",
    "        ],\n",
    "        y=y_med_month,\n",
    "        label=f\"Predicted Values - {name}\",\n",
    "        color=colors[month - 1],\n",
    "    )\n",
    "    # plot std of predictions\n",
    "    plt.fill_between(\n",
    "        rcp45_test_df[rcp85_test_df[\"DateTime\"].dt.month == month][\n",
    "            \"DateTime\"\n",
    "        ],\n",
    "        y_lower_month,\n",
    "        y2=y_upper_month,\n",
    "        alpha=0.2,\n",
    "        label=\"95% Prediction Interval\",\n",
    "        color=colors[month - 1],\n",
    "    )\n",
    "    plt.xlabel(\"DateTime\")\n",
    "    plt.ylabel(\"UVA254\")\n",
    "\n",
    "    # add rmse and r2 to the plot in a box\n",
    "\n",
    "    plt.legend()\n",
    "plt.show()"
   ]
  },
  {
   "cell_type": "markdown",
   "metadata": {},
   "source": [
    "##### Store Results"
   ]
  },
  {
   "cell_type": "code",
   "execution_count": null,
   "metadata": {},
   "outputs": [],
   "source": [
    "nn_pred = y_med\n",
    "nn_lower_bound = y_lower\n",
    "nn_upper_bound = y_upper"
   ]
  }
 ],
 "metadata": {
  "kernelspec": {
   "display_name": "climate-change-MEYtuKH4-py3.11",
   "language": "python",
   "name": "python3"
  },
  "language_info": {
   "codemirror_mode": {
    "name": "ipython",
    "version": 3
   },
   "file_extension": ".py",
   "mimetype": "text/x-python",
   "name": "python",
   "nbconvert_exporter": "python",
   "pygments_lexer": "ipython3",
   "version": "3.11.10"
  }
 },
 "nbformat": 4,
 "nbformat_minor": 2
}
