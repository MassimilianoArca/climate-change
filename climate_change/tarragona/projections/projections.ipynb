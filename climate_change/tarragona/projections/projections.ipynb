{
 "cells": [
  {
   "cell_type": "markdown",
   "metadata": {},
   "source": [
    "# Variables With Prediction Modelling\n",
    "\n",
    "Variables with future predictions are used to predict the Absorbance.\n",
    "\n",
    "The variables are:\n",
    "* Air temperature\n",
    "* Daily Cumulated Rainfall\n",
    "* Water Temperature\n",
    "* Flow River (River Discharge in the Projections folder)\n",
    "\n",
    "\n",
    "3 different models are used:\n",
    "* linear regression\n",
    "* random forest\n",
    "* neural network\n",
    "\n",
    "\n",
    "UPDATE: I tried to redo everything following the same approach of the Berlin case (also in the training of the models in the modelling folder for the variable_with_prediction), so I performed some feature engineering to try do add more information. However, the results are worse than the previous approach, both in modelling and in the projections, which turn out negative. So the previous approach, even if simpler, lead to better results. I just performed the projections with XGBoost for the RCP4.5 case, then I stopped once I saw the result."
   ]
  },
  {
   "cell_type": "code",
   "execution_count": 118,
   "metadata": {},
   "outputs": [],
   "source": [
    "import os\n",
    "\n",
    "import pandas as pd\n",
    "import numpy as np\n",
    "\n",
    "import matplotlib.pyplot as plt\n",
    "import seaborn as sns\n",
    "\n",
    "# Models\n",
    "import xgboost as xgb\n",
    "from lightgbm import LGBMRegressor\n",
    "from sklearn.neural_network import MLPRegressor\n",
    "\n",
    "# Utils\n",
    "from sklearn.preprocessing import MinMaxScaler\n",
    "from sklearn.preprocessing import PolynomialFeatures\n",
    "from sklearn.utils import resample\n",
    "\n",
    "# Hyperparameter Optimization\n",
    "import optuna\n",
    "\n",
    "# SHAP\n",
    "import shap\n",
    "\n",
    "plt.rcParams[\"font.size\"] = 26"
   ]
  },
  {
   "cell_type": "markdown",
   "metadata": {},
   "source": [
    "# Define paths"
   ]
  },
  {
   "cell_type": "code",
   "execution_count": 119,
   "metadata": {},
   "outputs": [],
   "source": [
    "data_folder = os.path.join(\"..\", \"..\", \"data\", \"tarragona\")\n",
    "\n",
    "projection_folder = os.path.join(data_folder, \"future_projections\")\n",
    "processed_projections_folder = os.path.join(\n",
    "    projection_folder, \"processed\"\n",
    ")\n",
    "\n",
    "interpolated_projections_folder = os.path.join(\n",
    "    projection_folder, \"interpolated\"\n",
    ")\n",
    "\n",
    "raw_data_folder = os.path.join(data_folder, \"raw_data\")"
   ]
  },
  {
   "cell_type": "markdown",
   "metadata": {},
   "source": [
    "# Load dataset"
   ]
  },
  {
   "cell_type": "code",
   "execution_count": 120,
   "metadata": {},
   "outputs": [],
   "source": [
    "full_df = pd.read_excel(\n",
    "    os.path.join(raw_data_folder, \"raw_full_dataset.xlsx\")\n",
    ")"
   ]
  },
  {
   "cell_type": "code",
   "execution_count": null,
   "metadata": {},
   "outputs": [],
   "source": [
    "full_df"
   ]
  },
  {
   "cell_type": "code",
   "execution_count": 122,
   "metadata": {},
   "outputs": [],
   "source": [
    "full_df.rename(\n",
    "    columns={\n",
    "        \"Daily Cumulated Rainfall (L/m²)\": \"Rainfall (mm)\",\n",
    "        \"Flow River (m³/s)\": \"Flow River Rate (m³/s)\",\n",
    "    },\n",
    "    inplace=True,\n",
    ")"
   ]
  },
  {
   "cell_type": "code",
   "execution_count": 123,
   "metadata": {},
   "outputs": [],
   "source": [
    "full_df.drop(\n",
    "    columns=[\n",
    "        \"cumulated_rainfall_24h\",\n",
    "        \"flowriver\",\n",
    "        \"environmental_temperature\",\n",
    "        \"is_outlier\",\n",
    "    ],\n",
    "    inplace=True,\n",
    ")"
   ]
  },
  {
   "cell_type": "markdown",
   "metadata": {},
   "source": [
    "# Remove Variables with no future projections\n",
    "\n",
    "They are:\n",
    "- Nitrate\n",
    "- pH\n",
    "- Ammonium\n",
    "- Dissolved Oxygen\n",
    "- Conductivity\n",
    "- Redox Potential"
   ]
  },
  {
   "cell_type": "code",
   "execution_count": 124,
   "metadata": {},
   "outputs": [],
   "source": [
    "full_df.drop(\n",
    "    columns=[\n",
    "        \"Nitrate (mg/L)\",\n",
    "        \"pH\",\n",
    "        \"Ammonium (mg/L)\",\n",
    "        \"Dissolved Oxygen (mg/L)\",\n",
    "        \"Conductivity (µS/cm)\",\n",
    "        \"Redox Potential (mV)\",\n",
    "        \"Turbidity (NTU)\",\n",
    "    ],\n",
    "    inplace=True,\n",
    ")"
   ]
  },
  {
   "cell_type": "markdown",
   "metadata": {},
   "source": [
    "## Take the Monthly Average"
   ]
  },
  {
   "cell_type": "code",
   "execution_count": 125,
   "metadata": {},
   "outputs": [],
   "source": [
    "full_df[\"Year\"] = full_df[\"DateTime\"].dt.year\n",
    "full_df[\"Month\"] = full_df[\"DateTime\"].dt.month"
   ]
  },
  {
   "cell_type": "code",
   "execution_count": 126,
   "metadata": {},
   "outputs": [],
   "source": [
    "# take the monthly average\n",
    "monthly_avg_df = full_df.groupby([\"Year\", \"Month\"]).mean().reset_index()"
   ]
  },
  {
   "cell_type": "code",
   "execution_count": 127,
   "metadata": {},
   "outputs": [],
   "source": [
    "full_df = monthly_avg_df"
   ]
  },
  {
   "cell_type": "markdown",
   "metadata": {},
   "source": [
    "### Prepare Data"
   ]
  },
  {
   "cell_type": "code",
   "execution_count": 128,
   "metadata": {},
   "outputs": [],
   "source": [
    "def extend_features(df: pd.DataFrame, lags: int, rolling_window: int, poly_degree: int):\n",
    "    \n",
    "    initial_features = df.columns\n",
    "    # add polynomial features\n",
    "    poly = PolynomialFeatures(degree=poly_degree)\n",
    "    df_poly = poly.fit_transform(df)\n",
    "    df = pd.DataFrame(df_poly, columns=poly.get_feature_names_out(df.columns))\n",
    "    \n",
    "    # add lagged, rolling and expanding features for each variable in df\n",
    "    for col in initial_features.difference([\"Year\", \"Month\"]):\n",
    "        for lag in range(1, lags + 1):\n",
    "            df[f\"{col}_lag{lag}\"] = df[col].shift(lag)\n",
    "            \n",
    "        df[f\"{col}_rolling{rolling_window}\"] = df[col].rolling(rolling_window).mean()\n",
    "        \n",
    "    # fill NaN values with bfill\n",
    "    df.bfill(inplace=True)\n",
    "    \n",
    "    df.drop(columns=['1'], inplace=True)\n",
    "    return df"
   ]
  },
  {
   "cell_type": "code",
   "execution_count": 129,
   "metadata": {},
   "outputs": [],
   "source": [
    "# add the year and month columns\n",
    "full_df[\"Year\"] = full_df[\"DateTime\"].dt.year\n",
    "full_df[\"Month\"] = full_df[\"DateTime\"].dt.month\n",
    "\n",
    "# Save the datetime column for later (drop diff returns error\n",
    "# if I remove it before)\n",
    "datetime_column = full_df.dropna()[\"DateTime\"]\n",
    "\n",
    "X = full_df.drop(columns=[\"DateTime\", \"UVA254\"])\n",
    "y = full_df[['DateTime', 'UVA254']]\n",
    "\n",
    "X = X[sorted(X.columns)]\n",
    "\n",
    "X = extend_features(X, lags=1, rolling_window=3, poly_degree=2)\n",
    "\n",
    "# Normalize the data\n",
    "scaler = MinMaxScaler()\n",
    "cols = X.columns\n",
    "\n",
    "X = scaler.fit_transform(X)\n",
    "X = pd.DataFrame(X, columns=cols)\n",
    "\n",
    "# Add the datetime column back\n",
    "X[\"DateTime\"] = datetime_column.values\n",
    "\n",
    "\n",
    "X = X.set_index(\"DateTime\")\n",
    "y = y.set_index(\"DateTime\")\n",
    "\n",
    "# sort the columns\n",
    "X = X[sorted(X.columns)]"
   ]
  },
  {
   "cell_type": "markdown",
   "metadata": {},
   "source": [
    "# Projections"
   ]
  },
  {
   "cell_type": "markdown",
   "metadata": {},
   "source": [
    "## Load Input Projections"
   ]
  },
  {
   "cell_type": "code",
   "execution_count": 130,
   "metadata": {},
   "outputs": [],
   "source": [
    "air_temp_rcp45_df = pd.read_excel(\n",
    "    os.path.join(interpolated_projections_folder, \"air_temp_rcp45.xlsx\")\n",
    ")\n",
    "air_temp_rcp85_df = pd.read_excel(\n",
    "    os.path.join(interpolated_projections_folder, \"air_temp_rcp85.xlsx\")\n",
    ")\n",
    "\n",
    "rain_rcp45_df = pd.read_excel(\n",
    "    os.path.join(\n",
    "        interpolated_projections_folder, \"precipitation_rcp45.xlsx\"\n",
    "    )\n",
    ")\n",
    "rain_rcp85_df = pd.read_excel(\n",
    "    os.path.join(\n",
    "        interpolated_projections_folder, \"precipitation_rcp85.xlsx\"\n",
    "    )\n",
    ")\n",
    "\n",
    "flow_rcp45_df = pd.read_excel(\n",
    "    os.path.join(interpolated_projections_folder, \"flow_rcp45.xlsx\")\n",
    ")\n",
    "flow_rcp85_df = pd.read_excel(\n",
    "    os.path.join(interpolated_projections_folder, \"flow_rcp85.xlsx\")\n",
    ")\n",
    "\n",
    "water_temp_rcp45_df = pd.read_excel(\n",
    "    os.path.join(\n",
    "        interpolated_projections_folder, \"water_temp_rcp45.xlsx\"\n",
    "    )\n",
    ")\n",
    "water_temp_rcp85_df = pd.read_excel(\n",
    "    os.path.join(\n",
    "        interpolated_projections_folder, \"water_temp_rcp85.xlsx\"\n",
    "    )\n",
    ")"
   ]
  },
  {
   "cell_type": "markdown",
   "metadata": {},
   "source": [
    "## Create Datasets"
   ]
  },
  {
   "cell_type": "markdown",
   "metadata": {},
   "source": [
    "### RCP 4.5"
   ]
  },
  {
   "cell_type": "code",
   "execution_count": 131,
   "metadata": {},
   "outputs": [],
   "source": [
    "rcp45_df = air_temp_rcp45_df.copy()\n",
    "rcp45_df[\"Rainfall (mm)\"] = rain_rcp45_df[\"Rainfall (mm)\"]\n",
    "rcp45_df[\"Flow River Rate (m³/s)\"] = flow_rcp45_df[\"Flow River Rate (m³/s)\"]\n",
    "rcp45_df[\"Water Temperature (°C)\"] = water_temp_rcp45_df[\n",
    "    \"Water Temperature (°C)\"\n",
    "]\n",
    "\n",
    "rcp45_df.drop(columns=['Unnamed: 0'], inplace=True)\n",
    "\n",
    "rcp45_df[\"Year\"] = rcp45_df[\"DateTime\"].dt.year\n",
    "rcp45_df[\"Month\"] = rcp45_df[\"DateTime\"].dt.month\n",
    "\n",
    "datetime_column = rcp45_df[\"DateTime\"]\n",
    "\n",
    "rcp45_df.drop(columns=[\"DateTime\"], inplace=True)"
   ]
  },
  {
   "cell_type": "code",
   "execution_count": 132,
   "metadata": {},
   "outputs": [],
   "source": [
    "rcp45_df = rcp45_df[sorted(rcp45_df.columns)]\n",
    "\n",
    "rcp45_df = extend_features(rcp45_df, lags=1, rolling_window=3, poly_degree=2)\n",
    "\n",
    "rcp45_df['DateTime'] = datetime_column.values\n",
    "rcp45_df.set_index(\"DateTime\", inplace=True)"
   ]
  },
  {
   "cell_type": "markdown",
   "metadata": {},
   "source": [
    "### RCP 8.5"
   ]
  },
  {
   "cell_type": "code",
   "execution_count": 133,
   "metadata": {},
   "outputs": [],
   "source": [
    "rcp85_df = air_temp_rcp85_df.copy()\n",
    "rcp85_df[\"Rainfall (mm)\"] = rain_rcp85_df[\"Rainfall (mm)\"]\n",
    "rcp85_df[\"Flow River Rate (m³/s)\"] = flow_rcp85_df[\"Flow River Rate (m³/s)\"]\n",
    "rcp85_df[\"Water Temperature (°C)\"] = water_temp_rcp85_df[\n",
    "    \"Water Temperature (°C)\"\n",
    "]\n",
    "\n",
    "rcp85_df.drop(columns=['Unnamed: 0'], inplace=True)\n",
    "\n",
    "rcp85_df[\"Year\"] = rcp85_df[\"DateTime\"].dt.year\n",
    "rcp85_df[\"Month\"] = rcp85_df[\"DateTime\"].dt.month\n",
    "\n",
    "datetime_column = rcp85_df[\"DateTime\"]\n",
    "\n",
    "rcp85_df.drop(columns=[\"DateTime\"], inplace=True)"
   ]
  },
  {
   "cell_type": "code",
   "execution_count": 134,
   "metadata": {},
   "outputs": [],
   "source": [
    "rcp85_df = rcp85_df[sorted(rcp85_df.columns)]\n",
    "\n",
    "rcp85_df = extend_features(rcp85_df, lags=1, rolling_window=3, poly_degree=2)\n",
    "\n",
    "rcp85_df['DateTime'] = datetime_column.values\n",
    "rcp85_df.set_index(\"DateTime\", inplace=True)"
   ]
  },
  {
   "cell_type": "markdown",
   "metadata": {},
   "source": [
    "## Predictions"
   ]
  },
  {
   "cell_type": "markdown",
   "metadata": {},
   "source": [
    "### XGBoost"
   ]
  },
  {
   "cell_type": "code",
   "execution_count": 90,
   "metadata": {},
   "outputs": [],
   "source": [
    "if os.path.exists(f\"XGBoost-Extended.sqlite3\"):       \n",
    "    study = optuna.load_study(\n",
    "    study_name=\"Hyperparameter Tuning - XGBoost\",\n",
    "    storage=f\"sqlite:///XGBoost-Extended.sqlite3\",\n",
    "    )\n",
    "else:\n",
    "    raise Exception(\"No study found\")"
   ]
  },
  {
   "cell_type": "code",
   "execution_count": 91,
   "metadata": {},
   "outputs": [],
   "source": [
    "params = study.best_params\n",
    "\n",
    "params[\"objective\"] = \"reg:squarederror\"\n",
    "params[\"booster\"] = \"gblinear\""
   ]
  },
  {
   "cell_type": "markdown",
   "metadata": {},
   "source": [
    "##### Predictions"
   ]
  },
  {
   "cell_type": "code",
   "execution_count": 92,
   "metadata": {},
   "outputs": [],
   "source": [
    "xgb_results = {}\n",
    "\n",
    "n_iterations = 100\n",
    "    \n",
    "params[\"objective\"] = \"reg:squarederror\"\n",
    "params[\"booster\"] = \"gblinear\"\n",
    "\n",
    "\n",
    "n_size = len(X)\n",
    "predictions_rcp45 = np.zeros((len(rcp45_df), n_iterations))\n",
    "predictions_rcp85 = np.zeros((len(rcp45_df), n_iterations))\n",
    "metrics = []\n",
    "\n",
    "X = X[sorted(X.columns)]\n",
    "rcp45_df = rcp45_df[sorted(rcp45_df.columns)]\n",
    "rcp85_df = rcp85_df[sorted(rcp85_df.columns)]\n",
    "\n",
    "for i in range(n_iterations):\n",
    "# Bootstrap sample (random state changes each iteration)\n",
    "    X_resampled, y_resampled = resample(X, y, n_samples=n_size, random_state=i)\n",
    "    \n",
    "    # Train the model with the best hyperparameters\n",
    "    model = xgb.XGBRegressor(**params, random_state=42)\n",
    "    model.fit(X_resampled, y_resampled)\n",
    "    \n",
    "    # Predict the projections\n",
    "    y_pred_rcp45 = model.predict(rcp45_df)\n",
    "    predictions_rcp45[:, i] = y_pred_rcp45\n",
    "    \n",
    "    y_pred_rcp85 = model.predict(rcp85_df)\n",
    "    predictions_rcp85[:, i] = y_pred_rcp85\n",
    "    \n",
    "\n",
    "# Calculate 95% confidence interval of the predictions\n",
    "lower_bound_rcp45 = np.percentile(predictions_rcp45, 2.5, axis=1)\n",
    "upper_bound_rcp45 = np.percentile(predictions_rcp45, 97.5, axis=1)\n",
    "\n",
    "lower_bound_rcp85 = np.percentile(predictions_rcp85, 2.5, axis=1)\n",
    "upper_bound_rcp85 = np.percentile(predictions_rcp85, 97.5, axis=1)\n",
    "\n",
    "# Calculate the mean predictions\n",
    "mean_predictions_rcp45 = np.mean(predictions_rcp45, axis=1)\n",
    "mean_predictions_rcp85 = np.mean(predictions_rcp85, axis=1)\n",
    "\n",
    "xgb_results = {\n",
    "    'rcp45': {\n",
    "        'mean': mean_predictions_rcp45,\n",
    "        'lower_bound': lower_bound_rcp45,\n",
    "        'upper_bound': upper_bound_rcp45\n",
    "    },\n",
    "    'rcp85': {\n",
    "        'mean': mean_predictions_rcp85,\n",
    "        'lower_bound': lower_bound_rcp85,\n",
    "        'upper_bound': upper_bound_rcp85\n",
    "    }\n",
    "}"
   ]
  },
  {
   "cell_type": "markdown",
   "metadata": {},
   "source": [
    "##### Feature Importance"
   ]
  },
  {
   "cell_type": "code",
   "execution_count": null,
   "metadata": {},
   "outputs": [],
   "source": [
    "# show the importance of each feature in the model\n",
    "feature_importance = pd.DataFrame()\n",
    "feature_importance[\"feature\"] = model.feature_names_in_\n",
    "feature_importance[\"importance\"] = -model.feature_importances_\n",
    "\n",
    "feature_importance = feature_importance.sort_values(\n",
    "    by=\"importance\", ascending=False\n",
    ")\n",
    "\n",
    "# plot the importance of each feature\n",
    "plt.figure(figsize=(25, 7.5))\n",
    "plt.bar(\n",
    "    x=feature_importance[\"feature\"],\n",
    "    height=feature_importance[\"importance\"],\n",
    ")\n",
    "\n",
    "# rotate the x axis words by 45°\n",
    "plt.xticks(rotation=45)\n",
    "\n",
    "plt.title(\"Feature Importance\")\n",
    "plt.show()"
   ]
  },
  {
   "cell_type": "markdown",
   "metadata": {},
   "source": [
    "##### Plots"
   ]
  },
  {
   "cell_type": "code",
   "execution_count": 94,
   "metadata": {},
   "outputs": [],
   "source": [
    "# get training residuals\n",
    "train_predictions = model.predict(X)\n",
    "train_residuals = y[\"UVA254\"] - train_predictions"
   ]
  },
  {
   "cell_type": "code",
   "execution_count": null,
   "metadata": {},
   "outputs": [],
   "source": [
    "# plot the training residuals\n",
    "plt.figure(figsize=(10, 5))\n",
    "plt.scatter(train_predictions, train_residuals, c=\"b\", s=40, alpha=0.5)\n",
    "plt.axhline(y=0, color=\"r\", linestyle=\"--\")\n",
    "plt.xlabel(\"Predicted Values\")\n",
    "plt.ylabel(\"Residuals\")\n",
    "plt.title(\"Training Set Residuals Plot\")\n",
    "plt.show()"
   ]
  },
  {
   "cell_type": "code",
   "execution_count": null,
   "metadata": {},
   "outputs": [],
   "source": [
    "# plot the distribution of the training residuals\n",
    "plt.figure(figsize=(10, 5))\n",
    "sns.histplot(train_residuals, kde=True)\n",
    "plt.title(\"Training Set Residuals Distribution\")\n",
    "plt.show()"
   ]
  },
  {
   "cell_type": "code",
   "execution_count": null,
   "metadata": {},
   "outputs": [],
   "source": [
    "# plot the time series fitted values\n",
    "plt.figure(figsize=(20, 10))\n",
    "sns.lineplot(\n",
    "    x=y.index,\n",
    "    y=y[\"UVA254\"],\n",
    "    label=\"Historical Data\",\n",
    ")\n",
    "sns.lineplot(\n",
    "    x=y.index, y=train_predictions, label=\"Fitted Values\"\n",
    ")\n",
    "\n",
    "plt.show()"
   ]
  },
  {
   "cell_type": "code",
   "execution_count": null,
   "metadata": {},
   "outputs": [],
   "source": [
    "y_med = xgb_results[\"rcp45\"][\"mean\"]\n",
    "y_lower = xgb_results[\"rcp45\"][\"lower_bound\"]\n",
    "y_upper = xgb_results[\"rcp45\"][\"upper_bound\"]\n",
    "\n",
    "# all the predictions\n",
    "plt.figure(figsize=(20, 10))\n",
    "\n",
    "sns.lineplot(\n",
    "    x=y.index,\n",
    "    y=y[\"UVA254\"],\n",
    "    label=\"Historical Data\",\n",
    ")\n",
    "\n",
    "\n",
    "sns.lineplot(\n",
    "    x=rcp45_df.index, y=y_med, label=f\"Predicted Values\"\n",
    ")\n",
    "# plot std of predictions\n",
    "plt.fill_between(\n",
    "    rcp45_df.index,\n",
    "    y_lower,\n",
    "    y2=y_upper,\n",
    "    alpha=0.2,\n",
    "    label=\"95% Prediction Interval\",\n",
    ")\n",
    "plt.xlabel(\"DateTime\")\n",
    "plt.ylabel(\"UVA254\")\n",
    "\n",
    "# add rmse and r2 to the plot in a box\n",
    "\n",
    "plt.title(f\"UVA254 - RCP 4.5\")\n",
    "\n",
    "plt.legend()\n",
    "plt.show()"
   ]
  },
  {
   "cell_type": "markdown",
   "metadata": {},
   "source": [
    "##### Store Results"
   ]
  },
  {
   "cell_type": "code",
   "execution_count": 255,
   "metadata": {},
   "outputs": [],
   "source": [
    "boost_pred = y_med\n",
    "boost_lower_bound = y_lower\n",
    "boost_upper_bound = y_upper"
   ]
  },
  {
   "cell_type": "markdown",
   "metadata": {},
   "source": [
    "#### RCP 8.5"
   ]
  },
  {
   "cell_type": "markdown",
   "metadata": {},
   "source": [
    "##### Prepare Data"
   ]
  },
  {
   "cell_type": "code",
   "execution_count": 256,
   "metadata": {},
   "outputs": [],
   "source": [
    "further_features = [\"Year\"]\n",
    "\n",
    "last_train_date = full_df[\"DateTime\"].max()\n",
    "\n",
    "rcp85_test_df = rcp85_df[rcp85_df[\"DateTime\"] > last_train_date]"
   ]
  },
  {
   "cell_type": "code",
   "execution_count": 257,
   "metadata": {},
   "outputs": [],
   "source": [
    "# add polynomial features\n",
    "from sklearn.preprocessing import PolynomialFeatures\n",
    "\n",
    "poly = PolynomialFeatures(2)\n",
    "\n",
    "X_poly = poly.fit_transform(\n",
    "    rcp85_test_df[rcp85_test_df.columns.difference([\"DateTime\"])]\n",
    ")\n",
    "\n",
    "X_poly = pd.DataFrame(\n",
    "    X_poly,\n",
    "    columns=poly.get_feature_names_out(\n",
    "        rcp85_test_df.columns.difference([\"DateTime\"])\n",
    "    ),\n",
    ")\n",
    "\n",
    "X_poly[\"DateTime\"] = rcp85_test_df[\"DateTime\"].values"
   ]
  },
  {
   "cell_type": "code",
   "execution_count": 258,
   "metadata": {},
   "outputs": [],
   "source": [
    "X_test_fit = X_poly[X_poly.columns.difference([\"DateTime\"])]"
   ]
  },
  {
   "cell_type": "code",
   "execution_count": 259,
   "metadata": {},
   "outputs": [],
   "source": [
    "scaler = StandardScaler()\n",
    "# scale the data and keep the column names\n",
    "X_test_fit = scaler.fit_transform(X_test_fit)\n",
    "\n",
    "X_test_fit = pd.DataFrame(\n",
    "    X_test_fit, columns=X_poly.columns.difference([\"DateTime\"])\n",
    ")"
   ]
  },
  {
   "cell_type": "code",
   "execution_count": 260,
   "metadata": {},
   "outputs": [],
   "source": [
    "X_test_fit = rcp85_test_df[\n",
    "    rcp85_test_df.columns.difference([\"DateTime\"])\n",
    "]"
   ]
  },
  {
   "cell_type": "code",
   "execution_count": 261,
   "metadata": {},
   "outputs": [],
   "source": [
    "scaler = StandardScaler()\n",
    "# scale the data and keep the column names\n",
    "X_test_fit = scaler.fit_transform(X_test_fit)\n",
    "\n",
    "X_test_fit = pd.DataFrame(\n",
    "    X_test_fit, columns=rcp85_test_df.columns.difference([\"DateTime\"])\n",
    ")"
   ]
  },
  {
   "cell_type": "markdown",
   "metadata": {},
   "source": [
    "##### Train Model"
   ]
  },
  {
   "cell_type": "code",
   "execution_count": 262,
   "metadata": {},
   "outputs": [],
   "source": [
    "# sort the columns\n",
    "X_train_fit = X_train_fit.reindex(sorted(X_train_fit.columns), axis=1)\n",
    "X_test_fit = X_test_fit.reindex(sorted(X_test_fit.columns), axis=1)"
   ]
  },
  {
   "cell_type": "code",
   "execution_count": 263,
   "metadata": {},
   "outputs": [],
   "source": [
    "best_params = {\n",
    "    \"objective\": \"reg:squarederror\",\n",
    "    \"booster\": \"gblinear\",\n",
    "    \"eta\": 0.021222820197838683,\n",
    "    \"reg_lambda\": 1.2716135487076726e-07,\n",
    "    \"reg_alpha\": 0.25584966658518155,\n",
    "    \"learning_rate\": 0.6602531811820622,\n",
    "    \"n_estimators\": 369,\n",
    "    \"updater\": \"shotgun\",\n",
    "}"
   ]
  },
  {
   "cell_type": "code",
   "execution_count": null,
   "metadata": {},
   "outputs": [],
   "source": [
    "booster = xgb.XGBRegressor(\n",
    "    random_state=42,\n",
    "    **best_params,\n",
    ")\n",
    "\n",
    "booster.fit(X_train_fit, y_train_fit[\"UVA254\"])"
   ]
  },
  {
   "cell_type": "markdown",
   "metadata": {},
   "source": [
    "##### Feature Importance"
   ]
  },
  {
   "cell_type": "code",
   "execution_count": null,
   "metadata": {},
   "outputs": [],
   "source": [
    "# show the importance of each feature in the model\n",
    "feature_importance = pd.DataFrame()\n",
    "feature_importance[\"feature\"] = booster.feature_names_in_\n",
    "feature_importance[\"importance\"] = -booster.feature_importances_\n",
    "\n",
    "feature_importance = feature_importance.sort_values(\n",
    "    by=\"importance\", ascending=False\n",
    ")\n",
    "\n",
    "# plot the importance of each feature\n",
    "plt.figure(figsize=(25, 7.5))\n",
    "plt.bar(\n",
    "    x=feature_importance[\"feature\"],\n",
    "    height=feature_importance[\"importance\"],\n",
    ")\n",
    "\n",
    "# rotate the x axis words by 45°\n",
    "plt.xticks(rotation=45)\n",
    "\n",
    "plt.title(\"Feature Importance\")\n",
    "plt.show()"
   ]
  },
  {
   "cell_type": "markdown",
   "metadata": {},
   "source": [
    "##### Predictions"
   ]
  },
  {
   "cell_type": "code",
   "execution_count": null,
   "metadata": {},
   "outputs": [],
   "source": [
    "mapie_cqr = MapieRegressor(booster, method=\"naive\", random_state=42)\n",
    "mapie_cqr.fit(X_train_fit, y_train_fit[\"UVA254\"])"
   ]
  },
  {
   "cell_type": "code",
   "execution_count": 267,
   "metadata": {},
   "outputs": [],
   "source": [
    "# add month to the test data to get the predictions\n",
    "X_test_fit[\"Month\"] = rcp85_test_df[\"DateTime\"].dt.month.values"
   ]
  },
  {
   "cell_type": "code",
   "execution_count": 268,
   "metadata": {},
   "outputs": [],
   "source": [
    "alpha = 0.05\n",
    "\n",
    "predictions_per_month = {}\n",
    "\n",
    "# Evaluate prediction and coverage level on testing set for each month\n",
    "for month in range(1, 13):\n",
    "    test_fit = X_test_fit[X_test_fit[\"Month\"] == month]\n",
    "    rcp85_test_df[rcp85_test_df[\"DateTime\"].dt.month == month]\n",
    "\n",
    "    # drop the month column\n",
    "    test_fit = test_fit[test_fit.columns.difference([\"Month\"])]\n",
    "\n",
    "    y_med, y_pis_cqr = mapie_cqr.predict(test_fit, alpha=alpha)\n",
    "    y_lower = y_pis_cqr[:, 0, 0]\n",
    "    y_upper = y_pis_cqr[:, 1, 0]\n",
    "\n",
    "    predictions_per_month[month] = {\n",
    "        \"y_med\": y_med,\n",
    "        \"y_lower\": y_lower,\n",
    "        \"y_upper\": y_upper,\n",
    "    }"
   ]
  },
  {
   "cell_type": "code",
   "execution_count": 269,
   "metadata": {},
   "outputs": [],
   "source": [
    "X_test_fit.drop(columns=[\"Month\"], inplace=True)"
   ]
  },
  {
   "cell_type": "code",
   "execution_count": 270,
   "metadata": {},
   "outputs": [],
   "source": [
    "# evaluate on all the months\n",
    "y_med, y_pis_cqr = mapie_cqr.predict(X_test_fit, alpha=alpha)\n",
    "y_lower = y_pis_cqr[:, 0, 0]\n",
    "y_upper = y_pis_cqr[:, 1, 0]"
   ]
  },
  {
   "cell_type": "markdown",
   "metadata": {},
   "source": [
    "##### Plots"
   ]
  },
  {
   "cell_type": "code",
   "execution_count": 271,
   "metadata": {},
   "outputs": [],
   "source": [
    "# get training residuals\n",
    "train_predictions = booster.predict(X_train_fit)\n",
    "train_residuals = y_train_fit[\"UVA254\"] - train_predictions"
   ]
  },
  {
   "cell_type": "code",
   "execution_count": null,
   "metadata": {},
   "outputs": [],
   "source": [
    "# plot the training residuals\n",
    "plt.figure(figsize=(10, 5))\n",
    "plt.scatter(train_predictions, train_residuals, c=\"b\", s=40, alpha=0.5)\n",
    "plt.axhline(y=0, color=\"r\", linestyle=\"--\")\n",
    "plt.xlabel(\"Predicted Values\")\n",
    "plt.ylabel(\"Residuals\")\n",
    "plt.title(\"Training Set Residuals Plot\")\n",
    "plt.show()"
   ]
  },
  {
   "cell_type": "code",
   "execution_count": null,
   "metadata": {},
   "outputs": [],
   "source": [
    "# plot the distribution of the training residuals\n",
    "plt.figure(figsize=(10, 5))\n",
    "sns.histplot(train_residuals, kde=True)\n",
    "plt.title(\"Training Set Residuals Distribution\")\n",
    "plt.show()"
   ]
  },
  {
   "cell_type": "code",
   "execution_count": null,
   "metadata": {},
   "outputs": [],
   "source": [
    "# plot the time series fitted values\n",
    "plt.figure(figsize=(20, 10))\n",
    "sns.lineplot(\n",
    "    x=y[\"DateTime\"],\n",
    "    y=y[\"UVA254\"],\n",
    "    label=\"Historical Data\",\n",
    ")\n",
    "sns.lineplot(\n",
    "    x=y[\"DateTime\"], y=train_predictions, label=\"Fitted Values\"\n",
    ")\n",
    "\n",
    "plt.show()"
   ]
  },
  {
   "cell_type": "code",
   "execution_count": null,
   "metadata": {},
   "outputs": [],
   "source": [
    "# all the predictions\n",
    "plt.figure(figsize=(20, 10))\n",
    "\n",
    "sns.lineplot(\n",
    "    x=y[\"DateTime\"],\n",
    "    y=y[\"UVA254\"],\n",
    "    label=\"Historical Data\",\n",
    ")\n",
    "\n",
    "\n",
    "sns.lineplot(\n",
    "    x=rcp45_test_df[\"DateTime\"], y=y_med, label=f\"Predicted Values\"\n",
    ")\n",
    "# plot std of predictions\n",
    "plt.fill_between(\n",
    "    rcp45_test_df[\"DateTime\"],\n",
    "    y_lower,\n",
    "    y2=y_upper,\n",
    "    alpha=0.2,\n",
    "    label=\"95% Prediction Interval\",\n",
    ")\n",
    "plt.xlabel(\"DateTime\")\n",
    "plt.ylabel(\"UVA254\")\n",
    "\n",
    "# add rmse and r2 to the plot in a box\n",
    "\n",
    "plt.title(f\"UVA254 - RCP 8.5\")\n",
    "\n",
    "plt.legend()\n",
    "plt.show()"
   ]
  },
  {
   "cell_type": "code",
   "execution_count": null,
   "metadata": {},
   "outputs": [],
   "source": [
    "# predictions per month\n",
    "plt.figure(figsize=(20, 10))\n",
    "\n",
    "sns.lineplot(\n",
    "    x=y[\"DateTime\"],\n",
    "    y=y[\"UVA254\"],\n",
    "    label=\"Historical Data\",\n",
    ")\n",
    "\n",
    "# give me a list of 12 colors\n",
    "colors = sns.color_palette(\"husl\", 12)\n",
    "\n",
    "for month in range(1, 13):\n",
    "    y_med = predictions_per_month[month][\"y_med\"]\n",
    "    y_lower = predictions_per_month[month][\"y_lower\"]\n",
    "    y_upper = predictions_per_month[month][\"y_upper\"]\n",
    "\n",
    "    # plot the time series fitted values\n",
    "\n",
    "    sns.lineplot(\n",
    "        x=rcp45_test_df[rcp45_test_df[\"DateTime\"].dt.month == month][\n",
    "            \"DateTime\"\n",
    "        ],\n",
    "        y=y_med,\n",
    "        label=f\"Predicted Values - Month {month}\",\n",
    "        color=colors[month - 1],\n",
    "    )\n",
    "    # plot std of predictions\n",
    "    plt.fill_between(\n",
    "        rcp45_test_df[rcp45_test_df[\"DateTime\"].dt.month == month][\n",
    "            \"DateTime\"\n",
    "        ],\n",
    "        y_lower,\n",
    "        y2=y_upper,\n",
    "        alpha=0.2,\n",
    "        label=\"95% Prediction Interval\",\n",
    "        color=colors[month - 1],\n",
    "    )\n",
    "    plt.xlabel(\"DateTime\")\n",
    "    plt.ylabel(\"UVA254\")\n",
    "\n",
    "    # add rmse and r2 to the plot in a box\n",
    "\n",
    "    plt.title(f\"UVA254 - Month {month} - RCP 4.5\")\n",
    "\n",
    "    plt.legend()\n",
    "plt.show()"
   ]
  },
  {
   "cell_type": "markdown",
   "metadata": {},
   "source": [
    "##### Store Results"
   ]
  },
  {
   "cell_type": "code",
   "execution_count": 277,
   "metadata": {},
   "outputs": [],
   "source": [
    "boost_pred = y_med\n",
    "boost_lower_bound = y_lower\n",
    "boost_upper_bound = y_upper"
   ]
  },
  {
   "cell_type": "markdown",
   "metadata": {},
   "source": [
    "### LightGBM (Random Forest with Linear Regressors on leaves)"
   ]
  },
  {
   "cell_type": "markdown",
   "metadata": {},
   "source": [
    "#### RCP 4.5"
   ]
  },
  {
   "cell_type": "markdown",
   "metadata": {},
   "source": [
    "##### Prepare Data"
   ]
  },
  {
   "cell_type": "code",
   "execution_count": 278,
   "metadata": {},
   "outputs": [],
   "source": [
    "further_features = [\"Year\"]\n",
    "\n",
    "last_train_date = full_df[\"DateTime\"].max()\n",
    "\n",
    "rcp45_test_df = rcp45_df[rcp45_df[\"DateTime\"] > last_train_date]"
   ]
  },
  {
   "cell_type": "code",
   "execution_count": 279,
   "metadata": {},
   "outputs": [],
   "source": [
    "# add polynomial features\n",
    "from sklearn.preprocessing import PolynomialFeatures\n",
    "\n",
    "poly = PolynomialFeatures(2)\n",
    "\n",
    "X_poly = poly.fit_transform(\n",
    "    rcp45_test_df[rcp45_test_df.columns.difference([\"DateTime\"])]\n",
    ")\n",
    "\n",
    "X_poly = pd.DataFrame(\n",
    "    X_poly,\n",
    "    columns=poly.get_feature_names_out(\n",
    "        rcp45_test_df.columns.difference([\"DateTime\"])\n",
    "    ),\n",
    ")\n",
    "\n",
    "X_poly[\"DateTime\"] = rcp45_test_df[\"DateTime\"].values"
   ]
  },
  {
   "cell_type": "code",
   "execution_count": 280,
   "metadata": {},
   "outputs": [],
   "source": [
    "X_test_fit = X_poly[X_poly.columns.difference([\"DateTime\"])]"
   ]
  },
  {
   "cell_type": "code",
   "execution_count": 281,
   "metadata": {},
   "outputs": [],
   "source": [
    "scaler = StandardScaler()\n",
    "# scale the data and keep the column names\n",
    "X_test_fit = scaler.fit_transform(X_test_fit)\n",
    "\n",
    "X_test_fit = pd.DataFrame(\n",
    "    X_test_fit, columns=X_poly.columns.difference([\"DateTime\"])\n",
    ")"
   ]
  },
  {
   "cell_type": "code",
   "execution_count": 282,
   "metadata": {},
   "outputs": [],
   "source": [
    "X_test_fit = rcp45_test_df[\n",
    "    rcp45_test_df.columns.difference([\"DateTime\"])\n",
    "]"
   ]
  },
  {
   "cell_type": "code",
   "execution_count": 283,
   "metadata": {},
   "outputs": [],
   "source": [
    "scaler = StandardScaler()\n",
    "# scale the data and keep the column names\n",
    "X_test_fit = scaler.fit_transform(X_test_fit)\n",
    "\n",
    "X_test_fit = pd.DataFrame(\n",
    "    X_test_fit, columns=rcp45_test_df.columns.difference([\"DateTime\"])\n",
    ")"
   ]
  },
  {
   "cell_type": "markdown",
   "metadata": {},
   "source": [
    "##### Train Model"
   ]
  },
  {
   "cell_type": "code",
   "execution_count": 284,
   "metadata": {},
   "outputs": [],
   "source": [
    "# sort the columns\n",
    "X_train_fit = X_train_fit.reindex(sorted(X_train_fit.columns), axis=1)\n",
    "X_test_fit = X_test_fit.reindex(sorted(X_test_fit.columns), axis=1)"
   ]
  },
  {
   "cell_type": "code",
   "execution_count": 285,
   "metadata": {},
   "outputs": [],
   "source": [
    "params = {\n",
    "    \"n_estimators\": 16,\n",
    "    \"learning_rate\": 0.6192800859019298,\n",
    "    \"max_depth\": 16,\n",
    "    \"num_leaves\": 20,\n",
    "    \"min_data_in_leaf\": 34,\n",
    "    \"lambda_l1\": 1.8585248563175933,\n",
    "    \"lambda_l2\": 0.020368547806226774,\n",
    "    \"min_split_gain\": 2.5,\n",
    "    \"subsample\": 0.5639096844841955,\n",
    "    \"bagging_fraction\": 0.026474369917739878,\n",
    "    \"feature_fraction\": 0.0012608584366219668,\n",
    "    \"min_child_samples\": 33,\n",
    "    \"max_bin\": 20,\n",
    "}"
   ]
  },
  {
   "cell_type": "markdown",
   "metadata": {},
   "source": [
    "###### Train model with mapie"
   ]
  },
  {
   "cell_type": "code",
   "execution_count": null,
   "metadata": {},
   "outputs": [],
   "source": [
    "alpha = 0.1\n",
    "estimator = LGBMRegressor(\n",
    "    objective=\"regression\", random_state=42, linear_tree=True, **params\n",
    ")\n",
    "\n",
    "estimator.fit(X_train_fit, y_train_fit[\"UVA254\"])"
   ]
  },
  {
   "cell_type": "markdown",
   "metadata": {},
   "source": [
    "##### Feature Importance"
   ]
  },
  {
   "cell_type": "code",
   "execution_count": null,
   "metadata": {},
   "outputs": [],
   "source": [
    "# show the importance of each feature in the model\n",
    "feature_importance = pd.DataFrame()\n",
    "feature_importance[\"feature\"] = estimator.feature_name_\n",
    "feature_importance[\"importance\"] = estimator.feature_importances_\n",
    "\n",
    "feature_importance = feature_importance.sort_values(\n",
    "    by=\"importance\", ascending=False\n",
    ")\n",
    "\n",
    "# plot the importance of each feature\n",
    "plt.figure(figsize=(25, 7.5))\n",
    "plt.bar(\n",
    "    x=feature_importance[\"feature\"],\n",
    "    height=feature_importance[\"importance\"],\n",
    ")\n",
    "plt.title(\"Feature Importance\")\n",
    "plt.show()"
   ]
  },
  {
   "cell_type": "markdown",
   "metadata": {},
   "source": [
    "##### Predictions"
   ]
  },
  {
   "cell_type": "code",
   "execution_count": 288,
   "metadata": {},
   "outputs": [],
   "source": [
    "# add month to the test data to get the predictions\n",
    "X_test_fit[\"Month\"] = rcp45_test_df[\"DateTime\"].dt.month.values"
   ]
  },
  {
   "cell_type": "code",
   "execution_count": 289,
   "metadata": {},
   "outputs": [],
   "source": [
    "alpha = 0.05\n",
    "\n",
    "predictions_per_month = {}\n",
    "\n",
    "# Evaluate prediction and coverage level on testing set for each month\n",
    "for month in range(1, 13):\n",
    "    test_fit = X_test_fit[X_test_fit[\"Month\"] == month]\n",
    "    rcp45_test_df[rcp45_test_df[\"DateTime\"].dt.month == month]\n",
    "\n",
    "    # drop the month column\n",
    "    test_fit = test_fit[test_fit.columns.difference([\"Month\"])]\n",
    "\n",
    "    y_med_month, y_pis_cqr = mapie_cqr.predict(test_fit, alpha=alpha)\n",
    "    y_lower_month = y_pis_cqr[:, 0, 0]\n",
    "    y_upper_month = y_pis_cqr[:, 1, 0]\n",
    "\n",
    "    predictions_per_month[month] = {\n",
    "        \"y_med\": y_med_month,\n",
    "        \"y_lower\": y_lower_month,\n",
    "        \"y_upper\": y_upper_month,\n",
    "    }"
   ]
  },
  {
   "cell_type": "code",
   "execution_count": 290,
   "metadata": {},
   "outputs": [],
   "source": [
    "X_test_fit.drop(columns=[\"Month\"], inplace=True)"
   ]
  },
  {
   "cell_type": "code",
   "execution_count": 291,
   "metadata": {},
   "outputs": [],
   "source": [
    "# evaluate on all the months\n",
    "y_med, y_pis_cqr = mapie_cqr.predict(X_test_fit, alpha=alpha)\n",
    "y_lower = y_pis_cqr[:, 0, 0]\n",
    "y_upper = y_pis_cqr[:, 1, 0]"
   ]
  },
  {
   "cell_type": "markdown",
   "metadata": {},
   "source": [
    "##### Plots"
   ]
  },
  {
   "cell_type": "code",
   "execution_count": 292,
   "metadata": {},
   "outputs": [],
   "source": [
    "# get training residuals\n",
    "train_predictions, _ = mapie_cqr.predict(X_train_fit, alpha=alpha)\n",
    "train_residuals = y_train_fit[\"UVA254\"] - train_predictions"
   ]
  },
  {
   "cell_type": "code",
   "execution_count": null,
   "metadata": {},
   "outputs": [],
   "source": [
    "# plot the training residuals\n",
    "plt.figure(figsize=(10, 5))\n",
    "plt.scatter(train_predictions, train_residuals, c=\"b\", s=40, alpha=0.5)\n",
    "plt.axhline(y=0, color=\"r\", linestyle=\"--\")\n",
    "plt.xlabel(\"Predicted Values\")\n",
    "plt.ylabel(\"Residuals\")\n",
    "plt.title(\"Training Set Residuals Plot\")\n",
    "plt.show()"
   ]
  },
  {
   "cell_type": "code",
   "execution_count": null,
   "metadata": {},
   "outputs": [],
   "source": [
    "# plot the distribution of the training residuals\n",
    "plt.figure(figsize=(10, 5))\n",
    "sns.histplot(train_residuals, kde=True)\n",
    "plt.title(\"Training Set Residuals Distribution\")\n",
    "plt.show()"
   ]
  },
  {
   "cell_type": "code",
   "execution_count": null,
   "metadata": {},
   "outputs": [],
   "source": [
    "# plot the time series fitted values\n",
    "plt.figure(figsize=(20, 10))\n",
    "sns.lineplot(\n",
    "    x=y_train_fit[\"DateTime\"],\n",
    "    y=y_train_fit[\"UVA254\"],\n",
    "    label=\"Historical Data\",\n",
    ")\n",
    "sns.lineplot(\n",
    "    x=y_train_fit[\"DateTime\"],\n",
    "    y=train_predictions,\n",
    "    label=\"Fitted Values\",\n",
    ")\n",
    "\n",
    "plt.show()"
   ]
  },
  {
   "cell_type": "code",
   "execution_count": null,
   "metadata": {},
   "outputs": [],
   "source": [
    "# all the predictions\n",
    "plt.figure(figsize=(20, 10))\n",
    "\n",
    "sns.lineplot(\n",
    "    x=y[\"DateTime\"],\n",
    "    y=y[\"UVA254\"],\n",
    "    label=\"Historical Data\",\n",
    ")\n",
    "\n",
    "\n",
    "sns.lineplot(\n",
    "    x=rcp45_test_df[\"DateTime\"], y=y_med, label=f\"Predicted Values\"\n",
    ")\n",
    "# plot std of predictions\n",
    "plt.fill_between(\n",
    "    rcp45_test_df[\"DateTime\"],\n",
    "    y_lower,\n",
    "    y2=y_upper,\n",
    "    alpha=0.2,\n",
    "    label=\"95% Prediction Interval\",\n",
    "    color=\"g\",\n",
    ")\n",
    "plt.xlabel(\"DateTime\")\n",
    "plt.ylabel(\"UVA254\")\n",
    "\n",
    "# add rmse and r2 to the plot in a box\n",
    "\n",
    "plt.title(f\"UVA254 - RCP 8.5\")\n",
    "\n",
    "plt.legend()\n",
    "plt.show()"
   ]
  },
  {
   "cell_type": "code",
   "execution_count": null,
   "metadata": {},
   "outputs": [],
   "source": [
    "# predictions per month\n",
    "plt.figure(figsize=(20, 10))\n",
    "\n",
    "sns.lineplot(\n",
    "    x=y[\"DateTime\"],\n",
    "    y=y[\"UVA254\"],\n",
    "    label=\"Historical Data\",\n",
    ")\n",
    "\n",
    "# give me a list of 12 colors\n",
    "colors = sns.color_palette(\"husl\", 12)\n",
    "\n",
    "for month in range(1, 13):\n",
    "    y_med_month = predictions_per_month[month][\"y_med\"]\n",
    "    y_lower_month = predictions_per_month[month][\"y_lower\"]\n",
    "    y_upper_month = predictions_per_month[month][\"y_upper\"]\n",
    "\n",
    "    # plot the time series fitted values\n",
    "\n",
    "    sns.lineplot(\n",
    "        x=rcp45_test_df[rcp45_test_df[\"DateTime\"].dt.month == month][\n",
    "            \"DateTime\"\n",
    "        ],\n",
    "        y=y_med_month,\n",
    "        label=f\"Predicted Values - Month {month}\",\n",
    "        color=colors[month - 1],\n",
    "    )\n",
    "    # plot std of predictions\n",
    "    plt.fill_between(\n",
    "        rcp45_test_df[rcp45_test_df[\"DateTime\"].dt.month == month][\n",
    "            \"DateTime\"\n",
    "        ],\n",
    "        y_lower_month,\n",
    "        y2=y_upper_month,\n",
    "        alpha=0.2,\n",
    "        label=\"95% Prediction Interval\",\n",
    "        color=colors[month - 1],\n",
    "    )\n",
    "    plt.xlabel(\"DateTime\")\n",
    "    plt.ylabel(\"UVA254\")\n",
    "\n",
    "    # add rmse and r2 to the plot in a box\n",
    "\n",
    "    plt.title(f\"UVA254 - Month {month} - RCP 4.5\")\n",
    "\n",
    "    plt.legend()\n",
    "plt.show()"
   ]
  },
  {
   "cell_type": "markdown",
   "metadata": {},
   "source": [
    "##### Store Results"
   ]
  },
  {
   "cell_type": "code",
   "execution_count": 298,
   "metadata": {},
   "outputs": [],
   "source": [
    "lgbm_pred = y_med\n",
    "lgbm_lower_bound = y_lower\n",
    "lgbm_upper_bound = y_upper"
   ]
  },
  {
   "cell_type": "markdown",
   "metadata": {},
   "source": [
    "#### RCP 8.5"
   ]
  },
  {
   "cell_type": "markdown",
   "metadata": {},
   "source": [
    "##### Prepare Data"
   ]
  },
  {
   "cell_type": "code",
   "execution_count": 299,
   "metadata": {},
   "outputs": [],
   "source": [
    "further_features = [\"Year\"]\n",
    "\n",
    "last_train_date = full_df[\"DateTime\"].max()\n",
    "\n",
    "rcp85_test_df = rcp85_df[rcp85_df[\"DateTime\"] > last_train_date]"
   ]
  },
  {
   "cell_type": "code",
   "execution_count": 300,
   "metadata": {},
   "outputs": [],
   "source": [
    "# add polynomial features\n",
    "from sklearn.preprocessing import PolynomialFeatures\n",
    "\n",
    "poly = PolynomialFeatures(2)\n",
    "\n",
    "X_poly = poly.fit_transform(\n",
    "    rcp85_test_df[rcp85_test_df.columns.difference([\"DateTime\"])]\n",
    ")\n",
    "\n",
    "X_poly = pd.DataFrame(\n",
    "    X_poly,\n",
    "    columns=poly.get_feature_names_out(\n",
    "        rcp85_test_df.columns.difference([\"DateTime\"])\n",
    "    ),\n",
    ")\n",
    "\n",
    "X_poly[\"DateTime\"] = rcp85_test_df[\"DateTime\"].values"
   ]
  },
  {
   "cell_type": "code",
   "execution_count": 301,
   "metadata": {},
   "outputs": [],
   "source": [
    "X_test_fit = X_poly[X_poly.columns.difference([\"DateTime\"])]"
   ]
  },
  {
   "cell_type": "code",
   "execution_count": 302,
   "metadata": {},
   "outputs": [],
   "source": [
    "scaler = StandardScaler()\n",
    "# scale the data and keep the column names\n",
    "X_test_fit = scaler.fit_transform(X_test_fit)\n",
    "\n",
    "X_test_fit = pd.DataFrame(\n",
    "    X_test_fit, columns=X_poly.columns.difference([\"DateTime\"])\n",
    ")"
   ]
  },
  {
   "cell_type": "code",
   "execution_count": 303,
   "metadata": {},
   "outputs": [],
   "source": [
    "X_test_fit = rcp85_test_df[\n",
    "    rcp85_test_df.columns.difference([\"DateTime\"])\n",
    "]"
   ]
  },
  {
   "cell_type": "code",
   "execution_count": 304,
   "metadata": {},
   "outputs": [],
   "source": [
    "scaler = StandardScaler()\n",
    "# scale the data and keep the column names\n",
    "X_test_fit = scaler.fit_transform(X_test_fit)\n",
    "\n",
    "X_test_fit = pd.DataFrame(\n",
    "    X_test_fit, columns=rcp85_test_df.columns.difference([\"DateTime\"])\n",
    ")"
   ]
  },
  {
   "cell_type": "markdown",
   "metadata": {},
   "source": [
    "##### Train Model"
   ]
  },
  {
   "cell_type": "code",
   "execution_count": 305,
   "metadata": {},
   "outputs": [],
   "source": [
    "# sort the columns\n",
    "X_train_fit = X_train_fit.reindex(sorted(X_train_fit.columns), axis=1)\n",
    "X_test_fit = X_test_fit.reindex(sorted(X_test_fit.columns), axis=1)"
   ]
  },
  {
   "cell_type": "code",
   "execution_count": 306,
   "metadata": {},
   "outputs": [],
   "source": [
    "params = {\n",
    "    \"n_estimators\": 16,\n",
    "    \"learning_rate\": 0.6192800859019298,\n",
    "    \"max_depth\": 16,\n",
    "    \"num_leaves\": 20,\n",
    "    \"min_data_in_leaf\": 34,\n",
    "    \"lambda_l1\": 1.8585248563175933,\n",
    "    \"lambda_l2\": 0.020368547806226774,\n",
    "    \"min_split_gain\": 2.5,\n",
    "    \"subsample\": 0.5639096844841955,\n",
    "    \"bagging_fraction\": 0.026474369917739878,\n",
    "    \"feature_fraction\": 0.0012608584366219668,\n",
    "    \"min_child_samples\": 33,\n",
    "    \"max_bin\": 20,\n",
    "}"
   ]
  },
  {
   "cell_type": "markdown",
   "metadata": {},
   "source": [
    "###### Train model with mapie"
   ]
  },
  {
   "cell_type": "code",
   "execution_count": null,
   "metadata": {},
   "outputs": [],
   "source": [
    "alpha = 0.1\n",
    "estimator = LGBMRegressor(\n",
    "    objective=\"regression\", random_state=42, linear_tree=True, **params\n",
    ")\n",
    "\n",
    "estimator.fit(X_train_fit, y_train_fit[\"UVA254\"])"
   ]
  },
  {
   "cell_type": "markdown",
   "metadata": {},
   "source": [
    "##### Feature Importance"
   ]
  },
  {
   "cell_type": "code",
   "execution_count": null,
   "metadata": {},
   "outputs": [],
   "source": [
    "# show the importance of each feature in the model\n",
    "feature_importance = pd.DataFrame()\n",
    "feature_importance[\"feature\"] = estimator.feature_name_\n",
    "feature_importance[\"importance\"] = estimator.feature_importances_\n",
    "\n",
    "feature_importance = feature_importance.sort_values(\n",
    "    by=\"importance\", ascending=False\n",
    ")\n",
    "\n",
    "# plot the importance of each feature\n",
    "plt.figure(figsize=(25, 7.5))\n",
    "plt.bar(\n",
    "    x=feature_importance[\"feature\"],\n",
    "    height=feature_importance[\"importance\"],\n",
    ")\n",
    "plt.title(\"Feature Importance\")\n",
    "plt.show()"
   ]
  },
  {
   "cell_type": "markdown",
   "metadata": {},
   "source": [
    "##### Predictions"
   ]
  },
  {
   "cell_type": "code",
   "execution_count": 309,
   "metadata": {},
   "outputs": [],
   "source": [
    "# add month to the test data to get the predictions\n",
    "X_test_fit[\"Month\"] = rcp85_test_df[\"DateTime\"].dt.month.values"
   ]
  },
  {
   "cell_type": "code",
   "execution_count": 310,
   "metadata": {},
   "outputs": [],
   "source": [
    "alpha = 0.05\n",
    "\n",
    "predictions_per_month = {}\n",
    "\n",
    "# Evaluate prediction and coverage level on testing set for each month\n",
    "for month in range(1, 13):\n",
    "    test_fit = X_test_fit[X_test_fit[\"Month\"] == month]\n",
    "    rcp85_test_df[rcp85_test_df[\"DateTime\"].dt.month == month]\n",
    "\n",
    "    # drop the month column\n",
    "    test_fit = test_fit[test_fit.columns.difference([\"Month\"])]\n",
    "\n",
    "    y_med_month, y_pis_cqr = mapie_cqr.predict(test_fit, alpha=alpha)\n",
    "    y_lower_month = y_pis_cqr[:, 0, 0]\n",
    "    y_upper_month = y_pis_cqr[:, 1, 0]\n",
    "\n",
    "    predictions_per_month[month] = {\n",
    "        \"y_med\": y_med_month,\n",
    "        \"y_lower\": y_lower_month,\n",
    "        \"y_upper\": y_upper_month,\n",
    "    }"
   ]
  },
  {
   "cell_type": "code",
   "execution_count": 311,
   "metadata": {},
   "outputs": [],
   "source": [
    "X_test_fit.drop(columns=[\"Month\"], inplace=True)"
   ]
  },
  {
   "cell_type": "code",
   "execution_count": 312,
   "metadata": {},
   "outputs": [],
   "source": [
    "# evaluate on all the months\n",
    "y_med, y_pis_cqr = mapie_cqr.predict(X_test_fit, alpha=alpha)\n",
    "y_lower = y_pis_cqr[:, 0, 0]\n",
    "y_upper = y_pis_cqr[:, 1, 0]"
   ]
  },
  {
   "cell_type": "markdown",
   "metadata": {},
   "source": [
    "##### Plots"
   ]
  },
  {
   "cell_type": "code",
   "execution_count": 313,
   "metadata": {},
   "outputs": [],
   "source": [
    "# get training residuals\n",
    "train_predictions, _ = mapie_cqr.predict(X_train_fit, alpha=alpha)\n",
    "train_residuals = y_train_fit[\"UVA254\"] - train_predictions"
   ]
  },
  {
   "cell_type": "code",
   "execution_count": null,
   "metadata": {},
   "outputs": [],
   "source": [
    "# plot the training residuals\n",
    "plt.figure(figsize=(10, 5))\n",
    "plt.scatter(train_predictions, train_residuals, c=\"b\", s=40, alpha=0.5)\n",
    "plt.axhline(y=0, color=\"r\", linestyle=\"--\")\n",
    "plt.xlabel(\"Predicted Values\")\n",
    "plt.ylabel(\"Residuals\")\n",
    "plt.title(\"Training Set Residuals Plot\")\n",
    "plt.show()"
   ]
  },
  {
   "cell_type": "code",
   "execution_count": null,
   "metadata": {},
   "outputs": [],
   "source": [
    "# plot the distribution of the training residuals\n",
    "plt.figure(figsize=(10, 5))\n",
    "sns.histplot(train_residuals, kde=True)\n",
    "plt.title(\"Training Set Residuals Distribution\")\n",
    "plt.show()"
   ]
  },
  {
   "cell_type": "code",
   "execution_count": null,
   "metadata": {},
   "outputs": [],
   "source": [
    "# plot the time series fitted values\n",
    "plt.figure(figsize=(20, 10))\n",
    "sns.lineplot(\n",
    "    x=y_train_fit[\"DateTime\"],\n",
    "    y=y_train_fit[\"UVA254\"],\n",
    "    label=\"Historical Data\",\n",
    ")\n",
    "sns.lineplot(\n",
    "    x=y_train_fit[\"DateTime\"],\n",
    "    y=train_predictions,\n",
    "    label=\"Fitted Values\",\n",
    ")\n",
    "\n",
    "plt.show()"
   ]
  },
  {
   "cell_type": "code",
   "execution_count": null,
   "metadata": {},
   "outputs": [],
   "source": [
    "# all the predictions\n",
    "plt.figure(figsize=(20, 10))\n",
    "\n",
    "sns.lineplot(\n",
    "    x=y[\"DateTime\"],\n",
    "    y=y[\"UVA254\"],\n",
    "    label=\"Historical Data\",\n",
    ")\n",
    "\n",
    "\n",
    "sns.lineplot(\n",
    "    x=rcp85_test_df[\"DateTime\"], y=y_med, label=f\"Predicted Values\"\n",
    ")\n",
    "# plot std of predictions\n",
    "plt.fill_between(\n",
    "    rcp85_test_df[\"DateTime\"],\n",
    "    y_lower,\n",
    "    y2=y_upper,\n",
    "    alpha=0.2,\n",
    "    label=\"95% Prediction Interval\",\n",
    "    color=\"g\",\n",
    ")\n",
    "plt.xlabel(\"DateTime\")\n",
    "plt.ylabel(\"UVA254\")\n",
    "\n",
    "# add rmse and r2 to the plot in a box\n",
    "\n",
    "plt.title(f\"UVA254 - RCP 8.5\")\n",
    "\n",
    "plt.legend()\n",
    "plt.show()"
   ]
  },
  {
   "cell_type": "code",
   "execution_count": null,
   "metadata": {},
   "outputs": [],
   "source": [
    "# predictions per month\n",
    "plt.figure(figsize=(20, 10))\n",
    "\n",
    "sns.lineplot(\n",
    "    x=y[\"DateTime\"],\n",
    "    y=y[\"UVA254\"],\n",
    "    label=\"Historical Data\",\n",
    ")\n",
    "\n",
    "# give me a list of 12 colors\n",
    "colors = sns.color_palette(\"husl\", 12)\n",
    "\n",
    "for month in range(1, 13):\n",
    "    y_med_month = predictions_per_month[month][\"y_med\"]\n",
    "    y_lower_month = predictions_per_month[month][\"y_lower\"]\n",
    "    y_upper_month = predictions_per_month[month][\"y_upper\"]\n",
    "\n",
    "    # plot the time series fitted values\n",
    "\n",
    "    sns.lineplot(\n",
    "        x=rcp85_test_df[rcp85_test_df[\"DateTime\"].dt.month == month][\n",
    "            \"DateTime\"\n",
    "        ],\n",
    "        y=y_med_month,\n",
    "        label=f\"Predicted Values - Month {month}\",\n",
    "        color=colors[month - 1],\n",
    "    )\n",
    "    # plot std of predictions\n",
    "    plt.fill_between(\n",
    "        rcp85_test_df[rcp85_test_df[\"DateTime\"].dt.month == month][\n",
    "            \"DateTime\"\n",
    "        ],\n",
    "        y_lower_month,\n",
    "        y2=y_upper_month,\n",
    "        alpha=0.2,\n",
    "        label=\"95% Prediction Interval\",\n",
    "        color=colors[month - 1],\n",
    "    )\n",
    "    plt.xlabel(\"DateTime\")\n",
    "    plt.ylabel(\"UVA254\")\n",
    "\n",
    "    # add rmse and r2 to the plot in a box\n",
    "\n",
    "    plt.title(f\"UVA254 - Month {month} - RCP 4.5\")\n",
    "\n",
    "    plt.legend()\n",
    "plt.show()"
   ]
  },
  {
   "cell_type": "markdown",
   "metadata": {},
   "source": [
    "##### Store Results"
   ]
  },
  {
   "cell_type": "code",
   "execution_count": 319,
   "metadata": {},
   "outputs": [],
   "source": [
    "lgbm_pred = y_med\n",
    "lgbm_lower_bound = y_lower\n",
    "lgbm_upper_bound = y_upper"
   ]
  },
  {
   "cell_type": "markdown",
   "metadata": {},
   "source": [
    "### Neural Network"
   ]
  },
  {
   "cell_type": "markdown",
   "metadata": {},
   "source": [
    "#### RCP 4.5"
   ]
  },
  {
   "cell_type": "markdown",
   "metadata": {},
   "source": [
    "##### Prepare Data"
   ]
  },
  {
   "cell_type": "code",
   "execution_count": 320,
   "metadata": {},
   "outputs": [],
   "source": [
    "further_features = [\"Year\"]\n",
    "\n",
    "last_train_date = full_df[\"DateTime\"].max()\n",
    "\n",
    "rcp45_test_df = rcp45_df[rcp45_df[\"DateTime\"] > last_train_date]"
   ]
  },
  {
   "cell_type": "code",
   "execution_count": 321,
   "metadata": {},
   "outputs": [],
   "source": [
    "# add polynomial features\n",
    "from sklearn.preprocessing import PolynomialFeatures\n",
    "\n",
    "poly = PolynomialFeatures(2)\n",
    "\n",
    "X_poly = poly.fit_transform(\n",
    "    rcp45_test_df[rcp45_test_df.columns.difference([\"DateTime\"])]\n",
    ")\n",
    "\n",
    "X_poly = pd.DataFrame(\n",
    "    X_poly,\n",
    "    columns=poly.get_feature_names_out(\n",
    "        rcp45_test_df.columns.difference([\"DateTime\"])\n",
    "    ),\n",
    ")\n",
    "\n",
    "X_poly[\"DateTime\"] = rcp45_test_df[\"DateTime\"].values"
   ]
  },
  {
   "cell_type": "code",
   "execution_count": 322,
   "metadata": {},
   "outputs": [],
   "source": [
    "X_test_fit = X_poly[X_poly.columns.difference([\"DateTime\"])]"
   ]
  },
  {
   "cell_type": "code",
   "execution_count": 323,
   "metadata": {},
   "outputs": [],
   "source": [
    "scaler = StandardScaler()\n",
    "# scale the data and keep the column names\n",
    "X_test_fit = scaler.fit_transform(X_test_fit)\n",
    "\n",
    "X_test_fit = pd.DataFrame(\n",
    "    X_test_fit, columns=X_poly.columns.difference([\"DateTime\"])\n",
    ")"
   ]
  },
  {
   "cell_type": "code",
   "execution_count": 324,
   "metadata": {},
   "outputs": [],
   "source": [
    "X_test_fit = rcp45_test_df[\n",
    "    rcp45_test_df.columns.difference([\"DateTime\"])\n",
    "]"
   ]
  },
  {
   "cell_type": "code",
   "execution_count": 325,
   "metadata": {},
   "outputs": [],
   "source": [
    "scaler = StandardScaler()\n",
    "# scale the data and keep the column names\n",
    "X_test_fit = scaler.fit_transform(X_test_fit)\n",
    "\n",
    "X_test_fit = pd.DataFrame(\n",
    "    X_test_fit, columns=rcp45_test_df.columns.difference([\"DateTime\"])\n",
    ")"
   ]
  },
  {
   "cell_type": "markdown",
   "metadata": {},
   "source": [
    "##### Train the model"
   ]
  },
  {
   "cell_type": "code",
   "execution_count": 326,
   "metadata": {},
   "outputs": [],
   "source": [
    "best_params = {\n",
    "    \"n_layers\": 2,\n",
    "    \"n_units_0\": 85,\n",
    "    \"n_units_1\": 75,\n",
    "    \"activation\": \"identity\",\n",
    "    \"solver\": \"adam\",\n",
    "    \"alpha\": 0.7765540584565614,\n",
    "    \"learning_rate\": \"constant\",\n",
    "    \"power_t\": 0.3382710741601535,\n",
    "    \"beta_1\": 0.19887581875693028,\n",
    "    \"beta_2\": 0.984060053664114,\n",
    "    \"epsilon\": 0.32827083622604075,\n",
    "}"
   ]
  },
  {
   "cell_type": "code",
   "execution_count": null,
   "metadata": {},
   "outputs": [],
   "source": [
    "hidden_layer_sizes = [\n",
    "    best_params[f\"n_units_{i}\"] for i in range(best_params[\"n_layers\"])\n",
    "]\n",
    "\n",
    "for i in range(best_params[\"n_layers\"]):\n",
    "    best_params.pop(f\"n_units_{i}\")\n",
    "\n",
    "best_params.pop(\"n_layers\")"
   ]
  },
  {
   "cell_type": "markdown",
   "metadata": {},
   "source": [
    "###### Train model with mapie"
   ]
  },
  {
   "cell_type": "code",
   "execution_count": null,
   "metadata": {},
   "outputs": [],
   "source": [
    "alpha = 0.1\n",
    "estimator = MLPRegressor(\n",
    "    random_state=42,\n",
    "    hidden_layer_sizes=hidden_layer_sizes,\n",
    "    max_iter=1000,\n",
    "    early_stopping=True,\n",
    "    **best_params\n",
    ")\n",
    "\n",
    "estimator.fit(X_train_fit, y_train_fit[\"UVA254\"])"
   ]
  },
  {
   "cell_type": "code",
   "execution_count": null,
   "metadata": {},
   "outputs": [],
   "source": [
    "# Calibrate uncertainties on calibration set\n",
    "mapie_cqr = MapieRegressor(estimator, cv=10, random_state=42)\n",
    "mapie_cqr.fit(X_train_fit, y_train_fit[\"UVA254\"])"
   ]
  },
  {
   "cell_type": "markdown",
   "metadata": {},
   "source": [
    "##### Feature Importance"
   ]
  },
  {
   "cell_type": "code",
   "execution_count": null,
   "metadata": {},
   "outputs": [],
   "source": [
    "explainer = shap.KernelExplainer(\n",
    "    model=estimator.predict, data=X_train_fit, link=\"identity\"\n",
    ")\n",
    "shap_values = explainer.shap_values(X_test_fit, nsamples=100)\n",
    "\n",
    "shap.initjs()"
   ]
  },
  {
   "cell_type": "code",
   "execution_count": null,
   "metadata": {},
   "outputs": [],
   "source": [
    "plt.figure(figsize=(20, 10))\n",
    "\n",
    "shap.summary_plot(\n",
    "    shap_values, X_test_fit, feature_names=X_test_fit.columns.to_list()\n",
    ")"
   ]
  },
  {
   "cell_type": "code",
   "execution_count": null,
   "metadata": {},
   "outputs": [],
   "source": [
    "shap.force_plot(\n",
    "    explainer.expected_value,\n",
    "    shap_values[0, :],\n",
    "    X_test_fit.iloc[0, :],\n",
    "    feature_names=X_test_fit.columns.to_list(),\n",
    ")"
   ]
  },
  {
   "cell_type": "markdown",
   "metadata": {},
   "source": [
    "##### Prediction"
   ]
  },
  {
   "cell_type": "code",
   "execution_count": 333,
   "metadata": {},
   "outputs": [],
   "source": [
    "# add month to the test data to get the predictions\n",
    "X_test_fit[\"Month\"] = rcp45_test_df[\"DateTime\"].dt.month.values"
   ]
  },
  {
   "cell_type": "code",
   "execution_count": 334,
   "metadata": {},
   "outputs": [],
   "source": [
    "alpha = 0.05\n",
    "\n",
    "predictions_per_month = {}\n",
    "\n",
    "# Evaluate prediction and coverage level on testing set for each month\n",
    "for month in range(1, 13):\n",
    "    test_fit = X_test_fit[X_test_fit[\"Month\"] == month]\n",
    "    rcp45_test_df[rcp45_test_df[\"DateTime\"].dt.month == month]\n",
    "\n",
    "    # drop the month column\n",
    "    test_fit = test_fit[test_fit.columns.difference([\"Month\"])]\n",
    "\n",
    "    y_med_month, y_pis_cqr = mapie_cqr.predict(test_fit, alpha=alpha)\n",
    "    y_lower_month = y_pis_cqr[:, 0, 0]\n",
    "    y_upper_month = y_pis_cqr[:, 1, 0]\n",
    "\n",
    "    predictions_per_month[month] = {\n",
    "        \"y_med\": y_med_month,\n",
    "        \"y_lower\": y_lower_month,\n",
    "        \"y_upper\": y_upper_month,\n",
    "    }"
   ]
  },
  {
   "cell_type": "code",
   "execution_count": 335,
   "metadata": {},
   "outputs": [],
   "source": [
    "X_test_fit.drop(columns=[\"Month\"], inplace=True)"
   ]
  },
  {
   "cell_type": "code",
   "execution_count": 336,
   "metadata": {},
   "outputs": [],
   "source": [
    "# evaluate on all the months\n",
    "y_med, y_pis_cqr = mapie_cqr.predict(X_test_fit, alpha=alpha)\n",
    "y_lower = y_pis_cqr[:, 0, 0]\n",
    "y_upper = y_pis_cqr[:, 1, 0]"
   ]
  },
  {
   "cell_type": "markdown",
   "metadata": {},
   "source": [
    "##### Plots"
   ]
  },
  {
   "cell_type": "code",
   "execution_count": 337,
   "metadata": {},
   "outputs": [],
   "source": [
    "# get training residuals\n",
    "train_predictions, _ = mapie_cqr.predict(X_train_fit, alpha=alpha)\n",
    "train_residuals = y_train_fit[\"UVA254\"] - train_predictions"
   ]
  },
  {
   "cell_type": "code",
   "execution_count": null,
   "metadata": {},
   "outputs": [],
   "source": [
    "# plot the training residuals\n",
    "plt.figure(figsize=(10, 5))\n",
    "plt.scatter(\n",
    "    train_predictions.flatten(), train_residuals, c=\"b\", s=40, alpha=0.5\n",
    ")\n",
    "plt.axhline(y=0, color=\"r\", linestyle=\"--\")\n",
    "plt.xlabel(\"Predicted Values\")\n",
    "plt.ylabel(\"Residuals\")\n",
    "plt.title(\"Training Set Residuals Plot\")\n",
    "plt.show()"
   ]
  },
  {
   "cell_type": "code",
   "execution_count": null,
   "metadata": {},
   "outputs": [],
   "source": [
    "# plot the distribution of the training residuals\n",
    "plt.figure(figsize=(10, 5))\n",
    "sns.histplot(train_residuals, kde=True)\n",
    "plt.title(\"Training Set Residuals Distribution\")\n",
    "plt.show()"
   ]
  },
  {
   "cell_type": "code",
   "execution_count": null,
   "metadata": {},
   "outputs": [],
   "source": [
    "# plot the time series fitted values\n",
    "plt.figure(figsize=(20, 10))\n",
    "sns.lineplot(\n",
    "    x=y_train_fit[\"DateTime\"],\n",
    "    y=y_train_fit[\"UVA254\"],\n",
    "    label=\"Historical Data\",\n",
    ")\n",
    "sns.lineplot(\n",
    "    x=y_train_fit[\"DateTime\"],\n",
    "    y=train_predictions,\n",
    "    label=\"Fitted Values\",\n",
    ")\n",
    "\n",
    "plt.show()"
   ]
  },
  {
   "cell_type": "code",
   "execution_count": null,
   "metadata": {},
   "outputs": [],
   "source": [
    "# all the predictions\n",
    "plt.figure(figsize=(20, 10))\n",
    "\n",
    "sns.lineplot(\n",
    "    x=y[\"DateTime\"],\n",
    "    y=y[\"UVA254\"],\n",
    "    label=\"Historical Data\",\n",
    ")\n",
    "\n",
    "\n",
    "sns.lineplot(\n",
    "    x=rcp45_test_df[\"DateTime\"], y=y_med, label=f\"Predicted Values\"\n",
    ")\n",
    "# plot std of predictions\n",
    "plt.fill_between(\n",
    "    rcp45_test_df[\"DateTime\"],\n",
    "    y_lower,\n",
    "    y2=y_upper,\n",
    "    alpha=0.2,\n",
    "    label=\"95% Prediction Interval\",\n",
    "    color=\"g\",\n",
    ")\n",
    "plt.xlabel(\"DateTime\")\n",
    "plt.ylabel(\"UVA254\")\n",
    "\n",
    "# add rmse and r2 to the plot in a box\n",
    "\n",
    "plt.title(f\"UVA254 - RCP 4.5\")\n",
    "\n",
    "plt.legend()\n",
    "plt.show()"
   ]
  },
  {
   "cell_type": "code",
   "execution_count": null,
   "metadata": {},
   "outputs": [],
   "source": [
    "# predictions per month\n",
    "plt.figure(figsize=(20, 10))\n",
    "\n",
    "sns.lineplot(\n",
    "    x=y[\"DateTime\"],\n",
    "    y=y[\"UVA254\"],\n",
    "    label=\"Historical Data\",\n",
    ")\n",
    "\n",
    "# give me a list of 12 colors\n",
    "colors = sns.color_palette(\"husl\", 12)\n",
    "\n",
    "min_max_months = {3: \"March\", 9: \"September\"}\n",
    "\n",
    "for month, name in min_max_months.items():\n",
    "    y_med_month = predictions_per_month[month][\"y_med\"]\n",
    "    y_lower_month = predictions_per_month[month][\"y_lower\"]\n",
    "    y_upper_month = predictions_per_month[month][\"y_upper\"]\n",
    "\n",
    "    # y_lower_month can be negative, so we need to set it to 0\n",
    "    y_lower_month = np.maximum(y_lower_month, 0)\n",
    "\n",
    "    # plot the time series fitted values\n",
    "\n",
    "    sns.lineplot(\n",
    "        x=rcp45_test_df[rcp45_test_df[\"DateTime\"].dt.month == month][\n",
    "            \"DateTime\"\n",
    "        ],\n",
    "        y=y_med_month,\n",
    "        label=f\"Predicted Values - {name}\",\n",
    "        color=colors[month - 1],\n",
    "    )\n",
    "    # plot std of predictions\n",
    "    plt.fill_between(\n",
    "        rcp45_test_df[rcp45_test_df[\"DateTime\"].dt.month == month][\n",
    "            \"DateTime\"\n",
    "        ],\n",
    "        y_lower_month,\n",
    "        y2=y_upper_month,\n",
    "        alpha=0.2,\n",
    "        label=\"95% Prediction Interval\",\n",
    "        color=colors[month - 1],\n",
    "    )\n",
    "    plt.xlabel(\"DateTime\")\n",
    "    plt.ylabel(\"UVA254\")\n",
    "\n",
    "    # add rmse and r2 to the plot in a box\n",
    "\n",
    "    plt.title(f\"UVA254 - Min/Max Months - RCP 4.5\")\n",
    "\n",
    "    plt.legend()\n",
    "plt.show()"
   ]
  },
  {
   "cell_type": "markdown",
   "metadata": {},
   "source": [
    "##### Store Results"
   ]
  },
  {
   "cell_type": "code",
   "execution_count": 343,
   "metadata": {},
   "outputs": [],
   "source": [
    "nn_pred = y_med\n",
    "nn_lower_bound = y_lower\n",
    "nn_upper_bound = y_upper"
   ]
  },
  {
   "cell_type": "markdown",
   "metadata": {},
   "source": [
    "#### RCP 8.5"
   ]
  },
  {
   "cell_type": "markdown",
   "metadata": {},
   "source": [
    "##### Prepare Data"
   ]
  },
  {
   "cell_type": "code",
   "execution_count": 344,
   "metadata": {},
   "outputs": [],
   "source": [
    "further_features = [\"Year\"]\n",
    "\n",
    "last_train_date = full_df[\"DateTime\"].max()\n",
    "\n",
    "rcp85_test_df = rcp85_df[rcp85_df[\"DateTime\"] > last_train_date]"
   ]
  },
  {
   "cell_type": "code",
   "execution_count": 345,
   "metadata": {},
   "outputs": [],
   "source": [
    "# add polynomial features\n",
    "from sklearn.preprocessing import PolynomialFeatures\n",
    "\n",
    "poly = PolynomialFeatures(2)\n",
    "\n",
    "X_poly = poly.fit_transform(\n",
    "    rcp85_test_df[rcp85_test_df.columns.difference([\"DateTime\"])]\n",
    ")\n",
    "\n",
    "X_poly = pd.DataFrame(\n",
    "    X_poly,\n",
    "    columns=poly.get_feature_names_out(\n",
    "        rcp85_test_df.columns.difference([\"DateTime\"])\n",
    "    ),\n",
    ")\n",
    "\n",
    "X_poly[\"DateTime\"] = rcp85_test_df[\"DateTime\"].values"
   ]
  },
  {
   "cell_type": "code",
   "execution_count": 346,
   "metadata": {},
   "outputs": [],
   "source": [
    "X_test_fit = X_poly[X_poly.columns.difference([\"DateTime\"])]"
   ]
  },
  {
   "cell_type": "code",
   "execution_count": 347,
   "metadata": {},
   "outputs": [],
   "source": [
    "scaler = StandardScaler()\n",
    "# scale the data and keep the column names\n",
    "X_test_fit = scaler.fit_transform(X_test_fit)\n",
    "\n",
    "X_test_fit = pd.DataFrame(\n",
    "    X_test_fit, columns=X_poly.columns.difference([\"DateTime\"])\n",
    ")"
   ]
  },
  {
   "cell_type": "code",
   "execution_count": 348,
   "metadata": {},
   "outputs": [],
   "source": [
    "X_test_fit = rcp85_test_df[\n",
    "    rcp85_test_df.columns.difference([\"DateTime\"])\n",
    "]"
   ]
  },
  {
   "cell_type": "code",
   "execution_count": 349,
   "metadata": {},
   "outputs": [],
   "source": [
    "scaler = StandardScaler()\n",
    "# scale the data and keep the column names\n",
    "X_test_fit = scaler.fit_transform(X_test_fit)\n",
    "\n",
    "X_test_fit = pd.DataFrame(\n",
    "    X_test_fit, columns=rcp85_test_df.columns.difference([\"DateTime\"])\n",
    ")"
   ]
  },
  {
   "cell_type": "markdown",
   "metadata": {},
   "source": [
    "##### Train the model"
   ]
  },
  {
   "cell_type": "code",
   "execution_count": 350,
   "metadata": {},
   "outputs": [],
   "source": [
    "best_params = {\n",
    "    \"n_layers\": 2,\n",
    "    \"n_units_0\": 85,\n",
    "    \"n_units_1\": 75,\n",
    "    \"activation\": \"identity\",\n",
    "    \"solver\": \"adam\",\n",
    "    \"alpha\": 0.7765540584565614,\n",
    "    \"learning_rate\": \"constant\",\n",
    "    \"power_t\": 0.3382710741601535,\n",
    "    \"beta_1\": 0.19887581875693028,\n",
    "    \"beta_2\": 0.984060053664114,\n",
    "    \"epsilon\": 0.32827083622604075,\n",
    "}"
   ]
  },
  {
   "cell_type": "code",
   "execution_count": null,
   "metadata": {},
   "outputs": [],
   "source": [
    "hidden_layer_sizes = [\n",
    "    best_params[f\"n_units_{i}\"] for i in range(best_params[\"n_layers\"])\n",
    "]\n",
    "\n",
    "for i in range(best_params[\"n_layers\"]):\n",
    "    best_params.pop(f\"n_units_{i}\")\n",
    "\n",
    "best_params.pop(\"n_layers\")"
   ]
  },
  {
   "cell_type": "markdown",
   "metadata": {},
   "source": [
    "###### Train model with mapie"
   ]
  },
  {
   "cell_type": "code",
   "execution_count": 352,
   "metadata": {},
   "outputs": [],
   "source": [
    "alpha = 0.05\n",
    "estimator = MLPRegressor(\n",
    "    random_state=42,\n",
    "    hidden_layer_sizes=hidden_layer_sizes,\n",
    "    max_iter=1000,\n",
    "    early_stopping=True,\n",
    "    **best_params\n",
    ")\n",
    "\n",
    "# estimator.fit(X_train_fit, y_train_fit[\"UVA254\"])"
   ]
  },
  {
   "cell_type": "code",
   "execution_count": null,
   "metadata": {},
   "outputs": [],
   "source": [
    "# Calibrate uncertainties on calibration set\n",
    "mapie_cqr = MapieRegressor(estimator, random_state=42)\n",
    "mapie_cqr.fit(X_train_fit, y_train_fit[\"UVA254\"])"
   ]
  },
  {
   "cell_type": "markdown",
   "metadata": {},
   "source": [
    "##### Prediction"
   ]
  },
  {
   "cell_type": "code",
   "execution_count": 354,
   "metadata": {},
   "outputs": [],
   "source": [
    "# add month to the test data to get the predictions\n",
    "X_test_fit[\"Month\"] = rcp85_test_df[\"DateTime\"].dt.month.values"
   ]
  },
  {
   "cell_type": "code",
   "execution_count": 355,
   "metadata": {},
   "outputs": [],
   "source": [
    "alpha = 0.05\n",
    "\n",
    "predictions_per_month = {}\n",
    "\n",
    "# Evaluate prediction and coverage level on testing set for each month\n",
    "for month in range(1, 13):\n",
    "    test_fit = X_test_fit[X_test_fit[\"Month\"] == month]\n",
    "    rcp45_test_df[rcp85_test_df[\"DateTime\"].dt.month == month]\n",
    "\n",
    "    # drop the month column\n",
    "    test_fit = test_fit[test_fit.columns.difference([\"Month\"])]\n",
    "\n",
    "    y_med_month, y_pis_cqr = mapie_cqr.predict(test_fit, alpha=alpha)\n",
    "    y_lower_month = y_pis_cqr[:, 0, 0]\n",
    "    y_upper_month = y_pis_cqr[:, 1, 0]\n",
    "\n",
    "    predictions_per_month[month] = {\n",
    "        \"y_med\": y_med_month,\n",
    "        \"y_lower\": y_lower_month,\n",
    "        \"y_upper\": y_upper_month,\n",
    "    }"
   ]
  },
  {
   "cell_type": "code",
   "execution_count": 356,
   "metadata": {},
   "outputs": [],
   "source": [
    "X_test_fit.drop(columns=[\"Month\"], inplace=True)"
   ]
  },
  {
   "cell_type": "code",
   "execution_count": 357,
   "metadata": {},
   "outputs": [],
   "source": [
    "# evaluate on all the months\n",
    "y_med, y_pis_cqr = mapie_cqr.predict(X_test_fit, alpha=alpha)\n",
    "y_lower = y_pis_cqr[:, 0, 0]\n",
    "y_upper = y_pis_cqr[:, 1, 0]"
   ]
  },
  {
   "cell_type": "markdown",
   "metadata": {},
   "source": [
    "##### Plots"
   ]
  },
  {
   "cell_type": "code",
   "execution_count": 358,
   "metadata": {},
   "outputs": [],
   "source": [
    "# get training residuals\n",
    "train_predictions, _ = mapie_cqr.predict(X_train_fit, alpha=alpha)\n",
    "train_residuals = y_train_fit[\"UVA254\"] - train_predictions"
   ]
  },
  {
   "cell_type": "code",
   "execution_count": null,
   "metadata": {},
   "outputs": [],
   "source": [
    "# plot the training residuals\n",
    "plt.figure(figsize=(10, 5))\n",
    "plt.scatter(\n",
    "    train_predictions.flatten(), train_residuals, c=\"b\", s=40, alpha=0.5\n",
    ")\n",
    "plt.axhline(y=0, color=\"r\", linestyle=\"--\")\n",
    "plt.xlabel(\"Predicted Values\")\n",
    "plt.ylabel(\"Residuals\")\n",
    "plt.title(\"Training Set Residuals Plot\")\n",
    "plt.show()"
   ]
  },
  {
   "cell_type": "code",
   "execution_count": null,
   "metadata": {},
   "outputs": [],
   "source": [
    "# plot the distribution of the training residuals\n",
    "plt.figure(figsize=(10, 5))\n",
    "sns.histplot(train_residuals, kde=True)\n",
    "plt.title(\"Training Set Residuals Distribution\")\n",
    "plt.show()"
   ]
  },
  {
   "cell_type": "code",
   "execution_count": null,
   "metadata": {},
   "outputs": [],
   "source": [
    "# plot the time series fitted values\n",
    "plt.figure(figsize=(20, 10))\n",
    "sns.lineplot(\n",
    "    x=y_train_fit[\"DateTime\"],\n",
    "    y=y_train_fit[\"UVA254\"],\n",
    "    label=\"Historical Data\",\n",
    ")\n",
    "sns.lineplot(\n",
    "    x=y_train_fit[\"DateTime\"],\n",
    "    y=train_predictions,\n",
    "    label=\"Fitted Values\",\n",
    ")\n",
    "\n",
    "plt.show()"
   ]
  },
  {
   "cell_type": "code",
   "execution_count": null,
   "metadata": {},
   "outputs": [],
   "source": [
    "# all the predictions\n",
    "plt.figure(figsize=(20, 10))\n",
    "\n",
    "sns.lineplot(\n",
    "    x=y[\"DateTime\"],\n",
    "    y=y[\"UVA254\"],\n",
    "    label=\"Historical Data\",\n",
    ")\n",
    "\n",
    "\n",
    "sns.lineplot(\n",
    "    x=rcp45_test_df[\"DateTime\"], y=y_med, label=f\"Predicted Values\"\n",
    ")\n",
    "# plot std of predictions\n",
    "plt.fill_between(\n",
    "    rcp45_test_df[\"DateTime\"],\n",
    "    y_lower,\n",
    "    y2=y_upper,\n",
    "    alpha=0.2,\n",
    "    label=\"95% Prediction Interval\",\n",
    "    color=\"g\",\n",
    ")\n",
    "plt.xlabel(\"DateTime\")\n",
    "plt.ylabel(\"UVA254\")\n",
    "\n",
    "# add rmse and r2 to the plot in a box\n",
    "\n",
    "plt.title(f\"UVA254 - RCP 4.5\")\n",
    "\n",
    "plt.legend()\n",
    "plt.show()"
   ]
  },
  {
   "cell_type": "code",
   "execution_count": null,
   "metadata": {},
   "outputs": [],
   "source": [
    "# predictions per month\n",
    "plt.figure(figsize=(20, 10))\n",
    "\n",
    "sns.lineplot(\n",
    "    x=y[\"DateTime\"],\n",
    "    y=y[\"UVA254\"],\n",
    "    label=\"Historical Data\",\n",
    ")\n",
    "\n",
    "# give me a list of 12 colors\n",
    "colors = sns.color_palette(\"husl\", 12)\n",
    "\n",
    "min_max_months = {3: \"March\", 9: \"September\"}\n",
    "\n",
    "for month, name in min_max_months.items():\n",
    "    y_med_month = predictions_per_month[month][\"y_med\"]\n",
    "    y_lower_month = predictions_per_month[month][\"y_lower\"]\n",
    "    y_upper_month = predictions_per_month[month][\"y_upper\"]\n",
    "\n",
    "    # y_lower values cannot be negative\n",
    "    y_lower_month = np.maximum(y_lower_month, 0)\n",
    "\n",
    "    # plot the time series fitted values\n",
    "\n",
    "    sns.lineplot(\n",
    "        x=rcp45_test_df[rcp85_test_df[\"DateTime\"].dt.month == month][\n",
    "            \"DateTime\"\n",
    "        ],\n",
    "        y=y_med_month,\n",
    "        label=f\"Predicted Values - {name}\",\n",
    "        color=colors[month - 1],\n",
    "    )\n",
    "    # plot std of predictions\n",
    "    plt.fill_between(\n",
    "        rcp45_test_df[rcp85_test_df[\"DateTime\"].dt.month == month][\n",
    "            \"DateTime\"\n",
    "        ],\n",
    "        y_lower_month,\n",
    "        y2=y_upper_month,\n",
    "        alpha=0.2,\n",
    "        label=\"95% Prediction Interval\",\n",
    "        color=colors[month - 1],\n",
    "    )\n",
    "    plt.xlabel(\"DateTime\")\n",
    "    plt.ylabel(\"UVA254\")\n",
    "\n",
    "    # add rmse and r2 to the plot in a box\n",
    "\n",
    "    plt.legend()\n",
    "plt.show()"
   ]
  },
  {
   "cell_type": "markdown",
   "metadata": {},
   "source": [
    "##### Store Results"
   ]
  },
  {
   "cell_type": "code",
   "execution_count": 364,
   "metadata": {},
   "outputs": [],
   "source": [
    "nn_pred = y_med\n",
    "nn_lower_bound = y_lower\n",
    "nn_upper_bound = y_upper"
   ]
  }
 ],
 "metadata": {
  "kernelspec": {
   "display_name": "climate-change-MEYtuKH4-py3.11",
   "language": "python",
   "name": "python3"
  },
  "language_info": {
   "codemirror_mode": {
    "name": "ipython",
    "version": 3
   },
   "file_extension": ".py",
   "mimetype": "text/x-python",
   "name": "python",
   "nbconvert_exporter": "python",
   "pygments_lexer": "ipython3",
   "version": "3.11.8"
  }
 },
 "nbformat": 4,
 "nbformat_minor": 2
}
