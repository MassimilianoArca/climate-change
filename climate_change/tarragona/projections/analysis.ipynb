{
 "cells": [
  {
   "cell_type": "markdown",
   "metadata": {},
   "source": [
    "For the available projections, a univariate regression is performed for every month in order to have monthly projection ranging from 2000 to 2100.\n",
    "\n",
    "A trend analysis between Tarragona Data and Projection Data is performed in order to assess if what we found in the Tarragona Data is consistent with the projections."
   ]
  },
  {
   "cell_type": "code",
   "execution_count": null,
   "metadata": {},
   "outputs": [],
   "source": [
    "import os\n",
    "import pandas as pd\n",
    "import numpy as np\n",
    "import matplotlib.pyplot as plt\n",
    "import seaborn as sns\n",
    "\n",
    "import statsmodels.tsa.seasonal as smt\n",
    "import statsmodels.api as sm\n",
    "\n",
    "from sklearn.preprocessing import StandardScaler\n",
    "\n",
    "import scipy.stats as stats\n",
    "import pingouin as pg\n",
    "import scikit_posthocs as sp\n",
    "\n",
    "plt.rcParams.update({\"font.size\": 20})"
   ]
  },
  {
   "cell_type": "markdown",
   "metadata": {},
   "source": [
    "# Define Paths"
   ]
  },
  {
   "cell_type": "code",
   "execution_count": null,
   "metadata": {},
   "outputs": [],
   "source": [
    "data_folder = os.path.join(\"..\", \"..\", \"data\", \"tarragona\")\n",
    "\n",
    "projection_folder = os.path.join(data_folder, \"future_projections\")\n",
    "processed_projections_folder = os.path.join(\n",
    "    projection_folder, \"processed\"\n",
    ")\n",
    "\n",
    "interpolated_projections_folder = os.path.join(\n",
    "    projection_folder, \"interpolated\"\n",
    ")\n",
    "\n",
    "raw_data_folder = os.path.join(data_folder, \"raw_data\")"
   ]
  },
  {
   "cell_type": "markdown",
   "metadata": {},
   "source": [
    "# Load Data"
   ]
  },
  {
   "cell_type": "code",
   "execution_count": null,
   "metadata": {},
   "outputs": [],
   "source": [
    "# Xerta Data\n",
    "xerta_df = pd.read_excel(\n",
    "    os.path.join(raw_data_folder, \"raw_full_dataset.xlsx\")\n",
    ")"
   ]
  },
  {
   "cell_type": "code",
   "execution_count": null,
   "metadata": {},
   "outputs": [],
   "source": [
    "xerta_df"
   ]
  },
  {
   "cell_type": "code",
   "execution_count": null,
   "metadata": {},
   "outputs": [],
   "source": [
    "xerta_df = xerta_df.dropna()"
   ]
  },
  {
   "cell_type": "code",
   "execution_count": null,
   "metadata": {},
   "outputs": [],
   "source": [
    "xerta_df[\"Year\"] = xerta_df[\"DateTime\"].dt.year\n",
    "xerta_df[\"Month\"] = xerta_df[\"DateTime\"].dt.month"
   ]
  },
  {
   "cell_type": "code",
   "execution_count": null,
   "metadata": {},
   "outputs": [],
   "source": [
    "# take the monthly average, but for the rain, we take the sum\n",
    "# UPDATE: for the moment we will only take the mean of the rain since\n",
    "# the projections are also monthly averages\n",
    "\n",
    "xerta_monthly_df = xerta_df.groupby([\"Year\", \"Month\"]).agg(\n",
    "    {\n",
    "        \"Flow River (m³/s)\": \"mean\",\n",
    "        \"Daily Cumulated Rainfall (L/m²)\": \"mean\",\n",
    "        \"Air Temperature (°C)\": \"mean\",\n",
    "        \"Nitrate (mg/L)\": \"mean\",\n",
    "        \"pH\": \"mean\",\n",
    "        \"Ammonium (mg/L)\": \"mean\",\n",
    "        \"Conductivity (µS/cm)\": \"mean\",\n",
    "        \"Dissolved Oxygen (mg/L)\": \"mean\",\n",
    "        \"Turbidity (NTU)\": \"mean\",\n",
    "        \"Water Temperature (°C)\": \"mean\",\n",
    "        \"Redox Potential (mV)\": \"mean\",\n",
    "        \"UVA254\": \"mean\",\n",
    "    }\n",
    ")"
   ]
  },
  {
   "cell_type": "code",
   "execution_count": null,
   "metadata": {},
   "outputs": [],
   "source": [
    "xerta_df = xerta_monthly_df.reset_index()"
   ]
  },
  {
   "cell_type": "code",
   "execution_count": null,
   "metadata": {},
   "outputs": [],
   "source": [
    "xerta_df"
   ]
  },
  {
   "cell_type": "code",
   "execution_count": null,
   "metadata": {},
   "outputs": [],
   "source": [
    "xerta_df[\"DateTime\"] = pd.to_datetime(\n",
    "    xerta_df[[\"Year\", \"Month\"]].assign(day=15)\n",
    ")"
   ]
  },
  {
   "cell_type": "code",
   "execution_count": null,
   "metadata": {},
   "outputs": [],
   "source": [
    "# plot each variable\n",
    "for col in xerta_df.columns[2:-1]:\n",
    "    plt.figure(figsize=(10, 5))\n",
    "    sns.lineplot(x=\"DateTime\", y=col, data=xerta_df)\n",
    "    plt.title(col)\n",
    "    plt.show()"
   ]
  },
  {
   "cell_type": "code",
   "execution_count": null,
   "metadata": {},
   "outputs": [],
   "source": [
    "# Air Temperature Projections\n",
    "air_temp_df = pd.read_excel(\n",
    "    os.path.join(processed_projections_folder, \"air_temperature.xlsx\")\n",
    ")\n",
    "air_temp_df[\"Year\"] = air_temp_df[\"time\"].dt.year\n",
    "air_temp_df[\"Month\"] = air_temp_df[\"time\"].dt.month\n",
    "\n",
    "# Rain Projections\n",
    "rain_df = pd.read_excel(\n",
    "    os.path.join(processed_projections_folder, \"precipitation.xlsx\")\n",
    ")\n",
    "rain_df[\"Year\"] = rain_df[\"time\"].dt.year\n",
    "rain_df[\"Month\"] = rain_df[\"time\"].dt.month\n",
    "\n",
    "# River Flow Projections\n",
    "river_flow_df = pd.read_excel(\n",
    "    os.path.join(processed_projections_folder, \"river_discharge.xlsx\")\n",
    ")\n",
    "river_flow_df[\"Year\"] = river_flow_df[\"time\"].dt.year\n",
    "river_flow_df[\"Month\"] = river_flow_df[\"time\"].dt.month\n",
    "\n",
    "# Water Temperature Projections\n",
    "water_temp_df = pd.read_excel(\n",
    "    os.path.join(processed_projections_folder, \"water_temperature.xlsx\")\n",
    ")"
   ]
  },
  {
   "cell_type": "code",
   "execution_count": null,
   "metadata": {},
   "outputs": [],
   "source": [
    "air_temp_df"
   ]
  },
  {
   "cell_type": "code",
   "execution_count": null,
   "metadata": {},
   "outputs": [],
   "source": [
    "air_temp_df.drop(\n",
    "    columns=[\"y\", \"x\", \"lat\", \"lon\", \"height\"], inplace=True\n",
    ")"
   ]
  },
  {
   "cell_type": "code",
   "execution_count": null,
   "metadata": {},
   "outputs": [],
   "source": [
    "rain_df"
   ]
  },
  {
   "cell_type": "code",
   "execution_count": null,
   "metadata": {},
   "outputs": [],
   "source": [
    "rain_df.drop(columns=[\"y\", \"x\", \"lat\", \"lon\"], inplace=True)"
   ]
  },
  {
   "cell_type": "code",
   "execution_count": null,
   "metadata": {},
   "outputs": [],
   "source": [
    "river_flow_df"
   ]
  },
  {
   "cell_type": "code",
   "execution_count": null,
   "metadata": {},
   "outputs": [],
   "source": [
    "river_flow_df.drop(columns=[\"y\", \"x\", \"lat\", \"lon\"], inplace=True)"
   ]
  },
  {
   "cell_type": "code",
   "execution_count": null,
   "metadata": {},
   "outputs": [],
   "source": [
    "water_temp_df"
   ]
  },
  {
   "cell_type": "markdown",
   "metadata": {},
   "source": [
    "# Data Interpolation of Projections\n",
    "\n",
    "Linear Regression for each month"
   ]
  },
  {
   "cell_type": "markdown",
   "metadata": {},
   "source": [
    "## Air Temperature"
   ]
  },
  {
   "cell_type": "code",
   "execution_count": null,
   "metadata": {},
   "outputs": [],
   "source": [
    "# Create two datasets, for rcp45 and rcp85 both containing the historical data\n",
    "rcp45_df = air_temp_df[\n",
    "    (air_temp_df[\"label\"] == \"rcp45\")\n",
    "    | (air_temp_df[\"label\"] == \"historical\")\n",
    "]\n",
    "rcp85_df = air_temp_df[\n",
    "    (air_temp_df[\"label\"] == \"rcp85\")\n",
    "    | (air_temp_df[\"label\"] == \"historical\")\n",
    "]"
   ]
  },
  {
   "cell_type": "code",
   "execution_count": null,
   "metadata": {},
   "outputs": [],
   "source": [
    "plt.rcParams.update({\"font.size\": 28})"
   ]
  },
  {
   "cell_type": "code",
   "execution_count": null,
   "metadata": {},
   "outputs": [],
   "source": [
    "colors = {\n",
    "    \"historical\": \"blue\",\n",
    "    \"rcp45\": \"green\",\n",
    "    \"rcp85\": \"red\",\n",
    "}\n",
    "\n",
    "plt.figure(figsize=(30, 7.5))\n",
    "for label in air_temp_df[\"label\"].unique():\n",
    "    for year in air_temp_df[\"time\"].dt.year.unique():\n",
    "        temp_df = air_temp_df[\n",
    "            (air_temp_df[\"label\"] == label)\n",
    "            & (air_temp_df[\"time\"].dt.year == year)\n",
    "        ]\n",
    "        sns.lineplot(\n",
    "            x=temp_df[\"time\"],\n",
    "            y=temp_df[\"tas_ymonmean\"],\n",
    "            color=colors[label],\n",
    "            linewidth=3,\n",
    "        )\n",
    "\n",
    "        sns.scatterplot(\n",
    "            x=temp_df[\"time\"],\n",
    "            y=temp_df[\"tas_ymonmean\"],\n",
    "            color=colors[label],\n",
    "            s=150,\n",
    "        )\n",
    "\n",
    "    if label == \"historical\":\n",
    "        plt.plot(\n",
    "            [], [], color=colors[label], label=\"historical Copernicus\"\n",
    "        )\n",
    "    else:\n",
    "        plt.plot([], [], color=colors[label], label=label)\n",
    "\n",
    "# sns.lineplot(x=full_df[full_df['Flow River'] < 700]['DateTime'], y=full_df[full_df['Flow River'] < 700]['Flow River'], color='black', marker='o', label='Observed')\n",
    "\n",
    "plt.xlabel(\"Time\")\n",
    "plt.ylabel(\"Air Temperature (°C)\")\n",
    "\n",
    "plt.title(\"Average Monthly Air Temperature at Xerta\")\n",
    "\n",
    "plt.legend()\n",
    "plt.show()"
   ]
  },
  {
   "cell_type": "code",
   "execution_count": null,
   "metadata": {},
   "outputs": [],
   "source": [
    "# plot the raw data together with the projections and the historical data\n",
    "\n",
    "colors = {\n",
    "    \"historical\": \"blue\",\n",
    "    \"rcp45\": \"green\",\n",
    "    \"rcp85\": \"red\",\n",
    "}\n",
    "\n",
    "plt.figure(figsize=(30, 7.5))\n",
    "for label in rcp45_df[\"label\"].unique():\n",
    "    for year in rcp45_df[\"time\"].dt.year.unique():\n",
    "        temp_df = rcp45_df[\n",
    "            (rcp45_df[\"label\"] == label)\n",
    "            & (rcp45_df[\"time\"].dt.year == year)\n",
    "        ]\n",
    "        sns.lineplot(\n",
    "            x=temp_df[\"time\"],\n",
    "            y=temp_df[\"tas_ymonmean\"],\n",
    "            color=colors[label],\n",
    "            marker=\"o\",\n",
    "        )\n",
    "\n",
    "    # set label\n",
    "    plt.plot([], [], color=colors[label], label=label)\n",
    "\n",
    "# sns.lineplot(x=full_df[full_df['Flow River'] < 700]['DateTime'], y=full_df[full_df['Flow River'] < 700]['Flow River'], color='black', marker='o', label='Observed')\n",
    "\n",
    "plt.xlabel(\"Time\")\n",
    "plt.ylabel(\"Air Temperature (°C)\")\n",
    "\n",
    "plt.title(\"Average Monthly Air Temperature at Xerta\")\n",
    "\n",
    "plt.legend()\n",
    "plt.show()"
   ]
  },
  {
   "cell_type": "code",
   "execution_count": null,
   "metadata": {},
   "outputs": [],
   "source": [
    "# plot the raw data together with the projections and the historical data\n",
    "\n",
    "colors = {\n",
    "    \"historical\": \"blue\",\n",
    "    \"rcp45\": \"green\",\n",
    "    \"rcp85\": \"red\",\n",
    "}\n",
    "\n",
    "plt.figure(figsize=(30, 7.5))\n",
    "for label in rcp85_df[\"label\"].unique():\n",
    "    for year in rcp85_df[\"time\"].dt.year.unique():\n",
    "        temp_df = rcp85_df[\n",
    "            (rcp85_df[\"label\"] == label)\n",
    "            & (rcp85_df[\"time\"].dt.year == year)\n",
    "        ]\n",
    "        sns.lineplot(\n",
    "            x=temp_df[\"time\"],\n",
    "            y=temp_df[\"tas_ymonmean\"],\n",
    "            color=colors[label],\n",
    "            marker=\"o\",\n",
    "        )\n",
    "\n",
    "        temp_df = rcp45_df[\n",
    "            (rcp45_df[\"label\"] == label)\n",
    "            & (rcp45_df[\"time\"].dt.year == year)\n",
    "        ]\n",
    "\n",
    "    # set label\n",
    "    plt.plot([], [], color=colors[label], label=label)\n",
    "\n",
    "# sns.lineplot(x=full_df[full_df['Flow River'] < 700]['DateTime'], y=full_df[full_df['Flow River'] < 700]['Flow River'], color='black', marker='o', label='Observed')\n",
    "\n",
    "plt.xlabel(\"Time\")\n",
    "plt.ylabel(\"Air Temperature (°C)\")\n",
    "\n",
    "plt.legend()\n",
    "plt.show()"
   ]
  },
  {
   "cell_type": "markdown",
   "metadata": {},
   "source": [
    "### RCP 4.5"
   ]
  },
  {
   "cell_type": "code",
   "execution_count": null,
   "metadata": {},
   "outputs": [],
   "source": [
    "air_temp_rcp45_df = pd.DataFrame()\n",
    "\n",
    "for month in range(1, 13):\n",
    "    month_df = rcp45_df[rcp45_df[\"Month\"] == month][\n",
    "        [\"time\", \"tas_ymonmean\"]\n",
    "    ]\n",
    "    # interpolate the data\n",
    "    month_df.set_index(\"time\", inplace=True)\n",
    "    month_df = month_df.resample(\"Y\").mean()\n",
    "    month_df = month_df.interpolate(\n",
    "        method=\"linear\", limit_direction=\"both\"\n",
    "    )\n",
    "    month_df.reset_index(inplace=True)\n",
    "    month_df[\"Month\"] = month\n",
    "\n",
    "    air_temp_rcp45_df = pd.concat([air_temp_rcp45_df, month_df])"
   ]
  },
  {
   "cell_type": "code",
   "execution_count": null,
   "metadata": {},
   "outputs": [],
   "source": [
    "plt.figure(figsize=(20, 10))\n",
    "\n",
    "for month in range(1, 13):\n",
    "    month_df = air_temp_rcp45_df[air_temp_rcp45_df[\"Month\"] == month]\n",
    "    sns.lineplot(\n",
    "        x=\"time\",\n",
    "        y=\"tas_ymonmean\",\n",
    "        data=month_df,\n",
    "        label=f\"Month {month}\",\n",
    "    )\n",
    "\n",
    "# plot vline on year 2040 and 2070\n",
    "timestamp = air_temp_rcp45_df[\n",
    "    air_temp_rcp45_df[\"time\"].dt.year == 2040\n",
    "][\"time\"].values[0]\n",
    "plt.axvline(x=timestamp, color=\"r\", linestyle=\"--\")\n",
    "timestamp = air_temp_rcp45_df[\n",
    "    air_temp_rcp45_df[\"time\"].dt.year == 2070\n",
    "][\"time\"].values[0]\n",
    "plt.axvline(x=timestamp, color=\"r\", linestyle=\"--\")\n",
    "\n",
    "plt.title(\"Month-wise Air Temperature Projections for RCP 4.5\")\n",
    "plt.xlabel(\"Year\")\n",
    "plt.ylabel(\"Temperature (°C)\")\n",
    "plt.show()"
   ]
  },
  {
   "cell_type": "markdown",
   "metadata": {},
   "source": [
    "### RCP 8.5"
   ]
  },
  {
   "cell_type": "code",
   "execution_count": null,
   "metadata": {},
   "outputs": [],
   "source": [
    "air_temp_rcp85_df = pd.DataFrame()\n",
    "\n",
    "for month in range(1, 13):\n",
    "    month_df = rcp85_df[rcp85_df[\"Month\"] == month][\n",
    "        [\"time\", \"tas_ymonmean\"]\n",
    "    ]\n",
    "    # interpolate the data\n",
    "    month_df.set_index(\"time\", inplace=True)\n",
    "    month_df = month_df.resample(\"Y\").mean()\n",
    "    month_df = month_df.interpolate(\n",
    "        method=\"linear\", limit_direction=\"both\"\n",
    "    )\n",
    "    month_df.reset_index(inplace=True)\n",
    "    month_df[\"Month\"] = month\n",
    "\n",
    "    air_temp_rcp85_df = pd.concat([air_temp_rcp85_df, month_df])"
   ]
  },
  {
   "cell_type": "code",
   "execution_count": null,
   "metadata": {},
   "outputs": [],
   "source": [
    "plt.figure(figsize=(20, 10))\n",
    "\n",
    "for month in range(1, 13):\n",
    "    month_df = air_temp_rcp85_df[air_temp_rcp85_df[\"Month\"] == month]\n",
    "    sns.lineplot(\n",
    "        x=\"time\",\n",
    "        y=\"tas_ymonmean\",\n",
    "        data=month_df,\n",
    "        label=f\"Month {month}\",\n",
    "    )\n",
    "\n",
    "# plot vline on year 2040 and 2070\n",
    "timestamp = air_temp_rcp85_df[\n",
    "    air_temp_rcp85_df[\"time\"].dt.year == 2040\n",
    "][\"time\"].values[0]\n",
    "plt.axvline(x=timestamp, color=\"r\", linestyle=\"--\")\n",
    "timestamp = air_temp_rcp85_df[\n",
    "    air_temp_rcp85_df[\"time\"].dt.year == 2070\n",
    "][\"time\"].values[0]\n",
    "plt.axvline(x=timestamp, color=\"r\", linestyle=\"--\")\n",
    "\n",
    "plt.title(\"Month-wise Air Temperature Projections for RCP 8.5\")\n",
    "plt.xlabel(\"Year\")\n",
    "plt.ylabel(\"Temperature (°C)\")\n",
    "plt.show()"
   ]
  },
  {
   "cell_type": "markdown",
   "metadata": {},
   "source": [
    "## Rainfall"
   ]
  },
  {
   "cell_type": "code",
   "execution_count": null,
   "metadata": {},
   "outputs": [],
   "source": [
    "# Create two datasets, for rcp45 and rcp85 both containing the historical data\n",
    "rcp45_df = rain_df[\n",
    "    (rain_df[\"label\"] == \"rcp45\") | (rain_df[\"label\"] == \"historical\")\n",
    "]\n",
    "rcp85_df = rain_df[\n",
    "    (rain_df[\"label\"] == \"rcp85\") | (rain_df[\"label\"] == \"historical\")\n",
    "]"
   ]
  },
  {
   "cell_type": "code",
   "execution_count": null,
   "metadata": {},
   "outputs": [],
   "source": [
    "# plot the raw data together with the projections and the historical data\n",
    "\n",
    "colors = {\n",
    "    \"historical\": \"blue\",\n",
    "    \"rcp45\": \"green\",\n",
    "    \"rcp85\": \"red\",\n",
    "}\n",
    "\n",
    "plt.figure(figsize=(30, 7.5))\n",
    "for label in rcp45_df[\"label\"].unique():\n",
    "    for year in rcp45_df[\"time\"].dt.year.unique():\n",
    "        temp_df = rcp45_df[\n",
    "            (rcp45_df[\"label\"] == label)\n",
    "            & (rcp45_df[\"time\"].dt.year == year)\n",
    "        ]\n",
    "        sns.lineplot(\n",
    "            x=temp_df[\"time\"],\n",
    "            y=temp_df[\"pr_ymonmean\"],\n",
    "            color=colors[label],\n",
    "            marker=\"o\",\n",
    "        )\n",
    "\n",
    "    # set label\n",
    "    plt.plot([], [], color=colors[label], label=label)\n",
    "\n",
    "# sns.lineplot(x=full_df[full_df['Flow River'] < 700]['DateTime'], y=full_df[full_df['Flow River'] < 700]['Flow River'], color='black', marker='o', label='Observed')\n",
    "\n",
    "plt.xlabel(\"Time\")\n",
    "plt.ylabel(\"Rainfall (mm)\")\n",
    "\n",
    "plt.title(\"Average Monthly Rainfall at Xerta\")\n",
    "\n",
    "plt.legend()\n",
    "plt.show()"
   ]
  },
  {
   "cell_type": "code",
   "execution_count": null,
   "metadata": {},
   "outputs": [],
   "source": [
    "# plot the raw data together with the projections and the historical data\n",
    "\n",
    "colors = {\n",
    "    \"historical\": \"blue\",\n",
    "    \"rcp45\": \"green\",\n",
    "    \"rcp85\": \"red\",\n",
    "}\n",
    "\n",
    "plt.figure(figsize=(30, 7.5))\n",
    "for label in rcp85_df[\"label\"].unique():\n",
    "    for year in rcp85_df[\"time\"].dt.year.unique():\n",
    "        temp_df = rcp85_df[\n",
    "            (rcp85_df[\"label\"] == label)\n",
    "            & (rcp85_df[\"time\"].dt.year == year)\n",
    "        ]\n",
    "        sns.lineplot(\n",
    "            x=temp_df[\"time\"],\n",
    "            y=temp_df[\"pr_ymonmean\"],\n",
    "            color=colors[label],\n",
    "            marker=\"o\",\n",
    "        )\n",
    "\n",
    "    # set label\n",
    "    plt.plot([], [], color=colors[label], label=label)\n",
    "\n",
    "# sns.lineplot(x=full_df[full_df['Flow River'] < 700]['DateTime'], y=full_df[full_df['Flow River'] < 700]['Flow River'], color='black', marker='o', label='Observed')\n",
    "\n",
    "plt.xlabel(\"Time\")\n",
    "plt.ylabel(\"Rainfall (mm)\")\n",
    "\n",
    "plt.legend(loc=\"upper left\")\n",
    "plt.show()"
   ]
  },
  {
   "cell_type": "markdown",
   "metadata": {},
   "source": [
    "### RCP 4.5"
   ]
  },
  {
   "cell_type": "code",
   "execution_count": null,
   "metadata": {},
   "outputs": [],
   "source": [
    "rain_rcp45_df = pd.DataFrame()\n",
    "\n",
    "for month in range(1, 13):\n",
    "    month_df = rcp45_df[rcp45_df[\"Month\"] == month][\n",
    "        [\"time\", \"pr_ymonmean\"]\n",
    "    ]\n",
    "    # interpolate the data\n",
    "    month_df.set_index(\"time\", inplace=True)\n",
    "    month_df = month_df.resample(\"Y\").mean()\n",
    "    month_df = month_df.interpolate(\n",
    "        method=\"linear\", limit_direction=\"both\"\n",
    "    )\n",
    "    month_df.reset_index(inplace=True)\n",
    "    month_df[\"Month\"] = month\n",
    "\n",
    "    rain_rcp45_df = pd.concat([rain_rcp45_df, month_df])"
   ]
  },
  {
   "cell_type": "code",
   "execution_count": null,
   "metadata": {},
   "outputs": [],
   "source": [
    "plt.figure(figsize=(20, 10))\n",
    "\n",
    "for month in range(1, 13):\n",
    "    month_df = rain_rcp45_df[rain_rcp45_df[\"Month\"] == month]\n",
    "    sns.lineplot(\n",
    "        x=\"time\", y=\"pr_ymonmean\", data=month_df, label=f\"Month {month}\"\n",
    "    )\n",
    "\n",
    "# plot vline on year 2040 and 2070\n",
    "timestamp = rain_rcp45_df[rain_rcp45_df[\"time\"].dt.year == 2040][\n",
    "    \"time\"\n",
    "].values[0]\n",
    "plt.axvline(x=timestamp, color=\"r\", linestyle=\"--\")\n",
    "timestamp = rain_rcp45_df[rain_rcp45_df[\"time\"].dt.year == 2070][\n",
    "    \"time\"\n",
    "].values[0]\n",
    "plt.axvline(x=timestamp, color=\"r\", linestyle=\"--\")\n",
    "\n",
    "plt.title(\"Month-wise Rainfall Projections for RCP 4.5\")\n",
    "plt.xlabel(\"Year\")\n",
    "plt.ylabel(\"Rainfall (mm)\")\n",
    "plt.show()"
   ]
  },
  {
   "cell_type": "markdown",
   "metadata": {},
   "source": [
    "### RCP 8.5"
   ]
  },
  {
   "cell_type": "code",
   "execution_count": null,
   "metadata": {},
   "outputs": [],
   "source": [
    "rain_rcp85_df = pd.DataFrame()\n",
    "\n",
    "for month in range(1, 13):\n",
    "    month_df = rcp85_df[rcp85_df[\"Month\"] == month][\n",
    "        [\"time\", \"pr_ymonmean\"]\n",
    "    ]\n",
    "    # interpolate the data\n",
    "    month_df.set_index(\"time\", inplace=True)\n",
    "    month_df = month_df.resample(\"Y\").mean()\n",
    "    month_df = month_df.interpolate(\n",
    "        method=\"linear\", limit_direction=\"both\"\n",
    "    )\n",
    "    month_df.reset_index(inplace=True)\n",
    "    month_df[\"Month\"] = month\n",
    "\n",
    "    rain_rcp85_df = pd.concat([rain_rcp85_df, month_df])"
   ]
  },
  {
   "cell_type": "code",
   "execution_count": null,
   "metadata": {},
   "outputs": [],
   "source": [
    "plt.figure(figsize=(20, 10))\n",
    "\n",
    "for month in range(1, 13):\n",
    "    month_df = rain_rcp85_df[rain_rcp85_df[\"Month\"] == month]\n",
    "    sns.lineplot(\n",
    "        x=\"time\", y=\"pr_ymonmean\", data=month_df, label=f\"Month {month}\"\n",
    "    )\n",
    "\n",
    "# plot vline on year 2040 and 2070\n",
    "timestamp = rain_rcp85_df[rain_rcp85_df[\"time\"].dt.year == 2040][\n",
    "    \"time\"\n",
    "].values[0]\n",
    "plt.axvline(x=timestamp, color=\"r\", linestyle=\"--\")\n",
    "timestamp = rain_rcp85_df[rain_rcp85_df[\"time\"].dt.year == 2070][\n",
    "    \"time\"\n",
    "].values[0]\n",
    "plt.axvline(x=timestamp, color=\"r\", linestyle=\"--\")\n",
    "\n",
    "plt.title(\"Month-wise Rainfall Projections for RCP 8.5\")\n",
    "plt.xlabel(\"Year\")\n",
    "plt.ylabel(\"Rainfall (mm)\")\n",
    "plt.show()"
   ]
  },
  {
   "cell_type": "markdown",
   "metadata": {},
   "source": [
    "## Flow River"
   ]
  },
  {
   "cell_type": "code",
   "execution_count": null,
   "metadata": {},
   "outputs": [],
   "source": [
    "# Create two datasets, for rcp45 and rcp85 both containing the historical data\n",
    "rcp45_df = river_flow_df[\n",
    "    (river_flow_df[\"label\"] == \"rcp45\")\n",
    "    | (river_flow_df[\"label\"] == \"historical\")\n",
    "]\n",
    "rcp85_df = river_flow_df[\n",
    "    (river_flow_df[\"label\"] == \"rcp85\")\n",
    "    | (river_flow_df[\"label\"] == \"historical\")\n",
    "]"
   ]
  },
  {
   "cell_type": "code",
   "execution_count": null,
   "metadata": {},
   "outputs": [],
   "source": [
    "# plot the raw data together with the projections and the historical data\n",
    "\n",
    "colors = {\n",
    "    \"historical\": \"blue\",\n",
    "    \"rcp45\": \"green\",\n",
    "    \"rcp85\": \"red\",\n",
    "}\n",
    "\n",
    "plt.figure(figsize=(30, 7.5))\n",
    "for label in rcp45_df[\"label\"].unique():\n",
    "    for year in rcp45_df[\"time\"].dt.year.unique():\n",
    "        temp_df = rcp45_df[\n",
    "            (rcp45_df[\"label\"] == label)\n",
    "            & (rcp45_df[\"time\"].dt.year == year)\n",
    "        ]\n",
    "        sns.lineplot(\n",
    "            x=temp_df[\"time\"],\n",
    "            y=temp_df[\"rdis_ymonmean\"],\n",
    "            color=colors[label],\n",
    "            marker=\"o\",\n",
    "        )\n",
    "\n",
    "    # set label\n",
    "    plt.plot([], [], color=colors[label], label=label)\n",
    "\n",
    "# sns.lineplot(x=full_df[full_df['Flow River'] < 700]['DateTime'], y=full_df[full_df['Flow River'] < 700]['Flow River'], color='black', marker='o', label='Observed')\n",
    "\n",
    "plt.xlabel(\"Time\")\n",
    "plt.ylabel(\"Flow River Rate (m³/s)\")\n",
    "\n",
    "plt.title(\"Average Monthly Flow River Rate at Xerta\")\n",
    "\n",
    "plt.legend()\n",
    "plt.show()"
   ]
  },
  {
   "cell_type": "code",
   "execution_count": null,
   "metadata": {},
   "outputs": [],
   "source": [
    "# plot the raw data together with the projections and the historical data\n",
    "\n",
    "colors = {\n",
    "    \"historical\": \"blue\",\n",
    "    \"rcp45\": \"green\",\n",
    "    \"rcp85\": \"red\",\n",
    "}\n",
    "\n",
    "plt.figure(figsize=(30, 7.5))\n",
    "for label in rcp85_df[\"label\"].unique():\n",
    "    for year in rcp85_df[\"time\"].dt.year.unique():\n",
    "        temp_df = rcp85_df[\n",
    "            (rcp85_df[\"label\"] == label)\n",
    "            & (rcp85_df[\"time\"].dt.year == year)\n",
    "        ]\n",
    "        sns.lineplot(\n",
    "            x=temp_df[\"time\"],\n",
    "            y=temp_df[\"rdis_ymonmean\"],\n",
    "            color=colors[label],\n",
    "            marker=\"o\",\n",
    "        )\n",
    "\n",
    "    # set label\n",
    "    plt.plot([], [], color=colors[label], label=label)\n",
    "\n",
    "# sns.lineplot(x=full_df[full_df['Flow River'] < 700]['DateTime'], y=full_df[full_df['Flow River'] < 700]['Flow River'], color='black', marker='o', label='Observed')\n",
    "\n",
    "plt.xlabel(\"Time\")\n",
    "plt.ylabel(\"Flow River Rate (m³/s)\")\n",
    "\n",
    "plt.legend(loc=\"upper right\")\n",
    "plt.show()"
   ]
  },
  {
   "cell_type": "markdown",
   "metadata": {},
   "source": [
    "### RCP 4.5"
   ]
  },
  {
   "cell_type": "code",
   "execution_count": null,
   "metadata": {},
   "outputs": [],
   "source": [
    "flow_rcp45_df = pd.DataFrame()\n",
    "\n",
    "for month in range(1, 13):\n",
    "    month_df = rcp45_df[rcp45_df[\"Month\"] == month][\n",
    "        [\"time\", \"rdis_ymonmean\"]\n",
    "    ]\n",
    "    # interpolate the data\n",
    "    month_df.set_index(\"time\", inplace=True)\n",
    "    month_df = month_df.resample(\"Y\").mean()\n",
    "    month_df = month_df.interpolate(\n",
    "        method=\"linear\", limit_direction=\"both\"\n",
    "    )\n",
    "    month_df.reset_index(inplace=True)\n",
    "    month_df[\"Month\"] = month\n",
    "\n",
    "    flow_rcp45_df = pd.concat([flow_rcp45_df, month_df])"
   ]
  },
  {
   "cell_type": "code",
   "execution_count": null,
   "metadata": {},
   "outputs": [],
   "source": [
    "plt.figure(figsize=(20, 10))\n",
    "\n",
    "for month in range(1, 13):\n",
    "    month_df = flow_rcp45_df[flow_rcp45_df[\"Month\"] == month]\n",
    "    sns.lineplot(\n",
    "        x=\"time\",\n",
    "        y=\"rdis_ymonmean\",\n",
    "        data=month_df,\n",
    "        label=f\"Month {month}\",\n",
    "    )\n",
    "\n",
    "# plot vline on year 2040 and 2070\n",
    "timestamp = flow_rcp45_df[flow_rcp45_df[\"time\"].dt.year == 2040][\n",
    "    \"time\"\n",
    "].values[0]\n",
    "plt.axvline(x=timestamp, color=\"r\", linestyle=\"--\")\n",
    "timestamp = flow_rcp45_df[flow_rcp45_df[\"time\"].dt.year == 2070][\n",
    "    \"time\"\n",
    "].values[0]\n",
    "plt.axvline(x=timestamp, color=\"r\", linestyle=\"--\")\n",
    "\n",
    "plt.title(\"Month-wise Flow River Rate Projections for RCP 4.5\")\n",
    "plt.xlabel(\"Year\")\n",
    "plt.ylabel(\"Flow River Rate (m³/s)\")\n",
    "plt.show()"
   ]
  },
  {
   "cell_type": "markdown",
   "metadata": {},
   "source": [
    "### RCP 8.5"
   ]
  },
  {
   "cell_type": "code",
   "execution_count": null,
   "metadata": {},
   "outputs": [],
   "source": [
    "flow_rcp85_df = pd.DataFrame()\n",
    "\n",
    "for month in range(1, 13):\n",
    "    month_df = rcp85_df[rcp85_df[\"Month\"] == month][\n",
    "        [\"time\", \"rdis_ymonmean\"]\n",
    "    ]\n",
    "    # interpolate the data\n",
    "    month_df.set_index(\"time\", inplace=True)\n",
    "    month_df = month_df.resample(\"Y\").mean()\n",
    "    month_df = month_df.interpolate(\n",
    "        method=\"linear\", limit_direction=\"both\"\n",
    "    )\n",
    "    month_df.reset_index(inplace=True)\n",
    "    month_df[\"Month\"] = month\n",
    "\n",
    "    flow_rcp85_df = pd.concat([flow_rcp85_df, month_df])"
   ]
  },
  {
   "cell_type": "code",
   "execution_count": null,
   "metadata": {},
   "outputs": [],
   "source": [
    "plt.figure(figsize=(20, 10))\n",
    "\n",
    "for month in range(1, 13):\n",
    "    month_df = flow_rcp85_df[flow_rcp85_df[\"Month\"] == month]\n",
    "    sns.lineplot(\n",
    "        x=\"time\",\n",
    "        y=\"rdis_ymonmean\",\n",
    "        data=month_df,\n",
    "        label=f\"Month {month}\",\n",
    "    )\n",
    "\n",
    "# plot vline on year 2040 and 2070\n",
    "timestamp = flow_rcp85_df[flow_rcp85_df[\"time\"].dt.year == 2040][\n",
    "    \"time\"\n",
    "].values[0]\n",
    "plt.axvline(x=timestamp, color=\"r\", linestyle=\"--\")\n",
    "timestamp = flow_rcp85_df[flow_rcp85_df[\"time\"].dt.year == 2070][\n",
    "    \"time\"\n",
    "].values[0]\n",
    "plt.axvline(x=timestamp, color=\"r\", linestyle=\"--\")\n",
    "\n",
    "plt.title(\"Month-wise Flow River Rate Projections for RCP 8.5\")\n",
    "plt.xlabel(\"Year\")\n",
    "plt.ylabel(\"Flow River Rate (m³/s)\")\n",
    "plt.show()"
   ]
  },
  {
   "cell_type": "markdown",
   "metadata": {},
   "source": [
    "## Water Temperature"
   ]
  },
  {
   "cell_type": "code",
   "execution_count": null,
   "metadata": {},
   "outputs": [],
   "source": [
    "# Create two datasets, for rcp45 and rcp85 both containing the historical data\n",
    "rcp45_df = water_temp_df[\n",
    "    (water_temp_df[\"label\"] == \"rcp45\")\n",
    "    | (water_temp_df[\"label\"] == \"historical\")\n",
    "]\n",
    "rcp85_df = water_temp_df[\n",
    "    (water_temp_df[\"label\"] == \"rcp85\")\n",
    "    | (water_temp_df[\"label\"] == \"historical\")\n",
    "]"
   ]
  },
  {
   "cell_type": "code",
   "execution_count": null,
   "metadata": {},
   "outputs": [],
   "source": [
    "# plot the raw data together with the projections and the historical data\n",
    "\n",
    "colors = {\n",
    "    \"historical\": \"blue\",\n",
    "    \"rcp45\": \"green\",\n",
    "    \"rcp85\": \"red\",\n",
    "}\n",
    "\n",
    "plt.figure(figsize=(30, 7.5))\n",
    "for label in rcp45_df[\"label\"].unique():\n",
    "    for year in rcp45_df[\"DateTime\"].dt.year.unique():\n",
    "        temp_df = rcp45_df[\n",
    "            (rcp45_df[\"label\"] == label)\n",
    "            & (rcp45_df[\"DateTime\"].dt.year == year)\n",
    "        ]\n",
    "        sns.lineplot(\n",
    "            x=temp_df[\"DateTime\"],\n",
    "            y=temp_df[\"Value\"],\n",
    "            color=colors[label],\n",
    "            marker=\"o\",\n",
    "        )\n",
    "\n",
    "    # set label\n",
    "    plt.plot([], [], color=colors[label], label=label)\n",
    "\n",
    "# sns.lineplot(x=full_df[full_df['Flow River'] < 700]['DateTime'], y=full_df[full_df['Flow River'] < 700]['Flow River'], color='black', marker='o', label='Observed')\n",
    "\n",
    "plt.xlabel(\"Time\")\n",
    "plt.ylabel(\"Water Temperature (°C)\")\n",
    "\n",
    "plt.title(\"Average Monthly Water Temperature at Xerta\")\n",
    "\n",
    "plt.legend()\n",
    "plt.show()"
   ]
  },
  {
   "cell_type": "code",
   "execution_count": null,
   "metadata": {},
   "outputs": [],
   "source": [
    "# plot the raw data together with the projections and the historical data\n",
    "\n",
    "colors = {\n",
    "    \"historical\": \"blue\",\n",
    "    \"rcp45\": \"green\",\n",
    "    \"rcp85\": \"red\",\n",
    "}\n",
    "\n",
    "plt.figure(figsize=(30, 7.5))\n",
    "for label in rcp85_df[\"label\"].unique():\n",
    "    for year in rcp85_df[\"DateTime\"].dt.year.unique():\n",
    "        temp_df = rcp85_df[\n",
    "            (rcp85_df[\"label\"] == label)\n",
    "            & (rcp85_df[\"DateTime\"].dt.year == year)\n",
    "        ]\n",
    "        sns.lineplot(\n",
    "            x=temp_df[\"DateTime\"],\n",
    "            y=temp_df[\"Value\"],\n",
    "            color=colors[label],\n",
    "            marker=\"o\",\n",
    "        )\n",
    "\n",
    "    # set label\n",
    "    plt.plot([], [], color=colors[label], label=label)\n",
    "\n",
    "# sns.lineplot(x=full_df[full_df['Flow River'] < 700]['DateTime'], y=full_df[full_df['Flow River'] < 700]['Flow River'], color='black', marker='o', label='Observed')\n",
    "\n",
    "plt.xlabel(\"Time\")\n",
    "plt.ylabel(\"Water Temperature (°C)\")\n",
    "\n",
    "# set legend top left\n",
    "plt.legend(loc=\"upper left\")\n",
    "plt.show()"
   ]
  },
  {
   "cell_type": "markdown",
   "metadata": {},
   "source": [
    "### RCP 4.5"
   ]
  },
  {
   "cell_type": "code",
   "execution_count": null,
   "metadata": {},
   "outputs": [],
   "source": [
    "water_temp_rcp45_df = pd.DataFrame()\n",
    "\n",
    "for month in range(1, 13):\n",
    "    month_df = rcp45_df[rcp45_df[\"Month\"] == month][\n",
    "        [\"DateTime\", \"Value\"]\n",
    "    ]\n",
    "    # interpolate the data\n",
    "    month_df.set_index(\"DateTime\", inplace=True)\n",
    "    month_df = month_df.resample(\"Y\").mean()\n",
    "    month_df = month_df.interpolate(\n",
    "        method=\"linear\", limit_direction=\"both\"\n",
    "    )\n",
    "    month_df.reset_index(inplace=True)\n",
    "    month_df[\"Month\"] = month\n",
    "\n",
    "    water_temp_rcp45_df = pd.concat([water_temp_rcp45_df, month_df])"
   ]
  },
  {
   "cell_type": "code",
   "execution_count": null,
   "metadata": {},
   "outputs": [],
   "source": [
    "plt.figure(figsize=(20, 10))\n",
    "\n",
    "for month in range(1, 13):\n",
    "    month_df = water_temp_rcp45_df[\n",
    "        water_temp_rcp45_df[\"Month\"] == month\n",
    "    ]\n",
    "    sns.lineplot(\n",
    "        x=\"DateTime\",\n",
    "        y=\"Value\",\n",
    "        data=month_df,\n",
    "        label=f\"Month {month}\",\n",
    "    )\n",
    "\n",
    "# plot vline on year 2040 and 2070\n",
    "timestamp = water_temp_rcp45_df[\n",
    "    water_temp_rcp45_df[\"DateTime\"].dt.year == 2040\n",
    "][\"DateTime\"].values[0]\n",
    "plt.axvline(x=timestamp, color=\"r\", linestyle=\"--\")\n",
    "timestamp = water_temp_rcp45_df[\n",
    "    water_temp_rcp45_df[\"DateTime\"].dt.year == 2070\n",
    "][\"DateTime\"].values[0]\n",
    "plt.axvline(x=timestamp, color=\"r\", linestyle=\"--\")\n",
    "\n",
    "plt.title(\"Month-wise Water Temperature Projections for RCP 4.5\")\n",
    "plt.xlabel(\"Year\")\n",
    "plt.ylabel(\"Temperature (°C)\")\n",
    "plt.show()"
   ]
  },
  {
   "cell_type": "markdown",
   "metadata": {},
   "source": [
    "### RCP 8.5"
   ]
  },
  {
   "cell_type": "code",
   "execution_count": null,
   "metadata": {},
   "outputs": [],
   "source": [
    "water_temp_rcp85_df = pd.DataFrame()\n",
    "\n",
    "for month in range(1, 13):\n",
    "    month_df = rcp85_df[rcp85_df[\"Month\"] == month][\n",
    "        [\"DateTime\", \"Value\"]\n",
    "    ]\n",
    "    # interpolate the data\n",
    "    month_df.set_index(\"DateTime\", inplace=True)\n",
    "    month_df = month_df.resample(\"Y\").mean()\n",
    "    month_df = month_df.interpolate(\n",
    "        method=\"linear\", limit_direction=\"both\"\n",
    "    )\n",
    "    month_df.reset_index(inplace=True)\n",
    "    month_df[\"Month\"] = month\n",
    "\n",
    "    water_temp_rcp85_df = pd.concat([water_temp_rcp85_df, month_df])"
   ]
  },
  {
   "cell_type": "code",
   "execution_count": null,
   "metadata": {},
   "outputs": [],
   "source": [
    "plt.figure(figsize=(20, 10))\n",
    "\n",
    "for month in range(1, 13):\n",
    "    month_df = water_temp_rcp85_df[\n",
    "        water_temp_rcp85_df[\"Month\"] == month\n",
    "    ]\n",
    "    sns.lineplot(\n",
    "        x=\"DateTime\",\n",
    "        y=\"Value\",\n",
    "        data=month_df,\n",
    "        label=f\"Month {month}\",\n",
    "    )\n",
    "\n",
    "# plot vline on year 2040 and 2070\n",
    "timestamp = water_temp_rcp85_df[\n",
    "    water_temp_rcp85_df[\"DateTime\"].dt.year == 2040\n",
    "][\"DateTime\"].values[0]\n",
    "plt.axvline(x=timestamp, color=\"r\", linestyle=\"--\")\n",
    "timestamp = water_temp_rcp85_df[\n",
    "    water_temp_rcp85_df[\"DateTime\"].dt.year == 2070\n",
    "][\"DateTime\"].values[0]\n",
    "plt.axvline(x=timestamp, color=\"r\", linestyle=\"--\")\n",
    "\n",
    "plt.title(\"Month-wise Water Temperature Projections for RCP 8.5\")\n",
    "plt.xlabel(\"Year\")\n",
    "plt.ylabel(\"Temperature (°C)\")\n",
    "plt.show()"
   ]
  },
  {
   "cell_type": "code",
   "execution_count": null,
   "metadata": {},
   "outputs": [],
   "source": [
    "plt.rcParams.update({\"font.size\": 26})"
   ]
  },
  {
   "cell_type": "markdown",
   "metadata": {},
   "source": [
    "# Trend Analysis"
   ]
  },
  {
   "cell_type": "markdown",
   "metadata": {},
   "source": [
    "## Air Temperature"
   ]
  },
  {
   "cell_type": "markdown",
   "metadata": {},
   "source": [
    "### Xerta"
   ]
  },
  {
   "cell_type": "code",
   "execution_count": null,
   "metadata": {},
   "outputs": [],
   "source": [
    "temp_df = xerta_df[\n",
    "    [\"Year\", \"Month\", \"Air Temperature (°C)\", \"DateTime\"]\n",
    "]"
   ]
  },
  {
   "cell_type": "code",
   "execution_count": null,
   "metadata": {},
   "outputs": [],
   "source": [
    "plt.figure(figsize=(20, 10))\n",
    "\n",
    "sns.lineplot(\n",
    "    x=\"DateTime\",\n",
    "    y=\"Air Temperature (°C)\",\n",
    "    data=temp_df,\n",
    "    label=\"Historical Data\",\n",
    ")"
   ]
  },
  {
   "cell_type": "code",
   "execution_count": null,
   "metadata": {},
   "outputs": [],
   "source": [
    "result = smt.seasonal_decompose(\n",
    "    x=temp_df.set_index(\"DateTime\")[\"Air Temperature (°C)\"],\n",
    "    model=\"multiplicative\",\n",
    "    period=12,\n",
    "    two_sided=True,\n",
    "    extrapolate_trend=\"freq\",\n",
    ")"
   ]
  },
  {
   "cell_type": "code",
   "execution_count": null,
   "metadata": {},
   "outputs": [],
   "source": [
    "data_trend = result.trend\n",
    "data_seasonal = result.seasonal\n",
    "data_residual = result.resid"
   ]
  },
  {
   "cell_type": "code",
   "execution_count": null,
   "metadata": {},
   "outputs": [],
   "source": [
    "plt.figure(figsize=(20, 10))\n",
    "\n",
    "plt.subplot(411)\n",
    "plt.plot(\n",
    "    temp_df.set_index(\"DateTime\")[\"Air Temperature (°C)\"],\n",
    "    label=\"Original\",\n",
    ")\n",
    "plt.legend(loc=\"best\")\n",
    "plt.subplot(412)\n",
    "plt.plot(data_trend, label=\"Trend\")\n",
    "plt.legend(loc=\"best\")\n",
    "plt.subplot(413)\n",
    "plt.plot(data_seasonal, label=\"Seasonal\")\n",
    "plt.legend(loc=\"best\")\n",
    "plt.subplot(414)\n",
    "plt.plot(data_residual, label=\"Residual\")\n",
    "plt.legend(loc=\"best\")\n",
    "plt.tight_layout()\n",
    "\n",
    "plt.show()"
   ]
  },
  {
   "cell_type": "code",
   "execution_count": null,
   "metadata": {},
   "outputs": [],
   "source": [
    "# plot the trend\n",
    "plt.figure(figsize=(20, 10))\n",
    "\n",
    "sns.lineplot(\n",
    "    x=\"DateTime\",\n",
    "    y=\"Air Temperature (°C)\",\n",
    "    data=temp_df,\n",
    "    label=\"Historical Data\",\n",
    ")\n",
    "\n",
    "sns.lineplot(\n",
    "    x=temp_df[\"DateTime\"],\n",
    "    y=data_trend.values,\n",
    "    label=\"Trend\",\n",
    ")\n",
    "\n",
    "plt.title(\"Air Temperature Trend\")\n",
    "plt.xlabel(\"Year\")\n",
    "plt.ylabel(\"Temperature (°C)\")\n",
    "plt.show()"
   ]
  },
  {
   "cell_type": "markdown",
   "metadata": {},
   "source": [
    "### RCP 4.5"
   ]
  },
  {
   "cell_type": "code",
   "execution_count": null,
   "metadata": {},
   "outputs": [],
   "source": [
    "# set the month to the time column\n",
    "air_temp_rcp45_df[\"DateTime\"] = air_temp_rcp45_df.apply(\n",
    "    lambda row: row[\"time\"].replace(month=int(row[\"Month\"]), day=15),\n",
    "    axis=1,\n",
    ")\n",
    "air_temp_rcp45_df.sort_values(by=\"DateTime\", inplace=True)"
   ]
  },
  {
   "cell_type": "code",
   "execution_count": null,
   "metadata": {},
   "outputs": [],
   "source": [
    "plt.figure(figsize=(20, 10))\n",
    "\n",
    "sns.lineplot(\n",
    "    x=\"DateTime\",\n",
    "    y=\"tas_ymonmean\",\n",
    "    data=air_temp_rcp45_df,\n",
    "    label=\"RCP 4.5\",\n",
    "    color=\"g\",\n",
    ")\n",
    "\n",
    "sns.lineplot(\n",
    "    x=\"DateTime\",\n",
    "    y=\"Air Temperature (°C)\",\n",
    "    data=temp_df,\n",
    "    label=\"Xerta Data\",\n",
    "    color=\"black\",\n",
    ")\n",
    "\n",
    "plt.title(\"Air Temperature\")\n",
    "plt.xlabel(\"Year\")\n",
    "plt.ylabel(\"Air Temperature (°C)\")\n",
    "\n",
    "plt.show()"
   ]
  },
  {
   "cell_type": "code",
   "execution_count": null,
   "metadata": {},
   "outputs": [],
   "source": [
    "result = smt.seasonal_decompose(\n",
    "    x=air_temp_rcp45_df.set_index(\"DateTime\")[[\"tas_ymonmean\"]],\n",
    "    model=\"additive\",\n",
    "    period=12,\n",
    "    two_sided=True,\n",
    "    extrapolate_trend=\"freq\",\n",
    ")"
   ]
  },
  {
   "cell_type": "code",
   "execution_count": null,
   "metadata": {},
   "outputs": [],
   "source": [
    "rcp45_trend = result.trend\n",
    "rcp45_seasonal = result.seasonal\n",
    "rcp45_residual = result.resid"
   ]
  },
  {
   "cell_type": "code",
   "execution_count": null,
   "metadata": {},
   "outputs": [],
   "source": [
    "plt.figure(figsize=(20, 10))\n",
    "\n",
    "plt.subplot(411)\n",
    "plt.plot(\n",
    "    air_temp_rcp45_df.set_index(\"DateTime\")[\"tas_ymonmean\"],\n",
    "    label=\"Original\",\n",
    ")\n",
    "plt.legend(loc=\"best\")\n",
    "plt.subplot(412)\n",
    "plt.plot(rcp45_trend, label=\"Trend\")\n",
    "plt.legend(loc=\"best\")\n",
    "plt.subplot(413)\n",
    "plt.plot(rcp45_seasonal, label=\"Seasonal\")\n",
    "plt.legend(loc=\"best\")\n",
    "plt.subplot(414)\n",
    "plt.plot(rcp45_residual, label=\"Residual\")\n",
    "plt.legend(loc=\"best\")\n",
    "plt.tight_layout()\n",
    "\n",
    "plt.show()"
   ]
  },
  {
   "cell_type": "code",
   "execution_count": null,
   "metadata": {},
   "outputs": [],
   "source": [
    "# plot the trend\n",
    "plt.figure(figsize=(20, 10))\n",
    "\n",
    "sns.lineplot(\n",
    "    x=\"DateTime\",\n",
    "    y=\"tas_ymonmean\",\n",
    "    data=air_temp_rcp45_df,\n",
    "    label=\"RCP 4.5\",\n",
    ")\n",
    "\n",
    "sns.lineplot(\n",
    "    x=air_temp_rcp45_df[\"DateTime\"],\n",
    "    y=rcp45_trend.values,\n",
    "    label=\"Trend\",\n",
    ")\n",
    "\n",
    "plt.title(\"Air Temperature Trend\")\n",
    "plt.xlabel(\"Year\")\n",
    "plt.ylabel(\"Temperature (°C)\")\n",
    "plt.show()"
   ]
  },
  {
   "cell_type": "markdown",
   "metadata": {},
   "source": [
    "### RCP 8.5"
   ]
  },
  {
   "cell_type": "code",
   "execution_count": null,
   "metadata": {},
   "outputs": [],
   "source": [
    "# set the month to the time column\n",
    "air_temp_rcp85_df[\"DateTime\"] = air_temp_rcp85_df.apply(\n",
    "    lambda row: row[\"time\"].replace(month=int(row[\"Month\"]), day=15),\n",
    "    axis=1,\n",
    ")\n",
    "air_temp_rcp85_df.sort_values(by=\"DateTime\", inplace=True)"
   ]
  },
  {
   "cell_type": "code",
   "execution_count": null,
   "metadata": {},
   "outputs": [],
   "source": [
    "plt.figure(figsize=(20, 10))\n",
    "\n",
    "sns.lineplot(\n",
    "    x=\"DateTime\",\n",
    "    y=\"tas_ymonmean\",\n",
    "    data=air_temp_rcp85_df,\n",
    "    label=\"RCP 8.5\",\n",
    ")\n",
    "\n",
    "sns.lineplot(\n",
    "    x=\"DateTime\",\n",
    "    y=\"Air Temperature (°C)\",\n",
    "    data=temp_df,\n",
    "    label=\"Tarragona Data\",\n",
    "    color=\"black\",\n",
    ")\n",
    "\n",
    "plt.xlabel(\"Year\")\n",
    "plt.ylabel(\"Air Temperature (°C)\")\n",
    "\n",
    "plt.show()"
   ]
  },
  {
   "cell_type": "code",
   "execution_count": null,
   "metadata": {},
   "outputs": [],
   "source": [
    "result = smt.seasonal_decompose(\n",
    "    x=air_temp_rcp85_df.set_index(\"DateTime\")[[\"tas_ymonmean\"]],\n",
    "    model=\"additive\",\n",
    "    period=12,\n",
    "    two_sided=True,\n",
    "    extrapolate_trend=\"freq\",\n",
    ")"
   ]
  },
  {
   "cell_type": "code",
   "execution_count": null,
   "metadata": {},
   "outputs": [],
   "source": [
    "rcp85_trend = result.trend\n",
    "rcp85_seasonal = result.seasonal\n",
    "rcp85_residual = result.resid"
   ]
  },
  {
   "cell_type": "code",
   "execution_count": null,
   "metadata": {},
   "outputs": [],
   "source": [
    "plt.figure(figsize=(20, 10))\n",
    "\n",
    "plt.subplot(411)\n",
    "plt.plot(\n",
    "    air_temp_rcp85_df.set_index(\"DateTime\")[\"tas_ymonmean\"],\n",
    "    label=\"Original\",\n",
    ")\n",
    "plt.legend(loc=\"best\")\n",
    "plt.subplot(412)\n",
    "plt.plot(rcp85_trend, label=\"Trend\")\n",
    "plt.legend(loc=\"best\")\n",
    "plt.subplot(413)\n",
    "plt.plot(rcp85_seasonal, label=\"Seasonal\")\n",
    "plt.legend(loc=\"best\")\n",
    "plt.subplot(414)\n",
    "plt.plot(rcp85_residual, label=\"Residual\")\n",
    "plt.legend(loc=\"best\")\n",
    "plt.tight_layout()\n",
    "\n",
    "plt.show()"
   ]
  },
  {
   "cell_type": "code",
   "execution_count": null,
   "metadata": {},
   "outputs": [],
   "source": [
    "# plot the trend\n",
    "plt.figure(figsize=(20, 10))\n",
    "\n",
    "sns.lineplot(\n",
    "    x=\"DateTime\",\n",
    "    y=\"tas_ymonmean\",\n",
    "    data=air_temp_rcp85_df,\n",
    "    label=\"RCP 8.5\",\n",
    ")\n",
    "\n",
    "sns.lineplot(\n",
    "    x=air_temp_rcp85_df[\"DateTime\"],\n",
    "    y=rcp85_trend.values,\n",
    "    label=\"RCP 8.5 Trend\",\n",
    ")\n",
    "\n",
    "sns.lineplot(\n",
    "    x=\"DateTime\",\n",
    "    y=\"Air Temperature (°C)\",\n",
    "    data=temp_df,\n",
    "    label=\"Tarragona Data\",\n",
    "    color=\"black\",\n",
    ")\n",
    "\n",
    "sns.lineplot(\n",
    "    x=temp_df[\"DateTime\"],\n",
    "    y=data_trend.values,\n",
    "    label=\"Tarragona Trend\",\n",
    "    color=\"red\",\n",
    ")\n",
    "\n",
    "plt.legend(loc=\"lower right\")\n",
    "\n",
    "\n",
    "plt.xlabel(\"Year\")\n",
    "plt.ylabel(\"Air Temperature (°C)\")\n",
    "plt.show()"
   ]
  },
  {
   "cell_type": "markdown",
   "metadata": {},
   "source": [
    "### Compare Trends\n",
    "\n",
    "Linear Regression estimation for each trend, then t-test on the slope."
   ]
  },
  {
   "cell_type": "markdown",
   "metadata": {},
   "source": [
    "#### Xerta"
   ]
  },
  {
   "cell_type": "code",
   "execution_count": null,
   "metadata": {},
   "outputs": [],
   "source": [
    "df = pd.DataFrame()\n",
    "timestamps = temp_df[\"DateTime\"].values.astype(float) / 10**9\n",
    "\n",
    "df[\"timestamps\"] = timestamps\n",
    "df[\"trend\"] = data_trend.values\n",
    "\n",
    "# scale the data\n",
    "scaler = StandardScaler()\n",
    "scaled_data = scaler.fit_transform(df[[\"timestamps\", \"trend\"]])\n",
    "df[\"timestamps\"] = scaled_data[:, 0]\n",
    "df[\"trend\"] = scaled_data[:, 1]\n",
    "\n",
    "data_model = sm.OLS(\n",
    "    df[\"trend\"], sm.add_constant(df[\"timestamps\"])\n",
    ").fit()"
   ]
  },
  {
   "cell_type": "code",
   "execution_count": null,
   "metadata": {},
   "outputs": [],
   "source": [
    "print(data_model.summary())"
   ]
  },
  {
   "cell_type": "code",
   "execution_count": null,
   "metadata": {},
   "outputs": [],
   "source": [
    "data_intercept = data_model.params[\"const\"]\n",
    "data_slope = data_model.params[\"timestamps\"]"
   ]
  },
  {
   "cell_type": "markdown",
   "metadata": {},
   "source": [
    "#### RCP 4.5"
   ]
  },
  {
   "cell_type": "code",
   "execution_count": null,
   "metadata": {},
   "outputs": [],
   "source": [
    "df = pd.DataFrame()\n",
    "timestamps = (\n",
    "    air_temp_rcp45_df[\"DateTime\"].values.astype(float) / 10**9\n",
    ")\n",
    "\n",
    "df[\"timestamps\"] = timestamps\n",
    "df[\"trend\"] = rcp45_trend.values\n",
    "\n",
    "# scale the data\n",
    "scaler = StandardScaler()\n",
    "scaled_data = scaler.fit_transform(df[[\"timestamps\", \"trend\"]])\n",
    "df[\"timestamps\"] = scaled_data[:, 0]\n",
    "df[\"trend\"] = scaled_data[:, 1]\n",
    "\n",
    "rcp45_model = sm.OLS(\n",
    "    df[\"trend\"], sm.add_constant(df[\"timestamps\"])\n",
    ").fit()"
   ]
  },
  {
   "cell_type": "code",
   "execution_count": null,
   "metadata": {},
   "outputs": [],
   "source": [
    "print(rcp45_model.summary())"
   ]
  },
  {
   "cell_type": "code",
   "execution_count": null,
   "metadata": {},
   "outputs": [],
   "source": [
    "rcp45_intercept = rcp45_model.params[\"const\"]\n",
    "rcp45_slope = rcp45_model.params[\"timestamps\"]"
   ]
  },
  {
   "cell_type": "markdown",
   "metadata": {},
   "source": [
    "#### RCP 8.5"
   ]
  },
  {
   "cell_type": "code",
   "execution_count": null,
   "metadata": {},
   "outputs": [],
   "source": [
    "df = pd.DataFrame()\n",
    "timestamps = (\n",
    "    air_temp_rcp85_df[\"DateTime\"].values.astype(float) / 10**9\n",
    ")\n",
    "\n",
    "df[\"timestamps\"] = timestamps\n",
    "df[\"trend\"] = rcp85_trend.values\n",
    "\n",
    "# scale the data\n",
    "scaler = StandardScaler()\n",
    "scaled_data = scaler.fit_transform(df[[\"timestamps\", \"trend\"]])\n",
    "df[\"timestamps\"] = scaled_data[:, 0]\n",
    "df[\"trend\"] = scaled_data[:, 1]\n",
    "\n",
    "rcp85_model = sm.OLS(\n",
    "    df[\"trend\"], sm.add_constant(df[\"timestamps\"])\n",
    ").fit()"
   ]
  },
  {
   "cell_type": "code",
   "execution_count": null,
   "metadata": {},
   "outputs": [],
   "source": [
    "print(rcp85_model.summary())"
   ]
  },
  {
   "cell_type": "code",
   "execution_count": null,
   "metadata": {},
   "outputs": [],
   "source": [
    "rcp85_intercept = rcp85_model.params[\"const\"]\n",
    "rcp85_slope = rcp85_model.params[\"timestamps\"]"
   ]
  },
  {
   "cell_type": "markdown",
   "metadata": {},
   "source": [
    "#### Final Comparison\n",
    "\n",
    "$t = \\frac{b_1 - b_2}{\\sqrt{s_{b_1}^2 + s_{b_2}^2}}$,\n",
    "$df = n_1 + n_2 - 4$"
   ]
  },
  {
   "cell_type": "code",
   "execution_count": null,
   "metadata": {},
   "outputs": [],
   "source": [
    "# plot regression lines using intercept and slope\n",
    "plt.figure(figsize=(20, 10))\n",
    "\n",
    "xx = np.linspace(-2, 2, 100)\n",
    "yy = data_intercept + data_slope * xx\n",
    "sns.lineplot(x=xx, y=yy, label=\"Historical Data\")\n",
    "\n",
    "yy = rcp45_intercept + rcp45_slope * xx\n",
    "sns.lineplot(x=xx, y=yy, label=\"RCP 4.5\")\n",
    "\n",
    "yy = rcp85_intercept + rcp85_slope * xx\n",
    "sns.lineplot(x=xx, y=yy, label=\"RCP 8.5\")\n",
    "\n",
    "plt.title(\"Air Temperature Trend Regression Lines\")\n",
    "\n",
    "plt.show()"
   ]
  },
  {
   "cell_type": "markdown",
   "metadata": {},
   "source": [
    "##### Data vs RCP 4.5"
   ]
  },
  {
   "cell_type": "code",
   "execution_count": null,
   "metadata": {},
   "outputs": [],
   "source": [
    "# Calculate the standard error of the difference in slopes\n",
    "se_diff = np.sqrt(\n",
    "    data_model.bse[\"timestamps\"] ** 2\n",
    "    + rcp45_model.bse[\"timestamps\"] ** 2\n",
    ")"
   ]
  },
  {
   "cell_type": "code",
   "execution_count": null,
   "metadata": {},
   "outputs": [],
   "source": [
    "t_stat = (data_slope - rcp45_slope) / se_diff\n",
    "# compute the degrees of freedom for the t-distribution\n",
    "dof = data_model._results.df_resid + rcp85_model._results.df_resid\n",
    "\n",
    "# calculate the p-value\n",
    "p_value = stats.t.sf(np.abs(t_stat), dof) * 2\n",
    "\n",
    "print(f\"t-statistic: {t_stat}\")\n",
    "print(f\"p-value: {p_value}\")\n",
    "print(f\"Degrees of Freedom: {dof}\")"
   ]
  },
  {
   "cell_type": "markdown",
   "metadata": {},
   "source": [
    "##### Data vs RCP 8.5"
   ]
  },
  {
   "cell_type": "code",
   "execution_count": null,
   "metadata": {},
   "outputs": [],
   "source": [
    "# Calculate the standard error of the difference in slopes\n",
    "se_diff = np.sqrt(\n",
    "    data_model.bse[\"timestamps\"] ** 2\n",
    "    + rcp85_model.bse[\"timestamps\"] ** 2\n",
    ")"
   ]
  },
  {
   "cell_type": "code",
   "execution_count": null,
   "metadata": {},
   "outputs": [],
   "source": [
    "t_stat = (data_slope - rcp85_slope) / se_diff\n",
    "# compute the degrees of freedom for the t-distribution\n",
    "dof = data_model._results.df_resid + rcp85_model._results.df_resid\n",
    "# calculate the p-value\n",
    "p_value = stats.t.sf(np.abs(t_stat), dof) * 2\n",
    "\n",
    "print(f\"t-statistic: {t_stat}\")\n",
    "print(f\"p-value: {p_value}\")\n",
    "print(f\"Degrees of Freedom: {dof}\")"
   ]
  },
  {
   "cell_type": "markdown",
   "metadata": {},
   "source": [
    "## Rainfall"
   ]
  },
  {
   "cell_type": "markdown",
   "metadata": {},
   "source": [
    "### Xerta"
   ]
  },
  {
   "cell_type": "code",
   "execution_count": null,
   "metadata": {},
   "outputs": [],
   "source": [
    "temp_df = xerta_df[\n",
    "    [\"Year\", \"Month\", \"Daily Cumulated Rainfall (L/m²)\", \"DateTime\"]\n",
    "]"
   ]
  },
  {
   "cell_type": "code",
   "execution_count": null,
   "metadata": {},
   "outputs": [],
   "source": [
    "plt.figure(figsize=(20, 10))\n",
    "\n",
    "sns.lineplot(\n",
    "    x=\"DateTime\",\n",
    "    y=\"Daily Cumulated Rainfall (L/m²)\",\n",
    "    data=temp_df,\n",
    "    label=\"Historical Data\",\n",
    ")"
   ]
  },
  {
   "cell_type": "code",
   "execution_count": null,
   "metadata": {},
   "outputs": [],
   "source": [
    "result = smt.seasonal_decompose(\n",
    "    x=temp_df.set_index(\"DateTime\")[\"Daily Cumulated Rainfall (L/m²)\"],\n",
    "    model=\"additive\",\n",
    "    period=12,\n",
    "    two_sided=True,\n",
    "    extrapolate_trend=\"freq\",\n",
    ")"
   ]
  },
  {
   "cell_type": "code",
   "execution_count": null,
   "metadata": {},
   "outputs": [],
   "source": [
    "data_trend = result.trend\n",
    "data_seasonal = result.seasonal\n",
    "data_residual = result.resid"
   ]
  },
  {
   "cell_type": "code",
   "execution_count": null,
   "metadata": {},
   "outputs": [],
   "source": [
    "plt.figure(figsize=(20, 10))\n",
    "\n",
    "plt.subplot(411)\n",
    "plt.plot(\n",
    "    temp_df.set_index(\"DateTime\")[\"Daily Cumulated Rainfall (L/m²)\"],\n",
    "    label=\"Original\",\n",
    ")\n",
    "plt.legend(loc=\"best\")\n",
    "plt.subplot(412)\n",
    "plt.plot(data_trend, label=\"Trend\")\n",
    "plt.legend(loc=\"best\")\n",
    "plt.subplot(413)\n",
    "plt.plot(data_seasonal, label=\"Seasonal\")\n",
    "plt.legend(loc=\"best\")\n",
    "plt.subplot(414)\n",
    "plt.plot(data_residual, label=\"Residual\")\n",
    "plt.legend(loc=\"best\")\n",
    "plt.tight_layout()\n",
    "\n",
    "plt.show()"
   ]
  },
  {
   "cell_type": "code",
   "execution_count": null,
   "metadata": {},
   "outputs": [],
   "source": [
    "# plot the trend\n",
    "plt.figure(figsize=(20, 10))\n",
    "\n",
    "sns.lineplot(\n",
    "    x=\"DateTime\",\n",
    "    y=\"Daily Cumulated Rainfall (L/m²)\",\n",
    "    data=temp_df,\n",
    "    label=\"Historical Data\",\n",
    ")\n",
    "\n",
    "sns.lineplot(\n",
    "    x=temp_df[\"DateTime\"],\n",
    "    y=data_trend.values,\n",
    "    label=\"Trend\",\n",
    ")\n",
    "\n",
    "plt.title(\"Rainfall Trend\")\n",
    "plt.xlabel(\"Year\")\n",
    "plt.ylabel(\"Average Monthly Rainfall (mm)\")\n",
    "plt.show()"
   ]
  },
  {
   "cell_type": "markdown",
   "metadata": {},
   "source": [
    "### RCP 4.5"
   ]
  },
  {
   "cell_type": "code",
   "execution_count": null,
   "metadata": {},
   "outputs": [],
   "source": [
    "# set the month to the time column\n",
    "rain_rcp45_df[\"DateTime\"] = rain_rcp45_df.apply(\n",
    "    lambda row: row[\"time\"].replace(month=int(row[\"Month\"]), day=15),\n",
    "    axis=1,\n",
    ")\n",
    "rain_rcp45_df.sort_values(by=\"DateTime\", inplace=True)"
   ]
  },
  {
   "cell_type": "code",
   "execution_count": null,
   "metadata": {},
   "outputs": [],
   "source": [
    "plt.figure(figsize=(20, 10))\n",
    "\n",
    "sns.lineplot(\n",
    "    x=\"DateTime\",\n",
    "    y=\"pr_ymonmean\",\n",
    "    data=rain_rcp45_df,\n",
    "    label=\"RCP 4.5\",\n",
    "    color=\"g\",\n",
    ")\n",
    "\n",
    "sns.lineplot(\n",
    "    x=\"DateTime\",\n",
    "    y=\"Daily Cumulated Rainfall (L/m²)\",\n",
    "    data=temp_df,\n",
    "    label=\"Xerta Data\",\n",
    "    color=\"black\",\n",
    ")\n",
    "\n",
    "plt.title(\"Rainfall\")\n",
    "plt.xlabel(\"Year\")\n",
    "plt.ylabel(\"Rainfall (mm)\")\n",
    "\n",
    "plt.show()"
   ]
  },
  {
   "cell_type": "code",
   "execution_count": null,
   "metadata": {},
   "outputs": [],
   "source": [
    "result = smt.seasonal_decompose(\n",
    "    x=rain_rcp45_df.set_index(\"DateTime\")[[\"pr_ymonmean\"]],\n",
    "    model=\"additive\",\n",
    "    period=12,\n",
    "    two_sided=True,\n",
    "    extrapolate_trend=\"freq\",\n",
    ")"
   ]
  },
  {
   "cell_type": "code",
   "execution_count": null,
   "metadata": {},
   "outputs": [],
   "source": [
    "rcp45_trend = result.trend\n",
    "rcp45_seasonal = result.seasonal\n",
    "rcp45_residual = result.resid"
   ]
  },
  {
   "cell_type": "code",
   "execution_count": null,
   "metadata": {},
   "outputs": [],
   "source": [
    "plt.figure(figsize=(20, 10))\n",
    "\n",
    "plt.subplot(411)\n",
    "plt.plot(\n",
    "    rain_rcp45_df.set_index(\"DateTime\")[\"pr_ymonmean\"], label=\"Original\"\n",
    ")\n",
    "plt.legend(loc=\"best\")\n",
    "plt.subplot(412)\n",
    "plt.plot(rcp45_trend, label=\"Trend\")\n",
    "plt.legend(loc=\"best\")\n",
    "plt.subplot(413)\n",
    "plt.plot(rcp45_seasonal, label=\"Seasonal\")\n",
    "plt.legend(loc=\"best\")\n",
    "plt.subplot(414)\n",
    "plt.plot(rcp45_residual, label=\"Residual\")\n",
    "plt.legend(loc=\"best\")\n",
    "plt.tight_layout()\n",
    "\n",
    "plt.show()"
   ]
  },
  {
   "cell_type": "code",
   "execution_count": null,
   "metadata": {},
   "outputs": [],
   "source": [
    "# plot the trend\n",
    "plt.figure(figsize=(20, 10))\n",
    "\n",
    "sns.lineplot(\n",
    "    x=\"DateTime\", y=\"pr_ymonmean\", data=rain_rcp45_df, label=\"RCP 4.5\"\n",
    ")\n",
    "\n",
    "sns.lineplot(\n",
    "    x=rain_rcp45_df[\"DateTime\"],\n",
    "    y=rcp45_trend.values,\n",
    "    label=\"Trend\",\n",
    ")\n",
    "\n",
    "plt.title(\"Rainfall Trend\")\n",
    "plt.xlabel(\"Year\")\n",
    "plt.ylabel(\"Average Monthly Rainfall (mm)\")\n",
    "plt.show()"
   ]
  },
  {
   "cell_type": "markdown",
   "metadata": {},
   "source": [
    "### RCP 8.5"
   ]
  },
  {
   "cell_type": "code",
   "execution_count": null,
   "metadata": {},
   "outputs": [],
   "source": [
    "# set the month to the time column\n",
    "rain_rcp85_df[\"DateTime\"] = rain_rcp85_df.apply(\n",
    "    lambda row: row[\"time\"].replace(month=int(row[\"Month\"]), day=15),\n",
    "    axis=1,\n",
    ")\n",
    "rain_rcp85_df.sort_values(by=\"DateTime\", inplace=True)"
   ]
  },
  {
   "cell_type": "code",
   "execution_count": null,
   "metadata": {},
   "outputs": [],
   "source": [
    "plt.figure(figsize=(20, 10))\n",
    "\n",
    "sns.lineplot(\n",
    "    x=\"DateTime\",\n",
    "    y=\"pr_ymonmean\",\n",
    "    data=rain_rcp85_df,\n",
    "    label=\"RCP 8.5\",\n",
    ")\n",
    "\n",
    "sns.lineplot(\n",
    "    x=\"DateTime\",\n",
    "    y=\"Daily Cumulated Rainfall (L/m²)\",\n",
    "    data=temp_df,\n",
    "    label=\"Tarragona Data\",\n",
    "    color=\"black\",\n",
    ")\n",
    "\n",
    "plt.xlabel(\"Year\")\n",
    "plt.ylabel(\"Rainfall (mm)\")\n",
    "\n",
    "plt.show()"
   ]
  },
  {
   "cell_type": "code",
   "execution_count": null,
   "metadata": {},
   "outputs": [],
   "source": [
    "result = smt.seasonal_decompose(\n",
    "    x=rain_rcp85_df.set_index(\"DateTime\")[[\"pr_ymonmean\"]],\n",
    "    model=\"additive\",\n",
    "    period=12,\n",
    "    two_sided=True,\n",
    "    extrapolate_trend=\"freq\",\n",
    ")"
   ]
  },
  {
   "cell_type": "code",
   "execution_count": null,
   "metadata": {},
   "outputs": [],
   "source": [
    "rcp85_trend = result.trend\n",
    "rcp85_seasonal = result.seasonal\n",
    "rcp85_residual = result.resid"
   ]
  },
  {
   "cell_type": "code",
   "execution_count": null,
   "metadata": {},
   "outputs": [],
   "source": [
    "plt.figure(figsize=(20, 10))\n",
    "\n",
    "plt.subplot(411)\n",
    "plt.plot(\n",
    "    rain_rcp85_df.set_index(\"DateTime\")[\"pr_ymonmean\"], label=\"Original\"\n",
    ")\n",
    "plt.legend(loc=\"best\")\n",
    "plt.subplot(412)\n",
    "plt.plot(rcp85_trend, label=\"Trend\")\n",
    "plt.legend(loc=\"best\")\n",
    "plt.subplot(413)\n",
    "plt.plot(rcp85_seasonal, label=\"Seasonal\")\n",
    "plt.legend(loc=\"best\")\n",
    "plt.subplot(414)\n",
    "plt.plot(rcp85_residual, label=\"Residual\")\n",
    "plt.legend(loc=\"best\")\n",
    "plt.tight_layout()\n",
    "\n",
    "plt.show()"
   ]
  },
  {
   "cell_type": "code",
   "execution_count": null,
   "metadata": {},
   "outputs": [],
   "source": [
    "# plot the trend\n",
    "plt.figure(figsize=(20, 10))\n",
    "\n",
    "sns.lineplot(\n",
    "    x=\"DateTime\", y=\"pr_ymonmean\", data=rain_rcp85_df, label=\"RCP 8.5\"\n",
    ")\n",
    "\n",
    "sns.lineplot(\n",
    "    x=rain_rcp85_df[\"DateTime\"],\n",
    "    y=rcp85_trend.values,\n",
    "    label=\"RCP 8.5 Trend\",\n",
    ")\n",
    "\n",
    "sns.lineplot(\n",
    "    x=\"DateTime\",\n",
    "    y=\"Daily Cumulated Rainfall (L/m²)\",\n",
    "    data=temp_df,\n",
    "    label=\"Tarragona Data\",\n",
    "    color=\"black\",\n",
    ")\n",
    "\n",
    "sns.lineplot(\n",
    "    x=temp_df[\"DateTime\"],\n",
    "    y=data_trend.values,\n",
    "    label=\"Tarragona Trend\",\n",
    "    color=\"red\",\n",
    ")\n",
    "\n",
    "plt.xlabel(\"Year\")\n",
    "plt.ylabel(\"Rainfall (mm)\")\n",
    "plt.show()"
   ]
  },
  {
   "cell_type": "markdown",
   "metadata": {},
   "source": [
    "### Compare Trends\n",
    "\n",
    "Linear Regression estimation for each trend, then t-test on the slope."
   ]
  },
  {
   "cell_type": "markdown",
   "metadata": {},
   "source": [
    "#### Xerta"
   ]
  },
  {
   "cell_type": "code",
   "execution_count": null,
   "metadata": {},
   "outputs": [],
   "source": [
    "df = pd.DataFrame()\n",
    "timestamps = temp_df[\"DateTime\"].values.astype(float) / 10**9\n",
    "\n",
    "df[\"timestamps\"] = timestamps\n",
    "df[\"trend\"] = data_trend.values\n",
    "\n",
    "# scale the data\n",
    "scaler = StandardScaler()\n",
    "scaled_data = scaler.fit_transform(df[[\"timestamps\", \"trend\"]])\n",
    "df[\"timestamps\"] = scaled_data[:, 0]\n",
    "df[\"trend\"] = scaled_data[:, 1]\n",
    "\n",
    "data_model = sm.OLS(\n",
    "    df[\"trend\"], sm.add_constant(df[\"timestamps\"])\n",
    ").fit()"
   ]
  },
  {
   "cell_type": "code",
   "execution_count": null,
   "metadata": {},
   "outputs": [],
   "source": [
    "print(data_model.summary())"
   ]
  },
  {
   "cell_type": "code",
   "execution_count": null,
   "metadata": {},
   "outputs": [],
   "source": [
    "data_intercept = data_model.params[\"const\"]\n",
    "data_slope = data_model.params[\"timestamps\"]"
   ]
  },
  {
   "cell_type": "markdown",
   "metadata": {},
   "source": [
    "#### RCP 4.5"
   ]
  },
  {
   "cell_type": "code",
   "execution_count": null,
   "metadata": {},
   "outputs": [],
   "source": [
    "df = pd.DataFrame()\n",
    "timestamps = rain_rcp45_df[\"DateTime\"].values.astype(float) / 10**9\n",
    "\n",
    "df[\"timestamps\"] = timestamps\n",
    "df[\"trend\"] = rcp45_trend.values\n",
    "\n",
    "# scale the data\n",
    "scaler = StandardScaler()\n",
    "scaled_data = scaler.fit_transform(df[[\"timestamps\", \"trend\"]])\n",
    "df[\"timestamps\"] = scaled_data[:, 0]\n",
    "df[\"trend\"] = scaled_data[:, 1]\n",
    "\n",
    "rcp45_model = sm.OLS(\n",
    "    df[\"trend\"], sm.add_constant(df[\"timestamps\"])\n",
    ").fit()"
   ]
  },
  {
   "cell_type": "code",
   "execution_count": null,
   "metadata": {},
   "outputs": [],
   "source": [
    "print(rcp45_model.summary())"
   ]
  },
  {
   "cell_type": "code",
   "execution_count": null,
   "metadata": {},
   "outputs": [],
   "source": [
    "rcp45_intercept = rcp45_model.params[\"const\"]\n",
    "rcp45_slope = rcp45_model.params[\"timestamps\"]"
   ]
  },
  {
   "cell_type": "markdown",
   "metadata": {},
   "source": [
    "#### RCP 8.5"
   ]
  },
  {
   "cell_type": "code",
   "execution_count": null,
   "metadata": {},
   "outputs": [],
   "source": [
    "df = pd.DataFrame()\n",
    "timestamps = rain_rcp85_df[\"DateTime\"].values.astype(float) / 10**9\n",
    "\n",
    "df[\"timestamps\"] = timestamps\n",
    "df[\"trend\"] = rcp85_trend.values\n",
    "\n",
    "# scale the data\n",
    "scaler = StandardScaler()\n",
    "scaled_data = scaler.fit_transform(df[[\"timestamps\", \"trend\"]])\n",
    "df[\"timestamps\"] = scaled_data[:, 0]\n",
    "df[\"trend\"] = scaled_data[:, 1]\n",
    "\n",
    "rcp85_model = sm.OLS(\n",
    "    df[\"trend\"], sm.add_constant(df[\"timestamps\"])\n",
    ").fit()"
   ]
  },
  {
   "cell_type": "code",
   "execution_count": null,
   "metadata": {},
   "outputs": [],
   "source": [
    "print(rcp85_model.summary())"
   ]
  },
  {
   "cell_type": "code",
   "execution_count": null,
   "metadata": {},
   "outputs": [],
   "source": [
    "rcp85_intercept = rcp85_model.params[\"const\"]\n",
    "rcp85_slope = rcp85_model.params[\"timestamps\"]"
   ]
  },
  {
   "cell_type": "markdown",
   "metadata": {},
   "source": [
    "#### Final Comparison\n",
    "\n",
    "$t = \\frac{b_1 - b_2}{\\sqrt{s_{b_1}^2 + s_{b_2}^2}}$,\n",
    "$df = n_1 + n_2 - 4$"
   ]
  },
  {
   "cell_type": "code",
   "execution_count": null,
   "metadata": {},
   "outputs": [],
   "source": [
    "# plot regression lines using intercept and slope\n",
    "plt.figure(figsize=(20, 10))\n",
    "\n",
    "xx = np.linspace(-2, 2, 100)\n",
    "yy = data_intercept + data_slope * xx\n",
    "sns.lineplot(x=xx, y=yy, label=\"Historical Data\")\n",
    "\n",
    "yy = rcp45_intercept + rcp45_slope * xx\n",
    "sns.lineplot(x=xx, y=yy, label=\"RCP 4.5\")\n",
    "\n",
    "yy = rcp85_intercept + rcp85_slope * xx\n",
    "sns.lineplot(x=xx, y=yy, label=\"RCP 8.5\")\n",
    "\n",
    "plt.title(\"Rainfall Trend Regression Lines\")\n",
    "\n",
    "plt.show()"
   ]
  },
  {
   "cell_type": "markdown",
   "metadata": {},
   "source": [
    "##### Data vs RCP 4.5"
   ]
  },
  {
   "cell_type": "code",
   "execution_count": null,
   "metadata": {},
   "outputs": [],
   "source": [
    "# Calculate the standard error of the difference in slopes\n",
    "se_diff = np.sqrt(\n",
    "    data_model.bse[\"timestamps\"] ** 2\n",
    "    + rcp45_model.bse[\"timestamps\"] ** 2\n",
    ")"
   ]
  },
  {
   "cell_type": "code",
   "execution_count": null,
   "metadata": {},
   "outputs": [],
   "source": [
    "t_stat = (data_slope - rcp45_slope) / se_diff\n",
    "# compute the degrees of freedom for the t-distribution\n",
    "dof = data_model._results.df_resid + rcp85_model._results.df_resid\n",
    "\n",
    "# calculate the p-value\n",
    "p_value = stats.t.sf(np.abs(t_stat), dof) * 2\n",
    "\n",
    "print(f\"t-statistic: {t_stat}\")\n",
    "print(f\"p-value: {p_value}\")\n",
    "print(f\"Degrees of Freedom: {dof}\")"
   ]
  },
  {
   "cell_type": "markdown",
   "metadata": {},
   "source": [
    "##### Data vs RCP 8.5"
   ]
  },
  {
   "cell_type": "code",
   "execution_count": null,
   "metadata": {},
   "outputs": [],
   "source": [
    "# Calculate the standard error of the difference in slopes\n",
    "se_diff = np.sqrt(\n",
    "    data_model.bse[\"timestamps\"] ** 2\n",
    "    + rcp85_model.bse[\"timestamps\"] ** 2\n",
    ")"
   ]
  },
  {
   "cell_type": "code",
   "execution_count": null,
   "metadata": {},
   "outputs": [],
   "source": [
    "t_stat = (data_slope - rcp85_slope) / se_diff\n",
    "# compute the degrees of freedom for the t-distribution\n",
    "dof = data_model._results.df_resid + rcp85_model._results.df_resid\n",
    "# calculate the p-value\n",
    "p_value = stats.t.sf(np.abs(t_stat), dof) * 2\n",
    "\n",
    "print(f\"t-statistic: {t_stat}\")\n",
    "print(f\"p-value: {p_value}\")\n",
    "print(f\"Degrees of Freedom: {dof}\")"
   ]
  },
  {
   "cell_type": "markdown",
   "metadata": {},
   "source": [
    "## Flow River"
   ]
  },
  {
   "cell_type": "markdown",
   "metadata": {},
   "source": [
    "### Xerta"
   ]
  },
  {
   "cell_type": "code",
   "execution_count": null,
   "metadata": {},
   "outputs": [],
   "source": [
    "temp_df = xerta_df[[\"Year\", \"Month\", \"Flow River (m³/s)\", \"DateTime\"]]"
   ]
  },
  {
   "cell_type": "code",
   "execution_count": null,
   "metadata": {},
   "outputs": [],
   "source": [
    "plt.figure(figsize=(20, 10))\n",
    "\n",
    "sns.lineplot(\n",
    "    x=\"DateTime\",\n",
    "    y=\"Flow River (m³/s)\",\n",
    "    data=temp_df,\n",
    "    label=\"Historical Data\",\n",
    ")"
   ]
  },
  {
   "cell_type": "code",
   "execution_count": null,
   "metadata": {},
   "outputs": [],
   "source": [
    "result = smt.seasonal_decompose(\n",
    "    x=temp_df.set_index(\"DateTime\")[\"Flow River (m³/s)\"],\n",
    "    model=\"multiplicative\",\n",
    "    period=12,\n",
    "    two_sided=False,\n",
    "    extrapolate_trend=\"freq\",\n",
    ")"
   ]
  },
  {
   "cell_type": "code",
   "execution_count": null,
   "metadata": {},
   "outputs": [],
   "source": [
    "data_trend = result.trend\n",
    "data_seasonal = result.seasonal\n",
    "data_residual = result.resid"
   ]
  },
  {
   "cell_type": "code",
   "execution_count": null,
   "metadata": {},
   "outputs": [],
   "source": [
    "plt.figure(figsize=(20, 10))\n",
    "\n",
    "plt.subplot(411)\n",
    "plt.plot(\n",
    "    temp_df.set_index(\"DateTime\")[\"Flow River (m³/s)\"], label=\"Original\"\n",
    ")\n",
    "plt.legend(loc=\"best\")\n",
    "plt.subplot(412)\n",
    "plt.plot(data_trend, label=\"Trend\")\n",
    "plt.legend(loc=\"best\")\n",
    "plt.subplot(413)\n",
    "plt.plot(data_seasonal, label=\"Seasonal\")\n",
    "plt.legend(loc=\"best\")\n",
    "plt.subplot(414)\n",
    "plt.plot(data_residual, label=\"Residual\")\n",
    "plt.legend(loc=\"best\")\n",
    "plt.tight_layout()\n",
    "\n",
    "plt.show()"
   ]
  },
  {
   "cell_type": "code",
   "execution_count": null,
   "metadata": {},
   "outputs": [],
   "source": [
    "# plot the trend\n",
    "plt.figure(figsize=(20, 10))\n",
    "\n",
    "sns.lineplot(\n",
    "    x=\"DateTime\",\n",
    "    y=\"Flow River (m³/s)\",\n",
    "    data=temp_df,\n",
    "    label=\"Historical Data\",\n",
    ")\n",
    "\n",
    "sns.lineplot(\n",
    "    x=temp_df[\"DateTime\"],\n",
    "    y=data_trend.values,\n",
    "    label=\"Trend\",\n",
    ")\n",
    "\n",
    "plt.title(\"Flow River Trend\")\n",
    "plt.xlabel(\"Year\")\n",
    "plt.ylabel(\"Flow River Rate (m³/s)\")\n",
    "plt.show()"
   ]
  },
  {
   "cell_type": "markdown",
   "metadata": {},
   "source": [
    "### RCP 4.5"
   ]
  },
  {
   "cell_type": "code",
   "execution_count": null,
   "metadata": {},
   "outputs": [],
   "source": [
    "# set the month to the time column\n",
    "flow_rcp45_df[\"DateTime\"] = flow_rcp45_df.apply(\n",
    "    lambda row: row[\"time\"].replace(month=int(row[\"Month\"]), day=15),\n",
    "    axis=1,\n",
    ")\n",
    "flow_rcp45_df.sort_values(by=\"DateTime\", inplace=True)"
   ]
  },
  {
   "cell_type": "code",
   "execution_count": null,
   "metadata": {},
   "outputs": [],
   "source": [
    "plt.figure(figsize=(20, 10))\n",
    "\n",
    "sns.lineplot(\n",
    "    x=\"DateTime\",\n",
    "    y=\"rdis_ymonmean\",\n",
    "    data=flow_rcp45_df,\n",
    "    label=\"RCP 4.5\",\n",
    "    color=\"g\",\n",
    ")\n",
    "\n",
    "sns.lineplot(\n",
    "    x=\"DateTime\",\n",
    "    y=\"Flow River (m³/s)\",\n",
    "    data=temp_df,\n",
    "    label=\"Xerta Data\",\n",
    "    color=\"black\",\n",
    ")\n",
    "\n",
    "plt.title(\"Flow River Rate\")\n",
    "plt.xlabel(\"Year\")\n",
    "plt.ylabel(\"Flow River Rate (m³/s)\")\n",
    "\n",
    "plt.show()"
   ]
  },
  {
   "cell_type": "code",
   "execution_count": null,
   "metadata": {},
   "outputs": [],
   "source": [
    "result = smt.seasonal_decompose(\n",
    "    x=flow_rcp45_df.set_index(\"DateTime\")[[\"rdis_ymonmean\"]],\n",
    "    model=\"additive\",\n",
    "    period=12,\n",
    "    two_sided=True,\n",
    "    extrapolate_trend=\"freq\",\n",
    ")"
   ]
  },
  {
   "cell_type": "code",
   "execution_count": null,
   "metadata": {},
   "outputs": [],
   "source": [
    "rcp45_trend = result.trend\n",
    "rcp45_seasonal = result.seasonal\n",
    "rcp45_residual = result.resid"
   ]
  },
  {
   "cell_type": "code",
   "execution_count": null,
   "metadata": {},
   "outputs": [],
   "source": [
    "plt.figure(figsize=(20, 10))\n",
    "\n",
    "plt.subplot(411)\n",
    "plt.plot(\n",
    "    flow_rcp45_df.set_index(\"DateTime\")[\"rdis_ymonmean\"],\n",
    "    label=\"Original\",\n",
    ")\n",
    "plt.legend(loc=\"best\")\n",
    "plt.subplot(412)\n",
    "plt.plot(rcp45_trend, label=\"Trend\")\n",
    "plt.legend(loc=\"best\")\n",
    "plt.subplot(413)\n",
    "plt.plot(rcp45_seasonal, label=\"Seasonal\")\n",
    "plt.legend(loc=\"best\")\n",
    "plt.subplot(414)\n",
    "plt.plot(rcp45_residual, label=\"Residual\")\n",
    "plt.legend(loc=\"best\")\n",
    "plt.tight_layout()\n",
    "\n",
    "plt.show()"
   ]
  },
  {
   "cell_type": "code",
   "execution_count": null,
   "metadata": {},
   "outputs": [],
   "source": [
    "# plot the trend\n",
    "plt.figure(figsize=(20, 10))\n",
    "\n",
    "sns.lineplot(\n",
    "    x=\"DateTime\", y=\"rdis_ymonmean\", data=flow_rcp45_df, label=\"RCP 4.5\"\n",
    ")\n",
    "\n",
    "sns.lineplot(\n",
    "    x=air_temp_rcp45_df[\"DateTime\"],\n",
    "    y=rcp45_trend.values,\n",
    "    label=\"Trend\",\n",
    ")\n",
    "\n",
    "plt.title(\"Flow River Trend\")\n",
    "plt.xlabel(\"Year\")\n",
    "plt.ylabel(\"Flow River Rate (m³/s)\")\n",
    "plt.show()"
   ]
  },
  {
   "cell_type": "markdown",
   "metadata": {},
   "source": [
    "### RCP 8.5"
   ]
  },
  {
   "cell_type": "code",
   "execution_count": null,
   "metadata": {},
   "outputs": [],
   "source": [
    "# set the month to the time column\n",
    "flow_rcp85_df[\"DateTime\"] = flow_rcp85_df.apply(\n",
    "    lambda row: row[\"time\"].replace(month=int(row[\"Month\"]), day=15),\n",
    "    axis=1,\n",
    ")\n",
    "flow_rcp85_df.sort_values(by=\"DateTime\", inplace=True)"
   ]
  },
  {
   "cell_type": "code",
   "execution_count": null,
   "metadata": {},
   "outputs": [],
   "source": [
    "plt.figure(figsize=(20, 10))\n",
    "\n",
    "sns.lineplot(\n",
    "    x=\"DateTime\",\n",
    "    y=\"rdis_ymonmean\",\n",
    "    data=flow_rcp85_df,\n",
    "    label=\"RCP 8.5\",\n",
    ")\n",
    "\n",
    "sns.lineplot(\n",
    "    x=\"DateTime\",\n",
    "    y=\"Flow River (m³/s)\",\n",
    "    data=temp_df,\n",
    "    label=\"Tarragona Data\",\n",
    "    color=\"black\",\n",
    ")\n",
    "\n",
    "plt.xlabel(\"Year\")\n",
    "plt.ylabel(\"Flow River Rate (m³/s)\")\n",
    "\n",
    "plt.show()"
   ]
  },
  {
   "cell_type": "code",
   "execution_count": null,
   "metadata": {},
   "outputs": [],
   "source": [
    "result = smt.seasonal_decompose(\n",
    "    x=flow_rcp85_df.set_index(\"DateTime\")[[\"rdis_ymonmean\"]],\n",
    "    model=\"additive\",\n",
    "    period=12,\n",
    "    two_sided=True,\n",
    "    extrapolate_trend=\"freq\",\n",
    ")"
   ]
  },
  {
   "cell_type": "code",
   "execution_count": null,
   "metadata": {},
   "outputs": [],
   "source": [
    "rcp85_trend = result.trend\n",
    "rcp85_seasonal = result.seasonal\n",
    "rcp85_residual = result.resid"
   ]
  },
  {
   "cell_type": "code",
   "execution_count": null,
   "metadata": {},
   "outputs": [],
   "source": [
    "plt.figure(figsize=(20, 10))\n",
    "\n",
    "plt.subplot(411)\n",
    "plt.plot(\n",
    "    flow_rcp85_df.set_index(\"DateTime\")[\"rdis_ymonmean\"],\n",
    "    label=\"Original\",\n",
    ")\n",
    "plt.legend(loc=\"best\")\n",
    "plt.subplot(412)\n",
    "plt.plot(rcp85_trend, label=\"Trend\")\n",
    "plt.legend(loc=\"best\")\n",
    "plt.subplot(413)\n",
    "plt.plot(rcp85_seasonal, label=\"Seasonal\")\n",
    "plt.legend(loc=\"best\")\n",
    "plt.subplot(414)\n",
    "plt.plot(rcp85_residual, label=\"Residual\")\n",
    "plt.legend(loc=\"best\")\n",
    "plt.tight_layout()\n",
    "\n",
    "plt.show()"
   ]
  },
  {
   "cell_type": "code",
   "execution_count": null,
   "metadata": {},
   "outputs": [],
   "source": [
    "# plot the trend\n",
    "plt.figure(figsize=(20, 10))\n",
    "\n",
    "sns.lineplot(\n",
    "    x=\"DateTime\", y=\"rdis_ymonmean\", data=flow_rcp85_df, label=\"RCP 8.5\"\n",
    ")\n",
    "\n",
    "sns.lineplot(\n",
    "    x=flow_rcp85_df[\"DateTime\"],\n",
    "    y=rcp85_trend.values,\n",
    "    label=\"RCP 8.5 Trend\",\n",
    ")\n",
    "\n",
    "sns.lineplot(\n",
    "    x=\"DateTime\",\n",
    "    y=\"Flow River (m³/s)\",\n",
    "    data=temp_df,\n",
    "    label=\"Tarragona Data\",\n",
    "    color=\"black\",\n",
    ")\n",
    "\n",
    "sns.lineplot(\n",
    "    x=temp_df[\"DateTime\"],\n",
    "    y=data_trend.values,\n",
    "    label=\"Tarragona Trend\",\n",
    "    color=\"red\",\n",
    ")\n",
    "\n",
    "plt.xlabel(\"Year\")\n",
    "plt.ylabel(\"Flow River Rate (m³/s)\")\n",
    "plt.show()"
   ]
  },
  {
   "cell_type": "markdown",
   "metadata": {},
   "source": [
    "### Compare Trends\n",
    "\n",
    "Linear Regression estimation for each trend, then t-test on the slope."
   ]
  },
  {
   "cell_type": "markdown",
   "metadata": {},
   "source": [
    "#### Xerta"
   ]
  },
  {
   "cell_type": "code",
   "execution_count": null,
   "metadata": {},
   "outputs": [],
   "source": [
    "df = pd.DataFrame()\n",
    "timestamps = temp_df[\"DateTime\"].values.astype(float) / 10**9\n",
    "\n",
    "df[\"timestamps\"] = timestamps\n",
    "df[\"trend\"] = data_trend.values\n",
    "\n",
    "# scale the data\n",
    "scaler = StandardScaler()\n",
    "scaled_data = scaler.fit_transform(df[[\"timestamps\", \"trend\"]])\n",
    "df[\"timestamps\"] = scaled_data[:, 0]\n",
    "df[\"trend\"] = scaled_data[:, 1]\n",
    "\n",
    "data_model = sm.OLS(\n",
    "    df[\"trend\"], sm.add_constant(df[\"timestamps\"])\n",
    ").fit()"
   ]
  },
  {
   "cell_type": "code",
   "execution_count": null,
   "metadata": {},
   "outputs": [],
   "source": [
    "print(data_model.summary())"
   ]
  },
  {
   "cell_type": "code",
   "execution_count": null,
   "metadata": {},
   "outputs": [],
   "source": [
    "data_intercept = data_model.params[\"const\"]\n",
    "data_slope = data_model.params[\"timestamps\"]"
   ]
  },
  {
   "cell_type": "markdown",
   "metadata": {},
   "source": [
    "#### RCP 4.5"
   ]
  },
  {
   "cell_type": "code",
   "execution_count": null,
   "metadata": {},
   "outputs": [],
   "source": [
    "df = pd.DataFrame()\n",
    "timestamps = flow_rcp45_df[\"DateTime\"].values.astype(float) / 10**9\n",
    "\n",
    "df[\"timestamps\"] = timestamps\n",
    "df[\"trend\"] = rcp45_trend.values\n",
    "\n",
    "# scale the data\n",
    "scaler = StandardScaler()\n",
    "scaled_data = scaler.fit_transform(df[[\"timestamps\", \"trend\"]])\n",
    "df[\"timestamps\"] = scaled_data[:, 0]\n",
    "df[\"trend\"] = scaled_data[:, 1]\n",
    "\n",
    "rcp45_model = sm.OLS(\n",
    "    df[\"trend\"], sm.add_constant(df[\"timestamps\"])\n",
    ").fit()"
   ]
  },
  {
   "cell_type": "code",
   "execution_count": null,
   "metadata": {},
   "outputs": [],
   "source": [
    "print(rcp45_model.summary())"
   ]
  },
  {
   "cell_type": "code",
   "execution_count": null,
   "metadata": {},
   "outputs": [],
   "source": [
    "rcp45_intercept = rcp45_model.params[\"const\"]\n",
    "rcp45_slope = rcp45_model.params[\"timestamps\"]"
   ]
  },
  {
   "cell_type": "markdown",
   "metadata": {},
   "source": [
    "#### RCP 8.5"
   ]
  },
  {
   "cell_type": "code",
   "execution_count": null,
   "metadata": {},
   "outputs": [],
   "source": [
    "df = pd.DataFrame()\n",
    "timestamps = flow_rcp85_df[\"DateTime\"].values.astype(float) / 10**9\n",
    "\n",
    "df[\"timestamps\"] = timestamps\n",
    "df[\"trend\"] = rcp85_trend.values\n",
    "\n",
    "# scale the data\n",
    "scaler = StandardScaler()\n",
    "scaled_data = scaler.fit_transform(df[[\"timestamps\", \"trend\"]])\n",
    "df[\"timestamps\"] = scaled_data[:, 0]\n",
    "df[\"trend\"] = scaled_data[:, 1]\n",
    "\n",
    "rcp85_model = sm.OLS(\n",
    "    df[\"trend\"], sm.add_constant(df[\"timestamps\"])\n",
    ").fit()"
   ]
  },
  {
   "cell_type": "code",
   "execution_count": null,
   "metadata": {},
   "outputs": [],
   "source": [
    "print(rcp85_model.summary())"
   ]
  },
  {
   "cell_type": "code",
   "execution_count": null,
   "metadata": {},
   "outputs": [],
   "source": [
    "rcp85_intercept = rcp85_model.params[\"const\"]\n",
    "rcp85_slope = rcp85_model.params[\"timestamps\"]"
   ]
  },
  {
   "cell_type": "markdown",
   "metadata": {},
   "source": [
    "#### Final Comparison\n",
    "\n",
    "$t = \\frac{b_1 - b_2}{\\sqrt{s_{b_1}^2 + s_{b_2}^2}}$,\n",
    "$df = n_1 + n_2 - 4$"
   ]
  },
  {
   "cell_type": "code",
   "execution_count": null,
   "metadata": {},
   "outputs": [],
   "source": [
    "# plot regression lines using intercept and slope\n",
    "plt.figure(figsize=(20, 10))\n",
    "\n",
    "xx = np.linspace(-2, 2, 100)\n",
    "yy = data_intercept + data_slope * xx\n",
    "sns.lineplot(x=xx, y=yy, label=\"Historical Data\")\n",
    "\n",
    "yy = rcp45_intercept + rcp45_slope * xx\n",
    "sns.lineplot(x=xx, y=yy, label=\"RCP 4.5\")\n",
    "\n",
    "yy = rcp85_intercept + rcp85_slope * xx\n",
    "sns.lineplot(x=xx, y=yy, label=\"RCP 8.5\")\n",
    "\n",
    "plt.title(\"Air Temperature Trend Regression Lines\")\n",
    "\n",
    "plt.show()"
   ]
  },
  {
   "cell_type": "markdown",
   "metadata": {},
   "source": [
    "##### Data vs RCP 4.5"
   ]
  },
  {
   "cell_type": "code",
   "execution_count": null,
   "metadata": {},
   "outputs": [],
   "source": [
    "# Calculate the standard error of the difference in slopes\n",
    "se_diff = np.sqrt(\n",
    "    data_model.bse[\"timestamps\"] ** 2\n",
    "    + rcp45_model.bse[\"timestamps\"] ** 2\n",
    ")"
   ]
  },
  {
   "cell_type": "code",
   "execution_count": null,
   "metadata": {},
   "outputs": [],
   "source": [
    "t_stat = (data_slope - rcp45_slope) / se_diff\n",
    "# compute the degrees of freedom for the t-distribution\n",
    "dof = data_model._results.df_resid + rcp85_model._results.df_resid\n",
    "\n",
    "# calculate the p-value\n",
    "p_value = stats.t.sf(np.abs(t_stat), dof) * 2\n",
    "\n",
    "print(f\"t-statistic: {t_stat}\")\n",
    "print(f\"p-value: {p_value}\")\n",
    "print(f\"Degrees of Freedom: {dof}\")"
   ]
  },
  {
   "cell_type": "markdown",
   "metadata": {},
   "source": [
    "##### Data vs RCP 8.5"
   ]
  },
  {
   "cell_type": "code",
   "execution_count": null,
   "metadata": {},
   "outputs": [],
   "source": [
    "# Calculate the standard error of the difference in slopes\n",
    "se_diff = np.sqrt(\n",
    "    data_model.bse[\"timestamps\"] ** 2\n",
    "    + rcp85_model.bse[\"timestamps\"] ** 2\n",
    ")"
   ]
  },
  {
   "cell_type": "code",
   "execution_count": null,
   "metadata": {},
   "outputs": [],
   "source": [
    "t_stat = (data_slope - rcp85_slope) / se_diff\n",
    "# compute the degrees of freedom for the t-distribution\n",
    "dof = data_model._results.df_resid + rcp85_model._results.df_resid\n",
    "# calculate the p-value\n",
    "p_value = stats.t.sf(np.abs(t_stat), dof) * 2\n",
    "\n",
    "print(f\"t-statistic: {t_stat}\")\n",
    "print(f\"p-value: {p_value}\")\n",
    "print(f\"Degrees of Freedom: {dof}\")"
   ]
  },
  {
   "cell_type": "markdown",
   "metadata": {},
   "source": [
    "## Water Temperature"
   ]
  },
  {
   "cell_type": "markdown",
   "metadata": {},
   "source": [
    "### Xerta"
   ]
  },
  {
   "cell_type": "code",
   "execution_count": null,
   "metadata": {},
   "outputs": [],
   "source": [
    "temp_df = xerta_df[\n",
    "    [\"Year\", \"Month\", \"Water Temperature (°C)\", \"DateTime\"]\n",
    "]"
   ]
  },
  {
   "cell_type": "code",
   "execution_count": null,
   "metadata": {},
   "outputs": [],
   "source": [
    "plt.figure(figsize=(20, 10))\n",
    "\n",
    "sns.lineplot(\n",
    "    x=\"DateTime\",\n",
    "    y=\"Water Temperature (°C)\",\n",
    "    data=temp_df,\n",
    "    label=\"Historical Data\",\n",
    ")"
   ]
  },
  {
   "cell_type": "code",
   "execution_count": null,
   "metadata": {},
   "outputs": [],
   "source": [
    "result = smt.seasonal_decompose(\n",
    "    x=temp_df.set_index(\"DateTime\")[\"Water Temperature (°C)\"],\n",
    "    model=\"multiplicative\",\n",
    "    period=12,\n",
    "    two_sided=True,\n",
    "    extrapolate_trend=\"freq\",\n",
    ")"
   ]
  },
  {
   "cell_type": "code",
   "execution_count": null,
   "metadata": {},
   "outputs": [],
   "source": [
    "data_trend = result.trend\n",
    "data_seasonal = result.seasonal\n",
    "data_residual = result.resid"
   ]
  },
  {
   "cell_type": "code",
   "execution_count": null,
   "metadata": {},
   "outputs": [],
   "source": [
    "plt.figure(figsize=(20, 10))\n",
    "\n",
    "plt.subplot(411)\n",
    "plt.plot(\n",
    "    temp_df.set_index(\"DateTime\")[\"Water Temperature (°C)\"],\n",
    "    label=\"Original\",\n",
    ")\n",
    "plt.legend(loc=\"best\")\n",
    "plt.subplot(412)\n",
    "plt.plot(data_trend, label=\"Trend\")\n",
    "plt.legend(loc=\"best\")\n",
    "plt.subplot(413)\n",
    "plt.plot(data_seasonal, label=\"Seasonal\")\n",
    "plt.legend(loc=\"best\")\n",
    "plt.subplot(414)\n",
    "plt.plot(data_residual, label=\"Residual\")\n",
    "plt.legend(loc=\"best\")\n",
    "plt.tight_layout()\n",
    "\n",
    "plt.show()"
   ]
  },
  {
   "cell_type": "code",
   "execution_count": null,
   "metadata": {},
   "outputs": [],
   "source": [
    "# plot the trend\n",
    "plt.figure(figsize=(20, 10))\n",
    "\n",
    "sns.lineplot(\n",
    "    x=\"DateTime\",\n",
    "    y=\"Water Temperature (°C)\",\n",
    "    data=temp_df,\n",
    "    label=\"Historical Data\",\n",
    ")\n",
    "\n",
    "sns.lineplot(\n",
    "    x=temp_df[\"DateTime\"],\n",
    "    y=data_trend.values,\n",
    "    label=\"Trend\",\n",
    ")\n",
    "\n",
    "plt.title(\"Water Temperature Trend\")\n",
    "plt.xlabel(\"Year\")\n",
    "plt.ylabel(\"Temperature (°C)\")\n",
    "plt.show()"
   ]
  },
  {
   "cell_type": "markdown",
   "metadata": {},
   "source": [
    "### RCP 4.5"
   ]
  },
  {
   "cell_type": "code",
   "execution_count": null,
   "metadata": {},
   "outputs": [],
   "source": [
    "# set the month to the time column\n",
    "water_temp_rcp45_df.rename(columns={\"DateTime\": \"time\"}, inplace=True)\n",
    "water_temp_rcp45_df[\"DateTime\"] = water_temp_rcp45_df.apply(\n",
    "    lambda row: row[\"time\"].replace(month=int(row[\"Month\"]), day=15),\n",
    "    axis=1,\n",
    ")\n",
    "water_temp_rcp45_df.sort_values(by=\"DateTime\", inplace=True)"
   ]
  },
  {
   "cell_type": "code",
   "execution_count": null,
   "metadata": {},
   "outputs": [],
   "source": [
    "plt.figure(figsize=(20, 10))\n",
    "\n",
    "sns.lineplot(\n",
    "    x=\"DateTime\",\n",
    "    y=\"Value\",\n",
    "    data=water_temp_rcp45_df,\n",
    "    label=\"RCP 4.5\",\n",
    "    errorbar=None,\n",
    "    color=\"g\",\n",
    ")\n",
    "\n",
    "sns.lineplot(\n",
    "    x=\"DateTime\",\n",
    "    y=\"Water Temperature (°C)\",\n",
    "    data=temp_df,\n",
    "    label=\"Xerta Data\",\n",
    "    color=\"black\",\n",
    ")\n",
    "\n",
    "plt.title(\"Water Temperature\")\n",
    "plt.xlabel(\"Year\")\n",
    "plt.ylabel(\"Water Temperature (°C)\")\n",
    "\n",
    "plt.show()"
   ]
  },
  {
   "cell_type": "code",
   "execution_count": null,
   "metadata": {},
   "outputs": [],
   "source": [
    "result = smt.seasonal_decompose(\n",
    "    x=water_temp_rcp45_df.set_index(\"DateTime\")[[\"Value\"]],\n",
    "    model=\"additive\",\n",
    "    period=12,\n",
    "    two_sided=True,\n",
    "    extrapolate_trend=\"freq\",\n",
    ")"
   ]
  },
  {
   "cell_type": "code",
   "execution_count": null,
   "metadata": {},
   "outputs": [],
   "source": [
    "rcp45_trend = result.trend\n",
    "rcp45_seasonal = result.seasonal\n",
    "rcp45_residual = result.resid"
   ]
  },
  {
   "cell_type": "code",
   "execution_count": null,
   "metadata": {},
   "outputs": [],
   "source": [
    "plt.figure(figsize=(20, 10))\n",
    "\n",
    "plt.subplot(411)\n",
    "plt.plot(\n",
    "    water_temp_rcp45_df.set_index(\"DateTime\")[\"Value\"], label=\"Original\"\n",
    ")\n",
    "plt.legend(loc=\"best\")\n",
    "plt.subplot(412)\n",
    "plt.plot(rcp45_trend, label=\"Trend\")\n",
    "plt.legend(loc=\"best\")\n",
    "plt.subplot(413)\n",
    "plt.plot(rcp45_seasonal, label=\"Seasonal\")\n",
    "plt.legend(loc=\"best\")\n",
    "plt.subplot(414)\n",
    "plt.plot(rcp45_residual, label=\"Residual\")\n",
    "plt.legend(loc=\"best\")\n",
    "plt.tight_layout()\n",
    "\n",
    "plt.show()"
   ]
  },
  {
   "cell_type": "code",
   "execution_count": null,
   "metadata": {},
   "outputs": [],
   "source": [
    "# plot the trend\n",
    "plt.figure(figsize=(20, 10))\n",
    "\n",
    "sns.lineplot(\n",
    "    x=\"DateTime\", y=\"Value\", data=water_temp_rcp45_df, label=\"RCP 4.5\"\n",
    ")\n",
    "\n",
    "sns.lineplot(\n",
    "    x=water_temp_rcp45_df[\"DateTime\"],\n",
    "    y=rcp45_trend.values,\n",
    "    label=\"Trend\",\n",
    ")\n",
    "\n",
    "plt.title(\"Water Temperature Trend\")\n",
    "plt.xlabel(\"Year\")\n",
    "plt.ylabel(\"Temperature (°C)\")\n",
    "plt.show()"
   ]
  },
  {
   "cell_type": "markdown",
   "metadata": {},
   "source": [
    "### RCP 8.5"
   ]
  },
  {
   "cell_type": "code",
   "execution_count": null,
   "metadata": {},
   "outputs": [],
   "source": [
    "# set the month to the time column\n",
    "water_temp_rcp85_df.rename(columns={\"DateTime\": \"time\"}, inplace=True)\n",
    "water_temp_rcp85_df[\"DateTime\"] = water_temp_rcp85_df.apply(\n",
    "    lambda row: row[\"time\"].replace(month=int(row[\"Month\"]), day=15),\n",
    "    axis=1,\n",
    ")\n",
    "water_temp_rcp85_df.sort_values(by=\"DateTime\", inplace=True)"
   ]
  },
  {
   "cell_type": "code",
   "execution_count": null,
   "metadata": {},
   "outputs": [],
   "source": [
    "plt.figure(figsize=(20, 10))\n",
    "\n",
    "sns.lineplot(\n",
    "    x=\"DateTime\",\n",
    "    y=\"Value\",\n",
    "    data=water_temp_rcp85_df,\n",
    "    label=\"RCP 8.5\",\n",
    ")\n",
    "\n",
    "sns.lineplot(\n",
    "    x=\"DateTime\",\n",
    "    y=\"Water Temperature (°C)\",\n",
    "    data=temp_df,\n",
    "    label=\"Tarragona Data\",\n",
    "    color=\"black\",\n",
    ")\n",
    "\n",
    "plt.xlabel(\"Year\")\n",
    "plt.ylabel(\"Water Temperature (°C)\")\n",
    "\n",
    "plt.show()"
   ]
  },
  {
   "cell_type": "code",
   "execution_count": null,
   "metadata": {},
   "outputs": [],
   "source": [
    "result = smt.seasonal_decompose(\n",
    "    x=water_temp_rcp85_df.set_index(\"DateTime\")[[\"Value\"]],\n",
    "    model=\"additive\",\n",
    "    period=12,\n",
    "    two_sided=True,\n",
    "    extrapolate_trend=\"freq\",\n",
    ")"
   ]
  },
  {
   "cell_type": "code",
   "execution_count": null,
   "metadata": {},
   "outputs": [],
   "source": [
    "rcp85_trend = result.trend\n",
    "rcp85_seasonal = result.seasonal\n",
    "rcp85_residual = result.resid"
   ]
  },
  {
   "cell_type": "code",
   "execution_count": null,
   "metadata": {},
   "outputs": [],
   "source": [
    "plt.figure(figsize=(20, 10))\n",
    "\n",
    "plt.subplot(411)\n",
    "plt.plot(\n",
    "    water_temp_rcp85_df.set_index(\"DateTime\")[\"Value\"], label=\"Original\"\n",
    ")\n",
    "plt.legend(loc=\"best\")\n",
    "plt.subplot(412)\n",
    "plt.plot(rcp85_trend, label=\"Trend\")\n",
    "plt.legend(loc=\"best\")\n",
    "plt.subplot(413)\n",
    "plt.plot(rcp85_seasonal, label=\"Seasonal\")\n",
    "plt.legend(loc=\"best\")\n",
    "plt.subplot(414)\n",
    "plt.plot(rcp85_residual, label=\"Residual\")\n",
    "plt.legend(loc=\"best\")\n",
    "plt.tight_layout()\n",
    "\n",
    "plt.show()"
   ]
  },
  {
   "cell_type": "code",
   "execution_count": null,
   "metadata": {},
   "outputs": [],
   "source": [
    "# plot the trend\n",
    "plt.figure(figsize=(20, 10))\n",
    "\n",
    "sns.lineplot(\n",
    "    x=\"DateTime\", y=\"Value\", data=water_temp_rcp85_df, label=\"RCP 8.5\"\n",
    ")\n",
    "\n",
    "sns.lineplot(\n",
    "    x=water_temp_rcp85_df[\"DateTime\"],\n",
    "    y=rcp85_trend.values,\n",
    "    label=\"RCP 8.5 Trend\",\n",
    ")\n",
    "\n",
    "sns.lineplot(\n",
    "    x=\"DateTime\",\n",
    "    y=\"Water Temperature (°C)\",\n",
    "    data=temp_df,\n",
    "    label=\"Tarragona Data\",\n",
    "    color=\"black\",\n",
    ")\n",
    "\n",
    "sns.lineplot(\n",
    "    x=temp_df[\"DateTime\"],\n",
    "    y=data_trend.values,\n",
    "    label=\"Tarragona Trend\",\n",
    "    color=\"red\",\n",
    ")\n",
    "\n",
    "plt.xlabel(\"Year\")\n",
    "plt.ylabel(\"Water Temperature (°C)\")\n",
    "plt.show()"
   ]
  },
  {
   "cell_type": "markdown",
   "metadata": {},
   "source": [
    "### Compare Trends\n",
    "\n",
    "Linear Regression estimation for each trend, then t-test on the slope."
   ]
  },
  {
   "cell_type": "markdown",
   "metadata": {},
   "source": [
    "#### Xerta"
   ]
  },
  {
   "cell_type": "code",
   "execution_count": null,
   "metadata": {},
   "outputs": [],
   "source": [
    "df = pd.DataFrame()\n",
    "timestamps = temp_df[\"DateTime\"].values.astype(float) / 10**9\n",
    "\n",
    "df[\"timestamps\"] = timestamps\n",
    "df[\"trend\"] = data_trend.values\n",
    "\n",
    "# scale the data\n",
    "scaler = StandardScaler()\n",
    "scaled_data = scaler.fit_transform(df[[\"timestamps\", \"trend\"]])\n",
    "df[\"timestamps\"] = scaled_data[:, 0]\n",
    "df[\"trend\"] = scaled_data[:, 1]\n",
    "\n",
    "data_model = sm.OLS(\n",
    "    df[\"trend\"], sm.add_constant(df[\"timestamps\"])\n",
    ").fit()"
   ]
  },
  {
   "cell_type": "code",
   "execution_count": null,
   "metadata": {},
   "outputs": [],
   "source": [
    "print(data_model.summary())"
   ]
  },
  {
   "cell_type": "code",
   "execution_count": null,
   "metadata": {},
   "outputs": [],
   "source": [
    "data_intercept = data_model.params[\"const\"]\n",
    "data_slope = data_model.params[\"timestamps\"]"
   ]
  },
  {
   "cell_type": "markdown",
   "metadata": {},
   "source": [
    "#### RCP 4.5"
   ]
  },
  {
   "cell_type": "code",
   "execution_count": null,
   "metadata": {},
   "outputs": [],
   "source": [
    "df = pd.DataFrame()\n",
    "timestamps = (\n",
    "    water_temp_rcp45_df[\"DateTime\"].values.astype(float) / 10**9\n",
    ")\n",
    "\n",
    "df[\"timestamps\"] = timestamps\n",
    "df[\"trend\"] = rcp45_trend.values\n",
    "\n",
    "# scale the data\n",
    "scaler = StandardScaler()\n",
    "scaled_data = scaler.fit_transform(df[[\"timestamps\", \"trend\"]])\n",
    "df[\"timestamps\"] = scaled_data[:, 0]\n",
    "df[\"trend\"] = scaled_data[:, 1]\n",
    "\n",
    "rcp45_model = sm.OLS(\n",
    "    df[\"trend\"], sm.add_constant(df[\"timestamps\"])\n",
    ").fit()"
   ]
  },
  {
   "cell_type": "code",
   "execution_count": null,
   "metadata": {},
   "outputs": [],
   "source": [
    "print(rcp45_model.summary())"
   ]
  },
  {
   "cell_type": "code",
   "execution_count": null,
   "metadata": {},
   "outputs": [],
   "source": [
    "rcp45_intercept = rcp45_model.params[\"const\"]\n",
    "rcp45_slope = rcp45_model.params[\"timestamps\"]"
   ]
  },
  {
   "cell_type": "markdown",
   "metadata": {},
   "source": [
    "#### RCP 8.5"
   ]
  },
  {
   "cell_type": "code",
   "execution_count": null,
   "metadata": {},
   "outputs": [],
   "source": [
    "df = pd.DataFrame()\n",
    "timestamps = (\n",
    "    water_temp_rcp85_df[\"DateTime\"].values.astype(float) / 10**9\n",
    ")\n",
    "\n",
    "df[\"timestamps\"] = timestamps\n",
    "df[\"trend\"] = rcp85_trend.values\n",
    "\n",
    "# scale the data\n",
    "scaler = StandardScaler()\n",
    "scaled_data = scaler.fit_transform(df[[\"timestamps\", \"trend\"]])\n",
    "df[\"timestamps\"] = scaled_data[:, 0]\n",
    "df[\"trend\"] = scaled_data[:, 1]\n",
    "\n",
    "rcp85_model = sm.OLS(\n",
    "    df[\"trend\"], sm.add_constant(df[\"timestamps\"])\n",
    ").fit()"
   ]
  },
  {
   "cell_type": "code",
   "execution_count": null,
   "metadata": {},
   "outputs": [],
   "source": [
    "print(rcp85_model.summary())"
   ]
  },
  {
   "cell_type": "code",
   "execution_count": null,
   "metadata": {},
   "outputs": [],
   "source": [
    "rcp85_intercept = rcp85_model.params[\"const\"]\n",
    "rcp85_slope = rcp85_model.params[\"timestamps\"]"
   ]
  },
  {
   "cell_type": "markdown",
   "metadata": {},
   "source": [
    "#### Final Comparison\n",
    "\n",
    "$t = \\frac{b_1 - b_2}{\\sqrt{s_{b_1}^2 + s_{b_2}^2}}$,\n",
    "$df = n_1 + n_2 - 4$"
   ]
  },
  {
   "cell_type": "code",
   "execution_count": null,
   "metadata": {},
   "outputs": [],
   "source": [
    "# plot regression lines using intercept and slope\n",
    "plt.figure(figsize=(20, 10))\n",
    "\n",
    "xx = np.linspace(-2, 2, 100)\n",
    "yy = data_intercept + data_slope * xx\n",
    "sns.lineplot(x=xx, y=yy, label=\"Historical Data\")\n",
    "\n",
    "yy = rcp45_intercept + rcp45_slope * xx\n",
    "sns.lineplot(x=xx, y=yy, label=\"RCP 4.5\")\n",
    "\n",
    "yy = rcp85_intercept + rcp85_slope * xx\n",
    "sns.lineplot(x=xx, y=yy, label=\"RCP 8.5\")\n",
    "\n",
    "plt.title(\"Air Temperature Trend Regression Lines\")\n",
    "\n",
    "plt.show()"
   ]
  },
  {
   "cell_type": "markdown",
   "metadata": {},
   "source": [
    "##### Data vs RCP 4.5"
   ]
  },
  {
   "cell_type": "code",
   "execution_count": null,
   "metadata": {},
   "outputs": [],
   "source": [
    "# Calculate the standard error of the difference in slopes\n",
    "se_diff = np.sqrt(\n",
    "    data_model.bse[\"timestamps\"] ** 2\n",
    "    + rcp45_model.bse[\"timestamps\"] ** 2\n",
    ")"
   ]
  },
  {
   "cell_type": "code",
   "execution_count": null,
   "metadata": {},
   "outputs": [],
   "source": [
    "t_stat = (data_slope - rcp45_slope) / se_diff\n",
    "# compute the degrees of freedom for the t-distribution\n",
    "dof = data_model._results.df_resid + rcp85_model._results.df_resid\n",
    "\n",
    "# calculate the p-value\n",
    "p_value = stats.t.sf(np.abs(t_stat), dof) * 2\n",
    "\n",
    "print(f\"t-statistic: {t_stat}\")\n",
    "print(f\"p-value: {p_value}\")\n",
    "print(f\"Degrees of Freedom: {dof}\")"
   ]
  },
  {
   "cell_type": "markdown",
   "metadata": {},
   "source": [
    "##### Data vs RCP 8.5"
   ]
  },
  {
   "cell_type": "code",
   "execution_count": null,
   "metadata": {},
   "outputs": [],
   "source": [
    "# Calculate the standard error of the difference in slopes\n",
    "se_diff = np.sqrt(\n",
    "    data_model.bse[\"timestamps\"] ** 2\n",
    "    + rcp85_model.bse[\"timestamps\"] ** 2\n",
    ")"
   ]
  },
  {
   "cell_type": "code",
   "execution_count": null,
   "metadata": {},
   "outputs": [],
   "source": [
    "t_stat = (data_slope - rcp85_slope) / se_diff\n",
    "# compute the degrees of freedom for the t-distribution\n",
    "dof = data_model._results.df_resid + rcp85_model._results.df_resid\n",
    "# calculate the p-value\n",
    "p_value = stats.t.sf(np.abs(t_stat), dof) * 2\n",
    "\n",
    "print(f\"t-statistic: {t_stat}\")\n",
    "print(f\"p-value: {p_value}\")\n",
    "print(f\"Degrees of Freedom: {dof}\")"
   ]
  },
  {
   "cell_type": "markdown",
   "metadata": {},
   "source": [
    "# Absorbance Correlation"
   ]
  },
  {
   "cell_type": "markdown",
   "metadata": {},
   "source": [
    "## Flow River Rate"
   ]
  },
  {
   "cell_type": "code",
   "execution_count": null,
   "metadata": {},
   "outputs": [],
   "source": [
    "df = xerta_df[[\"Flow River\", \"Absorbance 254nm\"]]"
   ]
  },
  {
   "cell_type": "code",
   "execution_count": null,
   "metadata": {},
   "outputs": [],
   "source": [
    "# divide the data based on the quantiles of the Flow River\n",
    "# 25%, 50%, 75%, > 75%\n",
    "flow_quantiles = df[\"Flow River\"].quantile([0.25, 0.5, 0.75])\n",
    "\n",
    "df[\"Flow River Category\"] = pd.cut(\n",
    "    df[\"Flow River\"],\n",
    "    bins=[\n",
    "        -np.inf,\n",
    "        flow_quantiles[0.25],\n",
    "        flow_quantiles[0.5],\n",
    "        flow_quantiles[0.75],\n",
    "        np.inf,\n",
    "    ],\n",
    "    labels=[\"25%\", \"50%\", \"75%\", \">75%\"],\n",
    ")"
   ]
  },
  {
   "cell_type": "code",
   "execution_count": null,
   "metadata": {},
   "outputs": [],
   "source": [
    "plt.figure(figsize=(20, 10))\n",
    "\n",
    "colors = [\"r\", \"g\", \"b\", \"y\"]\n",
    "\n",
    "for category in np.sort(df[\"Flow River Category\"].unique()):\n",
    "    color = colors.pop()\n",
    "\n",
    "    category_df = df[df[\"Flow River Category\"] == category]\n",
    "    # sns.histplot(category_df['Absorbance 254nm'], label=category, kde=True, color=color)\n",
    "    sns.kdeplot(\n",
    "        category_df[\"Absorbance 254nm\"],\n",
    "        color=color,\n",
    "        label=category,\n",
    "        fill=True,\n",
    "        alpha=0.5,\n",
    "    )\n",
    "\n",
    "    # Calculate the mean and variance\n",
    "    mean = category_df[\"Absorbance 254nm\"].mean()\n",
    "    variance = category_df[\"Absorbance 254nm\"].var()\n",
    "\n",
    "    # Plot the mean\n",
    "    plt.axvline(mean, color=color, linestyle=\"--\")\n",
    "\n",
    "    # Plot the variance as a shaded region\n",
    "    plt.fill_betweenx(\n",
    "        [0, plt.gca().get_ylim()[1]],\n",
    "        mean - np.sqrt(variance),\n",
    "        mean + np.sqrt(variance),\n",
    "        color=color,\n",
    "        alpha=0.2,\n",
    "    )\n",
    "\n",
    "plt.title(\"Flow River vs Absorbance 254nm\")\n",
    "plt.xlabel(\"Absorbance 254nm\")\n",
    "plt.ylabel(\"Density\")\n",
    "plt.legend()\n",
    "plt.show()"
   ]
  },
  {
   "cell_type": "code",
   "execution_count": null,
   "metadata": {},
   "outputs": [],
   "source": [
    "# data is not normally distributed"
   ]
  },
  {
   "cell_type": "code",
   "execution_count": null,
   "metadata": {},
   "outputs": [],
   "source": [
    "# perform the levene test\n",
    "levene_test = stats.levene(\n",
    "    df[df[\"Flow River Category\"] == \"25%\"][\"Absorbance 254nm\"],\n",
    "    df[df[\"Flow River Category\"] == \"50%\"][\"Absorbance 254nm\"],\n",
    "    df[df[\"Flow River Category\"] == \"75%\"][\"Absorbance 254nm\"],\n",
    "    df[df[\"Flow River Category\"] == \">75%\"][\"Absorbance 254nm\"],\n",
    ")\n",
    "\n",
    "print(levene_test)"
   ]
  },
  {
   "cell_type": "code",
   "execution_count": null,
   "metadata": {},
   "outputs": [],
   "source": [
    "# data is heteroscedastic\n",
    "# perform Welch's one-way test\n",
    "welch_test = pg.welch_anova(\n",
    "    data=df,\n",
    "    dv=\"Absorbance 254nm\",\n",
    "    between=\"Flow River Category\",\n",
    ")\n",
    "\n",
    "print(welch_test)"
   ]
  },
  {
   "cell_type": "code",
   "execution_count": null,
   "metadata": {},
   "outputs": [],
   "source": [
    "# no equal means\n",
    "# perform post-hoc test using Conover test\n",
    "conover_test = sp.posthoc_conover(\n",
    "    a=df,\n",
    "    val_col=\"Absorbance 254nm\",\n",
    "    group_col=\"Flow River Category\",\n",
    "    p_adjust=\"holm\",\n",
    "    sort=True,\n",
    ")\n",
    "\n",
    "print(conover_test)"
   ]
  },
  {
   "cell_type": "code",
   "execution_count": null,
   "metadata": {},
   "outputs": [],
   "source": [
    "# plot the post-hoc test\n",
    "plt.figure(figsize=(20, 10))\n",
    "\n",
    "sp.sign_plot(conover_test)\n",
    "\n",
    "plt.show()"
   ]
  },
  {
   "cell_type": "code",
   "execution_count": null,
   "metadata": {},
   "outputs": [],
   "source": [
    "# it seems that the 25% and 50% categories are significantly different from the 75% and >75% categories\n",
    "# but the 75% and >75% categories are not significantly different from each other\n",
    "# as well as the 25% and 50% categories"
   ]
  },
  {
   "cell_type": "code",
   "execution_count": null,
   "metadata": {},
   "outputs": [],
   "source": [
    "# combine the 75% and >75% categories and the 25% and 50% categories\n",
    "df[\"Flow River Category\"] = df[\"Flow River Category\"].apply(\n",
    "    lambda x: \"50%+\" if x in [\"75%\", \">75%\"] else \"50%-\"\n",
    ")"
   ]
  },
  {
   "cell_type": "code",
   "execution_count": null,
   "metadata": {},
   "outputs": [],
   "source": [
    "# plot the data again\n",
    "plt.figure(figsize=(20, 10))\n",
    "\n",
    "colors = [\"r\", \"g\"]\n",
    "\n",
    "for category in df[\"Flow River Category\"].unique():\n",
    "    color = colors.pop()\n",
    "\n",
    "    category_df = df[df[\"Flow River Category\"] == category]\n",
    "    # sns.histplot(category_df['Absorbance 254nm'], label=category, kde=True, color=color)\n",
    "    sns.kdeplot(\n",
    "        category_df[\"Absorbance 254nm\"],\n",
    "        color=color,\n",
    "        label=category,\n",
    "        fill=True,\n",
    "        alpha=0.5,\n",
    "    )\n",
    "\n",
    "    # Calculate the mean and variance\n",
    "    mean = category_df[\"Absorbance 254nm\"].mean()\n",
    "    variance = category_df[\"Absorbance 254nm\"].var()\n",
    "\n",
    "    # Plot the mean\n",
    "    plt.axvline(mean, color=color, linestyle=\"--\")\n",
    "\n",
    "    # Plot the variance as a shaded region\n",
    "    plt.fill_betweenx(\n",
    "        [0, plt.gca().get_ylim()[1]],\n",
    "        mean - np.sqrt(variance),\n",
    "        mean + np.sqrt(variance),\n",
    "        color=color,\n",
    "        alpha=0.2,\n",
    "    )\n",
    "\n",
    "plt.title(\"Flow River vs Absorbance 254nm\")\n",
    "plt.xlabel(\"Absorbance 254nm\")\n",
    "plt.ylabel(\"Density\")\n",
    "plt.legend()\n",
    "plt.show()"
   ]
  },
  {
   "cell_type": "code",
   "execution_count": null,
   "metadata": {},
   "outputs": [],
   "source": [
    "# compare the two categories to assess if the mean of the Absorbance 254nm of 50%+ is significantly lower than 50%-\n",
    "# perform the levene test\n",
    "levene_test = stats.levene(\n",
    "    df[df[\"Flow River Category\"] == \"50%-\"][\"Absorbance 254nm\"],\n",
    "    df[df[\"Flow River Category\"] == \"50%+\"][\"Absorbance 254nm\"],\n",
    ")\n",
    "\n",
    "print(levene_test)"
   ]
  },
  {
   "cell_type": "code",
   "execution_count": null,
   "metadata": {},
   "outputs": [],
   "source": [
    "# data is homoscedastic\n",
    "# perform the t-test for independent samples with equal variances\n",
    "t_test = stats.ttest_ind(\n",
    "    df[df[\"Flow River Category\"] == \"50%-\"][\"Absorbance 254nm\"],\n",
    "    df[df[\"Flow River Category\"] == \"50%+\"][\"Absorbance 254nm\"],\n",
    "    equal_var=True,\n",
    "    alternative=\"less\",\n",
    ")\n",
    "\n",
    "print(t_test)"
   ]
  },
  {
   "cell_type": "code",
   "execution_count": null,
   "metadata": {},
   "outputs": [],
   "source": [
    "# reject the null hypothesis\n",
    "# the mean of the Absorbance 254nm of 50%- is significantly lower than 50%+"
   ]
  },
  {
   "cell_type": "markdown",
   "metadata": {},
   "source": [
    "## Rainfall"
   ]
  },
  {
   "cell_type": "code",
   "execution_count": null,
   "metadata": {},
   "outputs": [],
   "source": [
    "df = xerta_df[[\"Daily Cumulated Rainfall\", \"Absorbance 254nm\"]]"
   ]
  },
  {
   "cell_type": "code",
   "execution_count": null,
   "metadata": {},
   "outputs": [],
   "source": [
    "# divide the data based on the quantiles of the Flow River\n",
    "# 25%, 50%, 75%, > 75%\n",
    "flow_quantiles = df[\"Daily Cumulated Rainfall\"].quantile(\n",
    "    [0.25, 0.5, 0.75]\n",
    ")\n",
    "\n",
    "df[\"Rainfall Category\"] = pd.cut(\n",
    "    df[\"Daily Cumulated Rainfall\"],\n",
    "    bins=[\n",
    "        -np.inf,\n",
    "        flow_quantiles[0.25],\n",
    "        flow_quantiles[0.5],\n",
    "        flow_quantiles[0.75],\n",
    "        np.inf,\n",
    "    ],\n",
    "    labels=[\"25%\", \"50%\", \"75%\", \">75%\"],\n",
    ")"
   ]
  },
  {
   "cell_type": "code",
   "execution_count": null,
   "metadata": {},
   "outputs": [],
   "source": [
    "plt.figure(figsize=(20, 10))\n",
    "\n",
    "colors = [\"r\", \"g\", \"b\", \"y\"]\n",
    "\n",
    "for category in df[\"Rainfall Category\"].unique():\n",
    "    color = colors.pop()\n",
    "\n",
    "    category_df = df[df[\"Rainfall Category\"] == category]\n",
    "    # sns.histplot(category_df['Absorbance 254nm'], label=category, kde=True, color=color)\n",
    "    sns.kdeplot(\n",
    "        category_df[\"Absorbance 254nm\"],\n",
    "        color=color,\n",
    "        label=category,\n",
    "        fill=True,\n",
    "        alpha=0.5,\n",
    "    )\n",
    "\n",
    "    # Calculate the mean and variance\n",
    "    mean = category_df[\"Absorbance 254nm\"].mean()\n",
    "    variance = category_df[\"Absorbance 254nm\"].var()\n",
    "\n",
    "    # Plot the mean\n",
    "    plt.axvline(mean, color=color, linestyle=\"--\")\n",
    "\n",
    "    # Plot the variance as a shaded region\n",
    "    plt.fill_betweenx(\n",
    "        [0, plt.gca().get_ylim()[1]],\n",
    "        mean - np.sqrt(variance),\n",
    "        mean + np.sqrt(variance),\n",
    "        color=color,\n",
    "        alpha=0.2,\n",
    "    )\n",
    "\n",
    "plt.title(\"Rainfall vs Absorbance 254nm\")\n",
    "plt.xlabel(\"Absorbance 254nm\")\n",
    "plt.ylabel(\"Density\")\n",
    "plt.legend()\n",
    "plt.show()"
   ]
  },
  {
   "cell_type": "code",
   "execution_count": null,
   "metadata": {},
   "outputs": [],
   "source": [
    "# data is not normally distributed"
   ]
  },
  {
   "cell_type": "code",
   "execution_count": null,
   "metadata": {},
   "outputs": [],
   "source": [
    "# perform the levene test\n",
    "levene_test = stats.levene(\n",
    "    df[df[\"Rainfall Category\"] == \"25%\"][\"Absorbance 254nm\"],\n",
    "    df[df[\"Rainfall Category\"] == \"50%\"][\"Absorbance 254nm\"],\n",
    "    df[df[\"Rainfall Category\"] == \"75%\"][\"Absorbance 254nm\"],\n",
    "    df[df[\"Rainfall Category\"] == \">75%\"][\"Absorbance 254nm\"],\n",
    ")\n",
    "\n",
    "print(levene_test)"
   ]
  },
  {
   "cell_type": "code",
   "execution_count": null,
   "metadata": {},
   "outputs": [],
   "source": [
    "# data is homoschedastic\n",
    "# perform Kruskal-Wallis test\n",
    "kruskal_test = stats.kruskal(\n",
    "    df[df[\"Rainfall Category\"] == \"25%\"][\"Absorbance 254nm\"],\n",
    "    df[df[\"Rainfall Category\"] == \"50%\"][\"Absorbance 254nm\"],\n",
    "    df[df[\"Rainfall Category\"] == \"75%\"][\"Absorbance 254nm\"],\n",
    "    df[df[\"Rainfall Category\"] == \">75%\"][\"Absorbance 254nm\"],\n",
    ")\n",
    "\n",
    "print(kruskal_test)"
   ]
  },
  {
   "cell_type": "code",
   "execution_count": null,
   "metadata": {},
   "outputs": [],
   "source": [
    "# euqal means\n",
    "# perform post-hoc test using Dunn's test\n",
    "dunn_test = sp.posthoc_dunn(\n",
    "    a=df,\n",
    "    val_col=\"Absorbance 254nm\",\n",
    "    group_col=\"Rainfall Category\",\n",
    "    p_adjust=\"holm\",\n",
    ")\n",
    "\n",
    "print(dunn_test)"
   ]
  },
  {
   "cell_type": "code",
   "execution_count": null,
   "metadata": {},
   "outputs": [],
   "source": [
    "# plot the post-hoc test\n",
    "plt.figure(figsize=(20, 10))\n",
    "\n",
    "sp.sign_plot(dunn_test)\n",
    "\n",
    "plt.show()"
   ]
  },
  {
   "cell_type": "code",
   "execution_count": null,
   "metadata": {},
   "outputs": [],
   "source": [
    "# it seems that all the categories are not significantly different from each other"
   ]
  },
  {
   "cell_type": "markdown",
   "metadata": {},
   "source": [
    "## Air Temperature"
   ]
  },
  {
   "cell_type": "code",
   "execution_count": null,
   "metadata": {},
   "outputs": [],
   "source": [
    "df = xerta_df[[\"Air Temperature\", \"Absorbance 254nm\"]]"
   ]
  },
  {
   "cell_type": "code",
   "execution_count": null,
   "metadata": {},
   "outputs": [],
   "source": [
    "# divide the data based on the quantiles of the Flow River\n",
    "# 25%, 50%, 75%, > 75%\n",
    "flow_quantiles = df[\"Air Temperature\"].quantile([0.25, 0.5, 0.75])\n",
    "\n",
    "df[\"Air Temperature Category\"] = pd.cut(\n",
    "    df[\"Air Temperature\"],\n",
    "    bins=[\n",
    "        -np.inf,\n",
    "        flow_quantiles[0.25],\n",
    "        flow_quantiles[0.5],\n",
    "        flow_quantiles[0.75],\n",
    "        np.inf,\n",
    "    ],\n",
    "    labels=[\"25%\", \"50%\", \"75%\", \">75%\"],\n",
    ")"
   ]
  },
  {
   "cell_type": "code",
   "execution_count": null,
   "metadata": {},
   "outputs": [],
   "source": [
    "plt.figure(figsize=(20, 10))\n",
    "\n",
    "colors = [\"r\", \"g\", \"b\", \"y\"]\n",
    "\n",
    "for category in df[\"Air Temperature Category\"].unique():\n",
    "    color = colors.pop()\n",
    "\n",
    "    category_df = df[df[\"Air Temperature Category\"] == category]\n",
    "    # sns.histplot(category_df['Absorbance 254nm'], label=category, kde=True, color=color)\n",
    "    sns.kdeplot(\n",
    "        category_df[\"Absorbance 254nm\"],\n",
    "        color=color,\n",
    "        label=category,\n",
    "        fill=True,\n",
    "        alpha=0.5,\n",
    "    )\n",
    "\n",
    "    # Calculate the mean and variance\n",
    "    mean = category_df[\"Absorbance 254nm\"].mean()\n",
    "    variance = category_df[\"Absorbance 254nm\"].var()\n",
    "\n",
    "    # Plot the mean\n",
    "    plt.axvline(mean, color=color, linestyle=\"--\")\n",
    "\n",
    "    # Plot the variance as a shaded region\n",
    "    plt.fill_betweenx(\n",
    "        [0, plt.gca().get_ylim()[1]],\n",
    "        mean - np.sqrt(variance),\n",
    "        mean + np.sqrt(variance),\n",
    "        color=color,\n",
    "        alpha=0.2,\n",
    "    )\n",
    "\n",
    "plt.title(\"Air Temperature vs Absorbance 254nm\")\n",
    "plt.xlabel(\"Absorbance 254nm\")\n",
    "plt.ylabel(\"Density\")\n",
    "plt.legend()\n",
    "plt.show()"
   ]
  },
  {
   "cell_type": "code",
   "execution_count": null,
   "metadata": {},
   "outputs": [],
   "source": [
    "# data is not normally distributed"
   ]
  },
  {
   "cell_type": "code",
   "execution_count": null,
   "metadata": {},
   "outputs": [],
   "source": [
    "# perform the levene test\n",
    "levene_test = stats.levene(\n",
    "    df[df[\"Air Temperature Category\"] == \"25%\"][\"Absorbance 254nm\"],\n",
    "    df[df[\"Air Temperature Category\"] == \"50%\"][\"Absorbance 254nm\"],\n",
    "    df[df[\"Air Temperature Category\"] == \"75%\"][\"Absorbance 254nm\"],\n",
    "    df[df[\"Air Temperature Category\"] == \">75%\"][\"Absorbance 254nm\"],\n",
    ")\n",
    "\n",
    "print(levene_test)"
   ]
  },
  {
   "cell_type": "code",
   "execution_count": null,
   "metadata": {},
   "outputs": [],
   "source": [
    "# data is homoschedastic\n",
    "# perform Kruskal-Wallis test\n",
    "kruskal_test = stats.kruskal(\n",
    "    df[df[\"Air Temperature Category\"] == \"25%\"][\"Absorbance 254nm\"],\n",
    "    df[df[\"Air Temperature Category\"] == \"50%\"][\"Absorbance 254nm\"],\n",
    "    df[df[\"Air Temperature Category\"] == \"75%\"][\"Absorbance 254nm\"],\n",
    "    df[df[\"Air Temperature Category\"] == \">75%\"][\"Absorbance 254nm\"],\n",
    ")\n",
    "\n",
    "print(kruskal_test)"
   ]
  },
  {
   "cell_type": "code",
   "execution_count": null,
   "metadata": {},
   "outputs": [],
   "source": [
    "# equal means\n",
    "# perform post-hoc test using Dunn's test\n",
    "\n",
    "dunn_test = sp.posthoc_dunn(\n",
    "    a=df,\n",
    "    val_col=\"Absorbance 254nm\",\n",
    "    group_col=\"Air Temperature Category\",\n",
    "    p_adjust=\"holm\",\n",
    ")\n",
    "\n",
    "print(dunn_test)"
   ]
  },
  {
   "cell_type": "code",
   "execution_count": null,
   "metadata": {},
   "outputs": [],
   "source": [
    "# plot the post-hoc test\n",
    "plt.figure(figsize=(20, 10))\n",
    "\n",
    "sp.sign_plot(dunn_test)\n",
    "\n",
    "plt.show()"
   ]
  },
  {
   "cell_type": "code",
   "execution_count": null,
   "metadata": {},
   "outputs": [],
   "source": [
    "# it seems that all the categories are not significantly different from each other\n",
    "# however, combine the 25% and 50% categories and the 75% and >75% categories"
   ]
  },
  {
   "cell_type": "code",
   "execution_count": null,
   "metadata": {},
   "outputs": [],
   "source": [
    "# combine the 75% and >75% categories and the 25% and 50% categories\n",
    "df[\"Air Temperature Category\"] = df[\"Air Temperature Category\"].apply(\n",
    "    lambda x: \"50%+\" if x in [\"75%\", \">75%\"] else \"50%-\"\n",
    ")"
   ]
  },
  {
   "cell_type": "code",
   "execution_count": null,
   "metadata": {},
   "outputs": [],
   "source": [
    "# plot the data again\n",
    "plt.figure(figsize=(20, 10))\n",
    "\n",
    "colors = [\"r\", \"g\"]\n",
    "\n",
    "for category in df[\"Air Temperature Category\"].unique():\n",
    "    color = colors.pop()\n",
    "\n",
    "    category_df = df[df[\"Air Temperature Category\"] == category]\n",
    "    # sns.histplot(category_df['Absorbance 254nm'], label=category, kde=True, color=color)\n",
    "    sns.kdeplot(\n",
    "        category_df[\"Absorbance 254nm\"],\n",
    "        color=color,\n",
    "        label=category,\n",
    "        fill=True,\n",
    "        alpha=0.5,\n",
    "    )\n",
    "\n",
    "    # Calculate the mean and variance\n",
    "    mean = category_df[\"Absorbance 254nm\"].mean()\n",
    "    variance = category_df[\"Absorbance 254nm\"].var()\n",
    "\n",
    "    # Plot the mean\n",
    "    plt.axvline(mean, color=color, linestyle=\"--\")\n",
    "\n",
    "    # Plot the variance as a shaded region\n",
    "    plt.fill_betweenx(\n",
    "        [0, plt.gca().get_ylim()[1]],\n",
    "        mean - np.sqrt(variance),\n",
    "        mean + np.sqrt(variance),\n",
    "        color=color,\n",
    "        alpha=0.2,\n",
    "    )\n",
    "\n",
    "plt.title(\"Air Temperature vs Absorbance 254nm\")\n",
    "plt.xlabel(\"Absorbance 254nm\")\n",
    "plt.ylabel(\"Density\")\n",
    "plt.legend()\n",
    "plt.show()"
   ]
  },
  {
   "cell_type": "code",
   "execution_count": null,
   "metadata": {},
   "outputs": [],
   "source": [
    "# compare the two categories to assess if the mean of the Absorbance 254nm of 50%+ is significantly lower than 50%-\n",
    "# perform the levene test\n",
    "levene_test = stats.levene(\n",
    "    df[df[\"Air Temperature Category\"] == \"50%-\"][\"Absorbance 254nm\"],\n",
    "    df[df[\"Air Temperature Category\"] == \"50%+\"][\"Absorbance 254nm\"],\n",
    ")\n",
    "\n",
    "print(levene_test)"
   ]
  },
  {
   "cell_type": "code",
   "execution_count": null,
   "metadata": {},
   "outputs": [],
   "source": [
    "# data is heteroscedastic\n",
    "# perform the t-test for independent samples with non equal variances\n",
    "t_test = stats.ttest_ind(\n",
    "    df[df[\"Air Temperature Category\"] == \"50%-\"][\"Absorbance 254nm\"],\n",
    "    df[df[\"Air Temperature Category\"] == \"50%+\"][\"Absorbance 254nm\"],\n",
    "    equal_var=False,\n",
    "    alternative=\"greater\",\n",
    ")\n",
    "\n",
    "print(t_test)"
   ]
  },
  {
   "cell_type": "code",
   "execution_count": null,
   "metadata": {},
   "outputs": [],
   "source": [
    "# reject the null hypothesis\n",
    "# the mean of the Absorbance 254nm of 50%- is significantly higher than 50%+\n",
    "# Low Air Temperature is associated with high Absorbance 254nm"
   ]
  },
  {
   "cell_type": "markdown",
   "metadata": {},
   "source": [
    "## Water Temperature"
   ]
  },
  {
   "cell_type": "code",
   "execution_count": null,
   "metadata": {},
   "outputs": [],
   "source": [
    "df = xerta_df[[\"Water Temperature\", \"Absorbance 254nm\"]]"
   ]
  },
  {
   "cell_type": "code",
   "execution_count": null,
   "metadata": {},
   "outputs": [],
   "source": [
    "# divide the data based on the quantiles of the Flow River\n",
    "# 25%, 50%, 75%, > 75%\n",
    "flow_quantiles = df[\"Water Temperature\"].quantile([0.25, 0.5, 0.75])\n",
    "\n",
    "df[\"Water Temperature Category\"] = pd.cut(\n",
    "    df[\"Water Temperature\"],\n",
    "    bins=[\n",
    "        -np.inf,\n",
    "        flow_quantiles[0.25],\n",
    "        flow_quantiles[0.5],\n",
    "        flow_quantiles[0.75],\n",
    "        np.inf,\n",
    "    ],\n",
    "    labels=[\"25%\", \"50%\", \"75%\", \">75%\"],\n",
    ")"
   ]
  },
  {
   "cell_type": "code",
   "execution_count": null,
   "metadata": {},
   "outputs": [],
   "source": [
    "plt.figure(figsize=(20, 10))\n",
    "\n",
    "colors = [\"r\", \"g\", \"b\", \"y\"]\n",
    "\n",
    "for category in df[\"Water Temperature Category\"].unique():\n",
    "    color = colors.pop()\n",
    "\n",
    "    category_df = df[df[\"Water Temperature Category\"] == category]\n",
    "    # sns.histplot(category_df['Absorbance 254nm'], label=category, kde=True, color=color)\n",
    "    sns.kdeplot(\n",
    "        category_df[\"Absorbance 254nm\"],\n",
    "        color=color,\n",
    "        label=category,\n",
    "        fill=True,\n",
    "        alpha=0.5,\n",
    "    )\n",
    "\n",
    "    # Calculate the mean and variance\n",
    "    mean = category_df[\"Absorbance 254nm\"].mean()\n",
    "    variance = category_df[\"Absorbance 254nm\"].var()\n",
    "\n",
    "    # Plot the mean\n",
    "    plt.axvline(mean, color=color, linestyle=\"--\")\n",
    "\n",
    "    # Plot the variance as a shaded region\n",
    "    plt.fill_betweenx(\n",
    "        [0, plt.gca().get_ylim()[1]],\n",
    "        mean - np.sqrt(variance),\n",
    "        mean + np.sqrt(variance),\n",
    "        color=color,\n",
    "        alpha=0.2,\n",
    "    )\n",
    "\n",
    "plt.title(\"Water Temperature vs Absorbance 254nm\")\n",
    "plt.xlabel(\"Absorbance 254nm\")\n",
    "plt.ylabel(\"Density\")\n",
    "plt.legend()\n",
    "plt.show()"
   ]
  },
  {
   "cell_type": "code",
   "execution_count": null,
   "metadata": {},
   "outputs": [],
   "source": [
    "# data is not normally distributed"
   ]
  },
  {
   "cell_type": "code",
   "execution_count": null,
   "metadata": {},
   "outputs": [],
   "source": [
    "# perform the levene test\n",
    "levene_test = stats.levene(\n",
    "    df[df[\"Water Temperature Category\"] == \"25%\"][\"Absorbance 254nm\"],\n",
    "    df[df[\"Water Temperature Category\"] == \"50%\"][\"Absorbance 254nm\"],\n",
    "    df[df[\"Water Temperature Category\"] == \"75%\"][\"Absorbance 254nm\"],\n",
    "    df[df[\"Water Temperature Category\"] == \">75%\"][\"Absorbance 254nm\"],\n",
    ")\n",
    "\n",
    "print(levene_test)"
   ]
  },
  {
   "cell_type": "code",
   "execution_count": null,
   "metadata": {},
   "outputs": [],
   "source": [
    "# data is homoschedastic\n",
    "# perform Kruskal-Wallis test\n",
    "kruskal_test = stats.kruskal(\n",
    "    df[df[\"Water Temperature Category\"] == \"25%\"][\"Absorbance 254nm\"],\n",
    "    df[df[\"Water Temperature Category\"] == \"50%\"][\"Absorbance 254nm\"],\n",
    "    df[df[\"Water Temperature Category\"] == \"75%\"][\"Absorbance 254nm\"],\n",
    "    df[df[\"Water Temperature Category\"] == \">75%\"][\"Absorbance 254nm\"],\n",
    ")\n",
    "\n",
    "print(kruskal_test)"
   ]
  },
  {
   "cell_type": "code",
   "execution_count": null,
   "metadata": {},
   "outputs": [],
   "source": [
    "# no equal means\n",
    "# perform post-hoc test using Dunn's test\n",
    "\n",
    "dunn_test = sp.posthoc_dunn(\n",
    "    a=df,\n",
    "    val_col=\"Absorbance 254nm\",\n",
    "    group_col=\"Water Temperature Category\",\n",
    "    p_adjust=\"holm\",\n",
    ")\n",
    "\n",
    "print(dunn_test)"
   ]
  },
  {
   "cell_type": "code",
   "execution_count": null,
   "metadata": {},
   "outputs": [],
   "source": [
    "# plot the post-hoc test\n",
    "plt.figure(figsize=(20, 10))\n",
    "\n",
    "sp.sign_plot(dunn_test)\n",
    "\n",
    "plt.show()"
   ]
  },
  {
   "cell_type": "code",
   "execution_count": null,
   "metadata": {},
   "outputs": [],
   "source": [
    "# it seems that the 25% category is significantly different from the 75% and >75% categories"
   ]
  },
  {
   "cell_type": "code",
   "execution_count": null,
   "metadata": {},
   "outputs": [],
   "source": [
    "# combine the 75% and >75% categories and the 25% and 50% categories\n",
    "df[\"Water Temperature Category\"] = df[\n",
    "    \"Water Temperature Category\"\n",
    "].apply(lambda x: \"50%+\" if x in [\"75%\", \">75%\"] else \"50%-\")"
   ]
  },
  {
   "cell_type": "code",
   "execution_count": null,
   "metadata": {},
   "outputs": [],
   "source": [
    "# plot the data again\n",
    "plt.figure(figsize=(20, 10))\n",
    "\n",
    "colors = [\"r\", \"g\"]\n",
    "\n",
    "for category in df[\"Water Temperature Category\"].unique():\n",
    "    color = colors.pop()\n",
    "\n",
    "    category_df = df[df[\"Water Temperature Category\"] == category]\n",
    "    # sns.histplot(category_df['Absorbance 254nm'], label=category, kde=True, color=color)\n",
    "    sns.kdeplot(\n",
    "        category_df[\"Absorbance 254nm\"],\n",
    "        color=color,\n",
    "        label=category,\n",
    "        fill=True,\n",
    "        alpha=0.5,\n",
    "    )\n",
    "\n",
    "    # Calculate the mean and variance\n",
    "    mean = category_df[\"Absorbance 254nm\"].mean()\n",
    "    variance = category_df[\"Absorbance 254nm\"].var()\n",
    "\n",
    "    # Plot the mean\n",
    "    plt.axvline(mean, color=color, linestyle=\"--\")\n",
    "\n",
    "    # Plot the variance as a shaded region\n",
    "    plt.fill_betweenx(\n",
    "        [0, plt.gca().get_ylim()[1]],\n",
    "        mean - np.sqrt(variance),\n",
    "        mean + np.sqrt(variance),\n",
    "        color=color,\n",
    "        alpha=0.2,\n",
    "    )\n",
    "\n",
    "plt.title(\"Water Temperature vs Absorbance 254nm\")\n",
    "plt.xlabel(\"Absorbance 254nm\")\n",
    "plt.ylabel(\"Density\")\n",
    "plt.legend()\n",
    "plt.show()"
   ]
  },
  {
   "cell_type": "code",
   "execution_count": null,
   "metadata": {},
   "outputs": [],
   "source": [
    "# compare the two categories to assess if the mean of the Absorbance 254nm of 50%+ is significantly lower than 50%-\n",
    "# perform the levene test\n",
    "levene_test = stats.levene(\n",
    "    df[df[\"Water Temperature Category\"] == \"50%-\"][\"Absorbance 254nm\"],\n",
    "    df[df[\"Water Temperature Category\"] == \"50%+\"][\"Absorbance 254nm\"],\n",
    ")\n",
    "\n",
    "print(levene_test)"
   ]
  },
  {
   "cell_type": "code",
   "execution_count": null,
   "metadata": {},
   "outputs": [],
   "source": [
    "# data is homoschedastic\n",
    "# perform the t-test for independent samples with equal variances\n",
    "t_test = stats.ttest_ind(\n",
    "    df[df[\"Water Temperature Category\"] == \"50%-\"][\"Absorbance 254nm\"],\n",
    "    df[df[\"Water Temperature Category\"] == \"50%+\"][\"Absorbance 254nm\"],\n",
    "    equal_var=True,\n",
    "    alternative=\"greater\",\n",
    ")\n",
    "\n",
    "print(t_test)"
   ]
  },
  {
   "cell_type": "code",
   "execution_count": null,
   "metadata": {},
   "outputs": [],
   "source": [
    "# reject the null hypothesis\n",
    "# the mean of the Absorbance 254nm of 50%- is significantly higher than 50%+\n",
    "# Low Water Temperature is associated with high Absorbance 254nm"
   ]
  },
  {
   "cell_type": "markdown",
   "metadata": {},
   "source": [
    "## Turbidity"
   ]
  },
  {
   "cell_type": "code",
   "execution_count": null,
   "metadata": {},
   "outputs": [],
   "source": [
    "df = xerta_df[[\"Turbidity\", \"Absorbance 254nm\"]]"
   ]
  },
  {
   "cell_type": "code",
   "execution_count": null,
   "metadata": {},
   "outputs": [],
   "source": [
    "# divide the data based on the quantiles of the Flow River\n",
    "# 25%, 50%, 75%, > 75%\n",
    "flow_quantiles = df[\"Turbidity\"].quantile([0.25, 0.5, 0.75])\n",
    "\n",
    "df[\"Turbidity Category\"] = pd.cut(\n",
    "    df[\"Turbidity\"],\n",
    "    bins=[\n",
    "        -np.inf,\n",
    "        flow_quantiles[0.25],\n",
    "        flow_quantiles[0.5],\n",
    "        flow_quantiles[0.75],\n",
    "        np.inf,\n",
    "    ],\n",
    "    labels=[\"25%\", \"50%\", \"75%\", \">75%\"],\n",
    ")"
   ]
  },
  {
   "cell_type": "code",
   "execution_count": null,
   "metadata": {},
   "outputs": [],
   "source": [
    "plt.figure(figsize=(20, 10))\n",
    "\n",
    "colors = [\"r\", \"g\", \"b\", \"y\"]\n",
    "\n",
    "for category in df[\"Turbidity Category\"].unique():\n",
    "    color = colors.pop()\n",
    "\n",
    "    category_df = df[df[\"Turbidity Category\"] == category]\n",
    "    # sns.histplot(category_df['Absorbance 254nm'], label=category, kde=True, color=color)\n",
    "    sns.kdeplot(\n",
    "        category_df[\"Absorbance 254nm\"],\n",
    "        color=color,\n",
    "        label=category,\n",
    "        fill=True,\n",
    "        alpha=0.5,\n",
    "    )\n",
    "\n",
    "    # Calculate the mean and variance\n",
    "    mean = category_df[\"Absorbance 254nm\"].mean()\n",
    "    variance = category_df[\"Absorbance 254nm\"].var()\n",
    "\n",
    "    # Plot the mean\n",
    "    plt.axvline(mean, color=color, linestyle=\"--\")\n",
    "\n",
    "    # Plot the variance as a shaded region\n",
    "    plt.fill_betweenx(\n",
    "        [0, plt.gca().get_ylim()[1]],\n",
    "        mean - np.sqrt(variance),\n",
    "        mean + np.sqrt(variance),\n",
    "        color=color,\n",
    "        alpha=0.2,\n",
    "    )\n",
    "\n",
    "plt.title(\"Turbidity vs Absorbance 254nm\")\n",
    "plt.xlabel(\"Absorbance 254nm\")\n",
    "plt.ylabel(\"Density\")\n",
    "plt.legend()\n",
    "plt.show()"
   ]
  },
  {
   "cell_type": "code",
   "execution_count": null,
   "metadata": {},
   "outputs": [],
   "source": [
    "# data is not normally distributed"
   ]
  },
  {
   "cell_type": "code",
   "execution_count": null,
   "metadata": {},
   "outputs": [],
   "source": [
    "# perform the levene test\n",
    "levene_test = stats.levene(\n",
    "    df[df[\"Turbidity Category\"] == \"25%\"][\"Absorbance 254nm\"],\n",
    "    df[df[\"Turbidity Category\"] == \"50%\"][\"Absorbance 254nm\"],\n",
    "    df[df[\"Turbidity Category\"] == \"75%\"][\"Absorbance 254nm\"],\n",
    "    df[df[\"Turbidity Category\"] == \">75%\"][\"Absorbance 254nm\"],\n",
    ")\n",
    "\n",
    "print(levene_test)"
   ]
  },
  {
   "cell_type": "code",
   "execution_count": null,
   "metadata": {},
   "outputs": [],
   "source": [
    "# data is heteroschedastic\n",
    "# perform Welch's one-way test\n",
    "welch_test = pg.welch_anova(\n",
    "    data=df,\n",
    "    dv=\"Absorbance 254nm\",\n",
    "    between=\"Turbidity Category\",\n",
    ")\n",
    "\n",
    "print(welch_test)"
   ]
  },
  {
   "cell_type": "code",
   "execution_count": null,
   "metadata": {},
   "outputs": [],
   "source": [
    "# no equal means\n",
    "# perform post-hoc test using Conover test\n",
    "conover_test = sp.posthoc_conover(\n",
    "    a=df,\n",
    "    val_col=\"Absorbance 254nm\",\n",
    "    group_col=\"Turbidity Category\",\n",
    "    p_adjust=\"holm\",\n",
    "    sort=True,\n",
    ")\n",
    "\n",
    "print(conover_test)"
   ]
  },
  {
   "cell_type": "code",
   "execution_count": null,
   "metadata": {},
   "outputs": [],
   "source": [
    "# plot the post-hoc test\n",
    "plt.figure(figsize=(20, 10))\n",
    "\n",
    "sp.sign_plot(conover_test)\n",
    "\n",
    "plt.show()"
   ]
  },
  {
   "cell_type": "code",
   "execution_count": null,
   "metadata": {},
   "outputs": [],
   "source": [
    "# it seems that the >75% category is significantly different from the 50% and 75% categories"
   ]
  },
  {
   "cell_type": "code",
   "execution_count": null,
   "metadata": {},
   "outputs": [],
   "source": [
    "# combine the 25%, 50% and 75% categories\n",
    "df[\"Turbidity Category\"] = df[\"Turbidity Category\"].apply(\n",
    "    lambda x: \"75%-\" if x in [\"25%\", \"50%\", \"75%\"] else \"75%+\"\n",
    ")"
   ]
  },
  {
   "cell_type": "code",
   "execution_count": null,
   "metadata": {},
   "outputs": [],
   "source": [
    "# plot the data again\n",
    "plt.figure(figsize=(20, 10))\n",
    "\n",
    "colors = [\"r\", \"g\"]\n",
    "\n",
    "for category in df[\"Turbidity Category\"].unique():\n",
    "    color = colors.pop()\n",
    "\n",
    "    category_df = df[df[\"Turbidity Category\"] == category]\n",
    "    # sns.histplot(category_df['Absorbance 254nm'], label=category, kde=True, color=color)\n",
    "    sns.kdeplot(\n",
    "        category_df[\"Absorbance 254nm\"],\n",
    "        color=color,\n",
    "        label=category,\n",
    "        fill=True,\n",
    "        alpha=0.5,\n",
    "    )\n",
    "\n",
    "    # Calculate the mean and variance\n",
    "    mean = category_df[\"Absorbance 254nm\"].mean()\n",
    "    variance = category_df[\"Absorbance 254nm\"].var()\n",
    "\n",
    "    # Plot the mean\n",
    "    plt.axvline(mean, color=color, linestyle=\"--\")\n",
    "\n",
    "    # Plot the variance as a shaded region\n",
    "    plt.fill_betweenx(\n",
    "        [0, plt.gca().get_ylim()[1]],\n",
    "        mean - np.sqrt(variance),\n",
    "        mean + np.sqrt(variance),\n",
    "        color=color,\n",
    "        alpha=0.2,\n",
    "    )\n",
    "\n",
    "plt.title(\"Turbidity vs Absorbance 254nm\")\n",
    "plt.xlabel(\"Absorbance 254nm\")\n",
    "plt.ylabel(\"Density\")\n",
    "plt.legend()\n",
    "plt.show()"
   ]
  },
  {
   "cell_type": "code",
   "execution_count": null,
   "metadata": {},
   "outputs": [],
   "source": [
    "# compare the two categories to assess if the mean of the Absorbance 254nm of 75%- is significantly lower than 75%+\n",
    "# perform the levene test\n",
    "levene_test = stats.levene(\n",
    "    df[df[\"Turbidity Category\"] == \"75%-\"][\"Absorbance 254nm\"],\n",
    "    df[df[\"Turbidity Category\"] == \"75%+\"][\"Absorbance 254nm\"],\n",
    ")\n",
    "\n",
    "print(levene_test)"
   ]
  },
  {
   "cell_type": "code",
   "execution_count": null,
   "metadata": {},
   "outputs": [],
   "source": [
    "# data is heteroschedastic\n",
    "# perform the t-test for independent samples with equal variances\n",
    "t_test = stats.ttest_ind(\n",
    "    df[df[\"Turbidity Category\"] == \"75%-\"][\"Absorbance 254nm\"],\n",
    "    df[df[\"Turbidity Category\"] == \"75%+\"][\"Absorbance 254nm\"],\n",
    "    equal_var=False,\n",
    "    alternative=\"less\",\n",
    ")\n",
    "\n",
    "print(t_test)"
   ]
  },
  {
   "cell_type": "code",
   "execution_count": null,
   "metadata": {},
   "outputs": [],
   "source": [
    "# reject the null hypothesis\n",
    "# the mean of the Absorbance 254nm of 75%- is significantly lower than 75%+\n",
    "# Low Turbidity is associated with low Absorbance 254nm"
   ]
  },
  {
   "cell_type": "markdown",
   "metadata": {},
   "source": [
    "## pH"
   ]
  },
  {
   "cell_type": "code",
   "execution_count": null,
   "metadata": {},
   "outputs": [],
   "source": [
    "df = xerta_df[[\"pH\", \"Absorbance 254nm\"]]"
   ]
  },
  {
   "cell_type": "code",
   "execution_count": null,
   "metadata": {},
   "outputs": [],
   "source": [
    "# divide the data based on the quantiles of the Flow River\n",
    "# 25%, 50%, 75%, > 75%\n",
    "flow_quantiles = df[\"pH\"].quantile([0.25, 0.5, 0.75])\n",
    "\n",
    "df[\"pH Category\"] = pd.cut(\n",
    "    df[\"pH\"],\n",
    "    bins=[\n",
    "        -np.inf,\n",
    "        flow_quantiles[0.25],\n",
    "        flow_quantiles[0.5],\n",
    "        flow_quantiles[0.75],\n",
    "        np.inf,\n",
    "    ],\n",
    "    labels=[\"25%\", \"50%\", \"75%\", \">75%\"],\n",
    ")"
   ]
  },
  {
   "cell_type": "code",
   "execution_count": null,
   "metadata": {},
   "outputs": [],
   "source": [
    "plt.figure(figsize=(20, 10))\n",
    "\n",
    "colors = [\"r\", \"g\", \"b\", \"y\"]\n",
    "\n",
    "for category in df[\"pH Category\"].unique():\n",
    "    color = colors.pop()\n",
    "\n",
    "    category_df = df[df[\"pH Category\"] == category]\n",
    "    # sns.histplot(category_df['Absorbance 254nm'], label=category, kde=True, color=color)\n",
    "    sns.kdeplot(\n",
    "        category_df[\"Absorbance 254nm\"],\n",
    "        color=color,\n",
    "        label=category,\n",
    "        fill=True,\n",
    "        alpha=0.5,\n",
    "    )\n",
    "\n",
    "    # Calculate the mean and variance\n",
    "    mean = category_df[\"Absorbance 254nm\"].mean()\n",
    "    variance = category_df[\"Absorbance 254nm\"].var()\n",
    "\n",
    "    # Plot the mean\n",
    "    plt.axvline(mean, color=color, linestyle=\"--\")\n",
    "\n",
    "    # Plot the variance as a shaded region\n",
    "    plt.fill_betweenx(\n",
    "        [0, plt.gca().get_ylim()[1]],\n",
    "        mean - np.sqrt(variance),\n",
    "        mean + np.sqrt(variance),\n",
    "        color=color,\n",
    "        alpha=0.2,\n",
    "    )\n",
    "\n",
    "plt.title(\"pH vs Absorbance 254nm\")\n",
    "plt.xlabel(\"Absorbance 254nm\")\n",
    "plt.ylabel(\"Density\")\n",
    "plt.legend()\n",
    "plt.show()"
   ]
  },
  {
   "cell_type": "code",
   "execution_count": null,
   "metadata": {},
   "outputs": [],
   "source": [
    "# data is not normally distributed"
   ]
  },
  {
   "cell_type": "code",
   "execution_count": null,
   "metadata": {},
   "outputs": [],
   "source": [
    "# perform the levene test\n",
    "levene_test = stats.levene(\n",
    "    df[df[\"pH Category\"] == \"25%\"][\"Absorbance 254nm\"],\n",
    "    df[df[\"pH Category\"] == \"50%\"][\"Absorbance 254nm\"],\n",
    "    df[df[\"pH Category\"] == \"75%\"][\"Absorbance 254nm\"],\n",
    "    df[df[\"pH Category\"] == \">75%\"][\"Absorbance 254nm\"],\n",
    ")\n",
    "\n",
    "print(levene_test)"
   ]
  },
  {
   "cell_type": "code",
   "execution_count": null,
   "metadata": {},
   "outputs": [],
   "source": [
    "# data is homoschedastic\n",
    "# perform Kruskal-Wallis test\n",
    "kruskal_test = stats.kruskal(\n",
    "    df[df[\"pH Category\"] == \"25%\"][\"Absorbance 254nm\"],\n",
    "    df[df[\"pH Category\"] == \"50%\"][\"Absorbance 254nm\"],\n",
    "    df[df[\"pH Category\"] == \"75%\"][\"Absorbance 254nm\"],\n",
    "    df[df[\"pH Category\"] == \">75%\"][\"Absorbance 254nm\"],\n",
    ")\n",
    "\n",
    "print(kruskal_test)"
   ]
  },
  {
   "cell_type": "code",
   "execution_count": null,
   "metadata": {},
   "outputs": [],
   "source": [
    "# no equal means\n",
    "# perform post-hoc test using Dunn's test\n",
    "dunn_test = sp.posthoc_dunn(\n",
    "    a=df,\n",
    "    val_col=\"Absorbance 254nm\",\n",
    "    group_col=\"pH Category\",\n",
    "    p_adjust=\"holm\",\n",
    ")\n",
    "\n",
    "print(dunn_test)"
   ]
  },
  {
   "cell_type": "code",
   "execution_count": null,
   "metadata": {},
   "outputs": [],
   "source": [
    "# plot the post-hoc test\n",
    "plt.figure(figsize=(20, 10))\n",
    "\n",
    "sp.sign_plot(dunn_test)\n",
    "\n",
    "plt.show()"
   ]
  },
  {
   "cell_type": "code",
   "execution_count": null,
   "metadata": {},
   "outputs": [],
   "source": [
    "# it seems that the >75% category is significantly different from the other categories"
   ]
  },
  {
   "cell_type": "code",
   "execution_count": null,
   "metadata": {},
   "outputs": [],
   "source": [
    "# combine the 25%, 50% and 75% categories\n",
    "df[\"pH Category\"] = df[\"pH Category\"].apply(\n",
    "    lambda x: \"75%-\" if x in [\"25%\", \"50%\", \"75%\"] else \"75%+\"\n",
    ")"
   ]
  },
  {
   "cell_type": "code",
   "execution_count": null,
   "metadata": {},
   "outputs": [],
   "source": [
    "# plot the data again\n",
    "plt.figure(figsize=(20, 10))\n",
    "\n",
    "colors = [\"r\", \"g\"]\n",
    "\n",
    "for category in df[\"pH Category\"].unique():\n",
    "    color = colors.pop()\n",
    "\n",
    "    category_df = df[df[\"pH Category\"] == category]\n",
    "    # sns.histplot(category_df['Absorbance 254nm'], label=category, kde=True, color=color)\n",
    "    sns.kdeplot(\n",
    "        category_df[\"Absorbance 254nm\"],\n",
    "        color=color,\n",
    "        label=category,\n",
    "        fill=True,\n",
    "        alpha=0.5,\n",
    "    )\n",
    "\n",
    "    # Calculate the mean and variance\n",
    "    mean = category_df[\"Absorbance 254nm\"].mean()\n",
    "    variance = category_df[\"Absorbance 254nm\"].var()\n",
    "\n",
    "    # Plot the mean\n",
    "    plt.axvline(mean, color=color, linestyle=\"--\")\n",
    "\n",
    "    # Plot the variance as a shaded region\n",
    "    plt.fill_betweenx(\n",
    "        [0, plt.gca().get_ylim()[1]],\n",
    "        mean - np.sqrt(variance),\n",
    "        mean + np.sqrt(variance),\n",
    "        color=color,\n",
    "        alpha=0.2,\n",
    "    )\n",
    "\n",
    "plt.title(\"pH vs Absorbance 254nm\")\n",
    "plt.xlabel(\"Absorbance 254nm\")\n",
    "plt.ylabel(\"Density\")\n",
    "plt.legend()\n",
    "plt.show()"
   ]
  },
  {
   "cell_type": "code",
   "execution_count": null,
   "metadata": {},
   "outputs": [],
   "source": [
    "# compare the two categories to assess if the mean of the Absorbance 254nm of 75%- is significantly lower than 75%+\n",
    "# perform the levene test\n",
    "levene_test = stats.levene(\n",
    "    df[df[\"pH Category\"] == \"75%-\"][\"Absorbance 254nm\"],\n",
    "    df[df[\"pH Category\"] == \"75%+\"][\"Absorbance 254nm\"],\n",
    ")\n",
    "\n",
    "print(levene_test)"
   ]
  },
  {
   "cell_type": "code",
   "execution_count": null,
   "metadata": {},
   "outputs": [],
   "source": [
    "# data is homoschedastic\n",
    "# perform the t-test for independent samples with equal variances\n",
    "t_test = stats.ttest_ind(\n",
    "    df[df[\"pH Category\"] == \"75%-\"][\"Absorbance 254nm\"],\n",
    "    df[df[\"pH Category\"] == \"75%+\"][\"Absorbance 254nm\"],\n",
    "    equal_var=True,\n",
    "    alternative=\"less\",\n",
    ")\n",
    "\n",
    "print(t_test)"
   ]
  },
  {
   "cell_type": "code",
   "execution_count": null,
   "metadata": {},
   "outputs": [],
   "source": [
    "# reject the null hypothesis\n",
    "# the mean of the Absorbance 254nm of 75%- is significantly lower than 75%+\n",
    "# Low pH is associated with low Absorbance 254nm"
   ]
  },
  {
   "cell_type": "markdown",
   "metadata": {},
   "source": [
    "## Nitrate"
   ]
  },
  {
   "cell_type": "code",
   "execution_count": null,
   "metadata": {},
   "outputs": [],
   "source": [
    "df = xerta_df[[\"Nitrate\", \"Absorbance 254nm\"]]"
   ]
  },
  {
   "cell_type": "code",
   "execution_count": null,
   "metadata": {},
   "outputs": [],
   "source": [
    "# divide the data based on the quantiles of the Flow River\n",
    "# 25%, 50%, 75%, > 75%\n",
    "flow_quantiles = df[\"Nitrate\"].quantile([0.25, 0.5, 0.75])\n",
    "\n",
    "df[\"Nitrate Category\"] = pd.cut(\n",
    "    df[\"Nitrate\"],\n",
    "    bins=[\n",
    "        -np.inf,\n",
    "        flow_quantiles[0.25],\n",
    "        flow_quantiles[0.5],\n",
    "        flow_quantiles[0.75],\n",
    "        np.inf,\n",
    "    ],\n",
    "    labels=[\"25%\", \"50%\", \"75%\", \">75%\"],\n",
    ")"
   ]
  },
  {
   "cell_type": "code",
   "execution_count": null,
   "metadata": {},
   "outputs": [],
   "source": [
    "plt.figure(figsize=(20, 10))\n",
    "\n",
    "colors = [\"r\", \"g\", \"b\", \"y\"]\n",
    "\n",
    "for category in df[\"Nitrate Category\"].unique():\n",
    "    color = colors.pop()\n",
    "\n",
    "    category_df = df[df[\"Nitrate Category\"] == category]\n",
    "    # sns.histplot(category_df['Absorbance 254nm'], label=category, kde=True, color=color)\n",
    "    sns.kdeplot(\n",
    "        category_df[\"Absorbance 254nm\"],\n",
    "        color=color,\n",
    "        label=category,\n",
    "        fill=True,\n",
    "        alpha=0.5,\n",
    "    )\n",
    "\n",
    "    # Calculate the mean and variance\n",
    "    mean = category_df[\"Absorbance 254nm\"].mean()\n",
    "    variance = category_df[\"Absorbance 254nm\"].var()\n",
    "\n",
    "    # Plot the mean\n",
    "    plt.axvline(mean, color=color, linestyle=\"--\")\n",
    "\n",
    "    # Plot the variance as a shaded region\n",
    "    plt.fill_betweenx(\n",
    "        [0, plt.gca().get_ylim()[1]],\n",
    "        mean - np.sqrt(variance),\n",
    "        mean + np.sqrt(variance),\n",
    "        color=color,\n",
    "        alpha=0.2,\n",
    "    )\n",
    "\n",
    "plt.title(\"Nitrate vs Absorbance 254nm\")\n",
    "plt.xlabel(\"Absorbance 254nm\")\n",
    "plt.ylabel(\"Density\")\n",
    "plt.legend()\n",
    "plt.show()"
   ]
  },
  {
   "cell_type": "code",
   "execution_count": null,
   "metadata": {},
   "outputs": [],
   "source": [
    "# data is not normally distributed"
   ]
  },
  {
   "cell_type": "code",
   "execution_count": null,
   "metadata": {},
   "outputs": [],
   "source": [
    "# perform the levene test\n",
    "levene_test = stats.levene(\n",
    "    df[df[\"Nitrate Category\"] == \"25%\"][\"Absorbance 254nm\"],\n",
    "    df[df[\"Nitrate Category\"] == \"50%\"][\"Absorbance 254nm\"],\n",
    "    df[df[\"Nitrate Category\"] == \"75%\"][\"Absorbance 254nm\"],\n",
    "    df[df[\"Nitrate Category\"] == \">75%\"][\"Absorbance 254nm\"],\n",
    ")\n",
    "\n",
    "print(levene_test)"
   ]
  },
  {
   "cell_type": "code",
   "execution_count": null,
   "metadata": {},
   "outputs": [],
   "source": [
    "# data is homoschedastic\n",
    "# perform Kruskal-Wallis test\n",
    "kruskal_test = stats.kruskal(\n",
    "    df[df[\"Nitrate Category\"] == \"25%\"][\"Absorbance 254nm\"],\n",
    "    df[df[\"Nitrate Category\"] == \"50%\"][\"Absorbance 254nm\"],\n",
    "    df[df[\"Nitrate Category\"] == \"75%\"][\"Absorbance 254nm\"],\n",
    "    df[df[\"Nitrate Category\"] == \">75%\"][\"Absorbance 254nm\"],\n",
    ")\n",
    "\n",
    "print(kruskal_test)"
   ]
  },
  {
   "cell_type": "code",
   "execution_count": null,
   "metadata": {},
   "outputs": [],
   "source": [
    "# no equal means\n",
    "# perform post-hoc test using Dunn's test\n",
    "dunn_test = sp.posthoc_dunn(\n",
    "    a=df,\n",
    "    val_col=\"Absorbance 254nm\",\n",
    "    group_col=\"Nitrate Category\",\n",
    "    p_adjust=\"holm\",\n",
    ")\n",
    "\n",
    "print(dunn_test)"
   ]
  },
  {
   "cell_type": "code",
   "execution_count": null,
   "metadata": {},
   "outputs": [],
   "source": [
    "# plot the post-hoc test\n",
    "plt.figure(figsize=(20, 10))\n",
    "\n",
    "sp.sign_plot(dunn_test)\n",
    "\n",
    "plt.show()"
   ]
  },
  {
   "cell_type": "code",
   "execution_count": null,
   "metadata": {},
   "outputs": [],
   "source": [
    "# it seems that the categories are not significantly different from each other"
   ]
  },
  {
   "cell_type": "code",
   "execution_count": null,
   "metadata": {},
   "outputs": [],
   "source": [
    "# combine the 50%, 75% and >75% categories\n",
    "df[\"Nitrate Category\"] = df[\"Nitrate Category\"].apply(\n",
    "    lambda x: \"25%+\" if x in [\"50%\", \"75%\", \">75%\"] else \"25%-\"\n",
    ")"
   ]
  },
  {
   "cell_type": "code",
   "execution_count": null,
   "metadata": {},
   "outputs": [],
   "source": [
    "# plot the data again\n",
    "plt.figure(figsize=(20, 10))\n",
    "\n",
    "colors = [\"r\", \"g\"]\n",
    "\n",
    "for category in df[\"Nitrate Category\"].unique():\n",
    "    color = colors.pop()\n",
    "\n",
    "    category_df = df[df[\"Nitrate Category\"] == category]\n",
    "    # sns.histplot(category_df['Absorbance 254nm'], label=category, kde=True, color=color)\n",
    "    sns.kdeplot(\n",
    "        category_df[\"Absorbance 254nm\"],\n",
    "        color=color,\n",
    "        label=category,\n",
    "        fill=True,\n",
    "        alpha=0.5,\n",
    "    )\n",
    "\n",
    "    # Calculate the mean and variance\n",
    "    mean = category_df[\"Absorbance 254nm\"].mean()\n",
    "    variance = category_df[\"Absorbance 254nm\"].var()\n",
    "\n",
    "    # Plot the mean\n",
    "    plt.axvline(mean, color=color, linestyle=\"--\")\n",
    "\n",
    "    # Plot the variance as a shaded region\n",
    "    plt.fill_betweenx(\n",
    "        [0, plt.gca().get_ylim()[1]],\n",
    "        mean - np.sqrt(variance),\n",
    "        mean + np.sqrt(variance),\n",
    "        color=color,\n",
    "        alpha=0.2,\n",
    "    )\n",
    "\n",
    "plt.title(\"Nitrate vs Absorbance 254nm\")\n",
    "plt.xlabel(\"Absorbance 254nm\")\n",
    "plt.ylabel(\"Density\")\n",
    "plt.legend()\n",
    "plt.show()"
   ]
  },
  {
   "cell_type": "code",
   "execution_count": null,
   "metadata": {},
   "outputs": [],
   "source": [
    "# compare the two categories to assess if the mean of the Absorbance 254nm of 25%- is significantly lower than 25%+\n",
    "# perform the levene test\n",
    "levene_test = stats.levene(\n",
    "    df[df[\"Nitrate Category\"] == \"25%-\"][\"Absorbance 254nm\"],\n",
    "    df[df[\"Nitrate Category\"] == \"25%+\"][\"Absorbance 254nm\"],\n",
    ")\n",
    "\n",
    "print(levene_test)"
   ]
  },
  {
   "cell_type": "code",
   "execution_count": null,
   "metadata": {},
   "outputs": [],
   "source": [
    "# data is homoschedastic\n",
    "# perform the t-test for independent samples with equal variances\n",
    "t_test = stats.ttest_ind(\n",
    "    df[df[\"Nitrate Category\"] == \"25%-\"][\"Absorbance 254nm\"],\n",
    "    df[df[\"Nitrate Category\"] == \"25%+\"][\"Absorbance 254nm\"],\n",
    "    equal_var=True,\n",
    "    alternative=\"greater\",\n",
    ")\n",
    "\n",
    "print(t_test)"
   ]
  },
  {
   "cell_type": "code",
   "execution_count": null,
   "metadata": {},
   "outputs": [],
   "source": [
    "# reject the null hypothesis\n",
    "# the mean of the Absorbance 254nm of 25%- is significantly higher than 25%+\n",
    "# Low Nitrate is associated with high Absorbance 254nm"
   ]
  },
  {
   "cell_type": "markdown",
   "metadata": {},
   "source": [
    "## Dissolved Oxygen"
   ]
  },
  {
   "cell_type": "code",
   "execution_count": null,
   "metadata": {},
   "outputs": [],
   "source": [
    "df = xerta_df[[\"Dissolved Oxygen\", \"Absorbance 254nm\"]]"
   ]
  },
  {
   "cell_type": "code",
   "execution_count": null,
   "metadata": {},
   "outputs": [],
   "source": [
    "# divide the data based on the quantiles of the Flow River\n",
    "# 25%, 50%, 75%, > 75%\n",
    "flow_quantiles = df[\"Dissolved Oxygen\"].quantile([0.25, 0.5, 0.75])\n",
    "\n",
    "df[\"Dissolved Oxygen Category\"] = pd.cut(\n",
    "    df[\"Dissolved Oxygen\"],\n",
    "    bins=[\n",
    "        -np.inf,\n",
    "        flow_quantiles[0.25],\n",
    "        flow_quantiles[0.5],\n",
    "        flow_quantiles[0.75],\n",
    "        np.inf,\n",
    "    ],\n",
    "    labels=[\"25%\", \"50%\", \"75%\", \">75%\"],\n",
    ")"
   ]
  },
  {
   "cell_type": "code",
   "execution_count": null,
   "metadata": {},
   "outputs": [],
   "source": [
    "plt.figure(figsize=(20, 10))\n",
    "\n",
    "colors = [\"r\", \"g\", \"b\", \"y\"]\n",
    "\n",
    "for category in df[\"Dissolved Oxygen Category\"].unique():\n",
    "    color = colors.pop()\n",
    "\n",
    "    category_df = df[df[\"Dissolved Oxygen Category\"] == category]\n",
    "    # sns.histplot(category_df['Absorbance 254nm'], label=category, kde=True, color=color)\n",
    "    sns.kdeplot(\n",
    "        category_df[\"Absorbance 254nm\"],\n",
    "        color=color,\n",
    "        label=category,\n",
    "        fill=True,\n",
    "        alpha=0.5,\n",
    "    )\n",
    "\n",
    "    # Calculate the mean and variance\n",
    "    mean = category_df[\"Absorbance 254nm\"].mean()\n",
    "    variance = category_df[\"Absorbance 254nm\"].var()\n",
    "\n",
    "    # Plot the mean\n",
    "    plt.axvline(mean, color=color, linestyle=\"--\")\n",
    "\n",
    "    # Plot the variance as a shaded region\n",
    "    plt.fill_betweenx(\n",
    "        [0, plt.gca().get_ylim()[1]],\n",
    "        mean - np.sqrt(variance),\n",
    "        mean + np.sqrt(variance),\n",
    "        color=color,\n",
    "        alpha=0.2,\n",
    "    )\n",
    "\n",
    "plt.title(\"Dissolved Oxygen vs Absorbance 254nm\")\n",
    "plt.xlabel(\"Absorbance 254nm\")\n",
    "plt.ylabel(\"Density\")\n",
    "plt.legend()\n",
    "plt.show()"
   ]
  },
  {
   "cell_type": "code",
   "execution_count": null,
   "metadata": {},
   "outputs": [],
   "source": [
    "# data is not normally distributed"
   ]
  },
  {
   "cell_type": "code",
   "execution_count": null,
   "metadata": {},
   "outputs": [],
   "source": [
    "# perform the levene test\n",
    "levene_test = stats.levene(\n",
    "    df[df[\"Dissolved Oxygen Category\"] == \"25%\"][\"Absorbance 254nm\"],\n",
    "    df[df[\"Dissolved Oxygen Category\"] == \"50%\"][\"Absorbance 254nm\"],\n",
    "    df[df[\"Dissolved Oxygen Category\"] == \"75%\"][\"Absorbance 254nm\"],\n",
    "    df[df[\"Dissolved Oxygen Category\"] == \">75%\"][\"Absorbance 254nm\"],\n",
    ")\n",
    "\n",
    "print(levene_test)"
   ]
  },
  {
   "cell_type": "code",
   "execution_count": null,
   "metadata": {},
   "outputs": [],
   "source": [
    "# data is homoschedastic\n",
    "# perform Kruskal-Wallis test\n",
    "kruskal_test = stats.kruskal(\n",
    "    df[df[\"Dissolved Oxygen Category\"] == \"25%\"][\"Absorbance 254nm\"],\n",
    "    df[df[\"Dissolved Oxygen Category\"] == \"50%\"][\"Absorbance 254nm\"],\n",
    "    df[df[\"Dissolved Oxygen Category\"] == \"75%\"][\"Absorbance 254nm\"],\n",
    "    df[df[\"Dissolved Oxygen Category\"] == \">75%\"][\"Absorbance 254nm\"],\n",
    ")\n",
    "\n",
    "print(kruskal_test)"
   ]
  },
  {
   "cell_type": "code",
   "execution_count": null,
   "metadata": {},
   "outputs": [],
   "source": [
    "# no equal means\n",
    "# perform post-hoc test using Dunn's test\n",
    "dunn_test = sp.posthoc_dunn(\n",
    "    a=df,\n",
    "    val_col=\"Absorbance 254nm\",\n",
    "    group_col=\"Dissolved Oxygen Category\",\n",
    "    p_adjust=\"holm\",\n",
    ")\n",
    "\n",
    "print(dunn_test)"
   ]
  },
  {
   "cell_type": "code",
   "execution_count": null,
   "metadata": {},
   "outputs": [],
   "source": [
    "# plot the post-hoc test\n",
    "plt.figure(figsize=(20, 10))\n",
    "\n",
    "sp.sign_plot(dunn_test)\n",
    "\n",
    "plt.show()"
   ]
  },
  {
   "cell_type": "code",
   "execution_count": null,
   "metadata": {},
   "outputs": [],
   "source": [
    "# it seems that the 25% and 50% categories are significantly different from the 75% and >75% categories"
   ]
  },
  {
   "cell_type": "code",
   "execution_count": null,
   "metadata": {},
   "outputs": [],
   "source": [
    "# combine the 75% and >75% categories and the 25% and 50% categories\n",
    "df[\"Dissolved Oxygen Category\"] = df[\"Dissolved Oxygen Category\"].apply(\n",
    "    lambda x: \"50%+\" if x in [\"75%\", \">75%\"] else \"50%-\"\n",
    ")"
   ]
  },
  {
   "cell_type": "code",
   "execution_count": null,
   "metadata": {},
   "outputs": [],
   "source": [
    "# plot the data again\n",
    "plt.figure(figsize=(20, 10))\n",
    "\n",
    "colors = [\"r\", \"g\"]\n",
    "\n",
    "for category in df[\"Dissolved Oxygen Category\"].unique():\n",
    "    color = colors.pop()\n",
    "\n",
    "    category_df = df[df[\"Dissolved Oxygen Category\"] == category]\n",
    "    # sns.histplot(category_df['Absorbance 254nm'], label=category, kde=True, color=color)\n",
    "    sns.kdeplot(\n",
    "        category_df[\"Absorbance 254nm\"],\n",
    "        color=color,\n",
    "        label=category,\n",
    "        fill=True,\n",
    "        alpha=0.5,\n",
    "    )\n",
    "\n",
    "    # Calculate the mean and variance\n",
    "    mean = category_df[\"Absorbance 254nm\"].mean()\n",
    "    variance = category_df[\"Absorbance 254nm\"].var()\n",
    "\n",
    "    # Plot the mean\n",
    "    plt.axvline(mean, color=color, linestyle=\"--\")\n",
    "\n",
    "    # Plot the variance as a shaded region\n",
    "    plt.fill_betweenx(\n",
    "        [0, plt.gca().get_ylim()[1]],\n",
    "        mean - np.sqrt(variance),\n",
    "        mean + np.sqrt(variance),\n",
    "        color=color,\n",
    "        alpha=0.2,\n",
    "    )\n",
    "\n",
    "plt.title(\"Dissolved Oxygen vs Absorbance 254nm\")\n",
    "plt.xlabel(\"Absorbance 254nm\")\n",
    "plt.ylabel(\"Density\")\n",
    "plt.legend()\n",
    "plt.show()"
   ]
  },
  {
   "cell_type": "code",
   "execution_count": null,
   "metadata": {},
   "outputs": [],
   "source": [
    "# compare the two categories to assess if the mean of the Absorbance 254nm of 25%- is significantly lower than 25%+\n",
    "# perform the levene test\n",
    "levene_test = stats.levene(\n",
    "    df[df[\"Dissolved Oxygen Category\"] == \"50%-\"][\"Absorbance 254nm\"],\n",
    "    df[df[\"Dissolved Oxygen Category\"] == \"50%+\"][\"Absorbance 254nm\"],\n",
    ")\n",
    "\n",
    "print(levene_test)"
   ]
  },
  {
   "cell_type": "code",
   "execution_count": null,
   "metadata": {},
   "outputs": [],
   "source": [
    "# data is homoschedastic\n",
    "# perform the t-test for independent samples with equal variances\n",
    "t_test = stats.ttest_ind(\n",
    "    df[df[\"Dissolved Oxygen Category\"] == \"50%-\"][\"Absorbance 254nm\"],\n",
    "    df[df[\"Dissolved Oxygen Category\"] == \"50%+\"][\"Absorbance 254nm\"],\n",
    "    equal_var=True,\n",
    "    alternative=\"less\",\n",
    ")\n",
    "\n",
    "print(t_test)"
   ]
  },
  {
   "cell_type": "code",
   "execution_count": null,
   "metadata": {},
   "outputs": [],
   "source": [
    "# reject the null hypothesis\n",
    "# the mean of the Absorbance 254nm of 50%- is significantly lower than 50%+\n",
    "# Low Dissolved Oxygen is associated with low Absorbance 254nm"
   ]
  },
  {
   "cell_type": "markdown",
   "metadata": {},
   "source": [
    "## Ammonium"
   ]
  },
  {
   "cell_type": "code",
   "execution_count": null,
   "metadata": {},
   "outputs": [],
   "source": [
    "df = xerta_df[[\"Ammonium\", \"Absorbance 254nm\"]]"
   ]
  },
  {
   "cell_type": "code",
   "execution_count": null,
   "metadata": {},
   "outputs": [],
   "source": [
    "# divide the data based on the quantiles of the Flow River\n",
    "# 25%, 50%, 75%, > 75%\n",
    "flow_quantiles = df[\"Ammonium\"].quantile([0.25, 0.5, 0.75])\n",
    "\n",
    "df[\"Ammonium Category\"] = pd.cut(\n",
    "    df[\"Ammonium\"],\n",
    "    bins=[\n",
    "        -np.inf,\n",
    "        flow_quantiles[0.25],\n",
    "        flow_quantiles[0.5],\n",
    "        flow_quantiles[0.75],\n",
    "        np.inf,\n",
    "    ],\n",
    "    labels=[\"25%\", \"50%\", \"75%\", \">75%\"],\n",
    ")"
   ]
  },
  {
   "cell_type": "code",
   "execution_count": null,
   "metadata": {},
   "outputs": [],
   "source": [
    "plt.figure(figsize=(20, 10))\n",
    "\n",
    "colors = [\"r\", \"g\", \"b\", \"y\"]\n",
    "\n",
    "for category in df[\"Ammonium Category\"].unique():\n",
    "    color = colors.pop()\n",
    "\n",
    "    category_df = df[df[\"Ammonium Category\"] == category]\n",
    "    # sns.histplot(category_df['Absorbance 254nm'], label=category, kde=True, color=color)\n",
    "    sns.kdeplot(\n",
    "        category_df[\"Absorbance 254nm\"],\n",
    "        color=color,\n",
    "        label=category,\n",
    "        fill=True,\n",
    "        alpha=0.5,\n",
    "    )\n",
    "\n",
    "    # Calculate the mean and variance\n",
    "    mean = category_df[\"Absorbance 254nm\"].mean()\n",
    "    variance = category_df[\"Absorbance 254nm\"].var()\n",
    "\n",
    "    # Plot the mean\n",
    "    plt.axvline(mean, color=color, linestyle=\"--\")\n",
    "\n",
    "    # Plot the variance as a shaded region\n",
    "    plt.fill_betweenx(\n",
    "        [0, plt.gca().get_ylim()[1]],\n",
    "        mean - np.sqrt(variance),\n",
    "        mean + np.sqrt(variance),\n",
    "        color=color,\n",
    "        alpha=0.2,\n",
    "    )\n",
    "\n",
    "plt.title(\"Ammonium vs Absorbance 254nm\")\n",
    "plt.xlabel(\"Absorbance 254nm\")\n",
    "plt.ylabel(\"Density\")\n",
    "plt.legend()\n",
    "plt.show()"
   ]
  },
  {
   "cell_type": "code",
   "execution_count": null,
   "metadata": {},
   "outputs": [],
   "source": [
    "# data is not normally distributed"
   ]
  },
  {
   "cell_type": "code",
   "execution_count": null,
   "metadata": {},
   "outputs": [],
   "source": [
    "# perform the levene test\n",
    "levene_test = stats.levene(\n",
    "    df[df[\"Ammonium Category\"] == \"25%\"][\"Absorbance 254nm\"],\n",
    "    df[df[\"Ammonium Category\"] == \"50%\"][\"Absorbance 254nm\"],\n",
    "    df[df[\"Ammonium Category\"] == \"75%\"][\"Absorbance 254nm\"],\n",
    "    df[df[\"Ammonium Category\"] == \">75%\"][\"Absorbance 254nm\"],\n",
    ")\n",
    "\n",
    "print(levene_test)"
   ]
  },
  {
   "cell_type": "code",
   "execution_count": null,
   "metadata": {},
   "outputs": [],
   "source": [
    "# data is homoschedastic\n",
    "# perform Kruskal-Wallis test\n",
    "kruskal_test = stats.kruskal(\n",
    "    df[df[\"Ammonium Category\"] == \"25%\"][\"Absorbance 254nm\"],\n",
    "    df[df[\"Ammonium Category\"] == \"50%\"][\"Absorbance 254nm\"],\n",
    "    df[df[\"Ammonium Category\"] == \"75%\"][\"Absorbance 254nm\"],\n",
    "    df[df[\"Ammonium Category\"] == \">75%\"][\"Absorbance 254nm\"],\n",
    ")\n",
    "\n",
    "print(kruskal_test)"
   ]
  },
  {
   "cell_type": "code",
   "execution_count": null,
   "metadata": {},
   "outputs": [],
   "source": [
    "# no equal means\n",
    "# perform post-hoc test using Dunn's test\n",
    "dunn_test = sp.posthoc_dunn(\n",
    "    a=df,\n",
    "    val_col=\"Absorbance 254nm\",\n",
    "    group_col=\"Ammonium Category\",\n",
    "    p_adjust=\"holm\",\n",
    ")\n",
    "\n",
    "print(dunn_test)"
   ]
  },
  {
   "cell_type": "code",
   "execution_count": null,
   "metadata": {},
   "outputs": [],
   "source": [
    "# plot the post-hoc test\n",
    "plt.figure(figsize=(20, 10))\n",
    "\n",
    "sp.sign_plot(dunn_test)\n",
    "\n",
    "plt.show()"
   ]
  },
  {
   "cell_type": "code",
   "execution_count": null,
   "metadata": {},
   "outputs": [],
   "source": [
    "# it seems that the >75% category is significantly different from the other categories"
   ]
  },
  {
   "cell_type": "code",
   "execution_count": null,
   "metadata": {},
   "outputs": [],
   "source": [
    "# combine the 25%, 50% and 75% categories\n",
    "df[\"Ammonium Category\"] = df[\"Ammonium Category\"].apply(\n",
    "    lambda x: \"75%-\" if x in [\"25%\", \"50%\", \"75%\"] else \"75%+\"\n",
    ")"
   ]
  },
  {
   "cell_type": "code",
   "execution_count": null,
   "metadata": {},
   "outputs": [],
   "source": [
    "# plot the data again\n",
    "plt.figure(figsize=(20, 10))\n",
    "\n",
    "colors = [\"r\", \"g\"]\n",
    "\n",
    "for category in df[\"Ammonium Category\"].unique():\n",
    "    color = colors.pop()\n",
    "\n",
    "    category_df = df[df[\"Ammonium Category\"] == category]\n",
    "    # sns.histplot(category_df['Absorbance 254nm'], label=category, kde=True, color=color)\n",
    "    sns.kdeplot(\n",
    "        category_df[\"Absorbance 254nm\"],\n",
    "        color=color,\n",
    "        label=category,\n",
    "        fill=True,\n",
    "        alpha=0.5,\n",
    "    )\n",
    "\n",
    "    # Calculate the mean and variance\n",
    "    mean = category_df[\"Absorbance 254nm\"].mean()\n",
    "    variance = category_df[\"Absorbance 254nm\"].var()\n",
    "\n",
    "    # Plot the mean\n",
    "    plt.axvline(mean, color=color, linestyle=\"--\")\n",
    "\n",
    "    # Plot the variance as a shaded region\n",
    "    plt.fill_betweenx(\n",
    "        [0, plt.gca().get_ylim()[1]],\n",
    "        mean - np.sqrt(variance),\n",
    "        mean + np.sqrt(variance),\n",
    "        color=color,\n",
    "        alpha=0.2,\n",
    "    )\n",
    "\n",
    "plt.title(\"Ammonium vs Absorbance 254nm\")\n",
    "plt.xlabel(\"Absorbance 254nm\")\n",
    "plt.ylabel(\"Density\")\n",
    "plt.legend()\n",
    "plt.show()"
   ]
  },
  {
   "cell_type": "code",
   "execution_count": null,
   "metadata": {},
   "outputs": [],
   "source": [
    "# compare the two categories to assess if the mean of the Absorbance 254nm of 25%- is significantly lower than 25%+\n",
    "# perform the levene test\n",
    "levene_test = stats.levene(\n",
    "    df[df[\"Ammonium Category\"] == \"75%-\"][\"Absorbance 254nm\"],\n",
    "    df[df[\"Ammonium Category\"] == \"75%+\"][\"Absorbance 254nm\"],\n",
    ")\n",
    "\n",
    "print(levene_test)"
   ]
  },
  {
   "cell_type": "code",
   "execution_count": null,
   "metadata": {},
   "outputs": [],
   "source": [
    "# data is homoschedastic\n",
    "# perform the t-test for independent samples with equal variances\n",
    "t_test = stats.ttest_ind(\n",
    "    df[df[\"Ammonium Category\"] == \"75%-\"][\"Absorbance 254nm\"],\n",
    "    df[df[\"Ammonium Category\"] == \"75%+\"][\"Absorbance 254nm\"],\n",
    "    equal_var=True,\n",
    "    alternative=\"less\",\n",
    ")\n",
    "\n",
    "print(t_test)"
   ]
  },
  {
   "cell_type": "code",
   "execution_count": null,
   "metadata": {},
   "outputs": [],
   "source": [
    "# reject the null hypothesis\n",
    "# the mean of the Absorbance 254nm of 75%- is significantly lower than 75%+\n",
    "# Low Ammonium is associated with low Absorbance 254nm"
   ]
  },
  {
   "cell_type": "markdown",
   "metadata": {},
   "source": [
    "## Redox Potential"
   ]
  },
  {
   "cell_type": "code",
   "execution_count": null,
   "metadata": {},
   "outputs": [],
   "source": [
    "df = xerta_df[[\"Redox Potential\", \"Absorbance 254nm\"]]"
   ]
  },
  {
   "cell_type": "code",
   "execution_count": null,
   "metadata": {},
   "outputs": [],
   "source": [
    "# divide the data based on the quantiles of the Flow River\n",
    "# 25%, 50%, 75%, > 75%\n",
    "flow_quantiles = df[\"Redox Potential\"].quantile([0.25, 0.5, 0.75])\n",
    "\n",
    "df[\"Redox Potential Category\"] = pd.cut(\n",
    "    df[\"Redox Potential\"],\n",
    "    bins=[\n",
    "        -np.inf,\n",
    "        flow_quantiles[0.25],\n",
    "        flow_quantiles[0.5],\n",
    "        flow_quantiles[0.75],\n",
    "        np.inf,\n",
    "    ],\n",
    "    labels=[\"25%\", \"50%\", \"75%\", \">75%\"],\n",
    ")"
   ]
  },
  {
   "cell_type": "code",
   "execution_count": null,
   "metadata": {},
   "outputs": [],
   "source": [
    "plt.figure(figsize=(20, 10))\n",
    "\n",
    "colors = [\"r\", \"g\", \"b\", \"y\"]\n",
    "\n",
    "for category in df[\"Redox Potential Category\"].unique():\n",
    "    color = colors.pop()\n",
    "\n",
    "    category_df = df[df[\"Redox Potential Category\"] == category]\n",
    "    # sns.histplot(category_df['Absorbance 254nm'], label=category, kde=True, color=color)\n",
    "    sns.kdeplot(\n",
    "        category_df[\"Absorbance 254nm\"],\n",
    "        color=color,\n",
    "        label=category,\n",
    "        fill=True,\n",
    "        alpha=0.5,\n",
    "    )\n",
    "\n",
    "    # Calculate the mean and variance\n",
    "    mean = category_df[\"Absorbance 254nm\"].mean()\n",
    "    variance = category_df[\"Absorbance 254nm\"].var()\n",
    "\n",
    "    # Plot the mean\n",
    "    plt.axvline(mean, color=color, linestyle=\"--\")\n",
    "\n",
    "    # Plot the variance as a shaded region\n",
    "    plt.fill_betweenx(\n",
    "        [0, plt.gca().get_ylim()[1]],\n",
    "        mean - np.sqrt(variance),\n",
    "        mean + np.sqrt(variance),\n",
    "        color=color,\n",
    "        alpha=0.2,\n",
    "    )\n",
    "\n",
    "plt.title(\"Redox Potential vs Absorbance 254nm\")\n",
    "plt.xlabel(\"Absorbance 254nm\")\n",
    "plt.ylabel(\"Density\")\n",
    "plt.legend()\n",
    "plt.show()"
   ]
  },
  {
   "cell_type": "code",
   "execution_count": null,
   "metadata": {},
   "outputs": [],
   "source": [
    "# TODO: pulire i dati e rifare"
   ]
  },
  {
   "cell_type": "code",
   "execution_count": null,
   "metadata": {},
   "outputs": [],
   "source": [
    "# data is not normally distributed"
   ]
  },
  {
   "cell_type": "code",
   "execution_count": null,
   "metadata": {},
   "outputs": [],
   "source": [
    "# perform the levene test\n",
    "levene_test = stats.levene(\n",
    "    df[df[\"Redox Potential Category\"] == \"25%\"][\"Absorbance 254nm\"],\n",
    "    df[df[\"Redox Potential Category\"] == \"50%\"][\"Absorbance 254nm\"],\n",
    "    df[df[\"Redox Potential Category\"] == \"75%\"][\"Absorbance 254nm\"],\n",
    "    df[df[\"Redox Potential Category\"] == \">75%\"][\"Absorbance 254nm\"],\n",
    ")\n",
    "\n",
    "print(levene_test)"
   ]
  },
  {
   "cell_type": "code",
   "execution_count": null,
   "metadata": {},
   "outputs": [],
   "source": [
    "# data is heteroschedastic\n",
    "# perform Welch's one-way test\n",
    "welch_test = pg.welch_anova(\n",
    "    data=df,\n",
    "    dv=\"Absorbance 254nm\",\n",
    "    between=\"Redox Potential Category\",\n",
    ")\n",
    "\n",
    "print(welch_test)"
   ]
  },
  {
   "cell_type": "code",
   "execution_count": null,
   "metadata": {},
   "outputs": [],
   "source": [
    "# equal means\n",
    "# perform post-hoc test using Conover test\n",
    "conover_test = sp.posthoc_conover(\n",
    "    a=df,\n",
    "    val_col=\"Absorbance 254nm\",\n",
    "    group_col=\"Redox Potential Category\",\n",
    "    p_adjust=\"holm\",\n",
    "    sort=True,\n",
    ")\n",
    "\n",
    "print(conover_test)"
   ]
  },
  {
   "cell_type": "code",
   "execution_count": null,
   "metadata": {},
   "outputs": [],
   "source": [
    "# plot the post-hoc test\n",
    "plt.figure(figsize=(20, 10))\n",
    "\n",
    "sp.sign_plot(conover_test)\n",
    "\n",
    "plt.show()"
   ]
  },
  {
   "cell_type": "code",
   "execution_count": null,
   "metadata": {},
   "outputs": [],
   "source": [
    "# it seems that the >75% category is significantly different from the other categories"
   ]
  },
  {
   "cell_type": "code",
   "execution_count": null,
   "metadata": {},
   "outputs": [],
   "source": [
    "# combine the 25%, 50% and 75% categories\n",
    "df[\"Redox Potential Category\"] = df[\"Redox Potential Category\"].apply(\n",
    "    lambda x: \"75%-\" if x in [\"25%\", \"50%\", \"75%\"] else \"75%+\"\n",
    ")"
   ]
  },
  {
   "cell_type": "code",
   "execution_count": null,
   "metadata": {},
   "outputs": [],
   "source": [
    "# plot the data again\n",
    "plt.figure(figsize=(20, 10))\n",
    "\n",
    "colors = [\"r\", \"g\"]\n",
    "\n",
    "for category in df[\"Redox Potential Category\"].unique():\n",
    "    color = colors.pop()\n",
    "\n",
    "    category_df = df[df[\"Redox Potential Category\"] == category]\n",
    "    # sns.histplot(category_df['Absorbance 254nm'], label=category, kde=True, color=color)\n",
    "    sns.kdeplot(\n",
    "        category_df[\"Absorbance 254nm\"],\n",
    "        color=color,\n",
    "        label=category,\n",
    "        fill=True,\n",
    "        alpha=0.5,\n",
    "    )\n",
    "\n",
    "    # Calculate the mean and variance\n",
    "    mean = category_df[\"Absorbance 254nm\"].mean()\n",
    "    variance = category_df[\"Absorbance 254nm\"].var()\n",
    "\n",
    "    # Plot the mean\n",
    "    plt.axvline(mean, color=color, linestyle=\"--\")\n",
    "\n",
    "    # Plot the variance as a shaded region\n",
    "    plt.fill_betweenx(\n",
    "        [0, plt.gca().get_ylim()[1]],\n",
    "        mean - np.sqrt(variance),\n",
    "        mean + np.sqrt(variance),\n",
    "        color=color,\n",
    "        alpha=0.2,\n",
    "    )\n",
    "\n",
    "plt.title(\"Redox Potential vs Absorbance 254nm\")\n",
    "plt.xlabel(\"Absorbance 254nm\")\n",
    "plt.ylabel(\"Density\")\n",
    "plt.legend()\n",
    "plt.show()"
   ]
  },
  {
   "cell_type": "code",
   "execution_count": null,
   "metadata": {},
   "outputs": [],
   "source": [
    "# compare the two categories to assess if the mean of the Absorbance 254nm of 25%- is significantly lower than 25%+\n",
    "# perform the levene test\n",
    "levene_test = stats.levene(\n",
    "    df[df[\"Redox Potential Category\"] == \"75%-\"][\"Absorbance 254nm\"],\n",
    "    df[df[\"Redox Potential Category\"] == \"75%+\"][\"Absorbance 254nm\"],\n",
    ")\n",
    "\n",
    "print(levene_test)"
   ]
  },
  {
   "cell_type": "code",
   "execution_count": null,
   "metadata": {},
   "outputs": [],
   "source": [
    "# data is homoschedastic\n",
    "# perform the t-test for independent samples with equal variances\n",
    "t_test = stats.ttest_ind(\n",
    "    df[df[\"Redox Potential Category\"] == \"75%-\"][\"Absorbance 254nm\"],\n",
    "    df[df[\"Redox Potential Category\"] == \"75%+\"][\"Absorbance 254nm\"],\n",
    "    equal_var=True,\n",
    "    alternative=\"less\",\n",
    ")\n",
    "\n",
    "print(t_test)"
   ]
  },
  {
   "cell_type": "code",
   "execution_count": null,
   "metadata": {},
   "outputs": [],
   "source": [
    "# reject the null hypothesis\n",
    "# the mean of the Absorbance 254nm of 75%- is significantly lower than 75%+\n",
    "# Low Ammonium is associated with low Absorbance 254nm"
   ]
  },
  {
   "cell_type": "markdown",
   "metadata": {},
   "source": [
    "## Conductivity"
   ]
  },
  {
   "cell_type": "code",
   "execution_count": null,
   "metadata": {},
   "outputs": [],
   "source": [
    "df = xerta_df[[\"Conductivity\", \"Absorbance 254nm\"]]"
   ]
  },
  {
   "cell_type": "code",
   "execution_count": null,
   "metadata": {},
   "outputs": [],
   "source": [
    "# divide the data based on the quantiles of the Flow River\n",
    "# 25%, 50%, 75%, > 75%\n",
    "flow_quantiles = df[\"Conductivity\"].quantile([0.25, 0.5, 0.75])\n",
    "\n",
    "df[\"Conductivity Category\"] = pd.cut(\n",
    "    df[\"Conductivity\"],\n",
    "    bins=[\n",
    "        -np.inf,\n",
    "        flow_quantiles[0.25],\n",
    "        flow_quantiles[0.5],\n",
    "        flow_quantiles[0.75],\n",
    "        np.inf,\n",
    "    ],\n",
    "    labels=[\"25%\", \"50%\", \"75%\", \">75%\"],\n",
    ")"
   ]
  },
  {
   "cell_type": "code",
   "execution_count": null,
   "metadata": {},
   "outputs": [],
   "source": [
    "plt.figure(figsize=(20, 10))\n",
    "\n",
    "colors = [\"r\", \"g\", \"b\", \"y\"]\n",
    "\n",
    "for category in df[\"Conductivity Category\"].unique():\n",
    "    color = colors.pop()\n",
    "\n",
    "    category_df = df[df[\"Conductivity Category\"] == category]\n",
    "    # sns.histplot(category_df['Absorbance 254nm'], label=category, kde=True, color=color)\n",
    "    sns.kdeplot(\n",
    "        category_df[\"Absorbance 254nm\"],\n",
    "        color=color,\n",
    "        label=category,\n",
    "        fill=True,\n",
    "        alpha=0.5,\n",
    "    )\n",
    "\n",
    "    # Calculate the mean and variance\n",
    "    mean = category_df[\"Absorbance 254nm\"].mean()\n",
    "    variance = category_df[\"Absorbance 254nm\"].var()\n",
    "\n",
    "    # Plot the mean\n",
    "    plt.axvline(mean, color=color, linestyle=\"--\")\n",
    "\n",
    "    # Plot the variance as a shaded region\n",
    "    plt.fill_betweenx(\n",
    "        [0, plt.gca().get_ylim()[1]],\n",
    "        mean - np.sqrt(variance),\n",
    "        mean + np.sqrt(variance),\n",
    "        color=color,\n",
    "        alpha=0.2,\n",
    "    )\n",
    "\n",
    "plt.title(\"Conductivity vs Absorbance 254nm\")\n",
    "plt.xlabel(\"Absorbance 254nm\")\n",
    "plt.ylabel(\"Density\")\n",
    "plt.legend()\n",
    "plt.show()"
   ]
  },
  {
   "cell_type": "code",
   "execution_count": null,
   "metadata": {},
   "outputs": [],
   "source": [
    "# data is not normally distributed"
   ]
  },
  {
   "cell_type": "code",
   "execution_count": null,
   "metadata": {},
   "outputs": [],
   "source": [
    "# perform the levene test\n",
    "levene_test = stats.levene(\n",
    "    df[df[\"Conductivity Category\"] == \"25%\"][\"Absorbance 254nm\"],\n",
    "    df[df[\"Conductivity Category\"] == \"50%\"][\"Absorbance 254nm\"],\n",
    "    df[df[\"Conductivity Category\"] == \"75%\"][\"Absorbance 254nm\"],\n",
    "    df[df[\"Conductivity Category\"] == \">75%\"][\"Absorbance 254nm\"],\n",
    ")\n",
    "\n",
    "print(levene_test)"
   ]
  },
  {
   "cell_type": "code",
   "execution_count": null,
   "metadata": {},
   "outputs": [],
   "source": [
    "# data is homoschedastic\n",
    "# perform Kruskal-Wallis test\n",
    "kruskal_test = stats.kruskal(\n",
    "    df[df[\"Conductivity Category\"] == \"25%\"][\"Absorbance 254nm\"],\n",
    "    df[df[\"Conductivity Category\"] == \"50%\"][\"Absorbance 254nm\"],\n",
    "    df[df[\"Conductivity Category\"] == \"75%\"][\"Absorbance 254nm\"],\n",
    "    df[df[\"Conductivity Category\"] == \">75%\"][\"Absorbance 254nm\"],\n",
    ")\n",
    "\n",
    "print(kruskal_test)"
   ]
  },
  {
   "cell_type": "code",
   "execution_count": null,
   "metadata": {},
   "outputs": [],
   "source": [
    "# no equal means\n",
    "# perform post-hoc test using Dunn's test\n",
    "dunn_test = sp.posthoc_dunn(\n",
    "    a=df,\n",
    "    val_col=\"Absorbance 254nm\",\n",
    "    group_col=\"Conductivity Category\",\n",
    "    p_adjust=\"holm\",\n",
    ")\n",
    "\n",
    "print(dunn_test)"
   ]
  },
  {
   "cell_type": "code",
   "execution_count": null,
   "metadata": {},
   "outputs": [],
   "source": [
    "# plot the post-hoc test\n",
    "plt.figure(figsize=(20, 10))\n",
    "\n",
    "sp.sign_plot(dunn_test)\n",
    "\n",
    "plt.show()"
   ]
  },
  {
   "cell_type": "code",
   "execution_count": null,
   "metadata": {},
   "outputs": [],
   "source": [
    "# it seems that the 75% and >75% categories are significantly different from the 25% and 50% categories"
   ]
  },
  {
   "cell_type": "code",
   "execution_count": null,
   "metadata": {},
   "outputs": [],
   "source": [
    "# combine the 25% and 50% categories and the 75% and >75% categories\n",
    "df[\"Conductivity Category\"] = df[\"Conductivity Category\"].apply(\n",
    "    lambda x: \"50%+\" if x in [\"75%\", \">75%\"] else \"50%-\"\n",
    ")"
   ]
  },
  {
   "cell_type": "code",
   "execution_count": null,
   "metadata": {},
   "outputs": [],
   "source": [
    "# plot the data again\n",
    "plt.figure(figsize=(20, 10))\n",
    "\n",
    "colors = [\"r\", \"g\"]\n",
    "\n",
    "for category in df[\"Conductivity Category\"].unique():\n",
    "    color = colors.pop()\n",
    "\n",
    "    category_df = df[df[\"Conductivity Category\"] == category]\n",
    "    # sns.histplot(category_df['Absorbance 254nm'], label=category, kde=True, color=color)\n",
    "    sns.kdeplot(\n",
    "        category_df[\"Absorbance 254nm\"],\n",
    "        color=color,\n",
    "        label=category,\n",
    "        fill=True,\n",
    "        alpha=0.5,\n",
    "    )\n",
    "\n",
    "    # Calculate the mean and variance\n",
    "    mean = category_df[\"Absorbance 254nm\"].mean()\n",
    "    variance = category_df[\"Absorbance 254nm\"].var()\n",
    "\n",
    "    # Plot the mean\n",
    "    plt.axvline(mean, color=color, linestyle=\"--\")\n",
    "\n",
    "    # Plot the variance as a shaded region\n",
    "    plt.fill_betweenx(\n",
    "        [0, plt.gca().get_ylim()[1]],\n",
    "        mean - np.sqrt(variance),\n",
    "        mean + np.sqrt(variance),\n",
    "        color=color,\n",
    "        alpha=0.2,\n",
    "    )\n",
    "\n",
    "plt.title(\"Conductivity vs Absorbance 254nm\")\n",
    "plt.xlabel(\"Absorbance 254nm\")\n",
    "plt.ylabel(\"Density\")\n",
    "plt.legend()\n",
    "plt.show()"
   ]
  },
  {
   "cell_type": "code",
   "execution_count": null,
   "metadata": {},
   "outputs": [],
   "source": [
    "# compare the two categories to assess if the mean of the Absorbance 254nm of 25%- is significantly lower than 25%+\n",
    "# perform the levene test\n",
    "levene_test = stats.levene(\n",
    "    df[df[\"Conductivity Category\"] == \"50%-\"][\"Absorbance 254nm\"],\n",
    "    df[df[\"Conductivity Category\"] == \"50%+\"][\"Absorbance 254nm\"],\n",
    ")\n",
    "\n",
    "print(levene_test)"
   ]
  },
  {
   "cell_type": "code",
   "execution_count": null,
   "metadata": {},
   "outputs": [],
   "source": [
    "# data is homoschedastic\n",
    "# perform the t-test for independent samples with equal variances\n",
    "t_test = stats.ttest_ind(\n",
    "    df[df[\"Conductivity Category\"] == \"50%-\"][\"Absorbance 254nm\"],\n",
    "    df[df[\"Conductivity Category\"] == \"50%+\"][\"Absorbance 254nm\"],\n",
    "    equal_var=True,\n",
    "    alternative=\"greater\",\n",
    ")\n",
    "\n",
    "print(t_test)"
   ]
  },
  {
   "cell_type": "code",
   "execution_count": null,
   "metadata": {},
   "outputs": [],
   "source": [
    "# reject the null hypothesis\n",
    "# the mean of the Absorbance 254nm of 50%- is significantly higher than 50%+\n",
    "# Low Conductivity is associated with high Absorbance 254nm"
   ]
  },
  {
   "cell_type": "markdown",
   "metadata": {},
   "source": [
    "# Store Projections"
   ]
  },
  {
   "cell_type": "code",
   "execution_count": null,
   "metadata": {},
   "outputs": [],
   "source": [
    "air_temp_rcp45_df.drop(columns=[\"time\"], inplace=True)\n",
    "air_temp_rcp45_df.rename(\n",
    "    columns={\"tas_ymonmean\": \"Value\"}, inplace=True\n",
    ")\n",
    "air_temp_rcp45_df.to_excel(\n",
    "    os.path.join(interpolated_projections_folder, \"air_temp_rcp45.xlsx\")\n",
    ")\n",
    "\n",
    "air_temp_rcp85_df.drop(columns=[\"time\"], inplace=True)\n",
    "air_temp_rcp85_df.rename(\n",
    "    columns={\"tas_ymonmean\": \"Value\"}, inplace=True\n",
    ")\n",
    "air_temp_rcp85_df.to_excel(\n",
    "    os.path.join(interpolated_projections_folder, \"air_temp_rcp85.xlsx\")\n",
    ")\n",
    "\n",
    "rain_rcp45_df.drop(columns=[\"time\"], inplace=True)\n",
    "rain_rcp45_df.rename(columns={\"pr_ymonmean\": \"Value\"}, inplace=True)\n",
    "rain_rcp45_df.to_excel(\n",
    "    os.path.join(\n",
    "        interpolated_projections_folder, \"precipitation_rcp45.xlsx\"\n",
    "    )\n",
    ")\n",
    "\n",
    "rain_rcp85_df.drop(columns=[\"time\"], inplace=True)\n",
    "rain_rcp85_df.rename(columns={\"pr_ymonmean\": \"Value\"}, inplace=True)\n",
    "rain_rcp85_df.to_excel(\n",
    "    os.path.join(\n",
    "        interpolated_projections_folder, \"precipitation_rcp85.xlsx\"\n",
    "    )\n",
    ")\n",
    "\n",
    "flow_rcp45_df.drop(columns=[\"time\"], inplace=True)\n",
    "flow_rcp45_df.rename(columns={\"rdis_ymonmean\": \"Value\"}, inplace=True)\n",
    "flow_rcp45_df.to_excel(\n",
    "    os.path.join(interpolated_projections_folder, \"flow_rcp45.xlsx\")\n",
    ")\n",
    "\n",
    "flow_rcp85_df.drop(columns=[\"time\"], inplace=True)\n",
    "flow_rcp85_df.rename(columns={\"rdis_ymonmean\": \"Value\"}, inplace=True)\n",
    "flow_rcp85_df.to_excel(\n",
    "    os.path.join(interpolated_projections_folder, \"flow_rcp85.xlsx\")\n",
    ")\n",
    "\n",
    "water_temp_rcp45_df.drop(columns=[\"time\"], inplace=True)\n",
    "water_temp_rcp45_df.to_excel(\n",
    "    os.path.join(\n",
    "        interpolated_projections_folder, \"water_temp_rcp45.xlsx\"\n",
    "    )\n",
    ")\n",
    "\n",
    "water_temp_rcp85_df.drop(columns=[\"time\"], inplace=True)\n",
    "water_temp_rcp85_df.to_excel(\n",
    "    os.path.join(\n",
    "        interpolated_projections_folder, \"water_temp_rcp85.xlsx\"\n",
    "    )\n",
    ")"
   ]
  }
 ],
 "metadata": {
  "kernelspec": {
   "display_name": "climate-change-MEYtuKH4-py3.11",
   "language": "python",
   "name": "python3"
  },
  "language_info": {
   "codemirror_mode": {
    "name": "ipython",
    "version": 3
   },
   "file_extension": ".py",
   "mimetype": "text/x-python",
   "name": "python",
   "nbconvert_exporter": "python",
   "pygments_lexer": "ipython3",
   "version": "3.11.8"
  }
 },
 "nbformat": 4,
 "nbformat_minor": 2
}
