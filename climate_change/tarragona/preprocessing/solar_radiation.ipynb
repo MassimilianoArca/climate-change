{
 "cells": [
  {
   "cell_type": "code",
   "execution_count": null,
   "metadata": {},
   "outputs": [],
   "source": [
    "import os\n",
    "import pandas as pd\n",
    "import numpy as np\n",
    "\n",
    "import plotly.graph_objects as go"
   ]
  },
  {
   "cell_type": "code",
   "execution_count": null,
   "metadata": {},
   "outputs": [],
   "source": [
    "data_folder = os.path.join('..', '..', 'data', 'tarragona')\n",
    "\n",
    "clean_data_folder = os.path.join(data_folder, 'clean_data')\n",
    "solar_radiation_folder = os.path.join(data_folder, 'solar_radiation')\n",
    "\n",
    "projections_folder = os.path.join(data_folder, 'future_projections')\n",
    "my_projections_folder = os.path.join(projections_folder, 'found_by_me')\n",
    "cat_projections_folder = os.path.join(projections_folder, 'cat')"
   ]
  },
  {
   "cell_type": "markdown",
   "metadata": {},
   "source": [
    "# Load Data"
   ]
  },
  {
   "cell_type": "code",
   "execution_count": null,
   "metadata": {},
   "outputs": [],
   "source": [
    "solar_df = pd.read_csv(os.path.join(solar_radiation_folder, 'daily_solar_radiation_Guiamets_2008_2024.csv'), sep=';', decimal=',')"
   ]
  },
  {
   "cell_type": "code",
   "execution_count": null,
   "metadata": {},
   "outputs": [],
   "source": [
    "solar_df"
   ]
  },
  {
   "cell_type": "code",
   "execution_count": null,
   "metadata": {},
   "outputs": [],
   "source": [
    "# drop rows that have three spaces in at least one of the columns\n",
    "solar_df = solar_df[~solar_df['Date'].str.contains('   ', na=False)]\n",
    "solar_df = solar_df[~solar_df['Date (maximum value)'].str.contains('   ', na=False)]\n",
    "solar_df = solar_df[~solar_df['Mean'].str.contains('   ', na=False)]\n",
    "solar_df = solar_df[~solar_df['Maximum'].str.contains('   ', na=False)]"
   ]
  },
  {
   "cell_type": "code",
   "execution_count": null,
   "metadata": {},
   "outputs": [],
   "source": [
    "solar_df['Date'] = pd.to_datetime(solar_df['Date'], format='%d/%m/%Y %H:%M')\n",
    "solar_df['Date (maximum value)'] = pd.to_datetime(solar_df['Date (maximum value)'], format='%d/%m/%Y %H:%M')\n",
    "\n",
    "solar_df['Mean'] = solar_df['Mean'].replace(',', '.', regex=True).astype(float)\n",
    "solar_df['Maximum'] = solar_df['Maximum'].replace(',', '.', regex=True).astype(float)"
   ]
  },
  {
   "cell_type": "code",
   "execution_count": null,
   "metadata": {},
   "outputs": [],
   "source": [
    "solar_df['Date'] = solar_df['Date'].dt.date\n",
    "solar_df['Date (maximum value)'] = solar_df['Date (maximum value)'].dt.date"
   ]
  },
  {
   "cell_type": "code",
   "execution_count": null,
   "metadata": {},
   "outputs": [],
   "source": [
    "mean_solar_df = solar_df[['Date', 'Mean']]\n",
    "max_solar_df = solar_df[['Date (maximum value)', 'Maximum']]\n",
    "\n",
    "mean_solar_df = mean_solar_df.rename(columns={'Date': 'DateTime', 'Mean': 'Solar Radiation (W/m^2)'})\n",
    "max_solar_df = max_solar_df.rename(columns={'Date (maximum value)': 'DateTime', 'Maximum': 'Solar Radiation (W/m^2)'})"
   ]
  },
  {
   "cell_type": "code",
   "execution_count": null,
   "metadata": {},
   "outputs": [],
   "source": [
    "fig = go.Figure()\n",
    "\n",
    "fig.add_trace(go.Scatter(x=mean_solar_df['DateTime'], y=mean_solar_df['Solar Radiation (W/m^2)'], mode='lines', name='Mean Solar Radiation (W/m^2)'))\n",
    "\n",
    "fig.update_layout(title='Mean Solar Radiation in Guiamets (2008-2024)',\n",
    "                     xaxis_title='Date',\n",
    "                     yaxis_title='Solar Radiation (W/m^2)')\n",
    "\n",
    "fig.show()"
   ]
  },
  {
   "cell_type": "code",
   "execution_count": null,
   "metadata": {},
   "outputs": [],
   "source": [
    "mean_solar_df.set_index('DateTime', inplace=True)\n",
    "max_solar_df.set_index('DateTime', inplace=True)\n",
    "\n",
    "mean_solar_df.index = pd.to_datetime(mean_solar_df.index)\n",
    "max_solar_df.index = pd.to_datetime(max_solar_df.index)\n",
    "\n",
    "mean_solar_df = mean_solar_df.resample('D').mean()\n",
    "max_solar_df = max_solar_df.resample('D').mean()"
   ]
  },
  {
   "cell_type": "markdown",
   "metadata": {},
   "source": [
    "# Inspect Data"
   ]
  },
  {
   "cell_type": "code",
   "execution_count": null,
   "metadata": {},
   "outputs": [],
   "source": [
    "fig = go.Figure()\n",
    "\n",
    "fig.add_trace(go.Scatter(x=mean_solar_df.index, y=mean_solar_df['Solar Radiation (W/m^2)'], mode='lines', name='Mean solar radiation'))\n",
    "# fig.add_trace(go.Scatter(x=max_solar_df.index, y=max_solar_df['Solar Radiation (W/m^2)'], mode='lines', name='Maximum solar radiation'))\n",
    "\n",
    "fig.update_layout(\n",
    "    title='Daily solar radiation in Guiamets (2008-2024)',\n",
    "    xaxis_title='Date',\n",
    "    yaxis_title='Solar radiation (W/m²)'\n",
    ")\n",
    "\n",
    "fig.show()"
   ]
  },
  {
   "cell_type": "code",
   "execution_count": null,
   "metadata": {},
   "outputs": [],
   "source": [
    "# resample to monthly\n",
    "\n",
    "mean_solar_df = mean_solar_df.resample('M').mean()\n",
    "max_solar_df = max_solar_df.resample('M').mean()\n",
    "\n",
    "fig = go.Figure()\n",
    "\n",
    "fig.add_trace(go.Scatter(x=mean_solar_df.index, y=mean_solar_df['Solar Radiation (W/m^2)'], mode='lines', name='Mean solar radiation'))\n",
    "# fig.add_trace(go.Scatter(x=max_solar_df.index, y=max_solar_df['Solar Radiation (W/m^2)'], mode='lines', name='Maximum solar radiation'))\n",
    "\n",
    "fig.update_layout(\n",
    "    title='Monthly solar radiation in Guiamets (2008-2024)',\n",
    "    xaxis_title='Date',\n",
    "    yaxis_title='Solar radiation (W/m²)'\n",
    ")\n",
    "\n",
    "fig.show()"
   ]
  },
  {
   "cell_type": "markdown",
   "metadata": {},
   "source": [
    "# Projections"
   ]
  },
  {
   "cell_type": "code",
   "execution_count": null,
   "metadata": {},
   "outputs": [],
   "source": [
    "daily_solar_df = pd.read_excel(os.path.join(my_projections_folder, \"solar_radiation.xlsx\"))"
   ]
  },
  {
   "cell_type": "code",
   "execution_count": null,
   "metadata": {},
   "outputs": [],
   "source": [
    "random_solar_df = pd.read_excel(os.path.join(cat_projections_folder, \"solar_radiation_random.xlsx\"))"
   ]
  },
  {
   "cell_type": "code",
   "execution_count": null,
   "metadata": {},
   "outputs": [],
   "source": [
    "daily_solar_df.info()"
   ]
  },
  {
   "cell_type": "code",
   "execution_count": null,
   "metadata": {},
   "outputs": [],
   "source": [
    "random_solar_df.info()"
   ]
  },
  {
   "cell_type": "code",
   "execution_count": null,
   "metadata": {},
   "outputs": [],
   "source": [
    "fig = go.Figure()\n",
    "\n",
    "fig.add_trace(go.Scatter(x=daily_solar_df['DateTime'], y=daily_solar_df['Solar Radiation (W/m²)'], mode='lines', name='Mean solar radiation (PoliMi)'))\n",
    "\n",
    "fig.add_trace(go.Scatter(x=mean_solar_df.index, y=mean_solar_df['Solar Radiation (W/m^2)'], mode='lines', name='Mean solar radiation (observed)'))\n",
    "\n",
    "fig.add_trace(go.Scatter(x=random_solar_df['time'], y=random_solar_df['rsdt'], mode='lines', name='Mean solar radiation (Cat)'))\n",
    "\n",
    "fig.update_layout(\n",
    "    title='Solar Radiation RCP 8.5',\n",
    "    xaxis_title='Date',\n",
    "    yaxis_title='Solar radiation (W/m²)'\n",
    ")\n",
    "\n",
    "fig.show()"
   ]
  },
  {
   "cell_type": "markdown",
   "metadata": {},
   "source": [
    "# Store Data"
   ]
  },
  {
   "cell_type": "code",
   "execution_count": null,
   "metadata": {},
   "outputs": [],
   "source": [
    "mean_solar_df.to_excel(\n",
    "    os.path.join(clean_data_folder, 'solar_radiation.xlsx')\n",
    ")"
   ]
  }
 ],
 "metadata": {
  "kernelspec": {
   "display_name": "climate-change-MEYtuKH4-py3.11",
   "language": "python",
   "name": "python3"
  },
  "language_info": {
   "codemirror_mode": {
    "name": "ipython",
    "version": 3
   },
   "file_extension": ".py",
   "mimetype": "text/x-python",
   "name": "python",
   "nbconvert_exporter": "python",
   "pygments_lexer": "ipython3",
   "version": "3.11.8"
  }
 },
 "nbformat": 4,
 "nbformat_minor": 2
}
