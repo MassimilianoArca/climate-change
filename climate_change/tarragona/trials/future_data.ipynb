{
 "cells": [
  {
   "cell_type": "code",
   "execution_count": null,
   "metadata": {},
   "outputs": [],
   "source": [
    "import os\n",
    "import xarray as xr\n",
    "import pandas as pd\n",
    "import numpy as np\n",
    "import matplotlib.pyplot as plt\n",
    "import seaborn as sns"
   ]
  },
  {
   "cell_type": "markdown",
   "metadata": {},
   "source": [
    "# Define Paths"
   ]
  },
  {
   "cell_type": "code",
   "execution_count": null,
   "metadata": {},
   "outputs": [],
   "source": [
    "data_folder = os.path.join(\"..\", \"..\", \"data\", \"tarragona\")\n",
    "projections_folder = \"/Users/massimilianoarca/Documents/PoliMi/Research Grant/SafeCREW/Projections\"\n",
    "\n",
    "climate_projections_folder = os.path.join(projections_folder, 'European_Climate projections')\n",
    "air_temperature_folder = os.path.join(climate_projections_folder, '2m air temperature')\n",
    "precipitation_folder = os.path.join(climate_projections_folder, 'Precipitation')\n",
    "\n",
    "climate_impact_indicators_folder = os.path.join(projections_folder, 'European_Hydrology_climate impact indicators')\n",
    "river_discharge_folder = os.path.join(climate_impact_indicators_folder, 'River discharge')\n",
    "water_temperature_folder = os.path.join(climate_impact_indicators_folder, 'Water temperature in catchments')"
   ]
  },
  {
   "cell_type": "code",
   "execution_count": null,
   "metadata": {},
   "outputs": [],
   "source": [
    "raw_data_folder = os.path.join(data_folder, 'raw_data')"
   ]
  },
  {
   "cell_type": "markdown",
   "metadata": {},
   "source": [
    "## Load raw dataset"
   ]
  },
  {
   "cell_type": "code",
   "execution_count": null,
   "metadata": {},
   "outputs": [],
   "source": [
    "full_df = pd.read_excel(os.path.join(raw_data_folder, 'raw_full_dataset.xlsx'))"
   ]
  },
  {
   "cell_type": "code",
   "execution_count": null,
   "metadata": {},
   "outputs": [],
   "source": [
    "full_df"
   ]
  },
  {
   "cell_type": "code",
   "execution_count": null,
   "metadata": {},
   "outputs": [],
   "source": [
    "full_df.rename(\n",
    "    columns={\n",
    "        \"flowriver\": \"Flow River\",\n",
    "        \"cumulated_rainfall_24h\": \"Daily Cumulated Rainfall\",\n",
    "        \"environmental_temperature\": \"Air Temperature\",\n",
    "        'nitrate': 'Nitrate',\n",
    "        'dissolvedoxygen': 'Dissolved Oxygen',\n",
    "        'turbidity': 'Turbidity',\n",
    "        'watertemperature': 'Water Temperature',\n",
    "        'redoxpotential': 'Redox Potential',\n",
    "        'ABS254': 'Absorbance 254nm',\n",
    "    },\n",
    "    inplace=True,\n",
    ")"
   ]
  },
  {
   "cell_type": "code",
   "execution_count": null,
   "metadata": {},
   "outputs": [],
   "source": [
    "full_df.isna().sum()"
   ]
  },
  {
   "cell_type": "code",
   "execution_count": null,
   "metadata": {},
   "outputs": [],
   "source": [
    "full_df = full_df.dropna()"
   ]
  },
  {
   "cell_type": "markdown",
   "metadata": {},
   "source": [
    "## Take the Monthly Average"
   ]
  },
  {
   "cell_type": "code",
   "execution_count": null,
   "metadata": {},
   "outputs": [],
   "source": [
    "full_df['Year'] = full_df['DateTime'].dt.year\n",
    "full_df['Month'] = full_df['DateTime'].dt.month"
   ]
  },
  {
   "cell_type": "code",
   "execution_count": null,
   "metadata": {},
   "outputs": [],
   "source": [
    "# take the monthly average\n",
    "monthly_avg_df = full_df.groupby(['Year', 'Month']).mean().reset_index()"
   ]
  },
  {
   "cell_type": "code",
   "execution_count": null,
   "metadata": {},
   "outputs": [],
   "source": [
    "full_df = monthly_avg_df"
   ]
  },
  {
   "cell_type": "code",
   "execution_count": null,
   "metadata": {},
   "outputs": [],
   "source": [
    "xerta = {'lon': 0.489172, 'lat': 40.9084128}"
   ]
  },
  {
   "cell_type": "markdown",
   "metadata": {},
   "source": [
    "# Air Temperature\n",
    "\n",
    "- 30 year monthly average values\n",
    "- Calculated as the mean monthly values of daily mean temperature averaged over all Januaries, Februaries, etc that are part of a 30 year period."
   ]
  },
  {
   "cell_type": "markdown",
   "metadata": {},
   "source": [
    "## Load Data"
   ]
  },
  {
   "cell_type": "code",
   "execution_count": null,
   "metadata": {},
   "outputs": [],
   "source": [
    "# load the data from the air temperature folder\n",
    "air_temperature_files = [f for f in os.listdir(air_temperature_folder) if f.endswith('.nc')]\n",
    "\n",
    "temp_rcp_45_files = [f for f in air_temperature_files if 'rcp45' in f]\n",
    "temp_rcp_85_files = [f for f in air_temperature_files if 'rcp85' in f]\n",
    "\n",
    "temp_hist_file = [f for f in air_temperature_files if f not in temp_rcp_45_files and f not in temp_rcp_85_files][0]\n",
    "\n",
    "temp_rcp_45_ds = xr.open_mfdataset([os.path.join(air_temperature_folder, f) for f in temp_rcp_45_files], combine='by_coords', engine='netcdf4')\n",
    "temp_rcp_85_ds = xr.open_mfdataset([os.path.join(air_temperature_folder, f) for f in temp_rcp_85_files], combine='by_coords', engine='netcdf4')\n",
    "temp_hist_ds = xr.open_dataset(os.path.join(air_temperature_folder, temp_hist_file), engine='netcdf4')"
   ]
  },
  {
   "cell_type": "markdown",
   "metadata": {},
   "source": [
    "## Inspect Data"
   ]
  },
  {
   "cell_type": "code",
   "execution_count": null,
   "metadata": {},
   "outputs": [],
   "source": [
    "# inspect the data\n",
    "temp_rcp_45_ds.info()"
   ]
  },
  {
   "cell_type": "markdown",
   "metadata": {},
   "source": [
    "## Extract Xerta Data"
   ]
  },
  {
   "cell_type": "code",
   "execution_count": null,
   "metadata": {},
   "outputs": [],
   "source": [
    "xerta = {'lon': 0.489172, 'lat': 40.9084128}"
   ]
  },
  {
   "cell_type": "markdown",
   "metadata": {},
   "source": [
    "### Historical Data"
   ]
  },
  {
   "cell_type": "code",
   "execution_count": null,
   "metadata": {},
   "outputs": [],
   "source": [
    "hist_df = temp_hist_ds.to_dataframe()"
   ]
  },
  {
   "cell_type": "code",
   "execution_count": null,
   "metadata": {},
   "outputs": [],
   "source": [
    "hist_df = hist_df.reset_index()"
   ]
  },
  {
   "cell_type": "code",
   "execution_count": null,
   "metadata": {},
   "outputs": [],
   "source": [
    "hist_df"
   ]
  },
  {
   "cell_type": "code",
   "execution_count": null,
   "metadata": {},
   "outputs": [],
   "source": [
    "# find nearest lat and lon to Xerta from df\n",
    "xerta_info = hist_df.loc[((hist_df['lat'] - xerta['lat'])**2 + (hist_df['lon'] - xerta['lon'])**2).idxmin()]"
   ]
  },
  {
   "cell_type": "code",
   "execution_count": null,
   "metadata": {},
   "outputs": [],
   "source": [
    "y_coord = xerta_info.loc['y']\n",
    "x_coord = xerta_info.loc['x']"
   ]
  },
  {
   "cell_type": "code",
   "execution_count": null,
   "metadata": {},
   "outputs": [],
   "source": [
    "y_coord, x_coord"
   ]
  },
  {
   "cell_type": "code",
   "execution_count": null,
   "metadata": {},
   "outputs": [],
   "source": [
    "# get the temperature at Xerta\n",
    "xerta_df = hist_df[(hist_df['x'] == x_coord) & (hist_df['y'] == y_coord)]"
   ]
  },
  {
   "cell_type": "code",
   "execution_count": null,
   "metadata": {},
   "outputs": [],
   "source": [
    "xerta_df['label'] = 'historical'"
   ]
  },
  {
   "cell_type": "markdown",
   "metadata": {},
   "source": [
    "### RCP 4.5 Data"
   ]
  },
  {
   "cell_type": "code",
   "execution_count": null,
   "metadata": {},
   "outputs": [],
   "source": [
    "rcp_45_df = temp_rcp_45_ds.to_dataframe()"
   ]
  },
  {
   "cell_type": "code",
   "execution_count": null,
   "metadata": {},
   "outputs": [],
   "source": [
    "rcp_45_df = rcp_45_df.reset_index()"
   ]
  },
  {
   "cell_type": "code",
   "execution_count": null,
   "metadata": {},
   "outputs": [],
   "source": [
    "temp_df = rcp_45_df[(rcp_45_df['x'] == x_coord) & (rcp_45_df['y'] == y_coord)]\n",
    "temp_df['label'] = 'rcp45'\n",
    "\n",
    "xerta_df = pd.concat([xerta_df, temp_df])"
   ]
  },
  {
   "cell_type": "markdown",
   "metadata": {},
   "source": [
    "### RCP 8.5 Data"
   ]
  },
  {
   "cell_type": "code",
   "execution_count": null,
   "metadata": {},
   "outputs": [],
   "source": [
    "rcp_85_df = temp_rcp_85_ds.to_dataframe()"
   ]
  },
  {
   "cell_type": "code",
   "execution_count": null,
   "metadata": {},
   "outputs": [],
   "source": [
    "rcp_85_df = rcp_85_df.reset_index()"
   ]
  },
  {
   "cell_type": "code",
   "execution_count": null,
   "metadata": {},
   "outputs": [],
   "source": [
    "temp_df = rcp_85_df[(rcp_85_df['x'] == x_coord) & (rcp_85_df['y'] == y_coord)]\n",
    "temp_df['label'] = 'rcp85'\n",
    "\n",
    "xerta_df = pd.concat([xerta_df, temp_df])"
   ]
  },
  {
   "cell_type": "code",
   "execution_count": null,
   "metadata": {},
   "outputs": [],
   "source": [
    "xerta_df"
   ]
  },
  {
   "cell_type": "markdown",
   "metadata": {},
   "source": [
    "## Some Plots"
   ]
  },
  {
   "cell_type": "code",
   "execution_count": null,
   "metadata": {},
   "outputs": [],
   "source": [
    "# plot the tas_ymonmean variable for the first time step\n",
    "plt.figure(figsize=(10, 7.5))\n",
    "temp_rcp_45_ds['tas_ymonmean'].isel(time=0).plot()\n",
    "\n",
    "# add point to (x_coord, y_coord)\n",
    "plt.plot(x_coord, y_coord, 'ro')\n",
    "\n",
    "plt.show()"
   ]
  },
  {
   "cell_type": "code",
   "execution_count": null,
   "metadata": {},
   "outputs": [],
   "source": [
    "# plot the data\n",
    "temp_rcp_45_ds['tas_ymonmean'].hvplot.quadmesh(x='lon', y='lat', rasterize=True, cmap='inferno', project=True, coastline=True, width=800, height=500)"
   ]
  },
  {
   "cell_type": "code",
   "execution_count": null,
   "metadata": {},
   "outputs": [],
   "source": [
    "# plot the raw data together with the projections and the historical data\n",
    "\n",
    "colors = {\n",
    "    'historical': 'blue',\n",
    "    'rcp45': 'green',\n",
    "    'rcp85': 'red',\n",
    "}\n",
    "\n",
    "plt.figure(figsize=(30, 7.5))\n",
    "for label in xerta_df['label'].unique():\n",
    "    for year in xerta_df['time'].dt.year.unique():\n",
    "        temp_df = xerta_df[(xerta_df['label'] == label) & (xerta_df['time'].dt.year == year)]\n",
    "        sns.lineplot(x=temp_df['time'], y=temp_df['tas_ymonmean'], color=colors[label], marker='o')\n",
    "        \n",
    "    # set label\n",
    "    plt.plot([], [], color=colors[label], label=label)\n",
    "\n",
    "sns.lineplot(x=full_df['DateTime'], y=full_df['Air Temperature'], color='black', marker='o', label='Observed')\n",
    "\n",
    "plt.xlabel('Time')\n",
    "plt.ylabel('Temperature (°C)')\n",
    "\n",
    "plt.title('Air Temperature at Xerta')\n",
    "\n",
    "plt.legend()\n",
    "plt.show()\n"
   ]
  },
  {
   "cell_type": "markdown",
   "metadata": {},
   "source": [
    "# Precipitation\n",
    "\n",
    "- 30 year monthly average values\n",
    "- Calculated as the mean monthly values of daily precipitation averaged over all Januaries, Februaries, etc that are part of a 30 year period."
   ]
  },
  {
   "cell_type": "markdown",
   "metadata": {},
   "source": [
    "## Load Data"
   ]
  },
  {
   "cell_type": "code",
   "execution_count": null,
   "metadata": {},
   "outputs": [],
   "source": [
    "# load the data from the air temperature folder\n",
    "precipitation_files = [f for f in os.listdir(precipitation_folder) if f.endswith('.nc')]\n",
    "\n",
    "rain_rcp_45_files = [f for f in precipitation_files if 'rcp45' in f]\n",
    "rain_rcp_85_files = [f for f in precipitation_files if 'rcp85' in f]\n",
    "# difference of all files - the rcps\n",
    "rain_hist_file = [f for f in precipitation_files if f not in rain_rcp_45_files and f not in rain_rcp_85_files][0]\n",
    "\n",
    "rain_rcp_45_ds = xr.open_mfdataset([os.path.join(precipitation_folder, f) for f in rain_rcp_45_files], combine='by_coords', engine='netcdf4')\n",
    "rain_rcp_85_ds = xr.open_mfdataset([os.path.join(precipitation_folder, f) for f in rain_rcp_85_files], combine='by_coords', engine='netcdf4')\n",
    "rain_hist_ds = xr.open_dataset(os.path.join(precipitation_folder, rain_hist_file), engine='netcdf4')"
   ]
  },
  {
   "cell_type": "markdown",
   "metadata": {},
   "source": [
    "## Inspect Data"
   ]
  },
  {
   "cell_type": "code",
   "execution_count": null,
   "metadata": {},
   "outputs": [],
   "source": [
    "rain_rcp_45_ds.info()"
   ]
  },
  {
   "cell_type": "markdown",
   "metadata": {},
   "source": [
    "## Extract Xerta Data"
   ]
  },
  {
   "cell_type": "code",
   "execution_count": null,
   "metadata": {},
   "outputs": [],
   "source": [
    "xerta = {'lon': 0.489172, 'lat': 40.9084128}"
   ]
  },
  {
   "cell_type": "markdown",
   "metadata": {},
   "source": [
    "### Historical Data"
   ]
  },
  {
   "cell_type": "code",
   "execution_count": null,
   "metadata": {},
   "outputs": [],
   "source": [
    "hist_df = rain_hist_ds.to_dataframe()"
   ]
  },
  {
   "cell_type": "code",
   "execution_count": null,
   "metadata": {},
   "outputs": [],
   "source": [
    "hist_df = hist_df.reset_index()"
   ]
  },
  {
   "cell_type": "code",
   "execution_count": null,
   "metadata": {},
   "outputs": [],
   "source": [
    "hist_df"
   ]
  },
  {
   "cell_type": "code",
   "execution_count": null,
   "metadata": {},
   "outputs": [],
   "source": [
    "# find nearest lat and lon to Xerta from df\n",
    "xerta_info = hist_df.loc[((hist_df['lat'] - xerta['lat'])**2 + (hist_df['lon'] - xerta['lon'])**2).idxmin()]"
   ]
  },
  {
   "cell_type": "code",
   "execution_count": null,
   "metadata": {},
   "outputs": [],
   "source": [
    "y_coord = xerta_info.loc['y']\n",
    "x_coord = xerta_info.loc['x']"
   ]
  },
  {
   "cell_type": "code",
   "execution_count": null,
   "metadata": {},
   "outputs": [],
   "source": [
    "# get the temperature at Xerta\n",
    "xerta_df = hist_df[(hist_df['x'] == x_coord) & (hist_df['y'] == y_coord)]"
   ]
  },
  {
   "cell_type": "code",
   "execution_count": null,
   "metadata": {},
   "outputs": [],
   "source": [
    "xerta_df['label'] = 'historical'"
   ]
  },
  {
   "cell_type": "markdown",
   "metadata": {},
   "source": [
    "### RCP 4.5 Data"
   ]
  },
  {
   "cell_type": "code",
   "execution_count": null,
   "metadata": {},
   "outputs": [],
   "source": [
    "rcp_45_df = rain_rcp_45_ds.to_dataframe()"
   ]
  },
  {
   "cell_type": "code",
   "execution_count": null,
   "metadata": {},
   "outputs": [],
   "source": [
    "rcp_45_df = rcp_45_df.reset_index()"
   ]
  },
  {
   "cell_type": "code",
   "execution_count": null,
   "metadata": {},
   "outputs": [],
   "source": [
    "temp_df = rcp_45_df[(rcp_45_df['x'] == x_coord) & (rcp_45_df['y'] == y_coord)]\n",
    "temp_df['label'] = 'rcp45'\n",
    "\n",
    "xerta_df = pd.concat([xerta_df, temp_df])"
   ]
  },
  {
   "cell_type": "markdown",
   "metadata": {},
   "source": [
    "### RCP 8.5 Data"
   ]
  },
  {
   "cell_type": "code",
   "execution_count": null,
   "metadata": {},
   "outputs": [],
   "source": [
    "rcp_85_df = rain_rcp_85_ds.to_dataframe()"
   ]
  },
  {
   "cell_type": "code",
   "execution_count": null,
   "metadata": {},
   "outputs": [],
   "source": [
    "rcp_85_df = rcp_85_df.reset_index()"
   ]
  },
  {
   "cell_type": "code",
   "execution_count": null,
   "metadata": {},
   "outputs": [],
   "source": [
    "temp_df = rcp_85_df[(rcp_85_df['x'] == x_coord) & (rcp_85_df['y'] == y_coord)]\n",
    "temp_df['label'] = 'rcp85'\n",
    "\n",
    "xerta_df = pd.concat([xerta_df, temp_df])"
   ]
  },
  {
   "cell_type": "code",
   "execution_count": null,
   "metadata": {},
   "outputs": [],
   "source": [
    "xerta_df"
   ]
  },
  {
   "cell_type": "markdown",
   "metadata": {},
   "source": [
    "## Some Plots"
   ]
  },
  {
   "cell_type": "code",
   "execution_count": null,
   "metadata": {},
   "outputs": [],
   "source": [
    "# plot the tas_ymonmean variable for the first time step\n",
    "plt.figure(figsize=(10, 7.5))\n",
    "rain_rcp_45_ds['pr_ymonmean'].isel(time=0).plot()\n",
    "\n",
    "# add point to (x_coord, y_coord)\n",
    "plt.plot(x_coord, y_coord, 'ro')\n",
    "\n",
    "plt.show()"
   ]
  },
  {
   "cell_type": "code",
   "execution_count": null,
   "metadata": {},
   "outputs": [],
   "source": [
    "# plot the data\n",
    "rain_rcp_45_ds['pr_ymonmean'].hvplot.quadmesh(x='lon', y='lat', rasterize=True, cmap='inferno', project=True, coastline=True, width=800, height=500)"
   ]
  },
  {
   "cell_type": "code",
   "execution_count": null,
   "metadata": {},
   "outputs": [],
   "source": [
    "# plot the raw data together with the projections and the historical data\n",
    "\n",
    "colors = {\n",
    "    'historical': 'blue',\n",
    "    'rcp45': 'green',\n",
    "    'rcp85': 'red',\n",
    "}\n",
    "\n",
    "plt.figure(figsize=(30, 7.5))\n",
    "for label in xerta_df['label'].unique():\n",
    "    for year in xerta_df['time'].dt.year.unique():\n",
    "        temp_df = xerta_df[(xerta_df['label'] == label) & (xerta_df['time'].dt.year == year)]\n",
    "        sns.lineplot(x=temp_df['time'], y=temp_df['pr_ymonmean'], color=colors[label], marker='o')\n",
    "        \n",
    "    # set label\n",
    "    plt.plot([], [], color=colors[label], label=label)\n",
    "\n",
    "sns.lineplot(x=full_df['DateTime'], y=full_df[full_df['Daily Cumulated Rainfall'] < 3]['Daily Cumulated Rainfall'], color='black', marker='o', label='Observed')\n",
    "\n",
    "plt.xlabel('Time')\n",
    "plt.ylabel('Daily Cumulated Rainfall (mm)')\n",
    "\n",
    "plt.title('Daily Cumulated Rainfall at Xerta')\n",
    "\n",
    "plt.legend()\n",
    "plt.show()\n"
   ]
  },
  {
   "cell_type": "markdown",
   "metadata": {},
   "source": [
    "# River Discharge"
   ]
  },
  {
   "cell_type": "markdown",
   "metadata": {},
   "source": [
    "## Load Data"
   ]
  },
  {
   "cell_type": "code",
   "execution_count": null,
   "metadata": {},
   "outputs": [],
   "source": [
    "river_discharge_files = [f for f in os.listdir(river_discharge_folder) if f.endswith('.nc')]\n",
    "\n",
    "river_rcp_45_files = [f for f in river_discharge_files if 'rcp45' in f]\n",
    "river_rcp_85_files = [f for f in river_discharge_files if 'rcp85' in f]\n",
    "\n",
    "river_rcp_45_files = [f for f in river_rcp_45_files if os.path.getsize(os.path.join(river_discharge_folder, f)) / 1024 / 1024 > 10]\n",
    "river_rcp_85_files = [f for f in river_rcp_85_files if os.path.getsize(os.path.join(river_discharge_folder, f)) / 1024 / 1024 > 10]\n",
    "\n",
    "river_hist_files = [f for f in river_discharge_files if f not in river_rcp_45_files and f not in river_rcp_85_files]\n",
    "\n",
    "river_hist_files = [f for f in river_hist_files if os.path.getsize(os.path.join(river_discharge_folder, f)) / 1024 / 1024 > 10]"
   ]
  },
  {
   "cell_type": "code",
   "execution_count": null,
   "metadata": {},
   "outputs": [],
   "source": [
    "river_hist_ds = xr.open_mfdataset([os.path.join(river_discharge_folder, f) for f in river_hist_files], combine='by_coords', engine='netcdf4')"
   ]
  },
  {
   "cell_type": "code",
   "execution_count": null,
   "metadata": {},
   "outputs": [],
   "source": [
    "river_rcp_45_ds = xr.open_mfdataset([os.path.join(river_discharge_folder, f) for f in river_rcp_45_files], combine='by_coords', engine='netcdf4')"
   ]
  },
  {
   "cell_type": "code",
   "execution_count": null,
   "metadata": {},
   "outputs": [],
   "source": [
    "river_rcp_85_ds = xr.open_mfdataset([os.path.join(river_discharge_folder, f) for f in river_rcp_85_files], combine='by_coords', engine='netcdf4')"
   ]
  },
  {
   "cell_type": "markdown",
   "metadata": {},
   "source": [
    "### Historical Data"
   ]
  },
  {
   "cell_type": "code",
   "execution_count": null,
   "metadata": {},
   "outputs": [],
   "source": [
    "hist_df = river_hist_ds.to_dataframe()\n",
    "hist_df = hist_df.reset_index()"
   ]
  },
  {
   "cell_type": "code",
   "execution_count": null,
   "metadata": {},
   "outputs": [],
   "source": [
    "# get the temperature at Xerta\n",
    "xerta_df = hist_df[(hist_df['x'] == x_coord) & (hist_df['y'] == y_coord)]"
   ]
  },
  {
   "cell_type": "code",
   "execution_count": null,
   "metadata": {},
   "outputs": [],
   "source": [
    "xerta_df['label'] = 'historical'"
   ]
  },
  {
   "cell_type": "markdown",
   "metadata": {},
   "source": [
    "### RCP 4.5 Data"
   ]
  },
  {
   "cell_type": "code",
   "execution_count": null,
   "metadata": {},
   "outputs": [],
   "source": [
    "river_rcp_45_df = river_rcp_45_ds.to_dataframe()\n",
    "river_rcp_45_df = river_rcp_45_df.reset_index()"
   ]
  },
  {
   "cell_type": "code",
   "execution_count": null,
   "metadata": {},
   "outputs": [],
   "source": [
    "temp_df = river_rcp_45_df[(river_rcp_45_df['x'] == x_coord) & (river_rcp_45_df['y'] == y_coord)]\n",
    "temp_df['label'] = 'rcp45'\n",
    "\n",
    "xerta_df = pd.concat([xerta_df, temp_df])"
   ]
  },
  {
   "cell_type": "markdown",
   "metadata": {},
   "source": [
    "### RCP 8.5 Data"
   ]
  },
  {
   "cell_type": "code",
   "execution_count": null,
   "metadata": {},
   "outputs": [],
   "source": [
    "river_rcp_85_df = river_rcp_85_ds.to_dataframe()\n",
    "river_rcp_85_df = river_rcp_85_df.reset_index()"
   ]
  },
  {
   "cell_type": "code",
   "execution_count": null,
   "metadata": {},
   "outputs": [],
   "source": [
    "temp_df = river_rcp_85_df[(river_rcp_85_df['x'] == x_coord) & (river_rcp_85_df['y'] == y_coord)]\n",
    "temp_df['label'] = 'rcp85'\n",
    "\n",
    "xerta_df = pd.concat([xerta_df, temp_df])"
   ]
  },
  {
   "cell_type": "code",
   "execution_count": null,
   "metadata": {},
   "outputs": [],
   "source": [
    "xerta_df"
   ]
  },
  {
   "cell_type": "markdown",
   "metadata": {},
   "source": [
    "## Some Plots"
   ]
  },
  {
   "cell_type": "code",
   "execution_count": null,
   "metadata": {},
   "outputs": [],
   "source": [
    "# plot the tas_ymonmean variable for the first time step\n",
    "plt.figure(figsize=(10, 7.5))\n",
    "river_rcp_45_ds['rdis_ymonmean'].isel(time=0).plot()\n",
    "\n",
    "# add point to (x_coord, y_coord)\n",
    "plt.plot(x_coord, y_coord, 'ro')\n",
    "\n",
    "plt.show()"
   ]
  },
  {
   "cell_type": "code",
   "execution_count": null,
   "metadata": {},
   "outputs": [],
   "source": [
    "river_rcp_45_ds.lat"
   ]
  },
  {
   "cell_type": "code",
   "execution_count": null,
   "metadata": {},
   "outputs": [],
   "source": [
    "river_rcp_45_ds.lat = river_rcp_45_ds.lat"
   ]
  },
  {
   "cell_type": "code",
   "execution_count": null,
   "metadata": {},
   "outputs": [],
   "source": [
    "river_rcp_45_ds = river_rcp_45_ds.assign_coords(lat=river_rcp_45_ds['lat'])\n",
    "\n",
    "river_rcp_45_ds.coords['lat'].values = river_rcp_45_ds.coords['lat'].values.reshape(-1, river_rcp_45_ds.coords['lat'].values.shape[-2], river_rcp_45_ds.coords['lat'].values.shape[-1])"
   ]
  },
  {
   "cell_type": "code",
   "execution_count": null,
   "metadata": {},
   "outputs": [],
   "source": [
    "# plot the data\n",
    "river_rcp_45_ds['rdis_ymonmean'].hvplot.quadmesh(x='lon', y='lat', rasterize=True, cmap='inferno', project=True, coastline=True, width=800, height=500)"
   ]
  },
  {
   "cell_type": "code",
   "execution_count": null,
   "metadata": {},
   "outputs": [],
   "source": [
    "# plot the raw data together with the projections and the historical data\n",
    "\n",
    "colors = {\n",
    "    'historical': 'blue',\n",
    "    'rcp45': 'green',\n",
    "    'rcp85': 'red',\n",
    "}\n",
    "\n",
    "plt.figure(figsize=(30, 7.5))\n",
    "for label in xerta_df['label'].unique():\n",
    "    for year in xerta_df['time'].dt.year.unique():\n",
    "        temp_df = xerta_df[(xerta_df['label'] == label) & (xerta_df['time'].dt.year == year)]\n",
    "        sns.lineplot(x=temp_df['time'], y=temp_df['rdis_ymonmean'], color=colors[label], marker='o')\n",
    "        \n",
    "    # set label\n",
    "    plt.plot([], [], color=colors[label], label=label)\n",
    "\n",
    "sns.lineplot(x=full_df[full_df['Flow River'] < 700]['DateTime'], y=full_df[full_df['Flow River'] < 700]['Flow River'], color='black', marker='o', label='Observed')\n",
    "\n",
    "plt.xlabel('Time')\n",
    "plt.ylabel('Flow River (m³/s)')\n",
    "\n",
    "plt.title('Flow River at Xerta')\n",
    "\n",
    "plt.legend()\n",
    "plt.show()\n"
   ]
  },
  {
   "cell_type": "markdown",
   "metadata": {},
   "source": [
    "# Water Temperature\n",
    "\n",
    "# PROBLEM\n",
    "\n",
    "The data has a a strange format, the coordinates are (id, time) and there are no x, y coordinates. I searched the ID coordinate system and no results showed up."
   ]
  },
  {
   "cell_type": "code",
   "execution_count": null,
   "metadata": {},
   "outputs": [],
   "source": [
    "water_temperature_files = [f for f in os.listdir(water_temperature_folder) if f.endswith('.nc')]\n",
    "\n",
    "water_rcp_45_files = [f for f in water_temperature_files if 'rcp45' in f]\n",
    "water_rcp_85_files = [f for f in water_temperature_files if 'rcp85' in f]\n",
    "\n",
    "water_hist_files = [f for f in water_temperature_files if f not in water_rcp_45_files and f not in water_rcp_85_files]\n",
    "# water_hist_files = [f for f in water_hist_files if os.path.getsize(os.path.join(water_temperature_folder, f)) / 1024 / 1024 > 10]"
   ]
  },
  {
   "cell_type": "code",
   "execution_count": null,
   "metadata": {},
   "outputs": [],
   "source": [
    "water_rcp_45_ds = xr.open_mfdataset([os.path.join(water_temperature_folder, f) for f in water_rcp_45_files], engine='netcdf4')"
   ]
  },
  {
   "cell_type": "code",
   "execution_count": null,
   "metadata": {},
   "outputs": [],
   "source": [
    "water_rcp_85_ds = xr.open_mfdataset([os.path.join(water_temperature_folder, f) for f in water_rcp_85_files], combine='by_coords', engine='netcdf4')"
   ]
  },
  {
   "cell_type": "code",
   "execution_count": null,
   "metadata": {},
   "outputs": [],
   "source": [
    "water_hist_ds = xr.open_mfdataset([os.path.join(water_temperature_folder, f) for f in water_hist_files], combine='nested', engine='netcdf4', compat='override', coords='minimal')"
   ]
  },
  {
   "cell_type": "code",
   "execution_count": null,
   "metadata": {},
   "outputs": [],
   "source": [
    "water_rcp_45_ds.info()"
   ]
  },
  {
   "cell_type": "markdown",
   "metadata": {},
   "source": [
    "### Historical Data"
   ]
  },
  {
   "cell_type": "code",
   "execution_count": null,
   "metadata": {},
   "outputs": [],
   "source": [
    "hist_df = water_hist_ds.to_dataframe()\n",
    "hist_df = hist_df.reset_index()"
   ]
  },
  {
   "cell_type": "code",
   "execution_count": null,
   "metadata": {},
   "outputs": [],
   "source": [
    "# get the temperature at Xerta\n",
    "xerta_df = hist_df[(hist_df['x'] == x_coord) & (hist_df['y'] == y_coord)]"
   ]
  },
  {
   "cell_type": "code",
   "execution_count": null,
   "metadata": {},
   "outputs": [],
   "source": [
    "xerta_df['label'] = 'historical'"
   ]
  },
  {
   "cell_type": "markdown",
   "metadata": {},
   "source": [
    "### RCP 4.5 Data"
   ]
  },
  {
   "cell_type": "code",
   "execution_count": null,
   "metadata": {},
   "outputs": [],
   "source": [
    "xerta_df = pd.DataFrame()"
   ]
  },
  {
   "cell_type": "code",
   "execution_count": null,
   "metadata": {},
   "outputs": [],
   "source": [
    "water_rcp_45_df = water_rcp_45_ds.to_dataframe()\n",
    "water_rcp_45_df = water_rcp_45_df.reset_index()"
   ]
  },
  {
   "cell_type": "code",
   "execution_count": null,
   "metadata": {},
   "outputs": [],
   "source": [
    "water_rcp_45_df"
   ]
  },
  {
   "cell_type": "code",
   "execution_count": null,
   "metadata": {},
   "outputs": [],
   "source": [
    "temp_df = river_rcp_45_df[(river_rcp_45_df['x'] == x_coord) & (river_rcp_45_df['y'] == y_coord)]\n",
    "temp_df['label'] = 'rcp45'\n",
    "\n",
    "xerta_df = pd.concat([xerta_df, temp_df])"
   ]
  },
  {
   "cell_type": "markdown",
   "metadata": {},
   "source": [
    "### RCP 8.5 Data"
   ]
  },
  {
   "cell_type": "code",
   "execution_count": null,
   "metadata": {},
   "outputs": [],
   "source": [
    "river_rcp_85_df = river_rcp_85_ds.to_dataframe()\n",
    "river_rcp_85_df = river_rcp_85_df.reset_index()"
   ]
  },
  {
   "cell_type": "code",
   "execution_count": null,
   "metadata": {},
   "outputs": [],
   "source": [
    "temp_df = river_rcp_85_df[(river_rcp_85_df['x'] == x_coord) & (river_rcp_85_df['y'] == y_coord)]\n",
    "temp_df['label'] = 'rcp85'\n",
    "\n",
    "xerta_df = pd.concat([xerta_df, temp_df])"
   ]
  },
  {
   "cell_type": "code",
   "execution_count": null,
   "metadata": {},
   "outputs": [],
   "source": [
    "xerta_df"
   ]
  },
  {
   "cell_type": "markdown",
   "metadata": {},
   "source": [
    "## Some Plots"
   ]
  },
  {
   "cell_type": "code",
   "execution_count": null,
   "metadata": {},
   "outputs": [],
   "source": [
    "# plot the tas_ymonmean variable for the first time step\n",
    "plt.figure(figsize=(10, 7.5))\n",
    "water_rcp_45_ds['wtemp_ymonmean'].isel(time=0).plot()\n",
    "\n",
    "# add point to (x_coord, y_coord)\n",
    "plt.plot(x_coord, y_coord, 'ro')\n",
    "\n",
    "plt.show()"
   ]
  },
  {
   "cell_type": "code",
   "execution_count": null,
   "metadata": {},
   "outputs": [],
   "source": [
    "river_rcp_45_ds.lat"
   ]
  },
  {
   "cell_type": "code",
   "execution_count": null,
   "metadata": {},
   "outputs": [],
   "source": [
    "river_rcp_45_ds.lat = river_rcp_45_ds.lat"
   ]
  },
  {
   "cell_type": "code",
   "execution_count": null,
   "metadata": {},
   "outputs": [],
   "source": [
    "river_rcp_45_ds = river_rcp_45_ds.assign_coords(lat=river_rcp_45_ds['lat'])\n",
    "\n",
    "river_rcp_45_ds.coords['lat'].values = river_rcp_45_ds.coords['lat'].values.reshape(-1, river_rcp_45_ds.coords['lat'].values.shape[-2], river_rcp_45_ds.coords['lat'].values.shape[-1])"
   ]
  },
  {
   "cell_type": "code",
   "execution_count": null,
   "metadata": {},
   "outputs": [],
   "source": [
    "# plot the data\n",
    "river_rcp_45_ds['rdis_ymonmean'].hvplot.quadmesh(x='lon', y='lat', rasterize=True, cmap='inferno', project=True, coastline=True, width=800, height=500)"
   ]
  },
  {
   "cell_type": "code",
   "execution_count": null,
   "metadata": {},
   "outputs": [],
   "source": [
    "# plot the raw data together with the projections and the historical data\n",
    "\n",
    "colors = {\n",
    "    'historical': 'blue',\n",
    "    'rcp45': 'green',\n",
    "    'rcp85': 'red',\n",
    "}\n",
    "\n",
    "plt.figure(figsize=(30, 7.5))\n",
    "for label in xerta_df['label'].unique():\n",
    "    for year in xerta_df['time'].dt.year.unique():\n",
    "        temp_df = xerta_df[(xerta_df['label'] == label) & (xerta_df['time'].dt.year == year)]\n",
    "        sns.lineplot(x=temp_df['time'], y=temp_df['rdis_ymonmean'], color=colors[label], marker='o')\n",
    "        \n",
    "    # set label\n",
    "    plt.plot([], [], color=colors[label], label=label)\n",
    "\n",
    "sns.lineplot(x=full_df[full_df['Flow River'] < 700]['DateTime'], y=full_df[full_df['Flow River'] < 700]['Flow River'], color='black', marker='o', label='Observed')\n",
    "\n",
    "plt.xlabel('Time')\n",
    "plt.ylabel('Flow River (m³/s)')\n",
    "\n",
    "plt.title('Flow River at Xerta')\n",
    "\n",
    "plt.legend()\n",
    "plt.show()\n"
   ]
  }
 ],
 "metadata": {
  "kernelspec": {
   "display_name": "climate-change-MEYtuKH4-py3.12",
   "language": "python",
   "name": "python3"
  },
  "language_info": {
   "codemirror_mode": {
    "name": "ipython",
    "version": 3
   },
   "file_extension": ".py",
   "mimetype": "text/x-python",
   "name": "python",
   "nbconvert_exporter": "python",
   "pygments_lexer": "ipython3",
   "version": "3.11.8"
  }
 },
 "nbformat": 4,
 "nbformat_minor": 2
}
