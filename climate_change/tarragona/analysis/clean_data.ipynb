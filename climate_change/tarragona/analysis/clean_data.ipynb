{
 "cells": [
  {
   "cell_type": "markdown",
   "metadata": {},
   "source": [
    "# Clean Data Analysis"
   ]
  },
  {
   "cell_type": "code",
   "execution_count": 368,
   "metadata": {},
   "outputs": [],
   "source": [
    "import os\n",
    "import pandas as pd\n",
    "import seaborn as sns\n",
    "import matplotlib.pyplot as plt\n",
    "import plotly.graph_objects as go\n",
    "import plotly.express as px\n",
    "\n",
    "import numpy as np\n",
    "from scipy import stats\n",
    "from sklearn.metrics import pairwise\n",
    "from sklearn.metrics import mean_squared_error\n",
    "\n",
    "import statsmodels.tsa.seasonal as smt"
   ]
  },
  {
   "cell_type": "code",
   "execution_count": 264,
   "metadata": {},
   "outputs": [],
   "source": [
    "plt.rcParams[\"figure.figsize\"] = [20, 10]\n",
    "plt.rcParams.update({\"font.size\": 18})"
   ]
  },
  {
   "cell_type": "markdown",
   "metadata": {},
   "source": [
    "# Load Data"
   ]
  },
  {
   "cell_type": "code",
   "execution_count": 265,
   "metadata": {},
   "outputs": [],
   "source": [
    "data_folder = os.path.join(\"..\", \"..\", \"data\", \"tarragona\")\n",
    "\n",
    "clean_data_folder = os.path.join(data_folder, \"clean_data\")\n",
    "\n",
    "correlation_folder = os.path.join(data_folder, \"correlation_timeseries\")\n",
    "\n",
    "variation_folder = os.path.join(data_folder, \"daily_variation_by_year\")\n",
    "\n",
    "trend_folder = os.path.join(data_folder, \"trend\")"
   ]
  },
  {
   "cell_type": "code",
   "execution_count": 266,
   "metadata": {},
   "outputs": [],
   "source": [
    "tortosa_df = pd.read_excel(\n",
    "    os.path.join(clean_data_folder, \"tortosa.xlsx\")\n",
    ")\n",
    "guiamets_df = pd.read_excel(\n",
    "    os.path.join(clean_data_folder, \"guiamets.xlsx\")\n",
    ")\n",
    "mequinenza_df = pd.read_excel(\n",
    "    os.path.join(clean_data_folder, \"mequinenza.xlsx\")\n",
    ")\n",
    "xerta_df = pd.read_excel(os.path.join(clean_data_folder, \"xerta.xlsx\"))"
   ]
  },
  {
   "cell_type": "code",
   "execution_count": 267,
   "metadata": {},
   "outputs": [],
   "source": [
    "# use same time period for all data\n",
    "min_date = max(\n",
    "    tortosa_df[\"DateTime\"].min(),\n",
    "    guiamets_df[\"DateTime\"].min(),\n",
    "    mequinenza_df[\"DateTime\"].min(),\n",
    "    xerta_df[\"DateTime\"].min(),\n",
    ")\n",
    "max_date = min(\n",
    "    tortosa_df[\"DateTime\"].max(),\n",
    "    guiamets_df[\"DateTime\"].max(),\n",
    "    mequinenza_df[\"DateTime\"].max(),\n",
    "    xerta_df[\"DateTime\"].max(),\n",
    ")\n",
    "\n",
    "tortosa_df = tortosa_df[\n",
    "    (tortosa_df[\"DateTime\"] >= min_date)\n",
    "    & (tortosa_df[\"DateTime\"] <= max_date)\n",
    "]\n",
    "guiamets_df = guiamets_df[\n",
    "    (guiamets_df[\"DateTime\"] >= min_date)\n",
    "    & (guiamets_df[\"DateTime\"] <= max_date)\n",
    "]\n",
    "mequinenza_df = mequinenza_df[\n",
    "    (mequinenza_df[\"DateTime\"] >= min_date)\n",
    "    & (mequinenza_df[\"DateTime\"] <= max_date)\n",
    "]\n",
    "xerta_df = xerta_df[\n",
    "    (xerta_df[\"DateTime\"] >= min_date)\n",
    "    & (xerta_df[\"DateTime\"] <= max_date)\n",
    "]"
   ]
  },
  {
   "cell_type": "markdown",
   "metadata": {},
   "source": [
    "# Compare common variables\n",
    "\n",
    "Common variables are:\n",
    "* cumulated_rainfall_24h\n",
    "* watertemperature\n",
    "* conductivity\n",
    "\n",
    "The idea is to combine every variable in a single dataset, which in this case is the Xerta dataset, firstly by comparing the redundant variables between each site and secondly by merging the selected variables into the Xerta df.\n",
    "\n",
    "To compare common variables, the same time period must be used."
   ]
  },
  {
   "cell_type": "markdown",
   "metadata": {},
   "source": [
    "## Cumulated Rainfall"
   ]
  },
  {
   "cell_type": "code",
   "execution_count": 268,
   "metadata": {},
   "outputs": [],
   "source": [
    "common_variable = \"cumulated_rainfall_24h\""
   ]
  },
  {
   "cell_type": "code",
   "execution_count": 269,
   "metadata": {},
   "outputs": [],
   "source": [
    "%%script false --no-raise-error\n",
    "# get common datetimes where both tortosa_df and guiamets_df have positive values\n",
    "common_datetimes = tortosa_df[\n",
    "    (tortosa_df[common_variable] > 0)\n",
    "    & (guiamets_df[common_variable] > 0)\n",
    "][\"DateTime\"]\n",
    "\n",
    "tortosa_df = tortosa_df[\n",
    "    tortosa_df[\"DateTime\"].isin(common_datetimes)\n",
    "].sort_values(\"DateTime\")\n",
    "\n",
    "guiamets_df = guiamets_df[\n",
    "    guiamets_df[\"DateTime\"].isin(common_datetimes)\n",
    "].sort_values(\"DateTime\")\n"
   ]
  },
  {
   "cell_type": "code",
   "execution_count": null,
   "metadata": {},
   "outputs": [],
   "source": [
    "plt.figure()\n",
    "sns.lineplot(\n",
    "    x=\"DateTime\", y=common_variable, data=tortosa_df, label=\"Tortosa\"\n",
    ")\n",
    "sns.lineplot(\n",
    "    x=\"DateTime\", y=common_variable, data=guiamets_df, label=\"Guiamets\"\n",
    ")\n",
    "# sns.lineplot(\n",
    "#     x=\"DateTime\",\n",
    "#     y=common_variable,\n",
    "#     data=mequinenza_df,\n",
    "#     label=\"Mequinenza\",\n",
    "# )"
   ]
  },
  {
   "cell_type": "markdown",
   "metadata": {},
   "source": [
    "### Pearson"
   ]
  },
  {
   "cell_type": "markdown",
   "metadata": {},
   "source": [
    "#### Tortosa - Mequinenza"
   ]
  },
  {
   "cell_type": "code",
   "execution_count": null,
   "metadata": {},
   "outputs": [],
   "source": [
    "stats.pearsonr(\n",
    "    tortosa_df[common_variable],\n",
    "    mequinenza_df[common_variable],\n",
    ")"
   ]
  },
  {
   "cell_type": "markdown",
   "metadata": {},
   "source": [
    "#### Tortosa - Guiamets"
   ]
  },
  {
   "cell_type": "code",
   "execution_count": 272,
   "metadata": {},
   "outputs": [],
   "source": [
    "pears, _ = stats.pearsonr(\n",
    "    tortosa_df[common_variable],\n",
    "    guiamets_df[common_variable],\n",
    ")"
   ]
  },
  {
   "cell_type": "markdown",
   "metadata": {},
   "source": [
    "#### Mequinenza - Guiamets"
   ]
  },
  {
   "cell_type": "code",
   "execution_count": null,
   "metadata": {},
   "outputs": [],
   "source": [
    "stats.pearsonr(\n",
    "    mequinenza_df[common_variable], guiamets_df[common_variable]\n",
    ")"
   ]
  },
  {
   "cell_type": "markdown",
   "metadata": {},
   "source": [
    "### Cosine Similarity"
   ]
  },
  {
   "cell_type": "markdown",
   "metadata": {},
   "source": [
    "#### Tortosa - Mequinenza"
   ]
  },
  {
   "cell_type": "code",
   "execution_count": null,
   "metadata": {},
   "outputs": [],
   "source": [
    "pairwise.cosine_similarity(\n",
    "    tortosa_df[common_variable].values.reshape(1, -1),\n",
    "    mequinenza_df[common_variable].values.reshape(1, -1),\n",
    ")"
   ]
  },
  {
   "cell_type": "markdown",
   "metadata": {},
   "source": [
    "#### Tortosa - Guiamets"
   ]
  },
  {
   "cell_type": "code",
   "execution_count": null,
   "metadata": {},
   "outputs": [],
   "source": [
    "pairwise.cosine_similarity(\n",
    "    tortosa_df[common_variable].values.reshape(1, -1),\n",
    "    guiamets_df[common_variable].values.reshape(1, -1),\n",
    ")"
   ]
  },
  {
   "cell_type": "markdown",
   "metadata": {},
   "source": [
    "#### Mequinenza - Guiamets"
   ]
  },
  {
   "cell_type": "code",
   "execution_count": null,
   "metadata": {},
   "outputs": [],
   "source": [
    "pairwise.cosine_similarity(\n",
    "    mequinenza_df[common_variable].values.reshape(1, -1),\n",
    "    guiamets_df[common_variable].values.reshape(1, -1),\n",
    ")"
   ]
  },
  {
   "cell_type": "markdown",
   "metadata": {},
   "source": [
    "### RMSE"
   ]
  },
  {
   "cell_type": "markdown",
   "metadata": {},
   "source": [
    "#### Tortosa - Mequinenza"
   ]
  },
  {
   "cell_type": "code",
   "execution_count": null,
   "metadata": {},
   "outputs": [],
   "source": [
    "rmse = np.sqrt(\n",
    "    mean_squared_error(\n",
    "        tortosa_df[common_variable], mequinenza_df[common_variable]\n",
    "    )\n",
    ")\n",
    "rmse / np.std(tortosa_df[common_variable])"
   ]
  },
  {
   "cell_type": "markdown",
   "metadata": {},
   "source": [
    "#### Tortosa - Guiamets"
   ]
  },
  {
   "cell_type": "code",
   "execution_count": null,
   "metadata": {},
   "outputs": [],
   "source": [
    "rmse = np.sqrt(\n",
    "    mean_squared_error(\n",
    "        tortosa_df[common_variable], guiamets_df[common_variable]\n",
    "    )\n",
    ")\n",
    "rmse / np.std(tortosa_df[common_variable])"
   ]
  },
  {
   "cell_type": "markdown",
   "metadata": {},
   "source": [
    "### Kendall-Tau"
   ]
  },
  {
   "cell_type": "markdown",
   "metadata": {},
   "source": [
    "#### Tortosa - Mequinenza"
   ]
  },
  {
   "cell_type": "code",
   "execution_count": null,
   "metadata": {},
   "outputs": [],
   "source": [
    "stats.kendalltau(\n",
    "    tortosa_df[common_variable], mequinenza_df[common_variable]\n",
    ")"
   ]
  },
  {
   "cell_type": "markdown",
   "metadata": {},
   "source": [
    "#### Tortosa - Guiamets"
   ]
  },
  {
   "cell_type": "code",
   "execution_count": null,
   "metadata": {},
   "outputs": [],
   "source": [
    "stats.kendalltau(\n",
    "    tortosa_df[common_variable], guiamets_df[common_variable]\n",
    ")"
   ]
  },
  {
   "cell_type": "markdown",
   "metadata": {},
   "source": [
    "#### Mequinenza - Guiamets"
   ]
  },
  {
   "cell_type": "code",
   "execution_count": null,
   "metadata": {},
   "outputs": [],
   "source": [
    "stats.kendalltau(\n",
    "    mequinenza_df[common_variable], guiamets_df[common_variable]\n",
    ")"
   ]
  },
  {
   "cell_type": "markdown",
   "metadata": {},
   "source": [
    "### Plot"
   ]
  },
  {
   "cell_type": "code",
   "execution_count": null,
   "metadata": {},
   "outputs": [],
   "source": [
    "plt.figure()\n",
    "sns.lineplot(\n",
    "    x=\"DateTime\", y=common_variable, data=tortosa_df, label=\"Tortosa\"\n",
    ")\n",
    "sns.lineplot(\n",
    "    x=\"DateTime\", y=common_variable, data=guiamets_df, label=\"Guiamets\"\n",
    ")\n",
    "# sns.lineplot(\n",
    "#     x=\"DateTime\",\n",
    "#     y=common_variable,\n",
    "#     data=mequinenza_df,\n",
    "#     label=\"Mequinenza\",\n",
    "# )\n",
    "\n",
    "props = dict(boxstyle=\"round\", facecolor=\"wheat\", alpha=0.5)\n",
    "\n",
    "text_string = \"\\n\".join(\n",
    "    (\n",
    "        f\"Pearson Coefficient = {pears:.2f}\",\n",
    "        f\"RMSD = {rmse:.2f}\",\n",
    "    )\n",
    ")\n",
    "\n",
    "plt.text(\n",
    "    tortosa_df[\"DateTime\"].iloc[0],\n",
    "    85,\n",
    "    s=text_string,\n",
    "    fontsize=12,\n",
    "    bbox=props,\n",
    ")\n",
    "\n",
    "plt.xlabel(\"Year\")\n",
    "plt.ylabel(\"Daily Cumulated Rainfall (mm)\")\n",
    "plt.title(\"Daily Cumulated Rainfall: Tortosa vs Guiamets\")\n",
    "\n",
    "plt.show()"
   ]
  },
  {
   "cell_type": "markdown",
   "metadata": {},
   "source": [
    "## Water Temperature"
   ]
  },
  {
   "cell_type": "code",
   "execution_count": 283,
   "metadata": {},
   "outputs": [],
   "source": [
    "common_variable = \"watertemperature\""
   ]
  },
  {
   "cell_type": "code",
   "execution_count": 284,
   "metadata": {},
   "outputs": [],
   "source": [
    "value, p_value = stats.pearsonr(\n",
    "    tortosa_df[common_variable], xerta_df[common_variable]\n",
    ")"
   ]
  },
  {
   "cell_type": "code",
   "execution_count": null,
   "metadata": {},
   "outputs": [],
   "source": [
    "plt.figure()\n",
    "sns.lineplot(\n",
    "    x=\"DateTime\", y=common_variable, data=xerta_df, label=\"Xerta\"\n",
    ")\n",
    "sns.lineplot(\n",
    "    x=\"DateTime\", y=common_variable, data=tortosa_df, label=\"Tortosa\"\n",
    ")\n",
    "\n",
    "# add textbox with correlation value\n",
    "text_string = \"\\n\".join(\n",
    "    [\n",
    "        f\"Pearson correlation = {value:.4f}\",\n",
    "        f\"P-value = {p_value:.4f}\",\n",
    "    ]\n",
    ")\n",
    "\n",
    "# props = dict(boxstyle='round', facecolor='wheat', alpha=0.5)\n",
    "\n",
    "# plt.text(\n",
    "#     xerta_df[\"DateTime\"].iloc[60],\n",
    "#     29,\n",
    "#     s=text_string,\n",
    "#     fontsize=12,\n",
    "#     bbox=props,\n",
    "# )\n",
    "\n",
    "plt.xlabel(\"Year\")\n",
    "plt.ylabel(\"Water temperature (°C)\")\n",
    "plt.title(\"Water temperature: Xerta vs Tortosa\")\n",
    "plt.show()"
   ]
  },
  {
   "cell_type": "markdown",
   "metadata": {},
   "source": [
    "### Pearson"
   ]
  },
  {
   "cell_type": "code",
   "execution_count": 286,
   "metadata": {},
   "outputs": [],
   "source": [
    "pears, _ = stats.pearsonr(\n",
    "    tortosa_df[common_variable], xerta_df[common_variable]\n",
    ")"
   ]
  },
  {
   "cell_type": "markdown",
   "metadata": {},
   "source": [
    "### Cosine Similarity"
   ]
  },
  {
   "cell_type": "code",
   "execution_count": null,
   "metadata": {},
   "outputs": [],
   "source": [
    "pairwise.cosine_similarity(\n",
    "    tortosa_df[common_variable].values.reshape(1, -1),\n",
    "    xerta_df[common_variable].values.reshape(1, -1),\n",
    ")"
   ]
  },
  {
   "cell_type": "markdown",
   "metadata": {},
   "source": [
    "### RMSE"
   ]
  },
  {
   "cell_type": "code",
   "execution_count": 288,
   "metadata": {},
   "outputs": [],
   "source": [
    "rmse = np.sqrt(\n",
    "    mean_squared_error(\n",
    "        tortosa_df[common_variable], xerta_df[common_variable]\n",
    "    )\n",
    ")\n",
    "# rmse = rmse / np.std(tortosa_df[common_variable])"
   ]
  },
  {
   "cell_type": "markdown",
   "metadata": {},
   "source": [
    "### Kendall-Tau"
   ]
  },
  {
   "cell_type": "code",
   "execution_count": null,
   "metadata": {},
   "outputs": [],
   "source": [
    "stats.kendalltau(tortosa_df[common_variable], xerta_df[common_variable])"
   ]
  },
  {
   "cell_type": "markdown",
   "metadata": {},
   "source": [
    "### Plot"
   ]
  },
  {
   "cell_type": "code",
   "execution_count": null,
   "metadata": {},
   "outputs": [],
   "source": [
    "plt.figure()\n",
    "sns.lineplot(\n",
    "    x=\"DateTime\", y=common_variable, data=xerta_df, label=\"Xerta\"\n",
    ")\n",
    "sns.lineplot(\n",
    "    x=\"DateTime\", y=common_variable, data=tortosa_df, label=\"Tortosa\"\n",
    ")\n",
    "\n",
    "props = dict(boxstyle=\"round\", facecolor=\"wheat\", alpha=0.5)\n",
    "\n",
    "text_string = \"\\n\".join(\n",
    "    (\n",
    "        f\"Pearson Coefficient = {pears:.3f}\",\n",
    "        f\"RMSD = {rmse:.2f}\",\n",
    "    )\n",
    ")\n",
    "\n",
    "plt.text(\n",
    "    tortosa_df[\"DateTime\"].iloc[60],\n",
    "    29,\n",
    "    s=text_string,\n",
    "    fontsize=12,\n",
    "    bbox=props,\n",
    ")\n",
    "\n",
    "plt.xlabel(\"Year\")\n",
    "plt.ylabel(\"Water temperature (°C)\")\n",
    "plt.title(\"Water temperature: Xerta vs Tortosa\")\n",
    "plt.show()"
   ]
  },
  {
   "cell_type": "markdown",
   "metadata": {},
   "source": [
    "## Conductivity"
   ]
  },
  {
   "cell_type": "code",
   "execution_count": 291,
   "metadata": {},
   "outputs": [],
   "source": [
    "common_variable = \"conductivity\""
   ]
  },
  {
   "cell_type": "code",
   "execution_count": null,
   "metadata": {},
   "outputs": [],
   "source": [
    "plt.figure()\n",
    "sns.lineplot(\n",
    "    x=\"DateTime\", y=common_variable, data=xerta_df, label=\"Xerta\"\n",
    ")\n",
    "sns.lineplot(\n",
    "    x=\"DateTime\", y=common_variable, data=tortosa_df, label=\"Tortosa\"\n",
    ")\n",
    "\n",
    "plt.xlabel(\"Year\")\n",
    "plt.ylabel(\"Conductivity (µS/cm)\")\n",
    "plt.title(\"Conductivity: Xerta vs Tortosa\")\n",
    "plt.show()"
   ]
  },
  {
   "cell_type": "markdown",
   "metadata": {},
   "source": [
    "### Pearson"
   ]
  },
  {
   "cell_type": "code",
   "execution_count": 293,
   "metadata": {},
   "outputs": [],
   "source": [
    "pears, _ = stats.pearsonr(\n",
    "    tortosa_df[common_variable], xerta_df[common_variable]\n",
    ")"
   ]
  },
  {
   "cell_type": "markdown",
   "metadata": {},
   "source": [
    "### Cosine Similarity"
   ]
  },
  {
   "cell_type": "code",
   "execution_count": null,
   "metadata": {},
   "outputs": [],
   "source": [
    "pairwise.cosine_similarity(\n",
    "    tortosa_df[common_variable].values.reshape(1, -1),\n",
    "    xerta_df[common_variable].values.reshape(1, -1),\n",
    ")"
   ]
  },
  {
   "cell_type": "markdown",
   "metadata": {},
   "source": [
    "### RMSE"
   ]
  },
  {
   "cell_type": "code",
   "execution_count": 295,
   "metadata": {},
   "outputs": [],
   "source": [
    "rmse = np.sqrt(\n",
    "    mean_squared_error(\n",
    "        tortosa_df[common_variable], xerta_df[common_variable]\n",
    "    )\n",
    ")\n",
    "# rmse = rmse / np.std(tortosa_df[common_variable])"
   ]
  },
  {
   "cell_type": "markdown",
   "metadata": {},
   "source": [
    "### Kendall-Tau"
   ]
  },
  {
   "cell_type": "code",
   "execution_count": null,
   "metadata": {},
   "outputs": [],
   "source": [
    "stats.kendalltau(tortosa_df[common_variable], xerta_df[common_variable])"
   ]
  },
  {
   "cell_type": "markdown",
   "metadata": {},
   "source": [
    "### Plot"
   ]
  },
  {
   "cell_type": "code",
   "execution_count": null,
   "metadata": {},
   "outputs": [],
   "source": [
    "plt.figure()\n",
    "sns.lineplot(\n",
    "    x=\"DateTime\", y=common_variable, data=xerta_df, label=\"Xerta\"\n",
    ")\n",
    "sns.lineplot(\n",
    "    x=\"DateTime\", y=common_variable, data=tortosa_df, label=\"Tortosa\"\n",
    ")\n",
    "\n",
    "props = dict(boxstyle=\"round\", facecolor=\"wheat\", alpha=0.5)\n",
    "\n",
    "text_string = \"\\n\".join(\n",
    "    (\n",
    "        f\"Pearson Coefficient = {pears:.3f}\",\n",
    "        f\"RMSD = {rmse:.2f}\",\n",
    "    )\n",
    ")\n",
    "\n",
    "plt.text(\n",
    "    tortosa_df[\"DateTime\"].iloc[0],\n",
    "    1800,\n",
    "    s=text_string,\n",
    "    fontsize=12,\n",
    "    bbox=props,\n",
    ")\n",
    "\n",
    "plt.xlabel(\"Year\")\n",
    "plt.ylabel(\"Conductivity (µS/cm)\")\n",
    "plt.title(\"Conductivity: Xerta vs Tortosa\")\n",
    "plt.show()"
   ]
  },
  {
   "cell_type": "markdown",
   "metadata": {},
   "source": [
    "## Turbidity"
   ]
  },
  {
   "cell_type": "code",
   "execution_count": 298,
   "metadata": {},
   "outputs": [],
   "source": [
    "common_variable = \"turbidity\""
   ]
  },
  {
   "cell_type": "code",
   "execution_count": null,
   "metadata": {},
   "outputs": [],
   "source": [
    "plt.figure()\n",
    "sns.lineplot(\n",
    "    x=\"DateTime\", y=common_variable, data=xerta_df, label=\"Xerta\"\n",
    ")\n",
    "sns.lineplot(\n",
    "    x=\"DateTime\", y=common_variable, data=tortosa_df, label=\"Tortosa\"\n",
    ")\n",
    "\n",
    "plt.xlabel(\"Year\")\n",
    "plt.ylabel(\"Turbidity (NTU)\")\n",
    "plt.title(\"Turbidity: Xerta vs Tortosa\")\n",
    "plt.show()"
   ]
  },
  {
   "cell_type": "markdown",
   "metadata": {},
   "source": [
    "### Pearson"
   ]
  },
  {
   "cell_type": "code",
   "execution_count": 300,
   "metadata": {},
   "outputs": [],
   "source": [
    "pears, _ = stats.pearsonr(\n",
    "    tortosa_df[common_variable], xerta_df[common_variable]\n",
    ")"
   ]
  },
  {
   "cell_type": "markdown",
   "metadata": {},
   "source": [
    "### Cosine Similarity"
   ]
  },
  {
   "cell_type": "code",
   "execution_count": null,
   "metadata": {},
   "outputs": [],
   "source": [
    "pairwise.cosine_similarity(\n",
    "    tortosa_df[common_variable].values.reshape(1, -1),\n",
    "    xerta_df[common_variable].values.reshape(1, -1),\n",
    ")"
   ]
  },
  {
   "cell_type": "markdown",
   "metadata": {},
   "source": [
    "### RMSE"
   ]
  },
  {
   "cell_type": "code",
   "execution_count": 302,
   "metadata": {},
   "outputs": [],
   "source": [
    "rmse = np.sqrt(\n",
    "    mean_squared_error(\n",
    "        tortosa_df[common_variable], xerta_df[common_variable]\n",
    "    )\n",
    ")\n",
    "# rmse / np.std(tortosa_df[common_variable])"
   ]
  },
  {
   "cell_type": "markdown",
   "metadata": {},
   "source": [
    "### Kendall-Tau"
   ]
  },
  {
   "cell_type": "code",
   "execution_count": null,
   "metadata": {},
   "outputs": [],
   "source": [
    "stats.kendalltau(tortosa_df[common_variable], xerta_df[common_variable])"
   ]
  },
  {
   "cell_type": "markdown",
   "metadata": {},
   "source": [
    "### Plot"
   ]
  },
  {
   "cell_type": "code",
   "execution_count": null,
   "metadata": {},
   "outputs": [],
   "source": [
    "plt.figure()\n",
    "sns.lineplot(\n",
    "    x=\"DateTime\", y=common_variable, data=xerta_df, label=\"Xerta\"\n",
    ")\n",
    "sns.lineplot(\n",
    "    x=\"DateTime\", y=common_variable, data=tortosa_df, label=\"Tortosa\"\n",
    ")\n",
    "\n",
    "props = dict(boxstyle=\"round\", facecolor=\"wheat\", alpha=0.5)\n",
    "\n",
    "text_string = \"\\n\".join(\n",
    "    (\n",
    "        f\"Pearson Coefficient = {pears:.3f}\",\n",
    "        f\"RMSD = {rmse:.2f}\",\n",
    "    )\n",
    ")\n",
    "\n",
    "plt.text(\n",
    "    tortosa_df[\"DateTime\"].iloc[0],\n",
    "    143,\n",
    "    s=text_string,\n",
    "    fontsize=12,\n",
    "    bbox=props,\n",
    ")\n",
    "\n",
    "plt.xlabel(\"Year\")\n",
    "plt.ylabel(\"Turbidity (NTU)\")\n",
    "plt.title(\"Turbidity: Xerta vs Tortosa\")\n",
    "plt.show()"
   ]
  },
  {
   "cell_type": "markdown",
   "metadata": {},
   "source": [
    "## Compute Correlation Matrix"
   ]
  },
  {
   "cell_type": "code",
   "execution_count": 305,
   "metadata": {},
   "outputs": [],
   "source": [
    "common_variables = {\n",
    "    \"conductivity\": \"Conductivity\\n(µS/cm)\",\n",
    "    \"turbidity\": \"Turbidity\\n(NTU)\",\n",
    "    \"watertemperature\": \"Water Temperature\\n(°C)\",\n",
    "}\n",
    "# rename columns"
   ]
  },
  {
   "cell_type": "code",
   "execution_count": null,
   "metadata": {},
   "outputs": [],
   "source": [
    "# sort columns\n",
    "tortosa_corr = tortosa_df[tortosa_df.columns.difference([\"DateTime\"])][\n",
    "    common_variables.keys()\n",
    "].corr()\n",
    "xerta_corr = xerta_df[xerta_df.columns.difference([\"DateTime\"])][\n",
    "    common_variables.keys()\n",
    "].corr()\n",
    "\n",
    "# rename columns to common_variables values\n",
    "tortosa_corr = tortosa_corr.rename(\n",
    "    columns=common_variables, index=common_variables\n",
    ")\n",
    "xerta_corr = xerta_corr.rename(\n",
    "    columns=common_variables, index=common_variables\n",
    ")\n",
    "\n",
    "fig, ax = plt.subplots(1, 2)\n",
    "\n",
    "sns.heatmap(tortosa_corr, annot=True, cmap=\"coolwarm\", ax=ax[0])\n",
    "ax[0].set_title(\"Tortosa\")\n",
    "\n",
    "# center the axis label\n",
    "\n",
    "sns.heatmap(xerta_corr, annot=True, cmap=\"coolwarm\", ax=ax[1])\n",
    "ax[1].set_title(\"Xerta\")\n",
    "\n",
    "\n",
    "plt.show()"
   ]
  },
  {
   "cell_type": "markdown",
   "metadata": {},
   "source": [
    "# Build unique dataset"
   ]
  },
  {
   "cell_type": "code",
   "execution_count": 307,
   "metadata": {},
   "outputs": [],
   "source": [
    "# water temperature and conductivity are better in the xerta dataset so no need to merge with tortosa\n",
    "\n",
    "# I decided to take the rainfall from tortosa since it is the closest to the xerta station\n",
    "\n",
    "xerta_df[\"cumulated_rainfall_24h\"] = tortosa_df[\n",
    "    \"cumulated_rainfall_24h\"\n",
    "].values\n",
    "xerta_df[\"environment_temperature\"] = guiamets_df[\n",
    "    \"environmental_temperature\"\n",
    "].values\n",
    "xerta_df[\"flowriver\"] = tortosa_df[\"flowriver\"].values\n",
    "\n",
    "xerta_df.rename(\n",
    "    columns={\n",
    "        \"cumulated_rainfall_24h\": \"Daily Cumulated Rainfall\",\n",
    "        \"watertemperature\": \"Water Temperature\",\n",
    "        \"environment_temperature\": \"Air Temperature\",\n",
    "        \"flowriver\": \"Flow River\",\n",
    "        \"conductivity\": \"Conductivity\",\n",
    "        \"dissolvedoxygen\": \"Dissolved Oxygen\",\n",
    "        \"nitrate\": \"Nitrate\",\n",
    "        \"redoxpotential\": \"Redox Potential\",\n",
    "        \"turbidity\": \"Turbidity\",\n",
    "        \"Ammonium\": \"Ammonium\",\n",
    "        \"ABS254\": \"Absorbance 254nm\",\n",
    "    },\n",
    "    inplace=True,\n",
    ")"
   ]
  },
  {
   "cell_type": "code",
   "execution_count": 308,
   "metadata": {},
   "outputs": [],
   "source": [
    "# drop first 3 rows of xerta_df since they are the only rows for august 2012\n",
    "xerta_df = xerta_df.iloc[3:]"
   ]
  },
  {
   "cell_type": "code",
   "execution_count": 309,
   "metadata": {},
   "outputs": [],
   "source": [
    "xerta_df.set_index(\"DateTime\", inplace=True)"
   ]
  },
  {
   "cell_type": "code",
   "execution_count": 310,
   "metadata": {},
   "outputs": [],
   "source": [
    "# add unit of measurement to the columns\n",
    "xerta_df.rename(\n",
    "    columns={\n",
    "        \"Daily Cumulated Rainfall\": \"Daily Cumulated Rainfall (L/m²)\",\n",
    "        \"Water Temperature\": \"Water Temperature (°C)\",\n",
    "        \"Air Temperature\": \"Air Temperature (°C)\",\n",
    "        \"Flow River\": \"Flow River (m³/s)\",\n",
    "        \"Conductivity\": \"Conductivity (µS/cm)\",\n",
    "        \"Dissolved Oxygen\": \"Dissolved Oxygen (mg/L)\",\n",
    "        \"Nitrate\": \"Nitrate (mg/L)\",\n",
    "        \"Redox Potential\": \"Redox Potential (mV)\",\n",
    "        \"Turbidity\": \"Turbidity (NTU)\",\n",
    "        \"Ammonium\": \"Ammonium (mg/L)\",\n",
    "        \"Absorbance 254nm\": \"UVA254\",\n",
    "    },\n",
    "    inplace=True,\n",
    ")"
   ]
  },
  {
   "cell_type": "code",
   "execution_count": 311,
   "metadata": {},
   "outputs": [],
   "source": [
    "xerta_df.to_excel(os.path.join(clean_data_folder, \"full_dataset.xlsx\"))"
   ]
  },
  {
   "cell_type": "markdown",
   "metadata": {},
   "source": [
    "# Overall timeseries decomposition"
   ]
  },
  {
   "cell_type": "code",
   "execution_count": null,
   "metadata": {},
   "outputs": [],
   "source": [
    "min_date = xerta_df.index.min()\n",
    "max_date = xerta_df.index.max()\n",
    "\n",
    "print(\"Min date:\", min_date)\n",
    "print(\"Max date:\", max_date)"
   ]
  },
  {
   "cell_type": "code",
   "execution_count": null,
   "metadata": {},
   "outputs": [],
   "source": [
    "# compute time difference between min and max date of the dataset in years\n",
    "time_diff = xerta_df.index.max() - xerta_df.index.min()\n",
    "time_diff.total_seconds() / (60 * 60 * 24 * 365)"
   ]
  },
  {
   "cell_type": "code",
   "execution_count": null,
   "metadata": {},
   "outputs": [],
   "source": [
    "for feature in xerta_df.columns.difference([\"DateTime\"]):\n",
    "    result = smt.STL(xerta_df[feature], period=365).fit()\n",
    "    fig, axs = plt.subplots(4, 1, figsize=(40, 20))\n",
    "    sns.lineplot(data=result.observed, ax=axs[0])\n",
    "    sns.lineplot(data=result.trend, ax=axs[1])\n",
    "    sns.lineplot(data=result.seasonal, ax=axs[2])\n",
    "    sns.lineplot(data=result.resid, ax=axs[3])\n",
    "    fig.suptitle(feature)"
   ]
  },
  {
   "cell_type": "markdown",
   "metadata": {},
   "source": [
    "# Yearly Seasonal Decomposition\n",
    "\n",
    "Every variables seems to have a yearly seasonal component, so the analysis is performed year-by-year."
   ]
  },
  {
   "cell_type": "code",
   "execution_count": 315,
   "metadata": {},
   "outputs": [],
   "source": [
    "xerta_df[\"month\"] = xerta_df.index.month\n",
    "xerta_df[\"year\"] = xerta_df.index.year\n",
    "monthly_average = xerta_df.groupby([\"year\", \"month\"]).mean()"
   ]
  },
  {
   "cell_type": "code",
   "execution_count": 316,
   "metadata": {},
   "outputs": [],
   "source": [
    "monthly_average.reset_index(inplace=True)"
   ]
  },
  {
   "cell_type": "code",
   "execution_count": 317,
   "metadata": {},
   "outputs": [],
   "source": [
    "monthly_average[\"DateTime\"] = pd.to_datetime(\n",
    "    monthly_average[[\"year\", \"month\"]].assign(day=1)\n",
    ")\n",
    "monthly_average.drop(columns=[\"year\", \"month\"], inplace=True)\n",
    "monthly_average.set_index(\"DateTime\", inplace=True)"
   ]
  },
  {
   "cell_type": "code",
   "execution_count": 318,
   "metadata": {},
   "outputs": [],
   "source": [
    "xerta_df = monthly_average"
   ]
  },
  {
   "cell_type": "code",
   "execution_count": 319,
   "metadata": {},
   "outputs": [],
   "source": [
    "xerta_df.reset_index(inplace=True)"
   ]
  },
  {
   "cell_type": "code",
   "execution_count": null,
   "metadata": {},
   "outputs": [],
   "source": [
    "xerta_df"
   ]
  },
  {
   "cell_type": "code",
   "execution_count": 321,
   "metadata": {},
   "outputs": [],
   "source": [
    "# add solar radiation data\n",
    "\n",
    "solar_radiation_df = pd.read_excel(os.path.join(clean_data_folder, \"solar_radiation.xlsx\"))   "
   ]
  },
  {
   "cell_type": "code",
   "execution_count": null,
   "metadata": {},
   "outputs": [],
   "source": [
    "solar_radiation_df"
   ]
  },
  {
   "cell_type": "code",
   "execution_count": 323,
   "metadata": {},
   "outputs": [],
   "source": [
    "# change DateTime day to 1\n",
    "solar_radiation_df[\"DateTime\"] = solar_radiation_df[\"DateTime\"].apply(\n",
    "    lambda x: x.replace(day=1)\n",
    ")"
   ]
  },
  {
   "cell_type": "code",
   "execution_count": 324,
   "metadata": {},
   "outputs": [],
   "source": [
    "# merge xerta_df with solar_radiation_df\n",
    "\n",
    "xerta_df = pd.merge(xerta_df, solar_radiation_df, on=\"DateTime\", how=\"left\")"
   ]
  },
  {
   "cell_type": "code",
   "execution_count": null,
   "metadata": {},
   "outputs": [],
   "source": [
    "xerta_df"
   ]
  },
  {
   "cell_type": "code",
   "execution_count": 326,
   "metadata": {},
   "outputs": [],
   "source": [
    "xerta_df.set_index(\"DateTime\", inplace=True)"
   ]
  },
  {
   "cell_type": "code",
   "execution_count": 327,
   "metadata": {},
   "outputs": [],
   "source": [
    "rgb = (200, 2, 110)\n",
    "color = tuple(map(lambda x: x / 255, rgb))"
   ]
  },
  {
   "cell_type": "code",
   "execution_count": 328,
   "metadata": {},
   "outputs": [],
   "source": [
    "plt.rcParams[\"font.size\"] = 30"
   ]
  },
  {
   "cell_type": "code",
   "execution_count": null,
   "metadata": {},
   "outputs": [],
   "source": [
    "trend_results = {}\n",
    "\n",
    "\n",
    "years = xerta_df.index.year.unique()\n",
    "for year in years:\n",
    "    trend_results[year] = {}\n",
    "\n",
    "\n",
    "# year by year extrapolate the trend\n",
    "# for year in years:\n",
    "#     trend_results[year] = {}\n",
    "#     df_year = xerta_df[xerta_df.index.year == year]\n",
    "#     for feature in xerta_df.columns.difference([\"DateTime\"]):\n",
    "#         result = smt.seasonal_decompose(df_year[feature], period=30)\n",
    "#         trend_results[year][feature] = result.trend.dropna()\n",
    "\n",
    "\n",
    "for feature in xerta_df.columns.difference([\"DateTime\"]):\n",
    "    result = smt.STL(xerta_df[feature], period=12).fit()\n",
    "    trend = result.trend.dropna()\n",
    "    for year in years:\n",
    "        trend_results[year][feature] = trend[trend.index.year == year]\n",
    "\n",
    "    fig = go.Figure()\n",
    "    \n",
    "    fig.add_trace(\n",
    "        go.Scatter(\n",
    "            x=xerta_df.index,\n",
    "            y=xerta_df[feature],\n",
    "            mode=\"lines\",\n",
    "            name=\"Monthly Average\",\n",
    "            line=dict(color=\"black\", width=1.0),\n",
    "        )\n",
    "    )\n",
    "    \n",
    "    fig.add_trace(\n",
    "        go.Scatter(\n",
    "            x=trend.index,\n",
    "            y=trend,\n",
    "            mode=\"lines\",\n",
    "            name=\"Trend (Moving Average)\",\n",
    "            line=dict(color='rgb(200,2,110)', width=4.0),\n",
    "        )\n",
    "    )\n",
    "    \n",
    "    fig.update_layout(\n",
    "        title=f\"{feature}\",\n",
    "        xaxis_title=\"Year\",\n",
    "        yaxis_title=feature,\n",
    "    )\n",
    "\n",
    "    fig.show()"
   ]
  },
  {
   "cell_type": "code",
   "execution_count": 330,
   "metadata": {},
   "outputs": [],
   "source": [
    "trends_df = pd.DataFrame(trend_results)"
   ]
  },
  {
   "cell_type": "code",
   "execution_count": null,
   "metadata": {},
   "outputs": [],
   "source": [
    "trends_df"
   ]
  },
  {
   "cell_type": "markdown",
   "metadata": {},
   "source": [
    "## Linear Estimation with insights"
   ]
  },
  {
   "cell_type": "code",
   "execution_count": 332,
   "metadata": {},
   "outputs": [],
   "source": [
    "import statsmodels.api as sm\n",
    "\n",
    "linear_estimations = {}\n",
    "\n",
    "for feature, row in trends_df.iterrows():\n",
    "    linear_estimations[feature] = {}\n",
    "    for year in trends_df.columns:\n",
    "        result = sm.OLS(\n",
    "            row[year].values,\n",
    "            sm.add_constant(row[year].index.to_julian_date()),\n",
    "        ).fit()\n",
    "        # result = stats.linregress(row[year].index.to_julian_date(), row[year].values)\n",
    "        linear_estimations[feature][year] = result"
   ]
  },
  {
   "cell_type": "code",
   "execution_count": 333,
   "metadata": {},
   "outputs": [],
   "source": [
    "# save slope and se for each feature and year\n",
    "slopes = {}\n",
    "ses = {}\n",
    "for feature in linear_estimations:\n",
    "    slopes[feature] = {}\n",
    "    ses[feature] = {}\n",
    "    for year in linear_estimations[feature]:\n",
    "        slopes[feature][year] = (\n",
    "            linear_estimations[feature][year].params[1].round(5)\n",
    "        )\n",
    "        ses[feature][year] = (\n",
    "            linear_estimations[feature][year].bse[1].round(5)\n",
    "        )\n",
    "\n",
    "slopes_df = pd.DataFrame(slopes)\n",
    "ses_df = pd.DataFrame(ses)\n",
    "\n",
    "# create unique table where each entry is a string like 'slope +/- se'\n",
    "slope_se_df = pd.DataFrame()\n",
    "for feature in slopes_df:\n",
    "    slope_se_df[feature] = (\n",
    "        slopes_df[feature].map(str) + \" +/- \" + ses_df[feature].map(str)\n",
    "    )\n",
    "\n",
    "slope_se_df.to_excel(os.path.join(clean_data_folder, \"slope_se.xlsx\"))"
   ]
  },
  {
   "cell_type": "code",
   "execution_count": null,
   "metadata": {},
   "outputs": [],
   "source": [
    "for feature in linear_estimations.keys():\n",
    "    # for each year I have to plot the slope and the intercept with their confidence intervals\n",
    "    fig, ax = plt.subplots(figsize=(20, 10))\n",
    "    feature_data = {}\n",
    "    for year in linear_estimations[feature].keys():\n",
    "        result = linear_estimations[feature][year]\n",
    "        intercept, slope = result.params\n",
    "        beta_0_se, beta_1_se = result.bse\n",
    "        feature_data[year] = {\n",
    "            \"intercept\": intercept,\n",
    "            \"slope\": slope,\n",
    "            \"intercept_se\": beta_0_se,\n",
    "            \"slope_se\": beta_1_se,\n",
    "        }\n",
    "    # plot slope and intercept with their confidence intervals\n",
    "    # as if it is a boxplot\n",
    "    feature_df = pd.DataFrame(feature_data).T\n",
    "    feature_df[\"year\"] = feature_df.index\n",
    "    # add confidence intervals as error bars\n",
    "    # ax.scatter(feature_df[\"year\"], feature_df[\"slope\"], color=\"black\")\n",
    "    ax.errorbar(\n",
    "        feature_df[\"year\"],\n",
    "        feature_df[\"slope\"],\n",
    "        yerr=feature_df[\"slope_se\"] * 2,\n",
    "        color=\"red\",\n",
    "        linestyle=\"None\",\n",
    "    )\n",
    "    sns.lineplot(\n",
    "        data=feature_df,\n",
    "        x=\"year\",\n",
    "        y=\"slope\",\n",
    "        ax=ax,\n",
    "        marker=\"o\",\n",
    "        markersize=10,\n",
    "        linestyle=\"--\",\n",
    "    )\n",
    "    ax.set_ylabel(\"Average Variation (unit/day)\")\n",
    "\n",
    "    # plot horizontal line at 0\n",
    "    ax.axhline(0, color=\"red\", linestyle=\"--\")\n",
    "\n",
    "    # add every year to the x axis\n",
    "    ax.set_xticks(feature_df[\"year\"])\n",
    "    ax.set_xticklabels(feature_df[\"year\"])\n",
    "    ax.set_xlabel(\"Year\")\n",
    "\n",
    "    plt.title(feature + \" - Daily Variation per Year\")\n",
    "\n",
    "    plt.show()"
   ]
  },
  {
   "cell_type": "markdown",
   "metadata": {},
   "source": [
    "## Daily time period"
   ]
  },
  {
   "cell_type": "code",
   "execution_count": null,
   "metadata": {},
   "outputs": [],
   "source": [
    "# plot each trend of each variable for each year\n",
    "from seaborn import color_palette\n",
    "import matplotlib.ticker as ticker\n",
    "\n",
    "\n",
    "for index, row in trends_df.iterrows():\n",
    "    fig, ax = plt.subplots(figsize=(30, 20))\n",
    "    fig.set_facecolor(\"black\")\n",
    "    ax.set_facecolor(\"black\")\n",
    "    ax.grid(True, linestyle=\"--\", alpha=0.6)\n",
    "    # ax.set_xticks(range(1, 13))\n",
    "    # ax.set_xticklabels(\n",
    "    #     [\n",
    "    #         \"January\",\n",
    "    #         \"February\",\n",
    "    #         \"March\",\n",
    "    #         \"April\",\n",
    "    #         \"May\",\n",
    "    #         \"June\",\n",
    "    #         \"July\",\n",
    "    #         \"August\",\n",
    "    #         \"September\",\n",
    "    #         \"October\",\n",
    "    #         \"November\",\n",
    "    #         \"December\",\n",
    "    #     ],\n",
    "    # )\n",
    "    ax.yaxis.label.set_color(\"white\")\n",
    "    ax.yaxis.set_major_locator(ticker.MaxNLocator(20))\n",
    "    ax.tick_params(axis=\"y\", colors=\"white\")\n",
    "    ax.tick_params(axis=\"x\", colors=\"white\")\n",
    "\n",
    "    for column in trends_df.columns:\n",
    "        color = color_palette(\"Set3\", trends_df.columns.size)[\n",
    "            trends_df.columns.get_loc(column)\n",
    "        ]\n",
    "        sns.lineplot(\n",
    "            # NB: month performs the mean of every month\n",
    "            # dayofyear plots every point\n",
    "            x=row[column].index.dayofyear,\n",
    "            y=row[column].values,\n",
    "            linewidth=2.0,\n",
    "            color=color,\n",
    "            # marker=\"o\",\n",
    "            # markersize=10,\n",
    "            ax=ax,\n",
    "        )\n",
    "        # Add a dotted line at the end of each line\n",
    "        # NB: if dayofyear, change x_start to row[column].index.dayofyear[0]\n",
    "        # and y_start to row[column].values[0]\n",
    "        # else x_start = row[column].index.month[0] and y_start = row[column].groupby(row[column].index.month).mean().values[0]\n",
    "\n",
    "        x_start = row[column].index.dayofyear[0]\n",
    "        y_start = row[column].values[0]\n",
    "        x_end = x_start - 1\n",
    "        y_end = y_start\n",
    "        ax.plot(\n",
    "            [x_start, x_end],\n",
    "            [y_start, y_end],\n",
    "            \"--\",\n",
    "            color=color,\n",
    "            linewidth=2.0,\n",
    "        )\n",
    "\n",
    "        # start line label\n",
    "        ax.text(\n",
    "            x_end - 10,\n",
    "            y_end,\n",
    "            str(column),\n",
    "            color=color,\n",
    "            fontsize=14,\n",
    "            weight=\"bold\",\n",
    "            va=\"center\",\n",
    "        )\n",
    "\n",
    "        # NB: if dayofyear, change x_start to row[column].index.dayofyear[-1]\n",
    "        # and y_start to row[column].values[-1]\n",
    "        # else x_start = row[column].index.month[-1] and y_start = row[column].groupby(row[column].index.month).mean().values[-1]\n",
    "\n",
    "        x_start = row[column].index.dayofyear[-1]\n",
    "        y_start = row[column].values[-1]\n",
    "        x_end = x_start + 1\n",
    "        y_end = y_start\n",
    "        ax.plot(\n",
    "            [x_start, x_end],\n",
    "            [y_start, y_end],\n",
    "            \"--\",\n",
    "            color=color,\n",
    "            linewidth=2.0,\n",
    "        )\n",
    "\n",
    "        # end line label\n",
    "        ax.text(\n",
    "            x_end,\n",
    "            y_end,\n",
    "            str(column),\n",
    "            color=color,\n",
    "            fontsize=14,\n",
    "            weight=\"bold\",\n",
    "            va=\"center\",\n",
    "        )\n",
    "\n",
    "    plt.xlabel(\"Day\", color=\"white\")\n",
    "    plt.ylabel(\"Trend\", color=\"white\")\n",
    "    plt.title(str(index), fontsize=20, weight=\"bold\", color=\"white\")"
   ]
  },
  {
   "cell_type": "markdown",
   "metadata": {},
   "source": [
    "## Monthly time period"
   ]
  },
  {
   "cell_type": "code",
   "execution_count": null,
   "metadata": {},
   "outputs": [],
   "source": [
    "# plot each trend of each variable for each year\n",
    "from seaborn import color_palette\n",
    "import matplotlib.ticker as ticker\n",
    "\n",
    "\n",
    "for index, row in trends_df.iterrows():\n",
    "    fig, ax = plt.subplots(figsize=(30, 20))\n",
    "    fig.set_facecolor(\"black\")\n",
    "    ax.set_facecolor(\"black\")\n",
    "    ax.grid(True, linestyle=\"--\", alpha=0.6)\n",
    "    ax.set_xticks(range(1, 13))\n",
    "    ax.set_xticklabels(\n",
    "        [\n",
    "            \"January\",\n",
    "            \"February\",\n",
    "            \"March\",\n",
    "            \"April\",\n",
    "            \"May\",\n",
    "            \"June\",\n",
    "            \"July\",\n",
    "            \"August\",\n",
    "            \"September\",\n",
    "            \"October\",\n",
    "            \"November\",\n",
    "            \"December\",\n",
    "        ],\n",
    "    )\n",
    "    ax.yaxis.label.set_color(\"white\")\n",
    "    ax.yaxis.set_major_locator(ticker.MaxNLocator(20))\n",
    "    ax.tick_params(axis=\"y\", colors=\"white\")\n",
    "    ax.tick_params(axis=\"x\", colors=\"white\")\n",
    "\n",
    "    for column in trends_df.columns:\n",
    "        color = color_palette(\"Set3\", trends_df.columns.size)[\n",
    "            trends_df.columns.get_loc(column)\n",
    "        ]\n",
    "        sns.lineplot(\n",
    "            # NB: month performs the mean of every month\n",
    "            # dayofyear plots every point\n",
    "            x=row[column].index.month,\n",
    "            y=row[column].values,\n",
    "            linewidth=2.0,\n",
    "            color=color,\n",
    "            marker=\"o\",\n",
    "            markersize=10,\n",
    "            ax=ax,\n",
    "        )\n",
    "        # Add a dotted line at the end of each line\n",
    "        # NB: if dayofyear, change x_start to row[column].index.dayofyear[0]\n",
    "        # and y_start to row[column].values[0]\n",
    "        # else x_start = row[column].index.month[0] and y_start = row[column].groupby(row[column].index.month).mean().values[0]\n",
    "\n",
    "        x_start = row[column].index.month[0]\n",
    "        y_start = (\n",
    "            row[column]\n",
    "            .groupby(row[column].index.month)\n",
    "            .mean()\n",
    "            .values[0]\n",
    "        )\n",
    "        x_end = x_start - 0.5\n",
    "        y_end = y_start\n",
    "        ax.plot(\n",
    "            [x_start, x_end],\n",
    "            [y_start, y_end],\n",
    "            \"--\",\n",
    "            color=color,\n",
    "            linewidth=2.0,\n",
    "        )\n",
    "\n",
    "        # start line label\n",
    "        ax.text(\n",
    "            x_end - 0.3,\n",
    "            y_end,\n",
    "            str(column),\n",
    "            color=color,\n",
    "            fontsize=14,\n",
    "            weight=\"bold\",\n",
    "            va=\"center\",\n",
    "        )\n",
    "\n",
    "        # NB: if dayofyear, change x_start to row[column].index.dayofyear[-1]\n",
    "        # and y_start to row[column].values[-1]\n",
    "        # else x_start = row[column].index.month[-1] and y_start = row[column].groupby(row[column].index.month).mean().values[-1]\n",
    "\n",
    "        x_start = row[column].index.month[-1]\n",
    "        y_start = (\n",
    "            row[column]\n",
    "            .groupby(row[column].index.month)\n",
    "            .mean()\n",
    "            .values[-1]\n",
    "        )\n",
    "        x_end = x_start + 0.5\n",
    "        y_end = y_start\n",
    "        ax.plot(\n",
    "            [x_start, x_end],\n",
    "            [y_start, y_end],\n",
    "            \"--\",\n",
    "            color=color,\n",
    "            linewidth=2.0,\n",
    "        )\n",
    "\n",
    "        # end line label\n",
    "        ax.text(\n",
    "            x_end,\n",
    "            y_end,\n",
    "            str(column),\n",
    "            color=color,\n",
    "            fontsize=14,\n",
    "            weight=\"bold\",\n",
    "            va=\"center\",\n",
    "        )\n",
    "\n",
    "    plt.xlabel(\"Month\", color=\"white\")\n",
    "    plt.ylabel(\"Trend\", color=\"white\")\n",
    "    plt.title(str(index), fontsize=20, weight=\"bold\", color=\"white\")"
   ]
  },
  {
   "cell_type": "markdown",
   "metadata": {},
   "source": [
    "## Combine Trends"
   ]
  },
  {
   "cell_type": "code",
   "execution_count": null,
   "metadata": {},
   "outputs": [],
   "source": [
    "rgb = (200, 2, 110)\n",
    "color = tuple(map(lambda x: x / 255, rgb))\n",
    "\n",
    "for feature, row in trends_df.iterrows():\n",
    "    plt.figure(figsize=(20, 10))\n",
    "    for column in trends_df.columns:\n",
    "        sns.lineplot(\n",
    "            data=row[column],\n",
    "            linewidth=4.0,\n",
    "            color=color,\n",
    "        )\n",
    "    sns.lineplot(\n",
    "        data=xerta_df[feature], linewidth=1.0, color=\"black\", alpha=0.5\n",
    "    )\n",
    "\n",
    "    # result = smt.STL(xerta_df[feature], period=365).fit()\n",
    "    # sns.lineplot(data=result.trend + 0.1, linewidth=2.0, color=\"red\")\n",
    "\n",
    "    plt.title(str(feature) + \" - Trend\")\n",
    "    plt.xlabel(\"Year\")\n",
    "    plt.ylabel(feature)\n",
    "\n",
    "    plt.show()"
   ]
  },
  {
   "cell_type": "markdown",
   "metadata": {},
   "source": [
    "## Statistical Tests on trends"
   ]
  },
  {
   "cell_type": "markdown",
   "metadata": {},
   "source": [
    "### Kruskal-Wallis Test on Trends"
   ]
  },
  {
   "cell_type": "code",
   "execution_count": 338,
   "metadata": {},
   "outputs": [],
   "source": [
    "# Pairwise year comparison of the trends\n",
    "pairwise_kw_results = {}\n",
    "for feature, row in trends_df.iterrows():\n",
    "    pairwise_kw_results[feature] = {}\n",
    "    # compute the Kruskal-Wallis H-test for every pair of years\n",
    "    df = pd.DataFrame(\n",
    "        columns=trends_df.columns, index=trends_df.columns\n",
    "    )\n",
    "    for year1 in trends_df.columns:\n",
    "        for year2 in trends_df.columns:\n",
    "            if year1 != year2:\n",
    "                stat, p = stats.kruskal(row[year1], row[year2])\n",
    "                df.loc[year1, year2] = (stat, p)\n",
    "    pairwise_kw_results[feature] = df"
   ]
  },
  {
   "cell_type": "code",
   "execution_count": null,
   "metadata": {},
   "outputs": [],
   "source": [
    "pairwise_kw_results[\"Water Temperature (°C)\"]"
   ]
  },
  {
   "cell_type": "code",
   "execution_count": 340,
   "metadata": {},
   "outputs": [],
   "source": [
    "# overall Kruskal-Wallis H-test for each feature\n",
    "overall_kw_results = {}\n",
    "for feature, row in trends_df.iterrows():\n",
    "    stat, p = stats.kruskal(*[row[year] for year in trends_df.columns])\n",
    "    overall_kw_results[feature] = (stat, p)"
   ]
  },
  {
   "cell_type": "code",
   "execution_count": 341,
   "metadata": {},
   "outputs": [],
   "source": [
    "overall_kw_results_df = pd.DataFrame(overall_kw_results).T"
   ]
  },
  {
   "cell_type": "markdown",
   "metadata": {},
   "source": [
    "### Dunn Test"
   ]
  },
  {
   "cell_type": "code",
   "execution_count": 342,
   "metadata": {},
   "outputs": [],
   "source": [
    "import scikit_posthocs as sp"
   ]
  },
  {
   "cell_type": "markdown",
   "metadata": {},
   "source": [
    "#### Trend"
   ]
  },
  {
   "cell_type": "code",
   "execution_count": 343,
   "metadata": {},
   "outputs": [],
   "source": [
    "trend_dunn_results = {}\n",
    "\n",
    "for feature, row in trends_df.iterrows():\n",
    "    result_df = sp.posthoc_dunn(row.to_list(), p_adjust=\"holm\")\n",
    "    result_df.columns = trends_df.columns\n",
    "    result_df.index = trends_df.columns\n",
    "    trend_dunn_results[feature] = result_df"
   ]
  },
  {
   "cell_type": "code",
   "execution_count": null,
   "metadata": {},
   "outputs": [],
   "source": [
    "for feature, df in trend_dunn_results.items():\n",
    "    plt.figure(figsize=(30, 15))\n",
    "\n",
    "    # Create a mask for values > 0.05\n",
    "    mask = df <= 0.05\n",
    "\n",
    "    sns.heatmap(df, annot=True, cmap=\"coolwarm\", center=0, mask=mask)\n",
    "    plt.title(feature)"
   ]
  },
  {
   "cell_type": "markdown",
   "metadata": {},
   "source": [
    "#### Data"
   ]
  },
  {
   "cell_type": "code",
   "execution_count": 345,
   "metadata": {},
   "outputs": [],
   "source": [
    "data_dunn_results = {}\n",
    "for feature in xerta_df.columns.difference([\"DateTime\"]):\n",
    "    # split the data for each year\n",
    "    data = []\n",
    "    for year in years:\n",
    "        data.append(xerta_df[feature][xerta_df.index.year == year])\n",
    "    result_df = sp.posthoc_dunn(data, p_adjust=\"holm\")\n",
    "    result_df.columns = years\n",
    "    result_df.index = years\n",
    "    data_dunn_results[feature] = result_df"
   ]
  },
  {
   "cell_type": "code",
   "execution_count": null,
   "metadata": {},
   "outputs": [],
   "source": [
    "for feature, df in data_dunn_results.items():\n",
    "    plt.figure(figsize=(30, 15))\n",
    "\n",
    "    # Create a mask for values > 0.05\n",
    "    mask = df <= 0.05\n",
    "\n",
    "    sns.heatmap(df, annot=True, cmap=\"coolwarm\", center=0, mask=mask)\n",
    "    plt.title(feature)"
   ]
  },
  {
   "cell_type": "markdown",
   "metadata": {},
   "source": [
    "# Monthly Seasonal Decomposition\n",
    "\n",
    "For completeness, the analysis is performed also month-by-month."
   ]
  },
  {
   "cell_type": "code",
   "execution_count": 347,
   "metadata": {},
   "outputs": [],
   "source": [
    "trend_results = {}\n",
    "\n",
    "for feature in xerta_df.columns.difference([\"DateTime\"]):\n",
    "    result = smt.STL(xerta_df[feature], period=365).fit()\n",
    "    trend = result.trend.dropna()\n",
    "    trend_results[feature] = {}\n",
    "    for year in years:\n",
    "        # get the months of the year\n",
    "        months = trend[trend.index.year == year].index.month.unique()\n",
    "        for month in months:\n",
    "            trend_results[feature][(year, month)] = trend[\n",
    "                (trend.index.year == year)\n",
    "                & (trend.index.month == month)\n",
    "            ]"
   ]
  },
  {
   "cell_type": "code",
   "execution_count": 348,
   "metadata": {},
   "outputs": [],
   "source": [
    "trends_df = pd.DataFrame(trend_results)"
   ]
  },
  {
   "cell_type": "code",
   "execution_count": null,
   "metadata": {},
   "outputs": [],
   "source": [
    "trends_df"
   ]
  },
  {
   "cell_type": "markdown",
   "metadata": {},
   "source": [
    "## Daily time period"
   ]
  },
  {
   "cell_type": "code",
   "execution_count": null,
   "metadata": {},
   "outputs": [],
   "source": [
    "# plot each trend of each variable for each year\n",
    "from seaborn import color_palette\n",
    "import matplotlib.ticker as ticker\n",
    "\n",
    "\n",
    "for index, row in trends_df.iterrows():\n",
    "    fig, ax = plt.subplots(figsize=(30, 20))\n",
    "    fig.set_facecolor(\"black\")\n",
    "    ax.set_facecolor(\"black\")\n",
    "    ax.grid(True, linestyle=\"--\", alpha=0.6)\n",
    "    # ax.set_xticks(range(1, 13))\n",
    "    # ax.set_xticklabels(\n",
    "    #     [\n",
    "    #         \"January\",\n",
    "    #         \"February\",\n",
    "    #         \"March\",\n",
    "    #         \"April\",\n",
    "    #         \"May\",\n",
    "    #         \"June\",\n",
    "    #         \"July\",\n",
    "    #         \"August\",\n",
    "    #         \"September\",\n",
    "    #         \"October\",\n",
    "    #         \"November\",\n",
    "    #         \"December\",\n",
    "    #     ],\n",
    "    # )\n",
    "    ax.yaxis.label.set_color(\"white\")\n",
    "    ax.yaxis.set_major_locator(ticker.MaxNLocator(20))\n",
    "    ax.tick_params(axis=\"y\", colors=\"white\")\n",
    "    ax.tick_params(axis=\"x\", colors=\"white\")\n",
    "\n",
    "    for column in trends_df.columns:\n",
    "        color = color_palette(\"Set3\", trends_df.columns.size)[\n",
    "            trends_df.columns.get_loc(column)\n",
    "        ]\n",
    "        sns.lineplot(\n",
    "            # NB: month performs the mean of every month\n",
    "            # dayofyear plots every point\n",
    "            x=row[column].index.dayofyear,\n",
    "            y=row[column].values,\n",
    "            linewidth=2.0,\n",
    "            color=color,\n",
    "            # marker=\"o\",\n",
    "            # markersize=10,\n",
    "            ax=ax,\n",
    "        )\n",
    "        # Add a dotted line at the end of each line\n",
    "        # NB: if dayofyear, change x_start to row[column].index.dayofyear[0]\n",
    "        # and y_start to row[column].values[0]\n",
    "        # else x_start = row[column].index.month[0] and y_start = row[column].groupby(row[column].index.month).mean().values[0]\n",
    "\n",
    "        x_start = row[column].index.dayofyear[0]\n",
    "        y_start = row[column].values[0]\n",
    "        x_end = x_start - 1\n",
    "        y_end = y_start\n",
    "        ax.plot(\n",
    "            [x_start, x_end],\n",
    "            [y_start, y_end],\n",
    "            \"--\",\n",
    "            color=color,\n",
    "            linewidth=2.0,\n",
    "        )\n",
    "\n",
    "        # start line label\n",
    "        ax.text(\n",
    "            x_end - 10,\n",
    "            y_end,\n",
    "            str(column),\n",
    "            color=color,\n",
    "            fontsize=14,\n",
    "            weight=\"bold\",\n",
    "            va=\"center\",\n",
    "        )\n",
    "\n",
    "        # NB: if dayofyear, change x_start to row[column].index.dayofyear[-1]\n",
    "        # and y_start to row[column].values[-1]\n",
    "        # else x_start = row[column].index.month[-1] and y_start = row[column].groupby(row[column].index.month).mean().values[-1]\n",
    "\n",
    "        x_start = row[column].index.dayofyear[-1]\n",
    "        y_start = row[column].values[-1]\n",
    "        x_end = x_start + 1\n",
    "        y_end = y_start\n",
    "        ax.plot(\n",
    "            [x_start, x_end],\n",
    "            [y_start, y_end],\n",
    "            \"--\",\n",
    "            color=color,\n",
    "            linewidth=2.0,\n",
    "        )\n",
    "\n",
    "        # end line label\n",
    "        ax.text(\n",
    "            x_end,\n",
    "            y_end,\n",
    "            str(column),\n",
    "            color=color,\n",
    "            fontsize=14,\n",
    "            weight=\"bold\",\n",
    "            va=\"center\",\n",
    "        )\n",
    "\n",
    "    plt.xlabel(\"Month\", color=\"white\")\n",
    "    plt.ylabel(\"Trend\", color=\"white\")\n",
    "    plt.title(str(index), fontsize=20, weight=\"bold\", color=\"white\")"
   ]
  },
  {
   "cell_type": "markdown",
   "metadata": {},
   "source": [
    "## Monthly time period"
   ]
  },
  {
   "cell_type": "code",
   "execution_count": null,
   "metadata": {},
   "outputs": [],
   "source": [
    "# plot each trend of each variable for each year\n",
    "from seaborn import color_palette\n",
    "import matplotlib.ticker as ticker\n",
    "\n",
    "\n",
    "for index, row in trends_df.iterrows():\n",
    "    fig, ax = plt.subplots(figsize=(30, 20))\n",
    "    fig.set_facecolor(\"black\")\n",
    "    ax.set_facecolor(\"black\")\n",
    "    ax.grid(True, linestyle=\"--\", alpha=0.6)\n",
    "    ax.set_xticks(range(1, 13))\n",
    "    ax.set_xticklabels(\n",
    "        [\n",
    "            \"January\",\n",
    "            \"February\",\n",
    "            \"March\",\n",
    "            \"April\",\n",
    "            \"May\",\n",
    "            \"June\",\n",
    "            \"July\",\n",
    "            \"August\",\n",
    "            \"September\",\n",
    "            \"October\",\n",
    "            \"November\",\n",
    "            \"December\",\n",
    "        ],\n",
    "    )\n",
    "    ax.yaxis.label.set_color(\"white\")\n",
    "    ax.yaxis.set_major_locator(ticker.MaxNLocator(20))\n",
    "    ax.tick_params(axis=\"y\", colors=\"white\")\n",
    "    ax.tick_params(axis=\"x\", colors=\"white\")\n",
    "\n",
    "    for column in trends_df.columns:\n",
    "        color = color_palette(\"Set3\", trends_df.columns.size)[\n",
    "            trends_df.columns.get_loc(column)\n",
    "        ]\n",
    "        sns.lineplot(\n",
    "            # NB: month performs the mean of every month\n",
    "            # dayofyear plots every point\n",
    "            x=row[column].index.month,\n",
    "            y=row[column].values,\n",
    "            linewidth=2.0,\n",
    "            color=color,\n",
    "            marker=\"o\",\n",
    "            markersize=10,\n",
    "            ax=ax,\n",
    "        )\n",
    "        # Add a dotted line at the end of each line\n",
    "        # NB: if dayofyear, change x_start to row[column].index.dayofyear[0]\n",
    "        # and y_start to row[column].values[0]\n",
    "        # else x_start = row[column].index.month[0] and y_start = row[column].groupby(row[column].index.month).mean().values[0]\n",
    "\n",
    "        x_start = row[column].index.month[0]\n",
    "        y_start = (\n",
    "            row[column]\n",
    "            .groupby(row[column].index.month)\n",
    "            .mean()\n",
    "            .values[0]\n",
    "        )\n",
    "        x_end = x_start - 0.5\n",
    "        y_end = y_start\n",
    "        ax.plot(\n",
    "            [x_start, x_end],\n",
    "            [y_start, y_end],\n",
    "            \"--\",\n",
    "            color=color,\n",
    "            linewidth=2.0,\n",
    "        )\n",
    "\n",
    "        # start line label\n",
    "        ax.text(\n",
    "            x_end - 0.3,\n",
    "            y_end,\n",
    "            str(column),\n",
    "            color=color,\n",
    "            fontsize=14,\n",
    "            weight=\"bold\",\n",
    "            va=\"center\",\n",
    "        )\n",
    "\n",
    "        # NB: if dayofyear, change x_start to row[column].index.dayofyear[-1]\n",
    "        # and y_start to row[column].values[-1]\n",
    "        # else x_start = row[column].index.month[-1] and y_start = row[column].groupby(row[column].index.month).mean().values[-1]\n",
    "\n",
    "        x_start = row[column].index.month[-1]\n",
    "        y_start = (\n",
    "            row[column]\n",
    "            .groupby(row[column].index.month)\n",
    "            .mean()\n",
    "            .values[-1]\n",
    "        )\n",
    "        x_end = x_start + 0.5\n",
    "        y_end = y_start\n",
    "        ax.plot(\n",
    "            [x_start, x_end],\n",
    "            [y_start, y_end],\n",
    "            \"--\",\n",
    "            color=color,\n",
    "            linewidth=2.0,\n",
    "        )\n",
    "\n",
    "        # end line label\n",
    "        ax.text(\n",
    "            x_end,\n",
    "            y_end,\n",
    "            str(column),\n",
    "            color=color,\n",
    "            fontsize=14,\n",
    "            weight=\"bold\",\n",
    "            va=\"center\",\n",
    "        )\n",
    "\n",
    "    plt.xlabel(\"Month\", color=\"white\")\n",
    "    plt.ylabel(\"Trend\", color=\"white\")\n",
    "    plt.title(str(index), fontsize=20, weight=\"bold\", color=\"white\")"
   ]
  },
  {
   "cell_type": "markdown",
   "metadata": {},
   "source": [
    "## Combine Trends"
   ]
  },
  {
   "cell_type": "code",
   "execution_count": null,
   "metadata": {},
   "outputs": [],
   "source": [
    "for feature, row in trends_df.iterrows():\n",
    "    plt.figure(figsize=(20, 10))\n",
    "    for column in trends_df.columns:\n",
    "        sns.lineplot(\n",
    "            data=row[column],\n",
    "            linewidth=2.0,\n",
    "            color=\"red\",\n",
    "        )\n",
    "    sns.lineplot(data=xerta_df[feature], linewidth=2.0, color=\"blue\")\n",
    "\n",
    "    plt.title(feature)"
   ]
  },
  {
   "cell_type": "markdown",
   "metadata": {},
   "source": [
    "## Statistical Tests on trends"
   ]
  },
  {
   "cell_type": "markdown",
   "metadata": {},
   "source": [
    "### Kruskal-Wallis Test on Trends"
   ]
  },
  {
   "cell_type": "code",
   "execution_count": null,
   "metadata": {},
   "outputs": [],
   "source": [
    "# Pairwise year comparison of the trends\n",
    "pairwise_kw_results = {}\n",
    "for feature, row in trends_df.iterrows():\n",
    "    pairwise_kw_results[feature] = {}\n",
    "    # compute the Kruskal-Wallis H-test for every pair of years\n",
    "    df = pd.DataFrame(\n",
    "        columns=trends_df.columns, index=trends_df.columns\n",
    "    )\n",
    "    for year1 in trends_df.columns:\n",
    "        for year2 in trends_df.columns:\n",
    "            if year1 != year2:\n",
    "                stat, p = stats.kruskal(row[year1], row[year2])\n",
    "                df.loc[year1, year2] = (stat, p)\n",
    "    pairwise_kw_results[feature] = df"
   ]
  },
  {
   "cell_type": "code",
   "execution_count": null,
   "metadata": {},
   "outputs": [],
   "source": [
    "pairwise_kw_results[\"Water Temperature\"]"
   ]
  },
  {
   "cell_type": "code",
   "execution_count": null,
   "metadata": {},
   "outputs": [],
   "source": [
    "# overall Kruskal-Wallis H-test for each feature\n",
    "overall_kw_results = {}\n",
    "for feature, row in trends_df.iterrows():\n",
    "    stat, p = stats.kruskal(*[row[year] for year in trends_df.columns])\n",
    "    overall_kw_results[feature] = (stat, p)"
   ]
  },
  {
   "cell_type": "code",
   "execution_count": null,
   "metadata": {},
   "outputs": [],
   "source": [
    "overall_kw_results_df = pd.DataFrame(overall_kw_results).T"
   ]
  },
  {
   "cell_type": "markdown",
   "metadata": {},
   "source": [
    "### Dunn Test"
   ]
  },
  {
   "cell_type": "code",
   "execution_count": null,
   "metadata": {},
   "outputs": [],
   "source": [
    "import scikit_posthocs as sp"
   ]
  },
  {
   "cell_type": "markdown",
   "metadata": {},
   "source": [
    "#### Trend"
   ]
  },
  {
   "cell_type": "code",
   "execution_count": null,
   "metadata": {},
   "outputs": [],
   "source": [
    "trend_dunn_results = {}\n",
    "\n",
    "for feature, row in trends_df.iterrows():\n",
    "    result_df = sp.posthoc_dunn(row.to_list(), p_adjust=\"holm\")\n",
    "    result_df.columns = trends_df.columns\n",
    "    result_df.index = trends_df.columns\n",
    "    trend_dunn_results[feature] = result_df"
   ]
  },
  {
   "cell_type": "code",
   "execution_count": null,
   "metadata": {},
   "outputs": [],
   "source": [
    "trend_dunn_results[\"ABS254\"]"
   ]
  },
  {
   "cell_type": "code",
   "execution_count": null,
   "metadata": {},
   "outputs": [],
   "source": [
    "for feature, df in trend_dunn_results.items():\n",
    "    plt.figure(figsize=(30, 15))\n",
    "\n",
    "    # Create a mask for values > 0.05\n",
    "    mask = df <= 0.05\n",
    "\n",
    "    sns.heatmap(df, annot=True, cmap=\"coolwarm\", center=0, mask=mask)\n",
    "    plt.title(feature)"
   ]
  },
  {
   "cell_type": "markdown",
   "metadata": {},
   "source": [
    "#### Data"
   ]
  },
  {
   "cell_type": "code",
   "execution_count": null,
   "metadata": {},
   "outputs": [],
   "source": [
    "data_dunn_results = {}\n",
    "for feature in xerta_df.columns.difference([\"DateTime\"]):\n",
    "    # split the data for each year\n",
    "    data = []\n",
    "    for year in years:\n",
    "        data.append(xerta_df[feature][xerta_df.index.year == year])\n",
    "    result_df = sp.posthoc_dunn(data, p_adjust=\"holm\")\n",
    "    result_df.columns = years\n",
    "    result_df.index = years\n",
    "    data_dunn_results[feature] = result_df"
   ]
  },
  {
   "cell_type": "code",
   "execution_count": null,
   "metadata": {},
   "outputs": [],
   "source": [
    "data_dunn_results[\"ABS254\"]"
   ]
  },
  {
   "cell_type": "code",
   "execution_count": null,
   "metadata": {},
   "outputs": [],
   "source": [
    "for feature, df in data_dunn_results.items():\n",
    "    plt.figure(figsize=(30, 15))\n",
    "\n",
    "    # Create a mask for values > 0.05\n",
    "    mask = df <= 0.05\n",
    "\n",
    "    sns.heatmap(df, annot=True, cmap=\"coolwarm\", center=0, mask=mask)\n",
    "    plt.title(feature)"
   ]
  },
  {
   "cell_type": "markdown",
   "metadata": {},
   "source": [
    "# Decomposition of diff timeseries"
   ]
  },
  {
   "cell_type": "code",
   "execution_count": null,
   "metadata": {},
   "outputs": [],
   "source": [
    "xerta_diff_df = xerta_df.diff()"
   ]
  },
  {
   "cell_type": "code",
   "execution_count": null,
   "metadata": {},
   "outputs": [],
   "source": [
    "for feature in xerta_diff_df.columns.difference([\"DateTime\"]):\n",
    "    result = smt.STL(xerta_diff_df[feature], period=365).fit()\n",
    "    fig, axs = plt.subplots(4, 1, figsize=(40, 20))\n",
    "    sns.lineplot(data=result.observed, ax=axs[0])\n",
    "    sns.lineplot(data=result.trend, ax=axs[1])\n",
    "    sns.lineplot(data=result.seasonal, ax=axs[2])\n",
    "    sns.lineplot(data=result.resid, ax=axs[3])\n",
    "    fig.suptitle(feature)"
   ]
  },
  {
   "cell_type": "markdown",
   "metadata": {},
   "source": [
    "# Year by Year Correlation"
   ]
  },
  {
   "cell_type": "code",
   "execution_count": null,
   "metadata": {},
   "outputs": [],
   "source": [
    "xerta_df"
   ]
  },
  {
   "cell_type": "code",
   "execution_count": 354,
   "metadata": {},
   "outputs": [],
   "source": [
    "xerta_df.rename(\n",
    "    columns={\n",
    "        \"Daily Cumulated Rainfall (L/m²)\": \"Daily Cumulated Rainfall (mm)\",\n",
    "    },\n",
    "    inplace=True,\n",
    ")"
   ]
  },
  {
   "cell_type": "code",
   "execution_count": 355,
   "metadata": {},
   "outputs": [],
   "source": [
    "# perform year by year correlation\n",
    "correlation_results = {}\n",
    "\n",
    "for year in xerta_df.index.year.unique():\n",
    "    correlation_results[year] = {}\n",
    "    year_df = xerta_df[xerta_df.index.year == year]\n",
    "    variable_names = year_df.columns.difference([\"DateTime\"]).to_list()\n",
    "    corr_matrix = stats.spearmanr(year_df)\n",
    "    corr_matrix = pd.DataFrame(\n",
    "        corr_matrix.correlation,\n",
    "        columns=variable_names,\n",
    "        index=variable_names,\n",
    "    )\n",
    "    correlation_results[year] = corr_matrix"
   ]
  },
  {
   "cell_type": "code",
   "execution_count": null,
   "metadata": {},
   "outputs": [],
   "source": [
    "for year, df in correlation_results.items():\n",
    "    plt.figure(figsize=(30, 15))\n",
    "    sns.heatmap(df, annot=True, cmap=\"coolwarm\", center=0)\n",
    "    plt.title(year)"
   ]
  },
  {
   "cell_type": "markdown",
   "metadata": {},
   "source": [
    "# Correlation Coefficients Plots"
   ]
  },
  {
   "cell_type": "code",
   "execution_count": null,
   "metadata": {},
   "outputs": [],
   "source": [
    "# for each variable, create a plot with the year by year correlation with the other variables\n",
    "for variable in xerta_df.columns.difference([\"DateTime\"]):\n",
    "    # store the correlation of the variable with the other variables\n",
    "    other_variables = {}\n",
    "\n",
    "    for year, df in correlation_results.items():\n",
    "        # take the correlation of the variable with the other variables\n",
    "        correlation = df[variable].drop(variable)\n",
    "\n",
    "        for other_variable, value in correlation.items():\n",
    "            if other_variable not in other_variables:\n",
    "                other_variables[other_variable] = []\n",
    "            # append every year\n",
    "            other_variables[other_variable].append(value)\n",
    "\n",
    "    # plot the correlation of the variable with the other variables\n",
    "    for other_variable, values in other_variables.items():\n",
    "        plt.figure(figsize=(30, 15))\n",
    "        sns.lineplot(\n",
    "            x=years,\n",
    "            y=values,\n",
    "            label=other_variable,\n",
    "            marker=\"o\",\n",
    "            markersize=10,\n",
    "            linewidth=2.0,\n",
    "            linestyle=\"--\",\n",
    "        )\n",
    "        # plot horizontal line at 0\n",
    "        plt.axhline(0, color=\"red\", linestyle=\"--\")\n",
    "        plt.xlabel(\"Year\")\n",
    "        plt.ylabel(\"Spearman Correlation Coefficient\")\n",
    "        plt.title(variable + \" - \" + \"Spearman Correlation by Year\")\n",
    "        # increase the x axis year ticks\n",
    "        plt.xticks(years)\n",
    "\n",
    "        # # save the plot to the correlation folder\n",
    "        # if not os.path.exists(os.path.join(correlation_folder, variable)):\n",
    "        #     os.makedirs(os.path.join(correlation_folder, variable))\n",
    "        plt.show()"
   ]
  },
  {
   "cell_type": "code",
   "execution_count": 178,
   "metadata": {},
   "outputs": [],
   "source": [
    "raw_data_folder = os.path.join(data_folder, \"raw_data\")"
   ]
  },
  {
   "cell_type": "code",
   "execution_count": 254,
   "metadata": {},
   "outputs": [],
   "source": [
    "# xerta_df = pd.read_excel(\n",
    "#     os.path.join(raw_data_folder, \"raw_full_dataset.xlsx\"), index_col=0\n",
    "# )"
   ]
  },
  {
   "cell_type": "code",
   "execution_count": null,
   "metadata": {},
   "outputs": [],
   "source": [
    "# for each variable, create a plot with the year by year correlation with the other variables\n",
    "variable = \"UVA254\"\n",
    "# store the correlation of the variable with the other variables\n",
    "other_variables = {}\n",
    "\n",
    "skip_variables = [\n",
    "    \"pH\",\n",
    "    \"Ammonium (mg/L)\",\n",
    "    \"Conductivity (µS/cm)\",\n",
    "    \"Dissolved Oxygen (mg/L)\",\n",
    "    \"Nitrate (mg/L)\",\n",
    "    \"Redox Potential (mV)\",\n",
    "    \"Turbidity (NTU)\",\n",
    "    \"Conductivity (µS/cm)\",\n",
    "    \"Nitrate (mg/L)\",\n",
    "]\n",
    "\n",
    "for year, df in correlation_results.items():\n",
    "    # take the correlation of the variable with the other variables\n",
    "    correlation = df[variable].drop(variable)\n",
    "\n",
    "    for other_variable, value in correlation.items():\n",
    "        if other_variable not in skip_variables:\n",
    "            if other_variable not in other_variables:\n",
    "                other_variables[other_variable] = []\n",
    "            # append every year\n",
    "            other_variables[other_variable].append(value)\n",
    "\n",
    "plt.figure(figsize=(30, 15))\n",
    "# plot the correlation of the variable with the other variables\n",
    "# give me 4 colors\n",
    "colors = sns.color_palette(\"Set1\", 5)\n",
    "\n",
    "for other_variable, values in other_variables.items():\n",
    "    sns.lineplot(\n",
    "        x=years,\n",
    "        y=values,\n",
    "        label=other_variable,\n",
    "        marker=\"o\",\n",
    "        markersize=10,\n",
    "        linewidth=2.0,\n",
    "        linestyle=\"--\",\n",
    "        color=colors.pop(0),\n",
    "    )\n",
    "# plot horizontal line at 0\n",
    "plt.axhline(0, color=\"red\", linestyle=\"--\")\n",
    "plt.xlabel(\"Year\")\n",
    "plt.ylabel(\"Spearman Correlation Coefficient\")\n",
    "plt.title(variable + \" - \" + \"Spearman Correlation by Year\")\n",
    "# increase the x axis year ticks\n",
    "plt.xticks(years)\n",
    "\n",
    "# # save the plot to the correlation folder\n",
    "# if not os.path.exists(os.path.join(correlation_folder, variable)):\n",
    "#     os.makedirs(os.path.join(correlation_folder, variable))\n",
    "plt.show()"
   ]
  },
  {
   "cell_type": "code",
   "execution_count": 359,
   "metadata": {},
   "outputs": [],
   "source": [
    "from sklearn.preprocessing import MinMaxScaler"
   ]
  },
  {
   "cell_type": "code",
   "execution_count": null,
   "metadata": {},
   "outputs": [],
   "source": [
    "# plot the solar radiation and the UVA254\n",
    "\n",
    "plt.figure(figsize=(30, 15))\n",
    "\n",
    "scaled_uv = MinMaxScaler().fit_transform(xerta_df[\"UVA254\"].values.reshape(-1, 1))\n",
    "scaled_solar = MinMaxScaler().fit_transform(xerta_df[\"Solar Radiation (W/m^2)\"].values.reshape(-1, 1))\n",
    "\n",
    "plt.plot(xerta_df.index, scaled_uv, label=\"UVA254\")\n",
    "plt.plot(xerta_df.index, scaled_solar, label=\"Solar Radiation\")\n",
    "\n",
    "\n",
    "plt.title(\"UVA254 vs Solar Radiation\")\n",
    "plt.xlabel(\"Year\")\n",
    "plt.ylabel(\"UVA254 and Solar Radiation\")\n",
    "\n",
    "plt.show()"
   ]
  },
  {
   "cell_type": "code",
   "execution_count": null,
   "metadata": {},
   "outputs": [],
   "source": [
    "# compute correlation between UVA254 and Solar Radiation\n",
    "\n",
    "# first difference the data\n",
    "xerta_diff_df = xerta_df.diff()\n",
    "\n",
    "# compute the correlation\n",
    "corr = xerta_diff_df[\"UVA254\"].corr(xerta_diff_df[\"Solar Radiation (W/m^2)\"])\n",
    "\n",
    "print(\"Correlation between UVA254 and Solar Radiation:\", corr)"
   ]
  },
  {
   "cell_type": "code",
   "execution_count": null,
   "metadata": {},
   "outputs": [],
   "source": [
    "# scatter plot between UVA nad Ammonium with best fit line\n",
    "\n",
    "fig = px.scatter(\n",
    "    xerta_df,\n",
    "    x=\"UVA254\",\n",
    "    y=\"Ammonium (mg/L)\",\n",
    "    trendline=\"ols\",\n",
    ")\n",
    "\n",
    "# udpate the scale of the y axis from 0 to 0.7\n",
    "fig.update_yaxes(range=[0, 0.7])\n",
    "\n",
    "fig.update_layout(\n",
    "    title=\"UVA254 vs Ammonium\",\n",
    "    xaxis_title=\"UVA254\",\n",
    "    yaxis_title=\"Ammonium\",\n",
    ")\n",
    "\n",
    "\n",
    "fig.show()\n",
    "\n",
    "\n",
    "# compute correlation between UVA254 and Ammonium\n",
    "\n",
    "corr = xerta_df[\"UVA254\"].corr(xerta_df[\"Ammonium (mg/L)\"])\n",
    "\n",
    "print(\"Correlation between UVA254 and Ammonium:\", corr)"
   ]
  },
  {
   "cell_type": "code",
   "execution_count": null,
   "metadata": {},
   "outputs": [],
   "source": []
  }
 ],
 "metadata": {
  "kernelspec": {
   "display_name": "climate-change-MEYtuKH4-py3.11",
   "language": "python",
   "name": "python3"
  },
  "language_info": {
   "codemirror_mode": {
    "name": "ipython",
    "version": 3
   },
   "file_extension": ".py",
   "mimetype": "text/x-python",
   "name": "python",
   "nbconvert_exporter": "python",
   "pygments_lexer": "ipython3",
   "version": "3.11.8"
  }
 },
 "nbformat": 4,
 "nbformat_minor": 2
}
