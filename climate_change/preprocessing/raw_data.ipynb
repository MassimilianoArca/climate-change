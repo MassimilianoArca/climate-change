{
 "cells": [
  {
   "cell_type": "markdown",
   "metadata": {},
   "source": [
    "# Preprocess Raw Data and Build Dataset"
   ]
  },
  {
   "cell_type": "code",
   "execution_count": 215,
   "metadata": {},
   "outputs": [],
   "source": [
    "import os\n",
    "import pandas as pd\n",
    "import numpy as np"
   ]
  },
  {
   "cell_type": "markdown",
   "metadata": {},
   "source": [
    "# Load Data"
   ]
  },
  {
   "cell_type": "code",
   "execution_count": 216,
   "metadata": {},
   "outputs": [],
   "source": [
    "data_folder = os.path.join('..', 'data')\n",
    "\n",
    "raw_data_folder = os.path.join(data_folder, 'raw_data')\n",
    "intermediate_data_folder = os.path.join(data_folder, 'intermediate_data')"
   ]
  },
  {
   "cell_type": "code",
   "execution_count": 217,
   "metadata": {},
   "outputs": [],
   "source": [
    "datasets_dict = {}\n",
    "\n",
    "datasets_dict['TORTOSA'] = {}\n",
    "datasets_dict['GUIAMETS'] = {}\n",
    "datasets_dict['MEQUINENZA'] = {}\n",
    "datasets_dict['XERTA'] = {}"
   ]
  },
  {
   "cell_type": "code",
   "execution_count": 218,
   "metadata": {},
   "outputs": [],
   "source": [
    "for file in os.listdir(raw_data_folder):\n",
    "    location = file.split('_')[0]\n",
    "    feature_name = '_'.join(file.split('_')[1:-2])\n",
    "    if file.endswith('.csv'):\n",
    "         datasets_dict[location][feature_name] = pd.read_csv(\n",
    "            filepath_or_buffer=os.path.join(raw_data_folder, file),\n",
    "            sep=';',\n",
    "            decimal=',',\n",
    "            date_format='%Y-%m-%d %H:%M:%S',\n",
    "            header=0,\n",
    "            encoding='utf-8',\n",
    "        )\n",
    "    elif file.endswith('.xlsx'):\n",
    "        datasets_dict[location][feature_name] = pd.read_excel(\n",
    "            os.path.join(raw_data_folder, file),\n",
    "            date_format='%Y-%m-%d %H:%M:%S',\n",
    "            header=0,\n",
    "        )"
   ]
  },
  {
   "cell_type": "code",
   "execution_count": 219,
   "metadata": {},
   "outputs": [],
   "source": [
    "tortosa_dfs = datasets_dict['TORTOSA']\n",
    "guiamets_dfs = datasets_dict['GUIAMETS']\n",
    "mequinenza_dfs = datasets_dict['MEQUINENZA']\n",
    "xerta_dfs = datasets_dict['XERTA']"
   ]
  },
  {
   "cell_type": "markdown",
   "metadata": {},
   "source": [
    "# Tortosa Preprocessing"
   ]
  },
  {
   "cell_type": "code",
   "execution_count": 220,
   "metadata": {},
   "outputs": [
    {
     "data": {
      "text/plain": [
       "dict_keys(['turbidity', 'cumulated_rainfall_24h', 'flowriver', 'water_temperature', 'conductivity', 'watertemperature'])"
      ]
     },
     "execution_count": 220,
     "metadata": {},
     "output_type": "execute_result"
    }
   ],
   "source": [
    "tortosa_dfs.keys()"
   ]
  },
  {
   "cell_type": "code",
   "execution_count": 221,
   "metadata": {},
   "outputs": [
    {
     "data": {
      "text/plain": [
       "Fecha       0.0\n",
       "Promedio    0.0\n",
       "Mínimo      0.0\n",
       "Máximo      0.0\n",
       "Nºdat       0.0\n",
       "NºOK        0.0\n",
       "dtype: float64"
      ]
     },
     "execution_count": 221,
     "metadata": {},
     "output_type": "execute_result"
    }
   ],
   "source": [
    "# The water temperature has two datasets, but the excel one has no missing values\n",
    "tortosa_dfs['watertemperature'].isna().sum() / tortosa_dfs['watertemperature'].shape[0]"
   ]
  },
  {
   "cell_type": "code",
   "execution_count": 222,
   "metadata": {},
   "outputs": [
    {
     "data": {
      "text/plain": [
       "M�ximo          0.014815\n",
       "M�nimo          0.014815\n",
       "Media           0.014815\n",
       "Fecha m�ximo    0.014815\n",
       "Fecha m�nimo    0.014815\n",
       "fecha           0.000000\n",
       "dtype: float64"
      ]
     },
     "execution_count": 222,
     "metadata": {},
     "output_type": "execute_result"
    }
   ],
   "source": [
    "tortosa_dfs['water_temperature'].isna().sum() / tortosa_dfs['water_temperature'].shape[0]"
   ]
  },
  {
   "cell_type": "code",
   "execution_count": 223,
   "metadata": {},
   "outputs": [
    {
     "data": {
      "text/html": [
       "<div>\n",
       "<style scoped>\n",
       "    .dataframe tbody tr th:only-of-type {\n",
       "        vertical-align: middle;\n",
       "    }\n",
       "\n",
       "    .dataframe tbody tr th {\n",
       "        vertical-align: top;\n",
       "    }\n",
       "\n",
       "    .dataframe thead th {\n",
       "        text-align: right;\n",
       "    }\n",
       "</style>\n",
       "<table border=\"1\" class=\"dataframe\">\n",
       "  <thead>\n",
       "    <tr style=\"text-align: right;\">\n",
       "      <th></th>\n",
       "      <th>M�ximo</th>\n",
       "      <th>M�nimo</th>\n",
       "      <th>Media</th>\n",
       "      <th>Fecha m�ximo</th>\n",
       "      <th>Fecha m�nimo</th>\n",
       "      <th>fecha</th>\n",
       "    </tr>\n",
       "  </thead>\n",
       "  <tbody>\n",
       "    <tr>\n",
       "      <th>0</th>\n",
       "      <td>28.0</td>\n",
       "      <td>26.9</td>\n",
       "      <td>27.8</td>\n",
       "      <td>2012-08-29 16:15:00</td>\n",
       "      <td>2012-08-29 12:45:00</td>\n",
       "      <td>2012-08-29 00:00:00</td>\n",
       "    </tr>\n",
       "    <tr>\n",
       "      <th>1</th>\n",
       "      <td>27.6</td>\n",
       "      <td>26.2</td>\n",
       "      <td>26.7</td>\n",
       "      <td>2012-08-30 00:00:00</td>\n",
       "      <td>2012-08-30 23:45:00</td>\n",
       "      <td>2012-08-30 00:00:00</td>\n",
       "    </tr>\n",
       "    <tr>\n",
       "      <th>2</th>\n",
       "      <td>26.1</td>\n",
       "      <td>24.7</td>\n",
       "      <td>25.3</td>\n",
       "      <td>2012-08-31 00:00:00</td>\n",
       "      <td>2012-08-31 09:45:00</td>\n",
       "      <td>2012-08-31 00:00:00</td>\n",
       "    </tr>\n",
       "    <tr>\n",
       "      <th>3</th>\n",
       "      <td>24.8</td>\n",
       "      <td>23.5</td>\n",
       "      <td>23.9</td>\n",
       "      <td>2012-09-01 00:00:00</td>\n",
       "      <td>2012-09-01 11:45:00</td>\n",
       "      <td>2012-09-01 00:00:00</td>\n",
       "    </tr>\n",
       "    <tr>\n",
       "      <th>4</th>\n",
       "      <td>24.2</td>\n",
       "      <td>22.6</td>\n",
       "      <td>23.3</td>\n",
       "      <td>2012-09-02 18:00:00</td>\n",
       "      <td>2012-09-02 12:00:00</td>\n",
       "      <td>2012-09-02 00:00:00</td>\n",
       "    </tr>\n",
       "    <tr>\n",
       "      <th>...</th>\n",
       "      <td>...</td>\n",
       "      <td>...</td>\n",
       "      <td>...</td>\n",
       "      <td>...</td>\n",
       "      <td>...</td>\n",
       "      <td>...</td>\n",
       "    </tr>\n",
       "    <tr>\n",
       "      <th>4045</th>\n",
       "      <td>26.3</td>\n",
       "      <td>24.9</td>\n",
       "      <td>25.5</td>\n",
       "      <td>2023-09-26 17:30:00</td>\n",
       "      <td>2023-09-26 07:15:00</td>\n",
       "      <td>2023-09-26 00:00:00</td>\n",
       "    </tr>\n",
       "    <tr>\n",
       "      <th>4046</th>\n",
       "      <td>26.9</td>\n",
       "      <td>25.5</td>\n",
       "      <td>26.1</td>\n",
       "      <td>2023-09-27 18:30:00</td>\n",
       "      <td>2023-09-27 07:30:00</td>\n",
       "      <td>2023-09-27 00:00:00</td>\n",
       "    </tr>\n",
       "    <tr>\n",
       "      <th>4047</th>\n",
       "      <td>27.2</td>\n",
       "      <td>25.7</td>\n",
       "      <td>26.3</td>\n",
       "      <td>2023-09-28 18:30:00</td>\n",
       "      <td>2023-09-28 09:00:00</td>\n",
       "      <td>2023-09-28 00:00:00</td>\n",
       "    </tr>\n",
       "    <tr>\n",
       "      <th>4048</th>\n",
       "      <td>27.4</td>\n",
       "      <td>25.9</td>\n",
       "      <td>26.5</td>\n",
       "      <td>2023-09-29 18:15:00</td>\n",
       "      <td>2023-09-29 09:00:00</td>\n",
       "      <td>2023-09-29 00:00:00</td>\n",
       "    </tr>\n",
       "    <tr>\n",
       "      <th>4049</th>\n",
       "      <td>27.4</td>\n",
       "      <td>25.9</td>\n",
       "      <td>26.6</td>\n",
       "      <td>2023-09-30 17:45:00</td>\n",
       "      <td>2023-09-30 08:45:00</td>\n",
       "      <td>2023-09-30 00:00:00</td>\n",
       "    </tr>\n",
       "  </tbody>\n",
       "</table>\n",
       "<p>4050 rows × 6 columns</p>\n",
       "</div>"
      ],
      "text/plain": [
       "      M�ximo  M�nimo  Media         Fecha m�ximo         Fecha m�nimo  \\\n",
       "0       28.0    26.9   27.8  2012-08-29 16:15:00  2012-08-29 12:45:00   \n",
       "1       27.6    26.2   26.7  2012-08-30 00:00:00  2012-08-30 23:45:00   \n",
       "2       26.1    24.7   25.3  2012-08-31 00:00:00  2012-08-31 09:45:00   \n",
       "3       24.8    23.5   23.9  2012-09-01 00:00:00  2012-09-01 11:45:00   \n",
       "4       24.2    22.6   23.3  2012-09-02 18:00:00  2012-09-02 12:00:00   \n",
       "...      ...     ...    ...                  ...                  ...   \n",
       "4045    26.3    24.9   25.5  2023-09-26 17:30:00  2023-09-26 07:15:00   \n",
       "4046    26.9    25.5   26.1  2023-09-27 18:30:00  2023-09-27 07:30:00   \n",
       "4047    27.2    25.7   26.3  2023-09-28 18:30:00  2023-09-28 09:00:00   \n",
       "4048    27.4    25.9   26.5  2023-09-29 18:15:00  2023-09-29 09:00:00   \n",
       "4049    27.4    25.9   26.6  2023-09-30 17:45:00  2023-09-30 08:45:00   \n",
       "\n",
       "                    fecha  \n",
       "0     2012-08-29 00:00:00  \n",
       "1     2012-08-30 00:00:00  \n",
       "2     2012-08-31 00:00:00  \n",
       "3     2012-09-01 00:00:00  \n",
       "4     2012-09-02 00:00:00  \n",
       "...                   ...  \n",
       "4045  2023-09-26 00:00:00  \n",
       "4046  2023-09-27 00:00:00  \n",
       "4047  2023-09-28 00:00:00  \n",
       "4048  2023-09-29 00:00:00  \n",
       "4049  2023-09-30 00:00:00  \n",
       "\n",
       "[4050 rows x 6 columns]"
      ]
     },
     "execution_count": 223,
     "metadata": {},
     "output_type": "execute_result"
    }
   ],
   "source": [
    "tortosa_dfs.pop('water_temperature')"
   ]
  },
  {
   "cell_type": "code",
   "execution_count": 224,
   "metadata": {},
   "outputs": [
    {
     "data": {
      "text/html": [
       "<div>\n",
       "<style scoped>\n",
       "    .dataframe tbody tr th:only-of-type {\n",
       "        vertical-align: middle;\n",
       "    }\n",
       "\n",
       "    .dataframe tbody tr th {\n",
       "        vertical-align: top;\n",
       "    }\n",
       "\n",
       "    .dataframe thead th {\n",
       "        text-align: right;\n",
       "    }\n",
       "</style>\n",
       "<table border=\"1\" class=\"dataframe\">\n",
       "  <thead>\n",
       "    <tr style=\"text-align: right;\">\n",
       "      <th></th>\n",
       "      <th>Acumulado</th>\n",
       "      <th>Fecha acumulado</th>\n",
       "      <th>M�ximo</th>\n",
       "      <th>Fecha m�ximo</th>\n",
       "      <th>fecha</th>\n",
       "    </tr>\n",
       "  </thead>\n",
       "  <tbody>\n",
       "    <tr>\n",
       "      <th>0</th>\n",
       "      <td>0.0</td>\n",
       "      <td>2004-07-04 00:00:00</td>\n",
       "      <td>NaN</td>\n",
       "      <td>NaN</td>\n",
       "      <td>2004-07-04 00:00:00</td>\n",
       "    </tr>\n",
       "    <tr>\n",
       "      <th>1</th>\n",
       "      <td>0.8</td>\n",
       "      <td>2004-07-05 00:00:00</td>\n",
       "      <td>NaN</td>\n",
       "      <td>NaN</td>\n",
       "      <td>2004-07-05 00:00:00</td>\n",
       "    </tr>\n",
       "    <tr>\n",
       "      <th>2</th>\n",
       "      <td>2.4</td>\n",
       "      <td>2004-07-06 00:00:00</td>\n",
       "      <td>NaN</td>\n",
       "      <td>NaN</td>\n",
       "      <td>2004-07-06 00:00:00</td>\n",
       "    </tr>\n",
       "    <tr>\n",
       "      <th>3</th>\n",
       "      <td>0.8</td>\n",
       "      <td>2004-07-07 00:00:00</td>\n",
       "      <td>NaN</td>\n",
       "      <td>NaN</td>\n",
       "      <td>2004-07-07 00:00:00</td>\n",
       "    </tr>\n",
       "    <tr>\n",
       "      <th>4</th>\n",
       "      <td>0.0</td>\n",
       "      <td>2004-07-08 00:00:00</td>\n",
       "      <td>NaN</td>\n",
       "      <td>NaN</td>\n",
       "      <td>2004-07-08 00:00:00</td>\n",
       "    </tr>\n",
       "    <tr>\n",
       "      <th>...</th>\n",
       "      <td>...</td>\n",
       "      <td>...</td>\n",
       "      <td>...</td>\n",
       "      <td>...</td>\n",
       "      <td>...</td>\n",
       "    </tr>\n",
       "    <tr>\n",
       "      <th>7023</th>\n",
       "      <td>0.0</td>\n",
       "      <td>2023-09-26 00:00:00</td>\n",
       "      <td>NaN</td>\n",
       "      <td>NaN</td>\n",
       "      <td>2023-09-26 00:00:00</td>\n",
       "    </tr>\n",
       "    <tr>\n",
       "      <th>7024</th>\n",
       "      <td>0.0</td>\n",
       "      <td>2023-09-27 00:00:00</td>\n",
       "      <td>NaN</td>\n",
       "      <td>NaN</td>\n",
       "      <td>2023-09-27 00:00:00</td>\n",
       "    </tr>\n",
       "    <tr>\n",
       "      <th>7025</th>\n",
       "      <td>0.0</td>\n",
       "      <td>2023-09-28 00:00:00</td>\n",
       "      <td>NaN</td>\n",
       "      <td>NaN</td>\n",
       "      <td>2023-09-28 00:00:00</td>\n",
       "    </tr>\n",
       "    <tr>\n",
       "      <th>7026</th>\n",
       "      <td>0.0</td>\n",
       "      <td>2023-09-29 00:00:00</td>\n",
       "      <td>NaN</td>\n",
       "      <td>NaN</td>\n",
       "      <td>2023-09-29 00:00:00</td>\n",
       "    </tr>\n",
       "    <tr>\n",
       "      <th>7027</th>\n",
       "      <td>0.0</td>\n",
       "      <td>2023-09-30 00:00:00</td>\n",
       "      <td>NaN</td>\n",
       "      <td>NaN</td>\n",
       "      <td>2023-09-30 00:00:00</td>\n",
       "    </tr>\n",
       "  </tbody>\n",
       "</table>\n",
       "<p>7028 rows × 5 columns</p>\n",
       "</div>"
      ],
      "text/plain": [
       "      Acumulado      Fecha acumulado  M�ximo  Fecha m�ximo  \\\n",
       "0           0.0  2004-07-04 00:00:00     NaN           NaN   \n",
       "1           0.8  2004-07-05 00:00:00     NaN           NaN   \n",
       "2           2.4  2004-07-06 00:00:00     NaN           NaN   \n",
       "3           0.8  2004-07-07 00:00:00     NaN           NaN   \n",
       "4           0.0  2004-07-08 00:00:00     NaN           NaN   \n",
       "...         ...                  ...     ...           ...   \n",
       "7023        0.0  2023-09-26 00:00:00     NaN           NaN   \n",
       "7024        0.0  2023-09-27 00:00:00     NaN           NaN   \n",
       "7025        0.0  2023-09-28 00:00:00     NaN           NaN   \n",
       "7026        0.0  2023-09-29 00:00:00     NaN           NaN   \n",
       "7027        0.0  2023-09-30 00:00:00     NaN           NaN   \n",
       "\n",
       "                    fecha  \n",
       "0     2004-07-04 00:00:00  \n",
       "1     2004-07-05 00:00:00  \n",
       "2     2004-07-06 00:00:00  \n",
       "3     2004-07-07 00:00:00  \n",
       "4     2004-07-08 00:00:00  \n",
       "...                   ...  \n",
       "7023  2023-09-26 00:00:00  \n",
       "7024  2023-09-27 00:00:00  \n",
       "7025  2023-09-28 00:00:00  \n",
       "7026  2023-09-29 00:00:00  \n",
       "7027  2023-09-30 00:00:00  \n",
       "\n",
       "[7028 rows x 5 columns]"
      ]
     },
     "execution_count": 224,
     "metadata": {},
     "output_type": "execute_result"
    }
   ],
   "source": [
    "# Check cumulated rainfall data since it is the only csv file\n",
    "tortosa_dfs['cumulated_rainfall_24h']"
   ]
  },
  {
   "cell_type": "code",
   "execution_count": 225,
   "metadata": {},
   "outputs": [
    {
     "data": {
      "text/html": [
       "<div>\n",
       "<style scoped>\n",
       "    .dataframe tbody tr th:only-of-type {\n",
       "        vertical-align: middle;\n",
       "    }\n",
       "\n",
       "    .dataframe tbody tr th {\n",
       "        vertical-align: top;\n",
       "    }\n",
       "\n",
       "    .dataframe thead th {\n",
       "        text-align: right;\n",
       "    }\n",
       "</style>\n",
       "<table border=\"1\" class=\"dataframe\">\n",
       "  <thead>\n",
       "    <tr style=\"text-align: right;\">\n",
       "      <th></th>\n",
       "      <th>Acumulado</th>\n",
       "      <th>Fecha acumulado</th>\n",
       "      <th>M�ximo</th>\n",
       "      <th>Fecha m�ximo</th>\n",
       "      <th>fecha</th>\n",
       "    </tr>\n",
       "  </thead>\n",
       "  <tbody>\n",
       "    <tr>\n",
       "      <th>69</th>\n",
       "      <td>NaN</td>\n",
       "      <td>NaN</td>\n",
       "      <td>NaN</td>\n",
       "      <td>NaN</td>\n",
       "      <td>2004-09-11 00:00:00</td>\n",
       "    </tr>\n",
       "    <tr>\n",
       "      <th>70</th>\n",
       "      <td>NaN</td>\n",
       "      <td>NaN</td>\n",
       "      <td>NaN</td>\n",
       "      <td>NaN</td>\n",
       "      <td>2004-09-12 00:00:00</td>\n",
       "    </tr>\n",
       "    <tr>\n",
       "      <th>71</th>\n",
       "      <td>NaN</td>\n",
       "      <td>NaN</td>\n",
       "      <td>NaN</td>\n",
       "      <td>NaN</td>\n",
       "      <td>2004-09-13 00:00:00</td>\n",
       "    </tr>\n",
       "    <tr>\n",
       "      <th>72</th>\n",
       "      <td>NaN</td>\n",
       "      <td>NaN</td>\n",
       "      <td>NaN</td>\n",
       "      <td>NaN</td>\n",
       "      <td>2004-09-14 00:00:00</td>\n",
       "    </tr>\n",
       "    <tr>\n",
       "      <th>73</th>\n",
       "      <td>NaN</td>\n",
       "      <td>NaN</td>\n",
       "      <td>NaN</td>\n",
       "      <td>NaN</td>\n",
       "      <td>2004-09-15 00:00:00</td>\n",
       "    </tr>\n",
       "    <tr>\n",
       "      <th>74</th>\n",
       "      <td>NaN</td>\n",
       "      <td>NaN</td>\n",
       "      <td>NaN</td>\n",
       "      <td>NaN</td>\n",
       "      <td>2004-09-16 00:00:00</td>\n",
       "    </tr>\n",
       "    <tr>\n",
       "      <th>75</th>\n",
       "      <td>NaN</td>\n",
       "      <td>NaN</td>\n",
       "      <td>NaN</td>\n",
       "      <td>NaN</td>\n",
       "      <td>2004-09-17 00:00:00</td>\n",
       "    </tr>\n",
       "    <tr>\n",
       "      <th>76</th>\n",
       "      <td>NaN</td>\n",
       "      <td>NaN</td>\n",
       "      <td>NaN</td>\n",
       "      <td>NaN</td>\n",
       "      <td>2004-09-18 00:00:00</td>\n",
       "    </tr>\n",
       "    <tr>\n",
       "      <th>77</th>\n",
       "      <td>NaN</td>\n",
       "      <td>NaN</td>\n",
       "      <td>NaN</td>\n",
       "      <td>NaN</td>\n",
       "      <td>2004-09-19 00:00:00</td>\n",
       "    </tr>\n",
       "    <tr>\n",
       "      <th>78</th>\n",
       "      <td>NaN</td>\n",
       "      <td>NaN</td>\n",
       "      <td>NaN</td>\n",
       "      <td>NaN</td>\n",
       "      <td>2004-09-20 00:00:00</td>\n",
       "    </tr>\n",
       "    <tr>\n",
       "      <th>79</th>\n",
       "      <td>NaN</td>\n",
       "      <td>NaN</td>\n",
       "      <td>NaN</td>\n",
       "      <td>NaN</td>\n",
       "      <td>2004-09-21 00:00:00</td>\n",
       "    </tr>\n",
       "    <tr>\n",
       "      <th>80</th>\n",
       "      <td>NaN</td>\n",
       "      <td>NaN</td>\n",
       "      <td>NaN</td>\n",
       "      <td>NaN</td>\n",
       "      <td>2004-09-22 00:00:00</td>\n",
       "    </tr>\n",
       "    <tr>\n",
       "      <th>81</th>\n",
       "      <td>NaN</td>\n",
       "      <td>NaN</td>\n",
       "      <td>NaN</td>\n",
       "      <td>NaN</td>\n",
       "      <td>2004-09-23 00:00:00</td>\n",
       "    </tr>\n",
       "    <tr>\n",
       "      <th>82</th>\n",
       "      <td>NaN</td>\n",
       "      <td>NaN</td>\n",
       "      <td>NaN</td>\n",
       "      <td>NaN</td>\n",
       "      <td>2004-09-24 00:00:00</td>\n",
       "    </tr>\n",
       "    <tr>\n",
       "      <th>2769</th>\n",
       "      <td>NaN</td>\n",
       "      <td>NaN</td>\n",
       "      <td>NaN</td>\n",
       "      <td>NaN</td>\n",
       "      <td>2012-02-02 00:00:00</td>\n",
       "    </tr>\n",
       "    <tr>\n",
       "      <th>2770</th>\n",
       "      <td>NaN</td>\n",
       "      <td>NaN</td>\n",
       "      <td>NaN</td>\n",
       "      <td>NaN</td>\n",
       "      <td>2012-02-03 00:00:00</td>\n",
       "    </tr>\n",
       "    <tr>\n",
       "      <th>2771</th>\n",
       "      <td>NaN</td>\n",
       "      <td>NaN</td>\n",
       "      <td>NaN</td>\n",
       "      <td>NaN</td>\n",
       "      <td>2012-02-04 00:00:00</td>\n",
       "    </tr>\n",
       "    <tr>\n",
       "      <th>2772</th>\n",
       "      <td>NaN</td>\n",
       "      <td>NaN</td>\n",
       "      <td>NaN</td>\n",
       "      <td>NaN</td>\n",
       "      <td>2012-02-05 00:00:00</td>\n",
       "    </tr>\n",
       "    <tr>\n",
       "      <th>2773</th>\n",
       "      <td>NaN</td>\n",
       "      <td>NaN</td>\n",
       "      <td>NaN</td>\n",
       "      <td>NaN</td>\n",
       "      <td>2012-02-06 00:00:00</td>\n",
       "    </tr>\n",
       "    <tr>\n",
       "      <th>2774</th>\n",
       "      <td>NaN</td>\n",
       "      <td>NaN</td>\n",
       "      <td>NaN</td>\n",
       "      <td>NaN</td>\n",
       "      <td>2012-02-07 00:00:00</td>\n",
       "    </tr>\n",
       "    <tr>\n",
       "      <th>3042</th>\n",
       "      <td>NaN</td>\n",
       "      <td>NaN</td>\n",
       "      <td>NaN</td>\n",
       "      <td>NaN</td>\n",
       "      <td>2012-11-01 00:00:00</td>\n",
       "    </tr>\n",
       "    <tr>\n",
       "      <th>3043</th>\n",
       "      <td>NaN</td>\n",
       "      <td>NaN</td>\n",
       "      <td>NaN</td>\n",
       "      <td>NaN</td>\n",
       "      <td>2012-11-02 00:00:00</td>\n",
       "    </tr>\n",
       "    <tr>\n",
       "      <th>3044</th>\n",
       "      <td>NaN</td>\n",
       "      <td>NaN</td>\n",
       "      <td>NaN</td>\n",
       "      <td>NaN</td>\n",
       "      <td>2012-11-03 00:00:00</td>\n",
       "    </tr>\n",
       "    <tr>\n",
       "      <th>3045</th>\n",
       "      <td>NaN</td>\n",
       "      <td>NaN</td>\n",
       "      <td>NaN</td>\n",
       "      <td>NaN</td>\n",
       "      <td>2012-11-04 00:00:00</td>\n",
       "    </tr>\n",
       "    <tr>\n",
       "      <th>3046</th>\n",
       "      <td>NaN</td>\n",
       "      <td>NaN</td>\n",
       "      <td>NaN</td>\n",
       "      <td>NaN</td>\n",
       "      <td>2012-11-05 00:00:00</td>\n",
       "    </tr>\n",
       "    <tr>\n",
       "      <th>3047</th>\n",
       "      <td>NaN</td>\n",
       "      <td>NaN</td>\n",
       "      <td>NaN</td>\n",
       "      <td>NaN</td>\n",
       "      <td>2012-11-06 00:00:00</td>\n",
       "    </tr>\n",
       "    <tr>\n",
       "      <th>3048</th>\n",
       "      <td>NaN</td>\n",
       "      <td>NaN</td>\n",
       "      <td>NaN</td>\n",
       "      <td>NaN</td>\n",
       "      <td>2012-11-07 00:00:00</td>\n",
       "    </tr>\n",
       "    <tr>\n",
       "      <th>3049</th>\n",
       "      <td>NaN</td>\n",
       "      <td>NaN</td>\n",
       "      <td>NaN</td>\n",
       "      <td>NaN</td>\n",
       "      <td>2012-11-08 00:00:00</td>\n",
       "    </tr>\n",
       "    <tr>\n",
       "      <th>4585</th>\n",
       "      <td>NaN</td>\n",
       "      <td>NaN</td>\n",
       "      <td>NaN</td>\n",
       "      <td>NaN</td>\n",
       "      <td>2017-01-22 00:00:00</td>\n",
       "    </tr>\n",
       "    <tr>\n",
       "      <th>4823</th>\n",
       "      <td>NaN</td>\n",
       "      <td>NaN</td>\n",
       "      <td>NaN</td>\n",
       "      <td>NaN</td>\n",
       "      <td>2017-09-17 00:00:00</td>\n",
       "    </tr>\n",
       "  </tbody>\n",
       "</table>\n",
       "</div>"
      ],
      "text/plain": [
       "      Acumulado Fecha acumulado  M�ximo  Fecha m�ximo                fecha\n",
       "69          NaN             NaN     NaN           NaN  2004-09-11 00:00:00\n",
       "70          NaN             NaN     NaN           NaN  2004-09-12 00:00:00\n",
       "71          NaN             NaN     NaN           NaN  2004-09-13 00:00:00\n",
       "72          NaN             NaN     NaN           NaN  2004-09-14 00:00:00\n",
       "73          NaN             NaN     NaN           NaN  2004-09-15 00:00:00\n",
       "74          NaN             NaN     NaN           NaN  2004-09-16 00:00:00\n",
       "75          NaN             NaN     NaN           NaN  2004-09-17 00:00:00\n",
       "76          NaN             NaN     NaN           NaN  2004-09-18 00:00:00\n",
       "77          NaN             NaN     NaN           NaN  2004-09-19 00:00:00\n",
       "78          NaN             NaN     NaN           NaN  2004-09-20 00:00:00\n",
       "79          NaN             NaN     NaN           NaN  2004-09-21 00:00:00\n",
       "80          NaN             NaN     NaN           NaN  2004-09-22 00:00:00\n",
       "81          NaN             NaN     NaN           NaN  2004-09-23 00:00:00\n",
       "82          NaN             NaN     NaN           NaN  2004-09-24 00:00:00\n",
       "2769        NaN             NaN     NaN           NaN  2012-02-02 00:00:00\n",
       "2770        NaN             NaN     NaN           NaN  2012-02-03 00:00:00\n",
       "2771        NaN             NaN     NaN           NaN  2012-02-04 00:00:00\n",
       "2772        NaN             NaN     NaN           NaN  2012-02-05 00:00:00\n",
       "2773        NaN             NaN     NaN           NaN  2012-02-06 00:00:00\n",
       "2774        NaN             NaN     NaN           NaN  2012-02-07 00:00:00\n",
       "3042        NaN             NaN     NaN           NaN  2012-11-01 00:00:00\n",
       "3043        NaN             NaN     NaN           NaN  2012-11-02 00:00:00\n",
       "3044        NaN             NaN     NaN           NaN  2012-11-03 00:00:00\n",
       "3045        NaN             NaN     NaN           NaN  2012-11-04 00:00:00\n",
       "3046        NaN             NaN     NaN           NaN  2012-11-05 00:00:00\n",
       "3047        NaN             NaN     NaN           NaN  2012-11-06 00:00:00\n",
       "3048        NaN             NaN     NaN           NaN  2012-11-07 00:00:00\n",
       "3049        NaN             NaN     NaN           NaN  2012-11-08 00:00:00\n",
       "4585        NaN             NaN     NaN           NaN  2017-01-22 00:00:00\n",
       "4823        NaN             NaN     NaN           NaN  2017-09-17 00:00:00"
      ]
     },
     "execution_count": 225,
     "metadata": {},
     "output_type": "execute_result"
    }
   ],
   "source": [
    "# fecha column is the one to take into account since \n",
    "# it is equal to the Fecha acumulado column in the same dataframe\n",
    "# but it has no missing values\n",
    "mask = tortosa_dfs['cumulated_rainfall_24h']['Fecha acumulado'] == tortosa_dfs['cumulated_rainfall_24h']['fecha']\n",
    "tortosa_dfs['cumulated_rainfall_24h'][mask == False]"
   ]
  },
  {
   "cell_type": "code",
   "execution_count": 226,
   "metadata": {},
   "outputs": [
    {
     "data": {
      "text/plain": [
       "Acumulado          0.004269\n",
       "Fecha acumulado    0.004269\n",
       "M�ximo             1.000000\n",
       "Fecha m�ximo       1.000000\n",
       "fecha              0.000000\n",
       "dtype: float64"
      ]
     },
     "execution_count": 226,
     "metadata": {},
     "output_type": "execute_result"
    }
   ],
   "source": [
    "tortosa_dfs['cumulated_rainfall_24h'].isna().sum() / tortosa_dfs['cumulated_rainfall_24h'].shape[0]"
   ]
  },
  {
   "cell_type": "code",
   "execution_count": 227,
   "metadata": {},
   "outputs": [],
   "source": [
    "tortosa_dfs['cumulated_rainfall_24h'] = tortosa_dfs['cumulated_rainfall_24h'][['fecha', 'Acumulado']].rename(columns={'fecha': 'DateTime', 'Acumulado': 'Average'})"
   ]
  },
  {
   "cell_type": "code",
   "execution_count": 228,
   "metadata": {},
   "outputs": [
    {
     "data": {
      "text/plain": [
       "Fecha       0.0\n",
       "Promedio    0.0\n",
       "Mínimo      0.0\n",
       "Máximo      0.0\n",
       "Nºdat       0.0\n",
       "NºOK        0.0\n",
       "dtype: float64"
      ]
     },
     "execution_count": 228,
     "metadata": {},
     "output_type": "execute_result"
    }
   ],
   "source": [
    "tortosa_dfs['conductivity'].isna().sum() / tortosa_dfs['conductivity'].shape[0]"
   ]
  },
  {
   "cell_type": "code",
   "execution_count": 229,
   "metadata": {},
   "outputs": [
    {
     "data": {
      "text/plain": [
       "Fecha       0.0\n",
       "Promedio    0.0\n",
       "Mínimo      0.0\n",
       "Máximo      0.0\n",
       "Nºdat       0.0\n",
       "NºOK        0.0\n",
       "dtype: float64"
      ]
     },
     "execution_count": 229,
     "metadata": {},
     "output_type": "execute_result"
    }
   ],
   "source": [
    "tortosa_dfs['flowriver'].isna().sum() / tortosa_dfs['flowriver'].shape[0]"
   ]
  },
  {
   "cell_type": "code",
   "execution_count": 230,
   "metadata": {},
   "outputs": [
    {
     "data": {
      "text/plain": [
       "Fecha       0.0\n",
       "Promedio    0.0\n",
       "Mínimo      0.0\n",
       "Máximo      0.0\n",
       "Nºdat       0.0\n",
       "NºOK        0.0\n",
       "dtype: float64"
      ]
     },
     "execution_count": 230,
     "metadata": {},
     "output_type": "execute_result"
    }
   ],
   "source": [
    "tortosa_dfs['turbidity'].isna().sum() / tortosa_dfs['turbidity'].shape[0]"
   ]
  },
  {
   "cell_type": "code",
   "execution_count": 231,
   "metadata": {},
   "outputs": [],
   "source": [
    "for feature, df in tortosa_dfs.items():\n",
    "    if feature != 'cumulated_rainfall_24h':\n",
    "        df.rename(\n",
    "            columns={\n",
    "                'Fecha': 'DateTime',\n",
    "                'Promedio': 'Average',\n",
    "                'Máximo': 'Maximum',\n",
    "                'Mínimo': 'Minimum'\n",
    "            },\n",
    "            inplace=True\n",
    "        )"
   ]
  },
  {
   "cell_type": "code",
   "execution_count": 232,
   "metadata": {},
   "outputs": [],
   "source": [
    "for df in tortosa_dfs.values():\n",
    "    df['DateTime'] = pd.to_datetime(df['DateTime'])\n",
    "    df[df.columns.difference(['DateTime'])] = df[df.columns.difference(['DateTime'])].apply(pd.to_numeric, errors='coerce')\n"
   ]
  },
  {
   "cell_type": "markdown",
   "metadata": {},
   "source": [
    "# Guiamets Preprocessing"
   ]
  },
  {
   "cell_type": "code",
   "execution_count": 233,
   "metadata": {},
   "outputs": [
    {
     "data": {
      "text/plain": [
       "dict_keys(['cumulated_rainfall_24h', 'environmental_temperature'])"
      ]
     },
     "execution_count": 233,
     "metadata": {},
     "output_type": "execute_result"
    }
   ],
   "source": [
    "guiamets_dfs.keys()"
   ]
  },
  {
   "cell_type": "code",
   "execution_count": 234,
   "metadata": {},
   "outputs": [
    {
     "data": {
      "text/plain": [
       "Acumulado          0.000184\n",
       "Fecha acumulado    0.000184\n",
       "M�ximo             1.000000\n",
       "Fecha m�ximo       1.000000\n",
       "fecha              0.000000\n",
       "dtype: float64"
      ]
     },
     "execution_count": 234,
     "metadata": {},
     "output_type": "execute_result"
    }
   ],
   "source": [
    "# Percentage of missing values\n",
    "guiamets_dfs['cumulated_rainfall_24h'].isna().sum() / guiamets_dfs['cumulated_rainfall_24h'].shape[0]"
   ]
  },
  {
   "cell_type": "code",
   "execution_count": 235,
   "metadata": {},
   "outputs": [
    {
     "data": {
      "text/plain": [
       "M�ximo          0.013823\n",
       "M�nimo          0.013823\n",
       "Media           0.014005\n",
       "Fecha m�ximo    0.013823\n",
       "Fecha m�nimo    0.013823\n",
       "fecha           0.000000\n",
       "dtype: float64"
      ]
     },
     "execution_count": 235,
     "metadata": {},
     "output_type": "execute_result"
    }
   ],
   "source": [
    "guiamets_dfs['environmental_temperature'].isna().sum() / guiamets_dfs['environmental_temperature'].shape[0]"
   ]
  },
  {
   "cell_type": "code",
   "execution_count": 236,
   "metadata": {},
   "outputs": [
    {
     "data": {
      "text/plain": [
       "['Acumulado', 'Fecha acumulado', 'M�ximo', 'Fecha m�ximo', 'fecha']"
      ]
     },
     "execution_count": 236,
     "metadata": {},
     "output_type": "execute_result"
    }
   ],
   "source": [
    "guiamets_dfs['cumulated_rainfall_24h'].columns.to_list()"
   ]
  },
  {
   "cell_type": "code",
   "execution_count": 237,
   "metadata": {},
   "outputs": [],
   "source": [
    "guiamets_dfs['cumulated_rainfall_24h'].drop(columns=['Fecha m�ximo', 'M�ximo'], inplace=True)\n",
    "guiamets_dfs['environmental_temperature'].drop(columns=['Fecha m�ximo', 'Fecha m�nimo'], inplace=True)"
   ]
  },
  {
   "cell_type": "code",
   "execution_count": 238,
   "metadata": {},
   "outputs": [],
   "source": [
    "guiamets_dfs['cumulated_rainfall_24h'].rename(\n",
    "    columns={\n",
    "        'fecha': 'DateTime',\n",
    "        'Acumulado': 'Average'\n",
    "    },\n",
    "    inplace=True\n",
    ")\n",
    "\n",
    "guiamets_dfs['environmental_temperature'].rename(\n",
    "    columns={\n",
    "        'fecha': 'DateTime',\n",
    "        'Media': 'Average',\n",
    "        'M�nimo': 'Minimum',\n",
    "        'M�ximo': 'Maximum'\n",
    "    },\n",
    "    inplace=True\n",
    ")"
   ]
  },
  {
   "cell_type": "code",
   "execution_count": 239,
   "metadata": {},
   "outputs": [],
   "source": [
    "for df in guiamets_dfs.values():\n",
    "    df['DateTime'] = pd.to_datetime(df['DateTime'])\n",
    "    df[df.columns.difference(['DateTime'])] = df[df.columns.difference(['DateTime'])].apply(pd.to_numeric, errors='coerce')"
   ]
  },
  {
   "cell_type": "markdown",
   "metadata": {},
   "source": [
    "# Mequinenza Preprocessing"
   ]
  },
  {
   "cell_type": "code",
   "execution_count": 240,
   "metadata": {},
   "outputs": [
    {
     "data": {
      "text/plain": [
       "dict_keys(['cumulated_rainfall_24h'])"
      ]
     },
     "execution_count": 240,
     "metadata": {},
     "output_type": "execute_result"
    }
   ],
   "source": [
    "mequinenza_dfs.keys()"
   ]
  },
  {
   "cell_type": "code",
   "execution_count": 241,
   "metadata": {},
   "outputs": [
    {
     "data": {
      "text/plain": [
       "Acumulado          0.001175\n",
       "Fecha acumulado    0.001175\n",
       "M�ximo             1.000000\n",
       "Fecha m�ximo       1.000000\n",
       "fecha              0.000000\n",
       "dtype: float64"
      ]
     },
     "execution_count": 241,
     "metadata": {},
     "output_type": "execute_result"
    }
   ],
   "source": [
    "mequinenza_dfs['cumulated_rainfall_24h'].isna().sum() / mequinenza_dfs['cumulated_rainfall_24h'].shape[0]"
   ]
  },
  {
   "cell_type": "code",
   "execution_count": 242,
   "metadata": {},
   "outputs": [],
   "source": [
    "mequinenza_dfs['cumulated_rainfall_24h'].drop(columns=['Fecha m�ximo', 'M�ximo', 'Fecha acumulado'], inplace=True)"
   ]
  },
  {
   "cell_type": "code",
   "execution_count": 243,
   "metadata": {},
   "outputs": [],
   "source": [
    "mequinenza_dfs['cumulated_rainfall_24h'].rename(\n",
    "    columns={\n",
    "        'fecha': 'DateTime',\n",
    "        'Acumulado': 'Average'\n",
    "    },\n",
    "    inplace=True\n",
    ")"
   ]
  },
  {
   "cell_type": "code",
   "execution_count": 244,
   "metadata": {},
   "outputs": [],
   "source": [
    "mequinenza_dfs['cumulated_rainfall_24h']['DateTime'] = pd.to_datetime(mequinenza_dfs['cumulated_rainfall_24h']['DateTime'])\n",
    "mequinenza_dfs['cumulated_rainfall_24h'][mequinenza_dfs['cumulated_rainfall_24h'].columns.difference(['DateTime'])] = mequinenza_dfs['cumulated_rainfall_24h'][mequinenza_dfs['cumulated_rainfall_24h'].columns.difference(['DateTime'])].apply(pd.to_numeric, errors='coerce')"
   ]
  },
  {
   "cell_type": "markdown",
   "metadata": {},
   "source": [
    "# Xerta Preprocessing"
   ]
  },
  {
   "cell_type": "code",
   "execution_count": 245,
   "metadata": {},
   "outputs": [
    {
     "data": {
      "text/plain": [
       "dict_keys(['nitrate', 'ABS254', 'pH', 'Ammonium', 'dissolvedoxygen', 'Conductivity', 'redoxpotential', 'turbidity', 'watertemperature'])"
      ]
     },
     "execution_count": 245,
     "metadata": {},
     "output_type": "execute_result"
    }
   ],
   "source": [
    "xerta_dfs.keys()"
   ]
  },
  {
   "cell_type": "code",
   "execution_count": 246,
   "metadata": {},
   "outputs": [
    {
     "name": "stdout",
     "output_type": "stream",
     "text": [
      "Feature: nitrate\n",
      "\n",
      "% missing values:\n",
      "\n",
      "Fecha       0.0\n",
      "Promedio    0.0\n",
      "Mínimo      0.0\n",
      "Máximo      0.0\n",
      "Nºdat       0.0\n",
      "NºOK        0.0\n",
      "dtype: float64\n",
      "\n",
      "Column names: ['Fecha', 'Promedio', 'Mínimo', 'Máximo', 'Nºdat', 'NºOK']\n",
      "\n",
      "----------------------------------------------------------------------------------------------------\n",
      "\n",
      "Feature: ABS254\n",
      "\n",
      "% missing values:\n",
      "\n",
      "Fecha       0.0\n",
      "Promedio    0.0\n",
      "Mínimo      0.0\n",
      "Máximo      0.0\n",
      "Nºdat       0.0\n",
      "NºOK        0.0\n",
      "dtype: float64\n",
      "\n",
      "Column names: ['Fecha', 'Promedio', 'Mínimo', 'Máximo', 'Nºdat', 'NºOK']\n",
      "\n",
      "----------------------------------------------------------------------------------------------------\n",
      "\n",
      "Feature: pH\n",
      "\n",
      "% missing values:\n",
      "\n",
      "Fecha       0.0\n",
      "Promedio    0.0\n",
      "Mínimo      0.0\n",
      "Máximo      0.0\n",
      "Nºdat       0.0\n",
      "NºOK        0.0\n",
      "dtype: float64\n",
      "\n",
      "Column names: ['Fecha', 'Promedio', 'Mínimo', 'Máximo', 'Nºdat', 'NºOK']\n",
      "\n",
      "----------------------------------------------------------------------------------------------------\n",
      "\n",
      "Feature: Ammonium\n",
      "\n",
      "% missing values:\n",
      "\n",
      "Fecha       0.0\n",
      "Promedio    0.0\n",
      "Mínimo      0.0\n",
      "Máximo      0.0\n",
      "Nºdat       0.0\n",
      "NºOK        0.0\n",
      "dtype: float64\n",
      "\n",
      "Column names: ['Fecha', 'Promedio', 'Mínimo', 'Máximo', 'Nºdat', 'NºOK']\n",
      "\n",
      "----------------------------------------------------------------------------------------------------\n",
      "\n",
      "Feature: dissolvedoxygen\n",
      "\n",
      "% missing values:\n",
      "\n",
      "Fecha       0.0\n",
      "Promedio    0.0\n",
      "Mínimo      0.0\n",
      "Máximo      0.0\n",
      "Nºdat       0.0\n",
      "NºOK        0.0\n",
      "dtype: float64\n",
      "\n",
      "Column names: ['Fecha', 'Promedio', 'Mínimo', 'Máximo', 'Nºdat', 'NºOK']\n",
      "\n",
      "----------------------------------------------------------------------------------------------------\n",
      "\n",
      "Feature: Conductivity\n",
      "\n",
      "% missing values:\n",
      "\n",
      "Fecha       0.0\n",
      "Promedio    0.0\n",
      "Mínimo      0.0\n",
      "Máximo      0.0\n",
      "Nºdat       0.0\n",
      "NºOK        0.0\n",
      "dtype: float64\n",
      "\n",
      "Column names: ['Fecha', 'Promedio', 'Mínimo', 'Máximo', 'Nºdat', 'NºOK']\n",
      "\n",
      "----------------------------------------------------------------------------------------------------\n",
      "\n",
      "Feature: redoxpotential\n",
      "\n",
      "% missing values:\n",
      "\n",
      "Fecha       0.0\n",
      "Promedio    0.0\n",
      "Mínimo      0.0\n",
      "Máximo      0.0\n",
      "Nºdat       0.0\n",
      "NºOK        0.0\n",
      "dtype: float64\n",
      "\n",
      "Column names: ['Fecha', 'Promedio', 'Mínimo', 'Máximo', 'Nºdat', 'NºOK']\n",
      "\n",
      "----------------------------------------------------------------------------------------------------\n",
      "\n",
      "Feature: turbidity\n",
      "\n",
      "% missing values:\n",
      "\n",
      "Fecha       0.0\n",
      "Promedio    0.0\n",
      "Mínimo      0.0\n",
      "Máximo      0.0\n",
      "Nºdat       0.0\n",
      "NºOK        0.0\n",
      "dtype: float64\n",
      "\n",
      "Column names: ['Fecha', 'Promedio', 'Mínimo', 'Máximo', 'Nºdat', 'NºOK']\n",
      "\n",
      "----------------------------------------------------------------------------------------------------\n",
      "\n",
      "Feature: watertemperature\n",
      "\n",
      "% missing values:\n",
      "\n",
      "Fecha       0.0\n",
      "Promedio    0.0\n",
      "Mínimo      0.0\n",
      "Máximo      0.0\n",
      "Nºdat       0.0\n",
      "NºOK        0.0\n",
      "dtype: float64\n",
      "\n",
      "Column names: ['Fecha', 'Promedio', 'Mínimo', 'Máximo', 'Nºdat', 'NºOK']\n",
      "\n",
      "----------------------------------------------------------------------------------------------------\n",
      "\n"
     ]
    }
   ],
   "source": [
    "for feature, df in xerta_dfs.items():\n",
    "    print('Feature:', feature)\n",
    "    print()\n",
    "    print('% missing values:')\n",
    "    print()\n",
    "    print(df.isna().sum() / df.shape[0])\n",
    "    print()\n",
    "    print('Column names:', df.columns.to_list())\n",
    "    print()\n",
    "    print('-' * 100)\n",
    "    print()"
   ]
  },
  {
   "cell_type": "code",
   "execution_count": 247,
   "metadata": {},
   "outputs": [],
   "source": [
    "for df in xerta_dfs.values():\n",
    "    df.rename(\n",
    "        columns={\n",
    "            'Fecha': 'DateTime',\n",
    "            'Promedio': 'Average',\n",
    "            'Máximo': 'Maximum',\n",
    "            'Mínimo': 'Minimum'\n",
    "        },\n",
    "        inplace=True\n",
    "    )\n",
    "    \n",
    "    df['DateTime'] = pd.to_datetime(df['DateTime'])\n",
    "    df[df.columns.difference(['DateTime'])] = df[df.columns.difference(['DateTime'])].apply(pd.to_numeric, errors='coerce')"
   ]
  },
  {
   "cell_type": "markdown",
   "metadata": {},
   "source": [
    "# Save Data"
   ]
  },
  {
   "cell_type": "code",
   "execution_count": 248,
   "metadata": {},
   "outputs": [],
   "source": [
    "datasets_dict['TORTOSA'] = tortosa_dfs\n",
    "datasets_dict['GUIAMETS'] = guiamets_dfs\n",
    "datasets_dict['MEQUINENZA'] = mequinenza_dfs\n",
    "datasets_dict['XERTA'] = xerta_dfs"
   ]
  },
  {
   "cell_type": "code",
   "execution_count": 249,
   "metadata": {},
   "outputs": [],
   "source": [
    "for location in datasets_dict.keys():\n",
    "    if not os.path.exists(os.path.join(intermediate_data_folder, location)):\n",
    "        os.makedirs(os.path.join(intermediate_data_folder, location))\n",
    "        \n",
    "    path = os.path.join(intermediate_data_folder, location)\n",
    "    for feature, df in datasets_dict[location].items():\n",
    "        df.to_excel(os.path.join(path, f'{feature}.xlsx'), index=False)"
   ]
  }
 ],
 "metadata": {
  "kernelspec": {
   "display_name": "climate-change-MEYtuKH4-py3.12",
   "language": "python",
   "name": "python3"
  },
  "language_info": {
   "codemirror_mode": {
    "name": "ipython",
    "version": 3
   },
   "file_extension": ".py",
   "mimetype": "text/x-python",
   "name": "python",
   "nbconvert_exporter": "python",
   "pygments_lexer": "ipython3",
   "version": "3.12.0"
  }
 },
 "nbformat": 4,
 "nbformat_minor": 2
}
