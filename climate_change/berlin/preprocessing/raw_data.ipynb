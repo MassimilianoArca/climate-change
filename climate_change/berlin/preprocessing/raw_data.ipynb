{
 "cells": [
  {
   "cell_type": "markdown",
   "metadata": {},
   "source": [
    "# Berlin Data\n",
    "\n",
    "Time series for the Havel River inflow to the city (Konradshöhe, Messstellennummer 305) and the downstream station (Schleuse Spandau, Messstellennummer 320), DOC and TOC.\n",
    "\n",
    "Two groundwater station are attached, only with quality, no DOC/TOC is measured here, but UV254 and other. The groundwater stations are not influenced by bank filtrate and represent near-natural conditions (for a city like Berlin)."
   ]
  },
  {
   "cell_type": "code",
   "execution_count": null,
   "metadata": {},
   "outputs": [],
   "source": [
    "import os\n",
    "import pandas as pd\n",
    "import numpy as np\n",
    "import seaborn as sns\n",
    "import plotly.express as px\n",
    "import plotly.graph_objects as go\n",
    "import matplotlib.pyplot as plt\n",
    "import statsmodels.tsa.seasonal as smt\n",
    "from googletrans import Translator\n",
    "\n",
    "import statsmodels.api as sm\n",
    "from statsmodels.tsa.seasonal import STL\n",
    "\n",
    "from sklearn.preprocessing import MinMaxScaler"
   ]
  },
  {
   "cell_type": "markdown",
   "metadata": {},
   "source": [
    "# Define Paths"
   ]
  },
  {
   "cell_type": "code",
   "execution_count": null,
   "metadata": {},
   "outputs": [],
   "source": [
    "data_folder = os.path.join(\"..\", \"..\", \"data\", \"berlin\")\n",
    "\n",
    "raw_data_folder = os.path.join(data_folder, \"raw_data\")\n",
    "data_info_folder = os.path.join(data_folder, \"data_info\")\n",
    "\n",
    "ground_water_folder = os.path.join(raw_data_folder, \"ground water\")\n",
    "surface_water_folder = os.path.join(raw_data_folder, \"surface water\")"
   ]
  },
  {
   "cell_type": "markdown",
   "metadata": {},
   "source": [
    "# Load Data"
   ]
  },
  {
   "cell_type": "markdown",
   "metadata": {},
   "source": [
    "## Ground Water"
   ]
  },
  {
   "cell_type": "code",
   "execution_count": null,
   "metadata": {},
   "outputs": [],
   "source": [
    "ts_gw_df = pd.read_csv(\n",
    "    os.path.join(\n",
    "        ground_water_folder, \"time-series_ground-water_quality.csv\"\n",
    "    )\n",
    ")"
   ]
  },
  {
   "cell_type": "code",
   "execution_count": null,
   "metadata": {},
   "outputs": [],
   "source": [
    "ts_gw_df"
   ]
  },
  {
   "cell_type": "code",
   "execution_count": null,
   "metadata": {},
   "outputs": [],
   "source": [
    "ts_gw_df.rename(\n",
    "    columns={\n",
    "        \"Messstellennummer\": \"Station ID\",\n",
    "        \"Datum\": \"DateTime\",\n",
    "        \"Einheit\": \"Unit\",\n",
    "        \"Messwert\": \"Value\",\n",
    "    },\n",
    "    inplace=True,\n",
    ")"
   ]
  },
  {
   "cell_type": "markdown",
   "metadata": {},
   "source": [
    "## Surface Water"
   ]
  },
  {
   "cell_type": "code",
   "execution_count": null,
   "metadata": {},
   "outputs": [],
   "source": [
    "ts_sw_df = pd.read_csv(\n",
    "    os.path.join(\n",
    "        surface_water_folder, \"time-series_surface-water_quality.csv\"\n",
    "    )\n",
    ")"
   ]
  },
  {
   "cell_type": "code",
   "execution_count": null,
   "metadata": {},
   "outputs": [],
   "source": [
    "flow_df = pd.read_csv(\n",
    "    os.path.join(\n",
    "        surface_water_folder, \"time-series_surface-water_flow.csv\"\n",
    "    )\n",
    ")"
   ]
  },
  {
   "cell_type": "code",
   "execution_count": null,
   "metadata": {},
   "outputs": [],
   "source": [
    "ts_sw_df"
   ]
  },
  {
   "cell_type": "code",
   "execution_count": null,
   "metadata": {},
   "outputs": [],
   "source": [
    "ts_sw_df.rename(\n",
    "    columns={\n",
    "        \"Messstelle\": \"Station\",\n",
    "        \"Messstellennummer\": \"Station ID\",\n",
    "        \"Datum\": \"DateTime\",\n",
    "        \"Einheit\": \"Unit\",\n",
    "        \"Wert\": \"Value\",\n",
    "    },\n",
    "    inplace=True,\n",
    ")\n",
    "\n",
    "ts_sw_df.drop(\n",
    "    columns=[\n",
    "        'Entnahmetiefe [m]',\n",
    "        'Vorzeichen',\n",
    "        'Bestimmungsgrenze',\n",
    "        'Messmethode'\n",
    "    ],\n",
    "    inplace=True\n",
    ")"
   ]
  },
  {
   "cell_type": "code",
   "execution_count": null,
   "metadata": {},
   "outputs": [],
   "source": [
    "flow_df"
   ]
  },
  {
   "cell_type": "code",
   "execution_count": null,
   "metadata": {},
   "outputs": [],
   "source": [
    "flow_df.rename(\n",
    "    columns={\n",
    "        \"Messstellennummer\": \"Station ID\",\n",
    "        \"Datum\": \"DateTime\",\n",
    "        \"Einheit\": \"Unit\",\n",
    "        \"Tagesmittelwert\": \"Flow River\",\n",
    "    },\n",
    "    inplace=True,\n",
    ")"
   ]
  },
  {
   "cell_type": "markdown",
   "metadata": {},
   "source": [
    "# Preprocess Data"
   ]
  },
  {
   "cell_type": "markdown",
   "metadata": {},
   "source": [
    "## Ground Water Dataset"
   ]
  },
  {
   "cell_type": "code",
   "execution_count": null,
   "metadata": {},
   "outputs": [],
   "source": [
    "\"\"\"Cumulated rainfall\n",
    "-Environmental temperature\n",
    "-Water temperature\n",
    "-Conductivity\n",
    "-Flow river\n",
    "Turbidity\n",
    "-Absorbance 254 nm\n",
    "-Ammonium\n",
    "Dissolved oxygen\n",
    "-Nitrate\n",
    "-pH\n",
    "Redox potential\"\"\""
   ]
  },
  {
   "cell_type": "markdown",
   "metadata": {},
   "source": [
    "### Build Dataset per Station"
   ]
  },
  {
   "cell_type": "code",
   "execution_count": null,
   "metadata": {},
   "outputs": [],
   "source": [
    "variables = {\n",
    "    'Temperatur (Luft)': 'Air Temperature',\n",
    "    'Temperatur (Wasser)': 'Water Temperature',\n",
    "    'UV-Adsorption (254)': 'Absorbance 254nm',\n",
    "    'Leitfähigkeit 25°C vor Ort': 'Conductivity',\n",
    "    'Ammonium (N)': 'Ammonium',\n",
    "    'Nitrat (N)': 'Nitrate',\n",
    "    'pH-Wert (Feld)': 'pH',\n",
    "}"
   ]
  },
  {
   "cell_type": "code",
   "execution_count": null,
   "metadata": {},
   "outputs": [],
   "source": [
    "ground_df = ts_gw_df[ts_gw_df['Parameter'].isin(variables.keys())]\n",
    "\n",
    "ground_df['Parameter'] = ground_df['Parameter'].map(variables)"
   ]
  },
  {
   "cell_type": "code",
   "execution_count": null,
   "metadata": {},
   "outputs": [],
   "source": [
    "ground_df['Station ID'].unique()"
   ]
  },
  {
   "cell_type": "code",
   "execution_count": null,
   "metadata": {},
   "outputs": [],
   "source": [
    "ground_df['DateTime'] = pd.to_datetime(ground_df['DateTime'])"
   ]
  },
  {
   "cell_type": "code",
   "execution_count": null,
   "metadata": {},
   "outputs": [],
   "source": [
    "stations_dict = {}\n",
    "for station in ground_df['Station ID'].unique():\n",
    "    station_df = ground_df[ground_df['Station ID'] == station]\n",
    "    station_df = station_df.pivot_table(\n",
    "        index=pd.Grouper('DateTime'),\n",
    "        columns='Parameter',\n",
    "        values='Value'\n",
    "    )\n",
    "    \n",
    "    stations_dict[station] = station_df"
   ]
  },
  {
   "cell_type": "markdown",
   "metadata": {},
   "source": [
    "### Analyze Stations"
   ]
  },
  {
   "cell_type": "code",
   "execution_count": null,
   "metadata": {},
   "outputs": [],
   "source": [
    "ground_info_df = pd.DataFrame(\n",
    "    index=pd.Index(\n",
    "        ['N Samples', '% Missing Values', 'Frequency (days)', 'Start Date', 'End Date'], name='Info'\n",
    "    ),\n",
    "    columns=pd.MultiIndex.from_product(\n",
    "        [ground_df['Station ID'].unique(), variables.values()],\n",
    "        names=['Station ID', 'Parameter']\n",
    "    )\n",
    ")"
   ]
  },
  {
   "cell_type": "markdown",
   "metadata": {},
   "source": [
    "#### 5130 - Treptow-Köpenick"
   ]
  },
  {
   "cell_type": "code",
   "execution_count": null,
   "metadata": {},
   "outputs": [],
   "source": [
    "station_df = stations_dict[5130]"
   ]
  },
  {
   "cell_type": "code",
   "execution_count": null,
   "metadata": {},
   "outputs": [],
   "source": [
    "station_df.isna().sum() / station_df.shape[0]"
   ]
  },
  {
   "cell_type": "code",
   "execution_count": null,
   "metadata": {},
   "outputs": [],
   "source": [
    "# compute the frequency of the time series\n",
    "station_df.index.to_series().diff().value_counts()"
   ]
  },
  {
   "cell_type": "code",
   "execution_count": null,
   "metadata": {},
   "outputs": [],
   "source": [
    "# most of the time series have a frequency of 6 months"
   ]
  },
  {
   "cell_type": "markdown",
   "metadata": {},
   "source": [
    "##### Time series"
   ]
  },
  {
   "cell_type": "code",
   "execution_count": null,
   "metadata": {},
   "outputs": [],
   "source": [
    "# plot the data\n",
    "for column in station_df.columns:\n",
    "    fig = px.line(\n",
    "        station_df,\n",
    "        x=station_df.index,\n",
    "        y=column,\n",
    "        title=f\"{column} at station 5130\",\n",
    "        labels={\n",
    "            'Date': 'Date',\n",
    "            column: column\n",
    "        }\n",
    "    )\n",
    "    fig.update_layout(\n",
    "        xaxis_title='Date',\n",
    "        yaxis_title=column,\n",
    "        font=dict(\n",
    "            size=18,\n",
    "        )\n",
    "    )\n",
    "    fig.show()"
   ]
  },
  {
   "cell_type": "markdown",
   "metadata": {},
   "source": [
    "##### Boxplots"
   ]
  },
  {
   "cell_type": "code",
   "execution_count": null,
   "metadata": {},
   "outputs": [],
   "source": [
    "# boxplot of the data\n",
    "for column in station_df.columns:\n",
    "    \n",
    "    fig = go.Figure()\n",
    "    column_df = station_df[column]\n",
    "    \n",
    "    for year in column_df.index.year.unique():\n",
    "        fig.add_trace(\n",
    "            go.Box(\n",
    "                y=column_df[column_df.index.year == year],\n",
    "                name=year\n",
    "            )\n",
    "        )\n",
    "    fig.update_layout(\n",
    "        title=f\"{column} at station 5130\",\n",
    "        xaxis_title=\"Year\",\n",
    "        yaxis_title=column\n",
    "    )\n",
    "    \n",
    "    fig.show() "
   ]
  },
  {
   "cell_type": "markdown",
   "metadata": {},
   "source": [
    "##### Store Info"
   ]
  },
  {
   "cell_type": "code",
   "execution_count": null,
   "metadata": {},
   "outputs": [],
   "source": [
    "# store the information in the station_info_df\n",
    "for column in station_df.columns:\n",
    "    ground_info_df.loc['N Samples', (5130, column)] = station_df[column].dropna().shape[0]\n",
    "    ground_info_df.loc['% Missing Values', (5130, column)] = station_df[column].isna().sum() / station_df[column].shape[0]\n",
    "    ground_info_df.loc['Frequency (days)', (5130, column)] = station_df.index.to_series().diff().value_counts().index[0].days\n",
    "    ground_info_df.loc['Start Date', (5130, column)] = station_df[column].dropna().index.min().strftime(\"%Y-%m-%d\")\n",
    "    ground_info_df.loc['End Date', (5130, column)] = station_df[column].dropna().index.max().strftime(\"%Y-%m-%d\")"
   ]
  },
  {
   "cell_type": "markdown",
   "metadata": {},
   "source": [
    "##### Trend"
   ]
  },
  {
   "cell_type": "code",
   "execution_count": null,
   "metadata": {},
   "outputs": [],
   "source": [
    "station_df = station_df.resample('M').median()\n",
    "\n",
    "station_df.interpolate(method='time', inplace=True)"
   ]
  },
  {
   "cell_type": "code",
   "execution_count": null,
   "metadata": {},
   "outputs": [],
   "source": [
    "for column in station_df.columns:\n",
    "    \n",
    "    df = station_df[column].copy()\n",
    "    \n",
    "    df.dropna(inplace=True)\n",
    "    \n",
    "    date_range = station_df[column].dropna().index\n",
    "    date_range = date_range.min(), date_range.max()\n",
    "    \n",
    "    # make sure that the dataframe starts and finishes in the same month\n",
    "    start_index = df[df.index.month == date_range[1].month].index[0]\n",
    "\n",
    "    # Slice the dataframe to start from the found index\n",
    "    df = df.loc[start_index:]\n",
    "        \n",
    "    stl = STL(df, period=12)\n",
    "\n",
    "    result = stl.fit()\n",
    "    seasonal, trend, resid = result.seasonal, result.trend, result.resid\n",
    "    \n",
    "    # compute linear regression on trend\n",
    "    X = np.arange(df.shape[0])\n",
    "    X = sm.add_constant(X)\n",
    "    y = df.copy()\n",
    "    \n",
    "    model = sm.OLS(y, X)\n",
    "    results = model.fit()\n",
    "    \n",
    "    # plot the line of the linear regression\n",
    "    line = pd.Series(results.predict(X), index=df.index)\n",
    "\n",
    "    fig = go.Figure()\n",
    "\n",
    "    fig.add_trace(\n",
    "        go.Scatter(\n",
    "            x=df.index,\n",
    "            y=df,\n",
    "            mode='lines',\n",
    "            name='Original',\n",
    "        )\n",
    "    )\n",
    "\n",
    "    fig.add_trace(\n",
    "        go.Scatter(\n",
    "            x=trend.index,\n",
    "            y=trend,\n",
    "            mode='lines',\n",
    "            name='Trend',\n",
    "        )\n",
    "    )\n",
    "    \n",
    "    slope = results.params[1]\n",
    "    \n",
    "    print(f\"{column} - Slope: {slope}\")\n",
    "    \n",
    "    p_value = results.pvalues[1]\n",
    "    print(f\"{column} - P-value: {p_value}\")\n",
    "    \n",
    "    fig.add_trace(\n",
    "        go.Scatter(\n",
    "            x=line.index,\n",
    "            y=line,\n",
    "            mode='lines',\n",
    "            name=f'Linear Regression',\n",
    "            line=dict(\n",
    "                dash='dash',\n",
    "                color='black'\n",
    "            ),\n",
    "        ),\n",
    "        \n",
    "    )\n",
    "    \n",
    "    start_date = df.index.min()\n",
    "    end_date = df.index.max()\n",
    "    \n",
    "    fig.update_layout(\n",
    "        xaxis_title=\"Date\",\n",
    "        yaxis_title=column,\n",
    "        font=dict(\n",
    "            size=18,\n",
    "        ),\n",
    "        legend=dict(\n",
    "                yanchor=\"top\",\n",
    "                y=0.99,\n",
    "                xanchor=\"left\",\n",
    "                x=0.01\n",
    "            )\n",
    "    )\n",
    "\n",
    "    fig.show()"
   ]
  },
  {
   "cell_type": "markdown",
   "metadata": {},
   "source": [
    "#### 7285 - Steglitz-Zehlendorf"
   ]
  },
  {
   "cell_type": "code",
   "execution_count": null,
   "metadata": {},
   "outputs": [],
   "source": [
    "station_df = stations_dict[7285]"
   ]
  },
  {
   "cell_type": "code",
   "execution_count": null,
   "metadata": {},
   "outputs": [],
   "source": [
    "station_df.isna().sum() / station_df.shape[0]"
   ]
  },
  {
   "cell_type": "code",
   "execution_count": null,
   "metadata": {},
   "outputs": [],
   "source": [
    "# compute the frequency of the time series\n",
    "station_df.index.to_series().diff().value_counts()"
   ]
  },
  {
   "cell_type": "code",
   "execution_count": null,
   "metadata": {},
   "outputs": [],
   "source": [
    "# most of the time series have a frequency of 6 months"
   ]
  },
  {
   "cell_type": "markdown",
   "metadata": {},
   "source": [
    "##### Time series"
   ]
  },
  {
   "cell_type": "code",
   "execution_count": null,
   "metadata": {},
   "outputs": [],
   "source": [
    "# plot the data\n",
    "for column in station_df.columns:\n",
    "    fig = px.line(\n",
    "        station_df,\n",
    "        x=station_df.index,\n",
    "        y=column,\n",
    "        title=f\"{column} at station 7285\",\n",
    "        labels={\n",
    "            'DateTime': 'DateTime',\n",
    "            column: column\n",
    "        }\n",
    "    )\n",
    "    \n",
    "    fig.update_layout(\n",
    "        xaxis_title='Date',\n",
    "        yaxis_title=column,\n",
    "        font=dict(\n",
    "            size=18,\n",
    "        )\n",
    "    )\n",
    "    \n",
    "    fig.show()"
   ]
  },
  {
   "cell_type": "markdown",
   "metadata": {},
   "source": [
    "##### Boxplots"
   ]
  },
  {
   "cell_type": "code",
   "execution_count": null,
   "metadata": {},
   "outputs": [],
   "source": [
    "# boxplot of the data\n",
    "for column in station_df.columns:\n",
    "    \n",
    "    fig = go.Figure()\n",
    "    column_df = station_df[column]\n",
    "    \n",
    "    for year in column_df.index.year.unique():\n",
    "        fig.add_trace(\n",
    "            go.Box(\n",
    "                y=column_df[column_df.index.year == year],\n",
    "                name=year\n",
    "            )\n",
    "        )\n",
    "    fig.update_layout(\n",
    "        title=f\"{column} at station 7285\",\n",
    "        xaxis_title=\"Year\",\n",
    "        yaxis_title=column\n",
    "    )\n",
    "    \n",
    "    fig.show() "
   ]
  },
  {
   "cell_type": "markdown",
   "metadata": {},
   "source": [
    "##### Store Info"
   ]
  },
  {
   "cell_type": "code",
   "execution_count": null,
   "metadata": {},
   "outputs": [],
   "source": [
    "# store the information in the station_info_df\n",
    "for column in station_df.columns:\n",
    "    ground_info_df.loc['N Samples', (7285, column)] = station_df[column].dropna().shape[0]\n",
    "    ground_info_df.loc['% Missing Values', (7285, column)] = station_df[column].isna().sum() / station_df[column].shape[0]\n",
    "    ground_info_df.loc['Frequency (days)', (7285, column)] = station_df.index.to_series().diff().value_counts().index[0].days\n",
    "    ground_info_df.loc['Start Date', (7285, column)] = station_df[column].dropna().index.min().strftime(\"%Y-%m-%d\")\n",
    "    ground_info_df.loc['End Date', (7285, column)] = station_df[column].dropna().index.max().strftime(\"%Y-%m-%d\")"
   ]
  },
  {
   "cell_type": "markdown",
   "metadata": {},
   "source": [
    "##### Trend"
   ]
  },
  {
   "cell_type": "code",
   "execution_count": null,
   "metadata": {},
   "outputs": [],
   "source": [
    "station_df = station_df.resample('M').median()\n",
    "\n",
    "station_df.interpolate(method='time', inplace=True)"
   ]
  },
  {
   "cell_type": "code",
   "execution_count": null,
   "metadata": {},
   "outputs": [],
   "source": [
    "for column in station_df.columns:\n",
    "    \n",
    "    df = station_df[column].copy()\n",
    "    \n",
    "    df.dropna(inplace=True)\n",
    "    \n",
    "    date_range = station_df[column].dropna().index\n",
    "    date_range = date_range.min(), date_range.max()\n",
    "    \n",
    "    # make sure that the dataframe starts and finishes in the same month\n",
    "    start_index = df[df.index.month == date_range[1].month].index[0]\n",
    "\n",
    "    # Slice the dataframe to start from the found index\n",
    "    df = df.loc[start_index:]\n",
    "        \n",
    "    stl = STL(df, period=12)\n",
    "\n",
    "    result = stl.fit()\n",
    "    seasonal, trend, resid = result.seasonal, result.trend, result.resid\n",
    "    \n",
    "    # compute linear regression on trend\n",
    "    X = np.arange(df.shape[0])\n",
    "    X = sm.add_constant(X)\n",
    "    y = df.copy()\n",
    "    \n",
    "    model = sm.OLS(y, X)\n",
    "    results = model.fit()\n",
    "    \n",
    "    # plot the line of the linear regression\n",
    "    line = pd.Series(results.predict(X), index=df.index)\n",
    "\n",
    "    fig = go.Figure()\n",
    "\n",
    "    fig.add_trace(\n",
    "        go.Scatter(\n",
    "            x=df.index,\n",
    "            y=df,\n",
    "            mode='lines',\n",
    "            name='Original',\n",
    "        )\n",
    "    )\n",
    "\n",
    "    fig.add_trace(\n",
    "        go.Scatter(\n",
    "            x=trend.index,\n",
    "            y=trend,\n",
    "            mode='lines',\n",
    "            name='Trend',\n",
    "        )\n",
    "    )\n",
    "    \n",
    "    slope = results.params[1]\n",
    "    print(f\"{column} - Slope: {slope}\")\n",
    "    \n",
    "    p_value = results.pvalues[1]\n",
    "    print(f\"{column} - P-value: {p_value}\")\n",
    "    \n",
    "    fig.add_trace(\n",
    "        go.Scatter(\n",
    "            x=line.index,\n",
    "            y=line,\n",
    "            mode='lines',\n",
    "            name=f'Linear Regression',\n",
    "            line=dict(\n",
    "                dash='dash',\n",
    "                color='black'\n",
    "            ),\n",
    "        ),\n",
    "        \n",
    "    )\n",
    "    \n",
    "    start_date = df.index.min()\n",
    "    end_date = df.index.max()\n",
    "    \n",
    "    fig.update_layout(\n",
    "        xaxis_title=\"Date\",\n",
    "        yaxis_title=column,\n",
    "        font=dict(\n",
    "            size=18,\n",
    "        ),\n",
    "        legend=dict(\n",
    "                yanchor=\"top\",\n",
    "                y=0.99,\n",
    "                xanchor=\"left\",\n",
    "                x=0.01\n",
    "            )\n",
    "    )\n",
    "\n",
    "    fig.show()"
   ]
  },
  {
   "cell_type": "markdown",
   "metadata": {},
   "source": [
    "### UVA254 vs Ammonium"
   ]
  },
  {
   "cell_type": "code",
   "execution_count": null,
   "metadata": {},
   "outputs": [],
   "source": [
    "colors = ['blue', 'red']\n",
    "\n",
    "fig = go.Figure()\n",
    "\n",
    "for station_id, station_df in stations_dict.items():\n",
    "    \n",
    "    df = station_df[['Ammonium', 'Absorbance 254nm']].copy()\n",
    "    \n",
    "    df.dropna(inplace=True)\n",
    "    \n",
    "    scaler = MinMaxScaler()\n",
    "    \n",
    "    X = df['Ammonium'].copy()\n",
    "    \n",
    "    # X = scaler.fit_transform(X.values.reshape(-1, 1))\n",
    "    \n",
    "    X = sm.add_constant(X)\n",
    "    y = df['Absorbance 254nm'].copy()\n",
    "    \n",
    "    # y = scaler.fit_transform(y.values.reshape(-1, 1))\n",
    "    \n",
    "    model = sm.OLS(y, X)\n",
    "    results = model.fit()\n",
    "    \n",
    "    line = pd.Series(results.predict(X), index=df.index)\n",
    "    \n",
    "    slope = results.params[1]\n",
    "    p_value = results.pvalues[1]\n",
    "    \n",
    "    print(f\"Station {station_id} - Slope: {slope}\")\n",
    "    print(f\"Station {station_id} - P-value: {p_value}\")\n",
    "    \n",
    "    color = colors.pop()\n",
    "\n",
    "    fig.add_trace(\n",
    "        go.Scatter(\n",
    "            x=X['Ammonium'],\n",
    "            y=y,\n",
    "            mode='markers',\n",
    "            name=f\"Station {station_id}\",\n",
    "            marker=dict(\n",
    "                size=8,\n",
    "                opacity=0.7,\n",
    "                color = color\n",
    "            )\n",
    "        )\n",
    "    )\n",
    "    \n",
    "    fig.add_trace(\n",
    "        go.Scatter(\n",
    "            x=X['Ammonium'],\n",
    "            y=line,\n",
    "            mode='lines',\n",
    "            name=f\"Linear Regression Station {station_id}\",\n",
    "            line=dict(\n",
    "                dash='dash',\n",
    "                color=color\n",
    "            )\n",
    "        )\n",
    "    )\n",
    "    \n",
    "fig.update_layout(\n",
    "    xaxis_title='Ammonium',\n",
    "    yaxis_title='Absorbance 254nm',\n",
    "    font=dict(\n",
    "        size=18,\n",
    "    ),\n",
    "    title='Ground Water',\n",
    "    # legend=dict(\n",
    "    #     yanchor=\"top\",\n",
    "    #     y=0.99,\n",
    "    #     xanchor=\"right\",\n",
    "    #     x=0.99\n",
    "    # )\n",
    ")\n",
    "\n",
    "fig.show()"
   ]
  },
  {
   "cell_type": "markdown",
   "metadata": {},
   "source": [
    "## Surface Water Dataset"
   ]
  },
  {
   "cell_type": "code",
   "execution_count": null,
   "metadata": {},
   "outputs": [],
   "source": [
    "\"\"\"\n",
    "Cumulated rainfall\n",
    "-Environmental temperature\n",
    "-Water temperature\n",
    "-Conductivity\n",
    "-Flow river\n",
    "Turbidity\n",
    "-Absorbance 254 nm\n",
    "-Ammonium\n",
    "-Dissolved oxygen\n",
    "-Nitrate\n",
    "-pH\n",
    "Redox potential\n",
    "\"\"\""
   ]
  },
  {
   "cell_type": "markdown",
   "metadata": {},
   "source": [
    "### Build Dataset per Station\n",
    "\n",
    "NB: there is only one station (305) for which there are measurements of flow close to it (5815911)"
   ]
  },
  {
   "cell_type": "code",
   "execution_count": null,
   "metadata": {},
   "outputs": [],
   "source": [
    "# the parameters that are present for the moment are:\n",
    "variables = {\n",
    "    'Lufttemperatur': 'Air Temperature',\n",
    "    'Wassertemperatur': 'Water Temperature',\n",
    "    'Spektraler Absorptionskoeffizient (SAK) 254nm': 'Absorbance 254nm',\n",
    "    'Leitfähigkeit': 'Conductivity',\n",
    "    'Ammonium-Stickstoff': 'Ammonium',\n",
    "    'Nitrat-Stickstoff': 'Nitrate',\n",
    "    'pH-Wert': 'pH',\n",
    "    'DOC (Gelöster organischer Kohlenstoff)': 'DOC',\n",
    "    'TOC (Organischer Kohlenstoff)': 'TOC',\n",
    "    'Sauerstoff-Gehalt': 'Dissolved Oxygen',\n",
    "}"
   ]
  },
  {
   "cell_type": "code",
   "execution_count": null,
   "metadata": {},
   "outputs": [],
   "source": [
    "surface_df = ts_sw_df[ts_sw_df['Parameter'].isin(variables.keys())]\n",
    "\n",
    "surface_df['Parameter'] = surface_df['Parameter'].map(variables)"
   ]
  },
  {
   "cell_type": "code",
   "execution_count": null,
   "metadata": {},
   "outputs": [],
   "source": [
    "surface_df['Station ID'].unique()"
   ]
  },
  {
   "cell_type": "code",
   "execution_count": null,
   "metadata": {},
   "outputs": [],
   "source": [
    "surface_df['Station'].unique()"
   ]
  },
  {
   "cell_type": "code",
   "execution_count": null,
   "metadata": {},
   "outputs": [],
   "source": [
    "surface_df['DateTime'] = pd.to_datetime(surface_df['DateTime'])"
   ]
  },
  {
   "cell_type": "code",
   "execution_count": null,
   "metadata": {},
   "outputs": [],
   "source": [
    "stations_dict = {}\n",
    "for station in surface_df['Station ID'].unique():\n",
    "    station_df = surface_df[surface_df['Station ID'] == station]\n",
    "    station_df = station_df.pivot_table(\n",
    "        index=pd.Grouper('DateTime'),\n",
    "        columns='Parameter',\n",
    "        values='Value'\n",
    "    )\n",
    "    \n",
    "    stations_dict[station] = station_df"
   ]
  },
  {
   "cell_type": "markdown",
   "metadata": {},
   "source": [
    "### Analyze Stations"
   ]
  },
  {
   "cell_type": "code",
   "execution_count": null,
   "metadata": {},
   "outputs": [],
   "source": [
    "surface_info_df = pd.DataFrame(\n",
    "    index=pd.Index(\n",
    "        ['N Samples', '% Missing Values', 'Frequency (days)', 'Start Date', 'End Date'], name='Info'\n",
    "    ),\n",
    "    columns=pd.MultiIndex.from_product(\n",
    "        [surface_df['Station ID'].unique(), variables.values()],\n",
    "        names=['Station ID', 'Parameter']\n",
    "    )\n",
    ")"
   ]
  },
  {
   "cell_type": "markdown",
   "metadata": {},
   "source": [
    "#### 105 - Dämeritzsee-Seemitte"
   ]
  },
  {
   "cell_type": "code",
   "execution_count": null,
   "metadata": {},
   "outputs": [],
   "source": [
    "station_df = stations_dict[105]"
   ]
  },
  {
   "cell_type": "code",
   "execution_count": null,
   "metadata": {},
   "outputs": [],
   "source": [
    "flow_df['DateTime'] = pd.to_datetime(flow_df['DateTime'])\n",
    "\n",
    "station_flow_df = flow_df[flow_df['Station ID'] == 5827101]\n",
    "\n",
    "station_flow_df = station_flow_df[['DateTime', 'Flow River']].set_index('DateTime')\n",
    "\n",
    "station_flow_df.index = station_flow_df.index.date\n",
    "station_df.index = station_df.index.date\n",
    "\n",
    "# merge the flow data with the surface water data for the same date (just date, not time)\n",
    "station_df = station_df.merge(\n",
    "    station_flow_df,\n",
    "    left_index=True,\n",
    "    right_index=True,\n",
    "    how='left'\n",
    ")\n",
    "\n",
    "station_df.index = pd.to_datetime(station_df.index)"
   ]
  },
  {
   "cell_type": "code",
   "execution_count": null,
   "metadata": {},
   "outputs": [],
   "source": [
    "station_df.isna().sum() / station_df.shape[0]"
   ]
  },
  {
   "cell_type": "code",
   "execution_count": null,
   "metadata": {},
   "outputs": [],
   "source": [
    "# compute the frequency of the time series\n",
    "station_df.index.to_series().diff().value_counts()"
   ]
  },
  {
   "cell_type": "code",
   "execution_count": null,
   "metadata": {},
   "outputs": [],
   "source": [
    "# most of the time series have a frequency of 14 days or 1 month"
   ]
  },
  {
   "cell_type": "markdown",
   "metadata": {},
   "source": [
    "##### Time series"
   ]
  },
  {
   "cell_type": "code",
   "execution_count": null,
   "metadata": {},
   "outputs": [],
   "source": [
    "# plot the data\n",
    "for column in station_df.columns:\n",
    "    date_range = station_df[column].dropna().index\n",
    "    date_range = date_range.min(), date_range.max()\n",
    "    \n",
    "    \n",
    "    fig = px.line(\n",
    "        station_df,\n",
    "        x=station_df.index,\n",
    "        y=column,\n",
    "        title=f\"{column} at station 105 - Range: {date_range[0].date()} - {date_range[1].date()}\",\n",
    "        labels={\n",
    "            'DateTime': 'DateTime',\n",
    "            column: column\n",
    "        }\n",
    "    )\n",
    "    \n",
    "    fig.update_layout(\n",
    "        xaxis_title='Date',\n",
    "        yaxis_title=column,\n",
    "        font=dict(\n",
    "            size=18,\n",
    "        )\n",
    "    )\n",
    "    \n",
    "    fig.show()"
   ]
  },
  {
   "cell_type": "markdown",
   "metadata": {},
   "source": [
    "##### Boxplots"
   ]
  },
  {
   "cell_type": "code",
   "execution_count": null,
   "metadata": {},
   "outputs": [],
   "source": [
    "# boxplot of the data\n",
    "for column in station_df.columns:\n",
    "    \n",
    "    fig = go.Figure()\n",
    "    column_df = station_df[column]\n",
    "    \n",
    "    for year in column_df.index.year.unique():\n",
    "        fig.add_trace(\n",
    "            go.Box(\n",
    "                y=column_df[column_df.index.year == year],\n",
    "                name=year\n",
    "            )\n",
    "        )\n",
    "    fig.update_layout(\n",
    "        title=f\"{column} at station 105\",\n",
    "        xaxis_title=\"Year\",\n",
    "        yaxis_title=column\n",
    "    )\n",
    "    \n",
    "    fig.show() "
   ]
  },
  {
   "cell_type": "markdown",
   "metadata": {},
   "source": [
    "##### Store Info"
   ]
  },
  {
   "cell_type": "code",
   "execution_count": null,
   "metadata": {},
   "outputs": [],
   "source": [
    "# store the information in the station_info_df\n",
    "for column in station_df.columns:\n",
    "    surface_info_df.loc['N Samples', (105, column)] = station_df[column].dropna().shape[0]\n",
    "    surface_info_df.loc['% Missing Values', (105, column)] = station_df[column].isna().sum() / station_df[column].shape[0]\n",
    "    surface_info_df.loc['Frequency (days)', (105, column)] = station_df.index.to_series().diff().value_counts().index[0].days\n",
    "    surface_info_df.loc['Start Date', (105, column)] = station_df[column].dropna().index.min().strftime(\"%Y-%m-%d\")\n",
    "    surface_info_df.loc['End Date', (105, column)] = station_df[column].dropna().index.max().strftime(\"%Y-%m-%d\")"
   ]
  },
  {
   "cell_type": "code",
   "execution_count": null,
   "metadata": {},
   "outputs": [],
   "source": [
    "station_df.loc[station_df['DOC'] <= 0, ['DOC']] = np.nan"
   ]
  },
  {
   "cell_type": "markdown",
   "metadata": {},
   "source": [
    "##### Trends"
   ]
  },
  {
   "cell_type": "code",
   "execution_count": null,
   "metadata": {},
   "outputs": [],
   "source": [
    "station_df = station_df.resample('M').median()\n",
    "\n",
    "station_df.interpolate(method='time', inplace=True)"
   ]
  },
  {
   "cell_type": "code",
   "execution_count": null,
   "metadata": {},
   "outputs": [],
   "source": [
    "for column in station_df.columns:\n",
    "    \n",
    "    df = station_df[column].copy()\n",
    "    \n",
    "    df.dropna(inplace=True)\n",
    "    \n",
    "    date_range = station_df[column].dropna().index\n",
    "    date_range = date_range.min(), date_range.max()\n",
    "    \n",
    "    # make sure that the dataframe starts and finishes in the same month\n",
    "    start_index = df[df.index.month == date_range[1].month].index[0]\n",
    "\n",
    "    # Slice the dataframe to start from the found index\n",
    "    df = df.loc[start_index:]\n",
    "        \n",
    "    stl = STL(df, period=12)\n",
    "\n",
    "    result = stl.fit()\n",
    "    seasonal, trend, resid = result.seasonal, result.trend, result.resid\n",
    "    \n",
    "    # compute linear regression on trend\n",
    "    X = np.arange(df.shape[0])\n",
    "    X = sm.add_constant(X)\n",
    "    y = df.copy()\n",
    "    \n",
    "    model = sm.OLS(y, X)\n",
    "    results = model.fit()\n",
    "    \n",
    "    # plot the line of the linear regression\n",
    "    line = pd.Series(results.predict(X), index=df.index)\n",
    "\n",
    "    fig = go.Figure()\n",
    "\n",
    "    fig.add_trace(\n",
    "        go.Scatter(\n",
    "            x=df.index,\n",
    "            y=df,\n",
    "            mode='lines',\n",
    "            name='Original',\n",
    "        )\n",
    "    )\n",
    "\n",
    "    fig.add_trace(\n",
    "        go.Scatter(\n",
    "            x=trend.index,\n",
    "            y=trend,\n",
    "            mode='lines',\n",
    "            name='Trend',\n",
    "        )\n",
    "    )\n",
    "    \n",
    "    slope = results.params[1]\n",
    "    \n",
    "    print(f\"{column} - Slope: {slope}\")\n",
    "    \n",
    "    p_value = results.pvalues[1]\n",
    "    print(f\"{column} - P-value: {p_value}\")\n",
    "    \n",
    "    fig.add_trace(\n",
    "        go.Scatter(\n",
    "            x=line.index,\n",
    "            y=line,\n",
    "            mode='lines',\n",
    "            name=f'Linear Regression',\n",
    "            line=dict(\n",
    "                dash='dash',\n",
    "                color='black'\n",
    "            ),\n",
    "        ),\n",
    "        \n",
    "    )\n",
    "    \n",
    "    start_date = df.index.min()\n",
    "    end_date = df.index.max()\n",
    "    \n",
    "    fig.update_layout(\n",
    "        xaxis_title=\"Date\",\n",
    "        yaxis_title=column,\n",
    "        font=dict(\n",
    "            size=18,\n",
    "        ),\n",
    "        legend=dict(\n",
    "                yanchor=\"top\",\n",
    "                y=0.99,\n",
    "                xanchor=\"left\",\n",
    "                x=0.01\n",
    "            )\n",
    "    )\n",
    "\n",
    "    fig.show()"
   ]
  },
  {
   "cell_type": "markdown",
   "metadata": {},
   "source": [
    "#### 305 - Oberhavel-Konradshöhe"
   ]
  },
  {
   "cell_type": "code",
   "execution_count": null,
   "metadata": {},
   "outputs": [],
   "source": [
    "station_df = stations_dict[305]"
   ]
  },
  {
   "cell_type": "code",
   "execution_count": null,
   "metadata": {},
   "outputs": [],
   "source": [
    "flow_df['DateTime'] = pd.to_datetime(flow_df['DateTime'])\n",
    "\n",
    "station_flow_df = flow_df[flow_df['Station ID'] == 5815911]\n",
    "\n",
    "station_flow_df = station_flow_df[['DateTime', 'Flow River']].set_index('DateTime')\n",
    "\n",
    "station_flow_df.index = station_flow_df.index.date\n",
    "station_df.index = station_df.index.date\n",
    "\n",
    "# merge the flow data with the surface water data for the same date (just date, not time)\n",
    "station_df = station_df.merge(\n",
    "    station_flow_df,\n",
    "    left_index=True,\n",
    "    right_index=True,\n",
    "    how='left'\n",
    ")\n",
    "\n",
    "station_df.index = pd.to_datetime(station_df.index)"
   ]
  },
  {
   "cell_type": "code",
   "execution_count": null,
   "metadata": {},
   "outputs": [],
   "source": [
    "station_df.isna().sum() / station_df.shape[0]"
   ]
  },
  {
   "cell_type": "code",
   "execution_count": null,
   "metadata": {},
   "outputs": [],
   "source": [
    "# compute the frequency of the time series\n",
    "station_df.index.to_series().diff().value_counts()"
   ]
  },
  {
   "cell_type": "code",
   "execution_count": null,
   "metadata": {},
   "outputs": [],
   "source": [
    "# most of the time series have a frequency of 14 days or 1 month"
   ]
  },
  {
   "cell_type": "markdown",
   "metadata": {},
   "source": [
    "##### Time series"
   ]
  },
  {
   "cell_type": "code",
   "execution_count": null,
   "metadata": {},
   "outputs": [],
   "source": [
    "# plot the data\n",
    "for column in station_df.columns:\n",
    "    \n",
    "    # compute date range for which the data is available\n",
    "    date_range = station_df[column].dropna().index\n",
    "    date_range = date_range.min(), date_range.max()\n",
    "    \n",
    "    \n",
    "    fig = px.line(\n",
    "        station_df,\n",
    "        x=station_df.index,\n",
    "        y=column,\n",
    "        title=f\"{column} at station 305 - Range: {date_range[0].date()} - {date_range[1].date()}\",\n",
    "        labels={\n",
    "            'DateTime': 'DateTime',\n",
    "            column: column\n",
    "        }\n",
    "    )\n",
    "    \n",
    "    fig.update_layout(\n",
    "        xaxis_title='Date',\n",
    "        yaxis_title=column,\n",
    "        font=dict(\n",
    "            size=18,\n",
    "        )\n",
    "    )\n",
    "    \n",
    "    fig.show()"
   ]
  },
  {
   "cell_type": "markdown",
   "metadata": {},
   "source": [
    "##### Boxplots"
   ]
  },
  {
   "cell_type": "code",
   "execution_count": null,
   "metadata": {},
   "outputs": [],
   "source": [
    "# boxplot of the data\n",
    "for column in station_df.columns:\n",
    "    \n",
    "    fig = go.Figure()\n",
    "    column_df = station_df[column]\n",
    "    \n",
    "    for year in column_df.index.year.unique():\n",
    "        fig.add_trace(\n",
    "            go.Box(\n",
    "                y=column_df[column_df.index.year == year],\n",
    "                name=year\n",
    "            )\n",
    "        )\n",
    "    fig.update_layout(\n",
    "        title=f\"{column} at station 305\",\n",
    "        xaxis_title=\"Year\",\n",
    "        yaxis_title=column\n",
    "    )\n",
    "    \n",
    "    fig.show() "
   ]
  },
  {
   "cell_type": "markdown",
   "metadata": {},
   "source": [
    "##### Store Info"
   ]
  },
  {
   "cell_type": "code",
   "execution_count": null,
   "metadata": {},
   "outputs": [],
   "source": [
    "# store the information in the station_info_df\n",
    "for column in station_df.columns:\n",
    "    surface_info_df.loc['N Samples', (305, column)] = station_df[column].dropna().shape[0]\n",
    "    surface_info_df.loc['% Missing Values', (305, column)] = station_df[column].isna().sum() / station_df[column].shape[0]\n",
    "    surface_info_df.loc['Frequency (days)', (305, column)] = station_df.index.to_series().diff().value_counts().index[0].days\n",
    "    surface_info_df.loc['Start Date', (305, column)] = station_df[column].dropna().index.min().strftime(\"%Y-%m-%d\")\n",
    "    surface_info_df.loc['End Date', (305, column)] = station_df[column].dropna().index.max().strftime(\"%Y-%m-%d\")"
   ]
  },
  {
   "cell_type": "code",
   "execution_count": null,
   "metadata": {},
   "outputs": [],
   "source": [
    "# set to NaN the DOC which is > 17\n",
    "station_df.loc[station_df['DOC'] > 17, ['DOC']] = np.nan"
   ]
  },
  {
   "cell_type": "markdown",
   "metadata": {},
   "source": [
    "##### Trend"
   ]
  },
  {
   "cell_type": "code",
   "execution_count": null,
   "metadata": {},
   "outputs": [],
   "source": [
    "station_df = station_df.resample('M').median()\n",
    "\n",
    "station_df.interpolate(method='time', inplace=True)"
   ]
  },
  {
   "cell_type": "code",
   "execution_count": null,
   "metadata": {},
   "outputs": [],
   "source": [
    "for column in station_df.columns:\n",
    "    \n",
    "    df = station_df[column].copy()\n",
    "    \n",
    "    df.dropna(inplace=True)\n",
    "    \n",
    "    date_range = station_df[column].dropna().index\n",
    "    date_range = date_range.min(), date_range.max()\n",
    "    \n",
    "    # make sure that the dataframe starts and finishes in the same month\n",
    "    start_index = df[df.index.month == date_range[1].month].index[0]\n",
    "\n",
    "    # Slice the dataframe to start from the found index\n",
    "    df = df.loc[start_index:]\n",
    "        \n",
    "    stl = STL(df, period=12)\n",
    "\n",
    "    result = stl.fit()\n",
    "    seasonal, trend, resid = result.seasonal, result.trend, result.resid\n",
    "    \n",
    "    # compute linear regression on trend\n",
    "    X = np.arange(df.shape[0])\n",
    "    X = sm.add_constant(X)\n",
    "    y = df\n",
    "    model = sm.OLS(y, X)\n",
    "    results = model.fit()\n",
    "    \n",
    "    # plot the line of the linear regression\n",
    "    line = pd.Series(results.predict(X), index=df.index)\n",
    "\n",
    "    fig = go.Figure()\n",
    "\n",
    "    fig.add_trace(\n",
    "        go.Scatter(\n",
    "            x=df.index,\n",
    "            y=df,\n",
    "            mode='lines',\n",
    "            name='Original',\n",
    "        )\n",
    "    )\n",
    "\n",
    "    fig.add_trace(\n",
    "        go.Scatter(\n",
    "            x=trend.index,\n",
    "            y=trend,\n",
    "            mode='lines',\n",
    "            name='Trend',\n",
    "        )\n",
    "    )\n",
    "    \n",
    "    # get the slope of the regression\n",
    "    slope = results.params[1]\n",
    "    \n",
    "    print(f\"{column} - Slope: {slope}\")\n",
    "    \n",
    "    p_value = results.pvalues[1]\n",
    "    print(f\"{column} - P-value: {p_value}\")\n",
    "    \n",
    "    fig.add_trace(\n",
    "        go.Scatter(\n",
    "            x=line.index,\n",
    "            y=line,\n",
    "            mode='lines',\n",
    "            name=f'Linear Regression',\n",
    "            line=dict(\n",
    "                dash='dash',\n",
    "                color='black'\n",
    "            )\n",
    "        ),\n",
    "        \n",
    "    )\n",
    "    \n",
    "    start_date = df.index.min()\n",
    "    end_date = df.index.max()\n",
    "    \n",
    "    fig.update_layout(\n",
    "        xaxis_title=\"Date\",\n",
    "        yaxis_title=column,\n",
    "        font=dict(\n",
    "            size=18,\n",
    "        ),\n",
    "        legend=dict(\n",
    "                yanchor=\"top\",\n",
    "                y=0.99,\n",
    "                xanchor=\"left\",\n",
    "                x=0.01\n",
    "        )\n",
    "    )\n",
    "\n",
    "    fig.show()"
   ]
  },
  {
   "cell_type": "markdown",
   "metadata": {},
   "source": [
    "#### 325 - Havel-Pichelsdorfer Gemünd"
   ]
  },
  {
   "cell_type": "code",
   "execution_count": null,
   "metadata": {},
   "outputs": [],
   "source": [
    "station_df = stations_dict[325]"
   ]
  },
  {
   "cell_type": "code",
   "execution_count": null,
   "metadata": {},
   "outputs": [],
   "source": [
    "flow_df['DateTime'] = pd.to_datetime(flow_df['DateTime'])\n",
    "\n",
    "station_flow_df = flow_df[flow_df['Station ID'] == 5803200]\n",
    "\n",
    "station_flow_df = station_flow_df[['DateTime', 'Flow River']].set_index('DateTime')\n",
    "\n",
    "station_flow_df.index = station_flow_df.index.date\n",
    "station_df.index = station_df.index.date\n",
    "\n",
    "# merge the flow data with the surface water data for the same date (just date, not time)\n",
    "station_df = station_df.merge(\n",
    "    station_flow_df,\n",
    "    left_index=True,\n",
    "    right_index=True,\n",
    "    how='left'\n",
    ")\n",
    "\n",
    "station_df.index = pd.to_datetime(station_df.index)"
   ]
  },
  {
   "cell_type": "code",
   "execution_count": null,
   "metadata": {},
   "outputs": [],
   "source": [
    "station_df.isna().sum() / station_df.shape[0]"
   ]
  },
  {
   "cell_type": "code",
   "execution_count": null,
   "metadata": {},
   "outputs": [],
   "source": [
    "# compute the frequency of the time series\n",
    "station_df.index.to_series().diff().value_counts()"
   ]
  },
  {
   "cell_type": "code",
   "execution_count": null,
   "metadata": {},
   "outputs": [],
   "source": [
    "# most of the time series have a frequency of 14 days or 1 month"
   ]
  },
  {
   "cell_type": "markdown",
   "metadata": {},
   "source": [
    "##### Time series"
   ]
  },
  {
   "cell_type": "code",
   "execution_count": null,
   "metadata": {},
   "outputs": [],
   "source": [
    "# plot the data\n",
    "for column in station_df.columns:\n",
    "    fig = px.line(\n",
    "        station_df,\n",
    "        x=station_df.index,\n",
    "        y=column,\n",
    "        title=f\"{column} at station 325\",\n",
    "        labels={\n",
    "            'DateTime': 'DateTime',\n",
    "            column: column\n",
    "        }\n",
    "    )\n",
    "    \n",
    "    fig.update_layout(\n",
    "        xaxis_title='Date',\n",
    "        yaxis_title=column,\n",
    "        font=dict(\n",
    "            size=18,\n",
    "        )\n",
    "    )\n",
    "    fig.show()"
   ]
  },
  {
   "cell_type": "markdown",
   "metadata": {},
   "source": [
    "##### Boxplots"
   ]
  },
  {
   "cell_type": "code",
   "execution_count": null,
   "metadata": {},
   "outputs": [],
   "source": [
    "# boxplot of the data\n",
    "for column in station_df.columns:\n",
    "    \n",
    "    fig = go.Figure()\n",
    "    column_df = station_df[column]\n",
    "    \n",
    "    for year in column_df.index.year.unique():\n",
    "        fig.add_trace(\n",
    "            go.Box(\n",
    "                y=column_df[column_df.index.year == year],\n",
    "                name=year\n",
    "            )\n",
    "        )\n",
    "    fig.update_layout(\n",
    "        title=f\"{column} at station 325\",\n",
    "        xaxis_title=\"Year\",\n",
    "        yaxis_title=column\n",
    "    )\n",
    "    \n",
    "    fig.show()"
   ]
  },
  {
   "cell_type": "markdown",
   "metadata": {},
   "source": [
    "##### Store Info"
   ]
  },
  {
   "cell_type": "code",
   "execution_count": null,
   "metadata": {},
   "outputs": [],
   "source": [
    "# store the information in the station_info_df\n",
    "for column in station_df.columns:\n",
    "    surface_info_df.loc['N Samples', (325, column)] = station_df[column].dropna().shape[0]\n",
    "    surface_info_df.loc['% Missing Values', (325, column)] = station_df[column].isna().sum() / station_df[column].shape[0]\n",
    "    surface_info_df.loc['Frequency (days)', (325, column)] = station_df.index.to_series().diff().value_counts().index[0].days\n",
    "    surface_info_df.loc['Start Date', (325, column)] = station_df[column].dropna().index.min().strftime(\"%Y-%m-%d\")\n",
    "    surface_info_df.loc['End Date', (325, column)] = station_df[column].dropna().index.max().strftime(\"%Y-%m-%d\")"
   ]
  },
  {
   "cell_type": "code",
   "execution_count": null,
   "metadata": {},
   "outputs": [],
   "source": [
    "station_df.loc[(station_df['DOC'] > 15) | (station_df['DOC'] < 4.5), ['DOC']] = np.nan"
   ]
  },
  {
   "cell_type": "markdown",
   "metadata": {},
   "source": [
    "##### Trend"
   ]
  },
  {
   "cell_type": "code",
   "execution_count": null,
   "metadata": {},
   "outputs": [],
   "source": [
    "station_df = station_df.resample('M').median()\n",
    "\n",
    "station_df.interpolate(method='time', inplace=True)"
   ]
  },
  {
   "cell_type": "code",
   "execution_count": null,
   "metadata": {},
   "outputs": [],
   "source": [
    "for column in station_df.columns:\n",
    "    \n",
    "    df = station_df[column].copy()\n",
    "    \n",
    "    df.dropna(inplace=True)\n",
    "    \n",
    "    date_range = station_df[column].dropna().index\n",
    "    date_range = date_range.min(), date_range.max()\n",
    "    \n",
    "    # make sure that the dataframe starts and finishes in the same month\n",
    "    start_index = df[df.index.month == date_range[1].month].index[0]\n",
    "\n",
    "    # Slice the dataframe to start from the found index\n",
    "    df = df.loc[start_index:]\n",
    "        \n",
    "    stl = STL(df, period=12)\n",
    "\n",
    "    result = stl.fit()\n",
    "    seasonal, trend, resid = result.seasonal, result.trend, result.resid\n",
    "    \n",
    "    # compute linear regression on trend\n",
    "    X = np.arange(df.shape[0])\n",
    "    X = sm.add_constant(X)\n",
    "    y = df\n",
    "    model = sm.OLS(y, X)\n",
    "    results = model.fit()\n",
    "    \n",
    "    # plot the line of the linear regression\n",
    "    line = pd.Series(results.predict(X), index=df.index)\n",
    "\n",
    "    fig = go.Figure()\n",
    "\n",
    "    fig.add_trace(\n",
    "        go.Scatter(\n",
    "            x=df.index,\n",
    "            y=df,\n",
    "            mode='lines',\n",
    "            name='Original',\n",
    "        )\n",
    "    )\n",
    "\n",
    "    fig.add_trace(\n",
    "        go.Scatter(\n",
    "            x=trend.index,\n",
    "            y=trend,\n",
    "            mode='lines',\n",
    "            name='Trend',\n",
    "        )\n",
    "    )\n",
    "    \n",
    "    # get the slope of the regression\n",
    "    slope = results.params[1]\n",
    "    \n",
    "    print(f\"{column} - Slope: {slope}\")\n",
    "    \n",
    "    p_value = results.pvalues[1]\n",
    "    print(f\"{column} - P-value: {p_value}\")\n",
    "    \n",
    "    fig.add_trace(\n",
    "        go.Scatter(\n",
    "            x=line.index,\n",
    "            y=line,\n",
    "            mode='lines',\n",
    "            name=f'Linear Regression',\n",
    "            line=dict(\n",
    "                dash='dash',\n",
    "                color='black'\n",
    "            )\n",
    "        ),\n",
    "        \n",
    "    )\n",
    "    \n",
    "    start_date = df.index.min()\n",
    "    end_date = df.index.max()\n",
    "    \n",
    "    fig.update_layout(\n",
    "        xaxis_title=\"Date\",\n",
    "        yaxis_title=column,\n",
    "        font=dict(\n",
    "            size=18,\n",
    "        ),\n",
    "        legend=dict(\n",
    "            yanchor=\"top\",\n",
    "            y=0.99,\n",
    "            xanchor=\"left\",\n",
    "            x=0.01\n",
    "        )\n",
    "    )\n",
    "\n",
    "    fig.show()"
   ]
  },
  {
   "cell_type": "markdown",
   "metadata": {},
   "source": [
    "### Store Results"
   ]
  },
  {
   "cell_type": "code",
   "execution_count": null,
   "metadata": {},
   "outputs": [],
   "source": [
    "# %%script false --no-raise-error\n",
    "surface_info_df.to_excel(os.path.join(data_info_folder, \"surface_water_info.xlsx\"))\n",
    "ground_info_df.to_excel(os.path.join(data_info_folder, \"ground_water_info.xlsx\"))"
   ]
  },
  {
   "cell_type": "markdown",
   "metadata": {},
   "source": [
    "### DOC vs TOC per station"
   ]
  },
  {
   "cell_type": "code",
   "execution_count": null,
   "metadata": {},
   "outputs": [],
   "source": [
    "for station_id in stations_dict.keys():\n",
    "    station_df = stations_dict[station_id]\n",
    "    \n",
    "    # plot the doc and toc in a scatter plot to see if there is a correlation\n",
    "    fig = px.scatter(\n",
    "        station_df,\n",
    "        x='DOC',\n",
    "        y='TOC',\n",
    "        trendline='ols',\n",
    "        trendline_color_override='red',\n",
    "        trendline_scope='overall',\n",
    "    )\n",
    "    \n",
    "    results = px.get_trendline_results(fig)\n",
    "    \n",
    "    fig = go.Figure()\n",
    "    \n",
    "    fig.add_trace(\n",
    "        go.Scatter(\n",
    "            x=station_df['DOC'],\n",
    "            y=station_df['TOC'],\n",
    "            mode='markers',\n",
    "            name='Data',\n",
    "            marker=dict(\n",
    "                size=8,\n",
    "                color='blue',\n",
    "                opacity=0.7\n",
    "            )\n",
    "        )\n",
    "    )\n",
    "    \n",
    "    # add line on bisector\n",
    "    # fig.add_trace(\n",
    "    #     go.Scatter(\n",
    "    #         x=[0, 20],\n",
    "    #         y=[0, 20],\n",
    "    #         mode='lines',\n",
    "    #         name='Bisector',\n",
    "    #         line=dict(\n",
    "    #             color='red',\n",
    "    #             width=2,\n",
    "    #             dash='dash'\n",
    "    #         )\n",
    "    #     )\n",
    "    # )\n",
    "\n",
    "    # get the slope and intercept of the trendline\n",
    "    slope = results.iloc[0]['px_fit_results'].params[1]\n",
    "    intercept = results.iloc[0]['px_fit_results'].params[0]\n",
    "    \n",
    "    fig.add_annotation(\n",
    "        x=0.9,\n",
    "        y=0.1,\n",
    "        xref='paper',\n",
    "        yref='paper',\n",
    "        text=f\"y = {slope:.2f}x + {intercept:.2f}\",\n",
    "        showarrow=False,\n",
    "        font=dict(\n",
    "            size=18,\n",
    "            color='red'\n",
    "        )\n",
    "    )\n",
    "    \n",
    "    x = np.linspace(2, 14, 100)\n",
    "    \n",
    "    fig.add_trace(\n",
    "        go.Scatter(\n",
    "            x=x,\n",
    "            y=slope * x + intercept,\n",
    "            mode='lines',\n",
    "            name='Overall Trendline',\n",
    "            line=dict(\n",
    "                color='red',\n",
    "                width=2\n",
    "            )\n",
    "        )\n",
    "    )\n",
    "    \n",
    "    # add the equation to the legend\n",
    "    fig.update_traces(\n",
    "        name=f\"Linear Regression\",\n",
    "        selector=dict(name='Overall Trendline'),\n",
    "    )\n",
    "    \n",
    "    if station_id == 105:\n",
    "    \n",
    "        fig.update_layout(\n",
    "            xaxis_title='DOC',\n",
    "            yaxis_title='TOC',\n",
    "            font=dict(\n",
    "                size=18,\n",
    "            ),\n",
    "            title=f\"DOC vs TOC at station {station_id}\",\n",
    "            legend=dict(\n",
    "                yanchor=\"top\",\n",
    "                y=0.99,\n",
    "                xanchor=\"left\",\n",
    "                x=0.01\n",
    "            )\n",
    "        )\n",
    "    \n",
    "    else:\n",
    "        fig.update_layout(\n",
    "            xaxis_title='DOC',\n",
    "            yaxis_title='TOC',\n",
    "            font=dict(\n",
    "                size=18,\n",
    "            ),\n",
    "            title=f\"DOC vs TOC at station {station_id}\",\n",
    "            legend=dict(\n",
    "                yanchor=\"top\",\n",
    "                y=0.99,\n",
    "                xanchor=\"right\",\n",
    "                x=0.99\n",
    "            )\n",
    "        )    \n",
    "    \n",
    "    \n",
    "    fig.show(width=20, height=10)"
   ]
  },
  {
   "cell_type": "markdown",
   "metadata": {},
   "source": [
    "### DOC vs Ammonium"
   ]
  },
  {
   "cell_type": "code",
   "execution_count": null,
   "metadata": {},
   "outputs": [],
   "source": [
    "colors = ['blue', 'red', 'green']\n",
    "\n",
    "fig = go.Figure()\n",
    "\n",
    "for station_id, station_df in stations_dict.items():\n",
    "    \n",
    "    station_df.index = pd.to_datetime(station_df.index)\n",
    " \n",
    "    station_df = station_df.resample('M').median()\n",
    "\n",
    "    station_df.interpolate(method='time', inplace=True)\n",
    "    \n",
    "    df = station_df[['Ammonium', 'DOC']].copy()\n",
    "    \n",
    "    df.dropna(inplace=True)\n",
    "    \n",
    "    # compute linear regression and plot the line\n",
    "    X = df['Ammonium'].copy()\n",
    "    X = sm.add_constant(X)\n",
    "    y = df['DOC'].copy()\n",
    "    \n",
    "    model = sm.OLS(y, X)\n",
    "    results = model.fit()\n",
    "    \n",
    "    line = pd.Series(results.predict(X), index=df.index)\n",
    "    \n",
    "    slope = results.params[1]\n",
    "    p_value = results.pvalues[1]\n",
    "    \n",
    "    print(f\"Station {station_id} - Slope: {slope}\")\n",
    "    print(f\"Station {station_id} - P-value: {p_value}\")\n",
    "    \n",
    "    color = colors.pop()\n",
    "\n",
    "    fig.add_trace(\n",
    "        go.Scatter(\n",
    "            x=df['Ammonium'],\n",
    "            y=df['DOC'],\n",
    "            mode='markers',\n",
    "            name=f\"Station {station_id}\",\n",
    "            marker=dict(\n",
    "                size=8,\n",
    "                opacity=0.7,\n",
    "                color=color\n",
    "            )\n",
    "        )\n",
    "    )\n",
    "    \n",
    "    fig.add_trace(\n",
    "        go.Scatter(\n",
    "            x=df['Ammonium'],\n",
    "            y=line,\n",
    "            mode='lines',\n",
    "            name=f\"Linear Regression Station {station_id}\",\n",
    "            line=dict(\n",
    "                dash='dash',\n",
    "                color=color\n",
    "            )\n",
    "        )\n",
    "    )\n",
    "    \n",
    "    \n",
    "fig.update_layout(\n",
    "    xaxis_title='Ammonium',\n",
    "    yaxis_title='DOC',\n",
    "    font=dict(\n",
    "        size=18,\n",
    "    ),\n",
    "    title='Surface Water',\n",
    "    # legend=dict(\n",
    "    #     yanchor=\"top\",\n",
    "    #     y=0.99,\n",
    "    #     xanchor=\"right\",\n",
    "    #     x=0.99\n",
    "    # )\n",
    ")\n",
    "\n",
    "fig.show()"
   ]
  },
  {
   "cell_type": "markdown",
   "metadata": {},
   "source": [
    "# UVA254 Raw Analysis"
   ]
  },
  {
   "cell_type": "code",
   "execution_count": null,
   "metadata": {},
   "outputs": [],
   "source": [
    "ts_uva254_df = ts_gw_df[\n",
    "    ts_gw_df[\"Parameter\"] == \"UV-Adsorption (254)\"\n",
    "].copy()"
   ]
  },
  {
   "cell_type": "code",
   "execution_count": null,
   "metadata": {},
   "outputs": [],
   "source": [
    "ts_uva254_df"
   ]
  },
  {
   "cell_type": "code",
   "execution_count": null,
   "metadata": {},
   "outputs": [],
   "source": [
    "ts_uva254_df[\"DateTime\"] = pd.to_datetime(\n",
    "    ts_uva254_df[\"DateTime\"], format=\"%Y-%m-%d\", errors=\"coerce\"\n",
    ")"
   ]
  },
  {
   "cell_type": "code",
   "execution_count": null,
   "metadata": {},
   "outputs": [],
   "source": [
    "ts_uva254_df['Year'] = ts_uva254_df['DateTime'].dt.year\n",
    "ts_uva254_df['Month'] = ts_uva254_df['DateTime'].dt.month"
   ]
  },
  {
   "cell_type": "code",
   "execution_count": null,
   "metadata": {},
   "outputs": [],
   "source": [
    "counts = ts_uva254_df['Station ID'].value_counts()"
   ]
  },
  {
   "cell_type": "code",
   "execution_count": null,
   "metadata": {},
   "outputs": [],
   "source": [
    "fig = px.line(\n",
    "    ts_uva254_df,\n",
    "    x=\"Date\",\n",
    "    y=\"Value\",\n",
    "    color=\"Station ID\",\n",
    ")\n",
    "\n",
    "fig.update_layout(\n",
    "    title={\n",
    "        \"text\": \"UV-Adsorption (254)\",\n",
    "        \"x\": 0.5,\n",
    "        \"xanchor\": \"center\",\n",
    "    },\n",
    "    xaxis_title=\"Date\",\n",
    "    yaxis_title=\"Value\",\n",
    ")\n",
    "\n",
    "fig.show()"
   ]
  },
  {
   "cell_type": "markdown",
   "metadata": {},
   "source": [
    "### Station 7285"
   ]
  },
  {
   "cell_type": "code",
   "execution_count": null,
   "metadata": {},
   "outputs": [],
   "source": [
    "station_7285_df = ts_uva254_df[ts_uva254_df['Station ID'] == 7285].copy()"
   ]
  },
  {
   "cell_type": "code",
   "execution_count": null,
   "metadata": {},
   "outputs": [],
   "source": [
    "station_7285_df[\"Season\"] = station_7285_df[\"Month\"].apply(\n",
    "    lambda x: \"Winter\"\n",
    "    if x in [12, 1, 2]\n",
    "    else \"Spring\"\n",
    "    if x in [3, 4, 5]\n",
    "    else \"Summer\"\n",
    "    if x in [6, 7, 8]\n",
    "    else \"Autumn\"\n",
    ")"
   ]
  },
  {
   "cell_type": "code",
   "execution_count": null,
   "metadata": {},
   "outputs": [],
   "source": [
    "# plot station 7285 with seasons as hue\n",
    "fig = px.line(\n",
    "    station_7285_df,\n",
    "    x=\"DateTime\",\n",
    "    y=\"Value\",\n",
    "    color=\"Season\",\n",
    ")\n",
    "\n",
    "fig.update_layout(\n",
    "    title={\n",
    "        \"text\": \"UV-Adsorption (254) at station 7285\",\n",
    "        \"x\": 0.5,\n",
    "        \"xanchor\": \"center\",\n",
    "    },\n",
    "    xaxis_title=\"DateTime\",\n",
    "    yaxis_title=\"Value\",\n",
    ")\n",
    "\n",
    "fig.show()"
   ]
  },
  {
   "cell_type": "code",
   "execution_count": null,
   "metadata": {},
   "outputs": [],
   "source": [
    "mean_station_7285_df = station_7285_df.groupby([\"Year\"]).agg({\"Value\": [\"mean\", \"count\"]}).reset_index().copy()"
   ]
  },
  {
   "cell_type": "code",
   "execution_count": null,
   "metadata": {},
   "outputs": [],
   "source": [
    "mean_station_7285_df"
   ]
  },
  {
   "cell_type": "code",
   "execution_count": null,
   "metadata": {},
   "outputs": [],
   "source": [
    "mean_station_7285_df = station_7285_df.groupby([\"Season\"]).agg({\"Value\": [\"mean\", \"count\"]}).reset_index().copy()"
   ]
  },
  {
   "cell_type": "code",
   "execution_count": null,
   "metadata": {},
   "outputs": [],
   "source": [
    "mean_station_7285_df"
   ]
  },
  {
   "cell_type": "code",
   "execution_count": null,
   "metadata": {},
   "outputs": [],
   "source": [
    "# maggiorparte delle misurazioni in autunno e primavera, semestrali circa"
   ]
  },
  {
   "cell_type": "code",
   "execution_count": null,
   "metadata": {},
   "outputs": [],
   "source": [
    "ts = station_7285_df[['DateTime', 'Value']].copy()\n",
    "\n",
    "result_7285 = smt.seasonal_decompose(\n",
    "    ts.set_index('Date'), model=\"additive\", period=2\n",
    ")"
   ]
  },
  {
   "cell_type": "code",
   "execution_count": null,
   "metadata": {},
   "outputs": [],
   "source": [
    "fig = go.Figure()\n",
    "\n",
    "fig.add_trace(\n",
    "    go.Scatter(\n",
    "        x=result_7285.trend.index,\n",
    "        y=result_7285.trend,\n",
    "        mode=\"lines+markers\",\n",
    "        name=\"MA period=2\",\n",
    "        line=dict(color=\"blue\"),\n",
    "    )\n",
    ")\n",
    "\n",
    "fig.add_trace(\n",
    "    go.Scatter(\n",
    "        x=ts['Date'],\n",
    "        y=ts['Value'],\n",
    "        mode=\"lines+markers\",\n",
    "        name=\"Original\",\n",
    "        line=dict(color=\"red\"),\n",
    "    )\n",
    ")\n",
    "\n",
    "fig.show()"
   ]
  },
  {
   "cell_type": "markdown",
   "metadata": {},
   "source": [
    "### Station 5130"
   ]
  }
 ],
 "metadata": {
  "kernelspec": {
   "display_name": "climate-change-MEYtuKH4-py3.11",
   "language": "python",
   "name": "python3"
  },
  "language_info": {
   "codemirror_mode": {
    "name": "ipython",
    "version": 3
   },
   "file_extension": ".py",
   "mimetype": "text/x-python",
   "name": "python",
   "nbconvert_exporter": "python",
   "pygments_lexer": "ipython3",
   "version": "3.11.8"
  }
 },
 "nbformat": 4,
 "nbformat_minor": 2
}
