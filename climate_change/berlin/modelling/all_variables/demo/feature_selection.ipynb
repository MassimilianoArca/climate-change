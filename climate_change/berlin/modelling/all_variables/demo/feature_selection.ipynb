{
 "cells": [
  {
   "cell_type": "code",
   "execution_count": null,
   "metadata": {},
   "outputs": [],
   "source": [
    "import os\n",
    "\n",
    "import pandas as pd\n",
    "import numpy as np\n",
    "\n",
    "import pickle\n",
    "\n",
    "import plotly.graph_objects as go\n",
    "\n",
    "from sklearn.metrics import mean_squared_error, r2_score\n",
    "from sklearn.model_selection import TimeSeriesSplit\n",
    "from sklearn.preprocessing import MinMaxScaler\n",
    "from sklearn.preprocessing import PolynomialFeatures\n",
    "from itertools import combinations\n",
    "import xgboost as xgb\n",
    "\n",
    "import optuna"
   ]
  },
  {
   "cell_type": "markdown",
   "metadata": {},
   "source": [
    "# Define Paths and Load Data"
   ]
  },
  {
   "cell_type": "code",
   "execution_count": null,
   "metadata": {},
   "outputs": [],
   "source": [
    "data_folder = os.path.join(\"..\", \"..\", \"..\", \"..\", \"data\", \"berlin\")\n",
    "clean_data_folder = os.path.join(data_folder, \"clean_data\")"
   ]
  },
  {
   "cell_type": "code",
   "execution_count": null,
   "metadata": {},
   "outputs": [],
   "source": [
    "surface_df = pd.read_excel(os.path.join(clean_data_folder, \"surface.xlsx\"))"
   ]
  },
  {
   "cell_type": "code",
   "execution_count": null,
   "metadata": {},
   "outputs": [],
   "source": [
    "ground_df = pd.read_excel(os.path.join(clean_data_folder, \"ground.xlsx\"))"
   ]
  },
  {
   "cell_type": "code",
   "execution_count": null,
   "metadata": {},
   "outputs": [],
   "source": [
    "diff_columns = [\"DateTime\", \"Station\"]\n",
    "bacteria_columns = [\n",
    "    \"E.Coli (MPN/100ml)\",\n",
    "    \"Enterococcus (MPN/100ml)\",\n",
    "    \"Coliform (MPN/100ml)\"\n",
    "]"
   ]
  },
  {
   "cell_type": "markdown",
   "metadata": {},
   "source": [
    "# Modelling"
   ]
  },
  {
   "cell_type": "code",
   "execution_count": null,
   "metadata": {},
   "outputs": [],
   "source": [
    "def extend_features(df: pd.DataFrame, lags: int, rolling_window: int, poly_degree: int):\n",
    "    \n",
    "    initial_features = df.columns\n",
    "    # add polynomial features\n",
    "    poly = PolynomialFeatures(degree=poly_degree)\n",
    "    df_poly = poly.fit_transform(df)\n",
    "    df = pd.DataFrame(df_poly, columns=poly.get_feature_names_out(df.columns))\n",
    "    \n",
    "    # add lagged, rolling and expanding features for each variable in df\n",
    "    for col in initial_features.difference([\"Year\", \"Month\"]):\n",
    "        for lag in range(1, lags + 1):\n",
    "            df[f\"{col}_lag{lag}\"] = df[col].shift(lag)\n",
    "            \n",
    "        df[f\"{col}_rolling{rolling_window}\"] = df[col].rolling(rolling_window).mean()\n",
    "        \n",
    "    # fill NaN values with bfill\n",
    "    df.bfill(inplace=True)\n",
    "    \n",
    "    df.drop(columns=['1'], inplace=True)\n",
    "    return df"
   ]
  },
  {
   "cell_type": "markdown",
   "metadata": {},
   "source": [
    "## Surface"
   ]
  },
  {
   "cell_type": "code",
   "execution_count": null,
   "metadata": {},
   "outputs": [],
   "source": [
    "train_size = 0.7\n",
    "station_id = 105"
   ]
  },
  {
   "cell_type": "code",
   "execution_count": null,
   "metadata": {},
   "outputs": [],
   "source": [
    "all_datasets = {}\n",
    "\n",
    "# Prepare the data for the models\n",
    "\n",
    "df = surface_df[surface_df['Station'] == station_id]\n",
    "\n",
    "# add the year and month columns\n",
    "df[\"Year\"] = df[\"DateTime\"].dt.year\n",
    "df[\"Month\"] = df[\"DateTime\"].dt.month\n",
    "\n",
    "# Save the datetime column for later (drop diff returns error\n",
    "# if I remove it before)\n",
    "datetime_column = df.drop(columns=bacteria_columns).dropna()[\"DateTime\"]\n",
    "\n",
    "df = df.drop(columns=diff_columns + bacteria_columns).dropna()\n",
    "\n",
    "X = df.drop(columns=[\"DOC (mg/l)\"])\n",
    "y = df[[\"DOC (mg/l)\"]]\n",
    "\n",
    "# X = extend_features(X, lags=1, rolling_window=3, poly_degree=2)\n",
    "\n",
    "# Normalize the data\n",
    "scaler = MinMaxScaler()\n",
    "cols = X.columns\n",
    "\n",
    "X = scaler.fit_transform(X)\n",
    "X = pd.DataFrame(X, columns=cols)\n",
    "\n",
    "# Add the datetime column back\n",
    "X[\"DateTime\"] = datetime_column.values\n",
    "y[\"DateTime\"] = datetime_column.values\n",
    "\n",
    "\n",
    "X = X.set_index(\"DateTime\")\n",
    "y = y.set_index(\"DateTime\")\n",
    "\n",
    "# create a different dataset for every possible combination of features\n",
    "\n",
    "for i in range(1, len(X.columns) + 1):\n",
    "    for subset in combinations(X.columns, i):\n",
    "        \n",
    "        # order the subset\n",
    "        subset = sorted(subset)\n",
    "        \n",
    "        X_tr = X[list(subset)].iloc[:int(len(X) * train_size)]\n",
    "        X_ts = X[list(subset)].iloc[int(len(X) * train_size):]\n",
    "        y_tr = y.iloc[:int(len(X) * train_size)]\n",
    "        y_ts = y.iloc[int(len(X) * train_size):]\n",
    "        \n",
    "        all_datasets[tuple(subset)] = (X_tr, X_ts, y_tr, y_ts)"
   ]
  },
  {
   "cell_type": "markdown",
   "metadata": {},
   "source": [
    "### XGBoost"
   ]
  },
  {
   "cell_type": "markdown",
   "metadata": {},
   "source": [
    "#### Hyperparameter Tuning"
   ]
  },
  {
   "cell_type": "code",
   "execution_count": null,
   "metadata": {},
   "outputs": [],
   "source": [
    "def fit_and_validate_xgb_model(\n",
    "    X,\n",
    "    y,\n",
    "    train_index,\n",
    "    val_index,\n",
    "    params,\n",
    "):\n",
    "    X_tr, X_val = X.iloc[train_index, :], X.iloc[val_index, :]\n",
    "    y_tr, y_val = y.iloc[train_index], y.iloc[val_index]\n",
    "\n",
    "    model = xgb.XGBRegressor(random_state=42, **params)\n",
    "\n",
    "    # train model\n",
    "    _ = model.fit(X_tr, y_tr)\n",
    "\n",
    "    # obtain predictions\n",
    "    y_val_pred = model.predict(X_val)\n",
    "\n",
    "    # return metrics\n",
    "    return mean_squared_error(y_val, y_val_pred, squared=False)"
   ]
  },
  {
   "cell_type": "code",
   "execution_count": null,
   "metadata": {},
   "outputs": [],
   "source": [
    "def objective(trial: optuna.trial.Trial, X_cv, y_cv) -> float:\n",
    "    eta = trial.suggest_float(\"eta\", 1e-5, 1, log=True)\n",
    "    reg_lambda = trial.suggest_float(\"reg_lambda\", 1e-8, 1, log=True)\n",
    "    reg_alpha = trial.suggest_float(\"reg_alpha\", 1e-8, 1, log=True)\n",
    "    learning_rate = trial.suggest_float(\n",
    "        \"learning_rate\", 1e-5, 1, log=True\n",
    "    )\n",
    "    n_estimators = trial.suggest_int(\"n_estimators\", 1, 500)\n",
    "    updater = trial.suggest_categorical(\n",
    "        \"updater\", [\"shotgun\", \"coord_descent\"]\n",
    "    )\n",
    "\n",
    "    params = {\n",
    "        \"objective\": \"reg:squarederror\",\n",
    "        \"booster\": \"gblinear\",\n",
    "        \"eta\": eta,\n",
    "        \"reg_lambda\": reg_lambda,\n",
    "        \"reg_alpha\": reg_alpha,\n",
    "        \"learning_rate\": learning_rate,\n",
    "        \"updater\": updater,\n",
    "        \"n_estimators\": n_estimators,\n",
    "        \"eval_metric\": \"rmse\",\n",
    "    }\n",
    "\n",
    "    n_splits = 5\n",
    "    cv = TimeSeriesSplit(n_splits=n_splits)\n",
    "    cv_rmse = [None] * n_splits\n",
    "    for i, (train_index, test_index) in enumerate(\n",
    "        cv.split(X_cv, y_cv)\n",
    "    ):\n",
    "        cv_rmse[i] = fit_and_validate_xgb_model(\n",
    "            X_cv,\n",
    "            y_cv,\n",
    "            train_index,\n",
    "            test_index,\n",
    "            params,\n",
    "        )\n",
    "\n",
    "    # saving the individual fold holdout metrics\n",
    "    # uncomment this line if you don't want this\n",
    "    trial.set_user_attr(\"split_rmse\", cv_rmse)\n",
    "\n",
    "    return np.mean(cv_rmse)"
   ]
  },
  {
   "cell_type": "code",
   "execution_count": null,
   "metadata": {},
   "outputs": [],
   "source": [
    "xgb_studies = {}\n",
    "\n",
    "if os.path.exists(f\"XGBoost-Station{station_id}.sqlite3\"):\n",
    "        \n",
    "    study = optuna.load_study(\n",
    "    study_name=\"Hyperparameter Tuning - XGBoost\"\n",
    "    + \" + \"\n",
    "    + f\"Station{station_id}\",\n",
    "    storage=f\"sqlite:///XGBoost-Station{station_id}.sqlite3\",\n",
    "    )\n",
    "        \n",
    "else:\n",
    "        \n",
    "    study = optuna.create_study(\n",
    "        direction=\"minimize\",\n",
    "        storage=f\"sqlite:///XGBoost-Station{station_id}.sqlite3\",\n",
    "        study_name=\"Hyperparameter Tuning - XGBoost\"\n",
    "        + \" + \"\n",
    "        + f\"Station{station_id}\",\n",
    "        load_if_exists=True,\n",
    "    )\n",
    "    study.optimize(lambda trial: objective(trial, X_tr, y_tr), n_trials=100, show_progress_bar=True)\n",
    "        \n",
    "xgb_studies[station_id] = study"
   ]
  },
  {
   "cell_type": "markdown",
   "metadata": {},
   "source": [
    "#### Prediction"
   ]
  },
  {
   "cell_type": "code",
   "execution_count": null,
   "metadata": {},
   "outputs": [],
   "source": [
    "xgb_results = {}\n",
    "\n",
    "params = xgb_studies[station_id].best_params\n",
    "\n",
    "params[\"objective\"] = \"reg:squarederror\"\n",
    "params[\"booster\"] = \"gblinear\"\n",
    "\n",
    "    \n",
    "for subset in all_datasets:\n",
    "    X_tr, X_ts, y_tr, y_ts = all_datasets[subset]\n",
    "    \n",
    "    model = xgb.XGBRegressor(random_state=42, **params)\n",
    "    \n",
    "    _ = model.fit(X_tr, y_tr)\n",
    "    \n",
    "    y_pred = model.predict(X_ts)\n",
    "    \n",
    "    xgb_results[subset] = {\n",
    "        \"y_pred\": y_pred,\n",
    "        \"y_true\": y_ts,\n",
    "        \"r2_score\": r2_score(y_ts, y_pred),\n",
    "        \"rmse\": mean_squared_error(y_ts, y_pred, squared=False)\n",
    "    }"
   ]
  },
  {
   "cell_type": "code",
   "execution_count": null,
   "metadata": {},
   "outputs": [],
   "source": [
    "# get the subset with the best rmse\n",
    "best_subset = min(xgb_results, key=lambda x: xgb_results[x][\"rmse\"])"
   ]
  },
  {
   "cell_type": "code",
   "execution_count": null,
   "metadata": {},
   "outputs": [],
   "source": [
    "# store the result\n",
    "with open(f\"XGBoost-Station{station_id}.pickle\", \"wb\") as f:\n",
    "    pickle.dump(xgb_results, f)"
   ]
  }
 ],
 "metadata": {
  "kernelspec": {
   "display_name": "climate-change-MEYtuKH4-py3.11",
   "language": "python",
   "name": "python3"
  },
  "language_info": {
   "codemirror_mode": {
    "name": "ipython",
    "version": 3
   },
   "file_extension": ".py",
   "mimetype": "text/x-python",
   "name": "python",
   "nbconvert_exporter": "python",
   "pygments_lexer": "ipython3",
   "version": "3.11.8"
  }
 },
 "nbformat": 4,
 "nbformat_minor": 2
}
